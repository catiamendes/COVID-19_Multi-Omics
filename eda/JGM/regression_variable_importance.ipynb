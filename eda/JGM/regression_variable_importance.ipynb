{
 "cells": [
  {
   "cell_type": "code",
   "execution_count": 310,
   "metadata": {},
   "outputs": [],
   "source": [
    "import os\n",
    "import sys\n",
    "import numpy as np\n",
    "#sys.path.insert(0, os.path.abspath('../module-subdirectory'))\n",
    "from sklearn.model_selection import train_test_split\n",
    "from sklearn.ensemble import RandomForestRegressor\n",
    "from sklearn.dummy import DummyRegressor\n",
    "from sklearn.model_selection import KFold\n",
    "from sklearn import linear_model\n",
    "from sklearn.metrics import mean_squared_error, r2_score\n",
    "import matplotlib.pyplot as plt\n",
    "import covid_data # ians py file in local directory\n",
    "import importlib\n"
   ]
  },
  {
   "cell_type": "code",
   "execution_count": 311,
   "metadata": {},
   "outputs": [],
   "source": [
    "# functions\n",
    "def evaluate(model, test_features, test_labels):\n",
    "    predictions = model.predict(test_features)\n",
    "    errors = abs(predictions - test_labels)\n",
    "    mse = mean_squared_error(test_labels, predictions)\n",
    "    r2 = r2_score(test_labels, predictions)\n",
    "    plt.scatter(predictions, test_labels)\n",
    "    plt.xlabel(\"prediction\")\n",
    "    plt.ylabel(\"True\")\n",
    "    plt.xlim(0,45)\n",
    "    plt.ylim(0,45)\n",
    "    print('Model Performance')\n",
    "    print('Average Error: {:0.4f} days.'.format(np.mean(errors)))\n",
    "    print('r2: {:0.4f}'.format(r2))\n",
    "    print('MSE = {:0.2f} days.'.format(mse))    \n",
    "    return r2, mse\n",
    "\n",
    "## check which columns are numbers, set those TRUE\n",
    "def is_int(val):\n",
    "    try:\n",
    "        num = int(val)\n",
    "    except ValueError:\n",
    "        return False\n",
    "    return True\n"
   ]
  },
  {
   "cell_type": "code",
   "execution_count": 312,
   "metadata": {},
   "outputs": [
    {
     "data": {
      "text/plain": [
       "<module 'covid_data' from 'C:\\\\Users\\\\jesse\\\\Documents\\\\COVID_ML\\\\covid_data.py'>"
      ]
     },
     "execution_count": 312,
     "metadata": {},
     "output_type": "execute_result"
    }
   ],
   "source": [
    "importlib.reload(covid_data)"
   ]
  },
  {
   "cell_type": "code",
   "execution_count": 4,
   "metadata": {},
   "outputs": [],
   "source": [
    "df_dict ={}\n",
    "quant_range_dict = {}"
   ]
  },
  {
   "cell_type": "code",
   "execution_count": 5,
   "metadata": {},
   "outputs": [
    {
     "data": {
      "text/plain": [
       "dict_keys(['proteomics', 'lipidomics', 'metabolomics', 'transcriptomics'])"
      ]
     },
     "execution_count": 5,
     "metadata": {},
     "output_type": "execute_result"
    }
   ],
   "source": [
    "covid_data.omics_id_dict.keys()"
   ]
  },
  {
   "cell_type": "code",
   "execution_count": 6,
   "metadata": {},
   "outputs": [],
   "source": [
    "ome_names = ['proteomics', 'lipidomics', 'metabolomics']"
   ]
  },
  {
   "cell_type": "code",
   "execution_count": 7,
   "metadata": {},
   "outputs": [
    {
     "name": "stdout",
     "output_type": "stream",
     "text": [
      "proteomics\n",
      "lipidomics\n",
      "metabolomics\n"
     ]
    }
   ],
   "source": [
    "for key in ome_names:\n",
    "    print(key)\n",
    "    df_dict[key], quant_range_dict[key] = covid_data.get_omics_data(with_metadata=True, dataset=key)"
   ]
  },
  {
   "cell_type": "code",
   "execution_count": 8,
   "metadata": {},
   "outputs": [],
   "source": [
    "df_dict, quant_range_dict = covid_data.get_combined_data(df_dict, quant_range_dict)"
   ]
  },
  {
   "cell_type": "code",
   "execution_count": 9,
   "metadata": {},
   "outputs": [
    {
     "data": {
      "text/plain": [
       "dict_keys(['proteomics', 'lipidomics', 'metabolomics', 'combined'])"
      ]
     },
     "execution_count": 9,
     "metadata": {},
     "output_type": "execute_result"
    }
   ],
   "source": [
    "df_dict.keys()"
   ]
  },
  {
   "cell_type": "code",
   "execution_count": 10,
   "metadata": {},
   "outputs": [
    {
     "data": {
      "text/html": [
       "<div>\n",
       "<style scoped>\n",
       "    .dataframe tbody tr th:only-of-type {\n",
       "        vertical-align: middle;\n",
       "    }\n",
       "\n",
       "    .dataframe tbody tr th {\n",
       "        vertical-align: top;\n",
       "    }\n",
       "\n",
       "    .dataframe thead th {\n",
       "        text-align: right;\n",
       "    }\n",
       "</style>\n",
       "<table border=\"1\" class=\"dataframe\">\n",
       "  <thead>\n",
       "    <tr style=\"text-align: right;\">\n",
       "      <th></th>\n",
       "      <th>7593</th>\n",
       "      <th>7596</th>\n",
       "      <th>7597</th>\n",
       "      <th>7599</th>\n",
       "      <th>7600</th>\n",
       "      <th>7601</th>\n",
       "      <th>7602</th>\n",
       "      <th>7605</th>\n",
       "      <th>7606</th>\n",
       "      <th>7607</th>\n",
       "      <th>...</th>\n",
       "      <th>Vent_free_days</th>\n",
       "      <th>DM</th>\n",
       "      <th>Hospital_free_days_45</th>\n",
       "      <th>Ferritin_NG/ML</th>\n",
       "      <th>CRP_MG/L</th>\n",
       "      <th>DDIMER_mg/L_FEU</th>\n",
       "      <th>Procalcitonin_NG/ML</th>\n",
       "      <th>Lactate_MMol/L</th>\n",
       "      <th>Fibrinogen</th>\n",
       "      <th>SOFA</th>\n",
       "    </tr>\n",
       "    <tr>\n",
       "      <th>sample_id</th>\n",
       "      <th></th>\n",
       "      <th></th>\n",
       "      <th></th>\n",
       "      <th></th>\n",
       "      <th></th>\n",
       "      <th></th>\n",
       "      <th></th>\n",
       "      <th></th>\n",
       "      <th></th>\n",
       "      <th></th>\n",
       "      <th></th>\n",
       "      <th></th>\n",
       "      <th></th>\n",
       "      <th></th>\n",
       "      <th></th>\n",
       "      <th></th>\n",
       "      <th></th>\n",
       "      <th></th>\n",
       "      <th></th>\n",
       "      <th></th>\n",
       "      <th></th>\n",
       "    </tr>\n",
       "  </thead>\n",
       "  <tbody>\n",
       "    <tr>\n",
       "      <th>1.0</th>\n",
       "      <td>37.995543</td>\n",
       "      <td>27.176361</td>\n",
       "      <td>28.294477</td>\n",
       "      <td>24.783368</td>\n",
       "      <td>23.926601</td>\n",
       "      <td>23.490571</td>\n",
       "      <td>25.490816</td>\n",
       "      <td>29.287382</td>\n",
       "      <td>29.505121</td>\n",
       "      <td>29.909421</td>\n",
       "      <td>...</td>\n",
       "      <td>0</td>\n",
       "      <td>0</td>\n",
       "      <td>0</td>\n",
       "      <td>946</td>\n",
       "      <td>73.1</td>\n",
       "      <td>1.3</td>\n",
       "      <td>36</td>\n",
       "      <td>0.9</td>\n",
       "      <td>513</td>\n",
       "      <td>8</td>\n",
       "    </tr>\n",
       "    <tr>\n",
       "      <th>2.0</th>\n",
       "      <td>37.353091</td>\n",
       "      <td>29.419228</td>\n",
       "      <td>29.048510</td>\n",
       "      <td>27.573331</td>\n",
       "      <td>24.671039</td>\n",
       "      <td>22.343591</td>\n",
       "      <td>27.166913</td>\n",
       "      <td>29.576452</td>\n",
       "      <td>30.081443</td>\n",
       "      <td>29.514012</td>\n",
       "      <td>...</td>\n",
       "      <td>28</td>\n",
       "      <td>0</td>\n",
       "      <td>39</td>\n",
       "      <td>1060</td>\n",
       "      <td></td>\n",
       "      <td>1.03</td>\n",
       "      <td>0.37</td>\n",
       "      <td></td>\n",
       "      <td></td>\n",
       "      <td></td>\n",
       "    </tr>\n",
       "    <tr>\n",
       "      <th>3.0</th>\n",
       "      <td>37.527875</td>\n",
       "      <td>27.174171</td>\n",
       "      <td>28.953215</td>\n",
       "      <td>25.619161</td>\n",
       "      <td>24.528623</td>\n",
       "      <td>20.714471</td>\n",
       "      <td>25.589237</td>\n",
       "      <td>29.621968</td>\n",
       "      <td>29.398338</td>\n",
       "      <td>29.436129</td>\n",
       "      <td>...</td>\n",
       "      <td>28</td>\n",
       "      <td>1</td>\n",
       "      <td>18</td>\n",
       "      <td>1335</td>\n",
       "      <td>53.2</td>\n",
       "      <td>1.48</td>\n",
       "      <td>0.07</td>\n",
       "      <td></td>\n",
       "      <td>513</td>\n",
       "      <td></td>\n",
       "    </tr>\n",
       "    <tr>\n",
       "      <th>4.0</th>\n",
       "      <td>37.673128</td>\n",
       "      <td>28.879702</td>\n",
       "      <td>29.527460</td>\n",
       "      <td>23.893562</td>\n",
       "      <td>25.875326</td>\n",
       "      <td>24.170967</td>\n",
       "      <td>25.280226</td>\n",
       "      <td>30.966780</td>\n",
       "      <td>30.360452</td>\n",
       "      <td>30.041791</td>\n",
       "      <td>...</td>\n",
       "      <td>28</td>\n",
       "      <td>0</td>\n",
       "      <td>39</td>\n",
       "      <td>583</td>\n",
       "      <td>251.1</td>\n",
       "      <td>1.32</td>\n",
       "      <td>0.98</td>\n",
       "      <td>0.87</td>\n",
       "      <td>949</td>\n",
       "      <td></td>\n",
       "    </tr>\n",
       "    <tr>\n",
       "      <th>5.0</th>\n",
       "      <td>37.983542</td>\n",
       "      <td>27.262485</td>\n",
       "      <td>28.605867</td>\n",
       "      <td>18.440251</td>\n",
       "      <td>20.888495</td>\n",
       "      <td>17.354782</td>\n",
       "      <td>25.654472</td>\n",
       "      <td>29.020542</td>\n",
       "      <td>29.175695</td>\n",
       "      <td>29.628988</td>\n",
       "      <td>...</td>\n",
       "      <td>23</td>\n",
       "      <td>0</td>\n",
       "      <td>27</td>\n",
       "      <td>800</td>\n",
       "      <td>355.8</td>\n",
       "      <td>0.69</td>\n",
       "      <td>4.92</td>\n",
       "      <td>1.48</td>\n",
       "      <td>929</td>\n",
       "      <td>7</td>\n",
       "    </tr>\n",
       "  </tbody>\n",
       "</table>\n",
       "<p>5 rows × 536 columns</p>\n",
       "</div>"
      ],
      "text/plain": [
       "                7593       7596       7597       7599       7600       7601  \\\n",
       "sample_id                                                                     \n",
       "1.0        37.995543  27.176361  28.294477  24.783368  23.926601  23.490571   \n",
       "2.0        37.353091  29.419228  29.048510  27.573331  24.671039  22.343591   \n",
       "3.0        37.527875  27.174171  28.953215  25.619161  24.528623  20.714471   \n",
       "4.0        37.673128  28.879702  29.527460  23.893562  25.875326  24.170967   \n",
       "5.0        37.983542  27.262485  28.605867  18.440251  20.888495  17.354782   \n",
       "\n",
       "                7602       7605       7606       7607  ...  Vent_free_days  \\\n",
       "sample_id                                              ...                   \n",
       "1.0        25.490816  29.287382  29.505121  29.909421  ...               0   \n",
       "2.0        27.166913  29.576452  30.081443  29.514012  ...              28   \n",
       "3.0        25.589237  29.621968  29.398338  29.436129  ...              28   \n",
       "4.0        25.280226  30.966780  30.360452  30.041791  ...              28   \n",
       "5.0        25.654472  29.020542  29.175695  29.628988  ...              23   \n",
       "\n",
       "           DM  Hospital_free_days_45  Ferritin_NG/ML  CRP_MG/L  \\\n",
       "sample_id                                                        \n",
       "1.0         0                      0             946      73.1   \n",
       "2.0         0                     39            1060             \n",
       "3.0         1                     18            1335      53.2   \n",
       "4.0         0                     39             583     251.1   \n",
       "5.0         0                     27             800     355.8   \n",
       "\n",
       "           DDIMER_mg/L_FEU  Procalcitonin_NG/ML  Lactate_MMol/L  Fibrinogen  \\\n",
       "sample_id                                                                     \n",
       "1.0                    1.3                   36             0.9         513   \n",
       "2.0                   1.03                 0.37                               \n",
       "3.0                   1.48                 0.07                         513   \n",
       "4.0                   1.32                 0.98            0.87         949   \n",
       "5.0                   0.69                 4.92            1.48         929   \n",
       "\n",
       "           SOFA  \n",
       "sample_id        \n",
       "1.0           8  \n",
       "2.0              \n",
       "3.0              \n",
       "4.0              \n",
       "5.0           7  \n",
       "\n",
       "[5 rows x 536 columns]"
      ]
     },
     "execution_count": 10,
     "metadata": {},
     "output_type": "execute_result"
    }
   ],
   "source": [
    "df_dict[\"proteomics\"].head()"
   ]
  },
  {
   "cell_type": "code",
   "execution_count": 11,
   "metadata": {},
   "outputs": [],
   "source": [
    "dfc = df_dict[\"combined\"]\n",
    "X = dfc[dfc.columns[[is_int(x) for x in dfc.columns]]]"
   ]
  },
  {
   "cell_type": "code",
   "execution_count": 21,
   "metadata": {},
   "outputs": [],
   "source": [
    "dfp = df_dict['proteomics']\n",
    "X = dfp[dfp.columns[[is_int(x) for x in dfp.columns]]]"
   ]
  },
  {
   "cell_type": "code",
   "execution_count": 28,
   "metadata": {},
   "outputs": [
    {
     "data": {
      "text/plain": [
       "array([[<matplotlib.axes._subplots.AxesSubplot object at 0x0000012C2754BC40>,\n",
       "        <matplotlib.axes._subplots.AxesSubplot object at 0x0000012C275548B0>,\n",
       "        <matplotlib.axes._subplots.AxesSubplot object at 0x0000012C2740C9A0>],\n",
       "       [<matplotlib.axes._subplots.AxesSubplot object at 0x0000012C279B60A0>,\n",
       "        <matplotlib.axes._subplots.AxesSubplot object at 0x0000012C275C7700>,\n",
       "        <matplotlib.axes._subplots.AxesSubplot object at 0x0000012C27824CA0>],\n",
       "       [<matplotlib.axes._subplots.AxesSubplot object at 0x0000012C278B5A00>,\n",
       "        <matplotlib.axes._subplots.AxesSubplot object at 0x0000012C2791BDC0>,\n",
       "        <matplotlib.axes._subplots.AxesSubplot object at 0x0000012C278EFF70>],\n",
       "       [<matplotlib.axes._subplots.AxesSubplot object at 0x0000012C27AED520>,\n",
       "        <matplotlib.axes._subplots.AxesSubplot object at 0x0000012C2757C7F0>,\n",
       "        <matplotlib.axes._subplots.AxesSubplot object at 0x0000012C27606AC0>]],\n",
       "      dtype=object)"
      ]
     },
     "execution_count": 28,
     "metadata": {},
     "output_type": "execute_result"
    },
    {
     "data": {
      "image/png": "[encoded data removed]",
      "text/plain": [
       "<Figure size 720x720 with 12 Axes>"
      ]
     },
     "metadata": {
      "needs_background": "light"
     },
     "output_type": "display_data"
    }
   ],
   "source": [
    "plt.rcParams['figure.figsize'] = 10,10\n",
    "X.iloc[:,0:12].hist(sharex=True)"
   ]
  },
  {
   "cell_type": "code",
   "execution_count": 29,
   "metadata": {},
   "outputs": [
    {
     "data": {
      "text/plain": [
       "array([[<matplotlib.axes._subplots.AxesSubplot object at 0x0000012C27E43EE0>,\n",
       "        <matplotlib.axes._subplots.AxesSubplot object at 0x0000012C27C16CD0>,\n",
       "        <matplotlib.axes._subplots.AxesSubplot object at 0x0000012C27C0EB50>],\n",
       "       [<matplotlib.axes._subplots.AxesSubplot object at 0x0000012C27E80EB0>,\n",
       "        <matplotlib.axes._subplots.AxesSubplot object at 0x0000012C27EAF5B0>,\n",
       "        <matplotlib.axes._subplots.AxesSubplot object at 0x0000012C27C5E370>],\n",
       "       [<matplotlib.axes._subplots.AxesSubplot object at 0x0000012C27C67160>,\n",
       "        <matplotlib.axes._subplots.AxesSubplot object at 0x0000012C27C81940>,\n",
       "        <matplotlib.axes._subplots.AxesSubplot object at 0x0000012C27C78A30>],\n",
       "       [<matplotlib.axes._subplots.AxesSubplot object at 0x0000012C27CB97C0>,\n",
       "        <matplotlib.axes._subplots.AxesSubplot object at 0x0000012C27D0B490>,\n",
       "        <matplotlib.axes._subplots.AxesSubplot object at 0x0000012C27D0B5E0>]],\n",
       "      dtype=object)"
      ]
     },
     "execution_count": 29,
     "metadata": {},
     "output_type": "execute_result"
    },
    {
     "data": {
      "image/png": "[encoded data removed]",
      "text/plain": [
       "<Figure size 720x720 with 12 Axes>"
      ]
     },
     "metadata": {
      "needs_background": "light"
     },
     "output_type": "display_data"
    }
   ],
   "source": [
    "X.T.iloc[:,0:10].hist(sharex=True)"
   ]
  },
  {
   "cell_type": "code",
   "execution_count": 30,
   "metadata": {},
   "outputs": [
    {
     "data": {
      "text/plain": [
       "array([[<matplotlib.axes._subplots.AxesSubplot object at 0x0000012C27DE7FD0>,\n",
       "        <matplotlib.axes._subplots.AxesSubplot object at 0x0000012C280ED5E0>,\n",
       "        <matplotlib.axes._subplots.AxesSubplot object at 0x0000012C28357760>],\n",
       "       [<matplotlib.axes._subplots.AxesSubplot object at 0x0000012C2839EEE0>,\n",
       "        <matplotlib.axes._subplots.AxesSubplot object at 0x0000012C281477F0>,\n",
       "        <matplotlib.axes._subplots.AxesSubplot object at 0x0000012C281A75B0>],\n",
       "       [<matplotlib.axes._subplots.AxesSubplot object at 0x0000012C281B53A0>,\n",
       "        <matplotlib.axes._subplots.AxesSubplot object at 0x0000012C281DDB80>,\n",
       "        <matplotlib.axes._subplots.AxesSubplot object at 0x0000012C281D0C70>],\n",
       "       [<matplotlib.axes._subplots.AxesSubplot object at 0x0000012C28232A00>,\n",
       "        <matplotlib.axes._subplots.AxesSubplot object at 0x0000012C282A26D0>,\n",
       "        <matplotlib.axes._subplots.AxesSubplot object at 0x0000012C282A2820>]],\n",
       "      dtype=object)"
      ]
     },
     "execution_count": 30,
     "metadata": {},
     "output_type": "execute_result"
    },
    {
     "data": {
      "image/png": "[encoded data removed]",
      "text/plain": [
       "<Figure size 720x720 with 12 Axes>"
      ]
     },
     "metadata": {
      "needs_background": "light"
     },
     "output_type": "display_data"
    }
   ],
   "source": [
    "np.log2(X.T.iloc[:,0:10]).hist(sharex=True)"
   ]
  },
  {
   "cell_type": "code",
   "execution_count": 32,
   "metadata": {},
   "outputs": [],
   "source": [
    "dfc_covid = dfc[dfc['COVID']==1]\n",
    "X = dfc_covid[dfc.columns[[is_int(x) for x in dfc.columns]]]\n",
    "y = dfc_covid['Hospital_free_days_45']\n",
    "X_train, X_valid, y_train, y_valid = train_test_split(X, y, test_size = 0.2, random_state = 42)"
   ]
  },
  {
   "cell_type": "code",
   "execution_count": 37,
   "metadata": {},
   "outputs": [],
   "source": [
    "\n",
    "regr = linear_model.LinearRegression()"
   ]
  },
  {
   "cell_type": "code",
   "execution_count": 40,
   "metadata": {},
   "outputs": [],
   "source": [
    "regr.fit(X_train, y_train)\n",
    "y_pred = regr.predict(X_valid)"
   ]
  },
  {
   "cell_type": "code",
   "execution_count": 42,
   "metadata": {},
   "outputs": [
    {
     "data": {
      "text/plain": [
       "sample_id\n",
       "31.0      0\n",
       "69.0     42\n",
       "64.0     16\n",
       "48.0      0\n",
       "43.0      0\n",
       "41.0     20\n",
       "92.0      0\n",
       "46.0     39\n",
       "11.0     37\n",
       "1.0       0\n",
       "19.0     38\n",
       "32.0      0\n",
       "99.0      0\n",
       "87.0     39\n",
       "78.0     31\n",
       "5.0      27\n",
       "81.0      0\n",
       "34.0     36\n",
       "13.0     39\n",
       "27.0      0\n",
       "102.0     0\n",
       "Name: Hospital_free_days_45, dtype: int64"
      ]
     },
     "execution_count": 42,
     "metadata": {},
     "output_type": "execute_result"
    }
   ],
   "source": [
    "y_valid"
   ]
  },
  {
   "cell_type": "code",
   "execution_count": 47,
   "metadata": {},
   "outputs": [
    {
     "name": "stdout",
     "output_type": "stream",
     "text": [
      "Coefficients: \n",
      " [-0.00467527  0.00533826  0.02447892 ... -0.00183349 -0.0033168\n",
      " -0.01636789]\n",
      "Mean squared error: 139.41\n",
      "Coefficient of determination: 0.55\n"
     ]
    },
    {
     "data": {
      "image/png": "[encoded data removed]",
      "text/plain": [
       "<Figure size 360x360 with 1 Axes>"
      ]
     },
     "metadata": {},
     "output_type": "display_data"
    }
   ],
   "source": [
    "# The coefficients\n",
    "print('Coefficients: \\n', regr.coef_)\n",
    "# The mean squared error\n",
    "print('Mean squared error: %.2f'\n",
    "      % mean_squared_error(y_valid, y_pred))\n",
    "# The coefficient of determination: 1 is perfect prediction\n",
    "print('Coefficient of determination: %.2f'\n",
    "      % r2_score(y_valid, y_pred))\n",
    "\n",
    "# Plot outputs\n",
    "plt.rcParams['figure.figsize'] = 5,5\n",
    "plt.scatter(y_valid, y_pred,  color='black')\n",
    "#plt.plot(X_valid, y_pred, color='blue', linewidth=3)\n",
    "plt.xlabel('true')\n",
    "plt.ylabel('pred')\n",
    "plt.title('linear regression, all')\n",
    "plt.xticks(())\n",
    "plt.yticks(())\n",
    "\n",
    "plt.show()"
   ]
  },
  {
   "cell_type": "code",
   "execution_count": 48,
   "metadata": {},
   "outputs": [
    {
     "data": {
      "text/plain": [
       "RandomForestRegressor(bootstrap=False, ccp_alpha=0.0, criterion='mse',\n",
       "                      max_depth=None, max_features='sqrt', max_leaf_nodes=None,\n",
       "                      max_samples=None, min_impurity_decrease=0.0,\n",
       "                      min_impurity_split=None, min_samples_leaf=1,\n",
       "                      min_samples_split=2, min_weight_fraction_leaf=0.0,\n",
       "                      n_estimators=400, n_jobs=None, oob_score=False,\n",
       "                      random_state=None, verbose=0, warm_start=False)"
      ]
     },
     "execution_count": 48,
     "metadata": {},
     "output_type": "execute_result"
    }
   ],
   "source": [
    "rf = RandomForestRegressor(n_estimators=400,\n",
    "                           min_samples_leaf=1, \n",
    "                           min_samples_split=2, \n",
    "                           max_features='sqrt', \n",
    "                           max_depth=None, \n",
    "                           bootstrap=False)\n",
    "rf.fit(X_train, y_train)"
   ]
  },
  {
   "cell_type": "code",
   "execution_count": 49,
   "metadata": {},
   "outputs": [],
   "source": [
    "y_pred_rf = rf.predict(X_valid)"
   ]
  },
  {
   "cell_type": "code",
   "execution_count": 89,
   "metadata": {},
   "outputs": [],
   "source": [
    "def model_eval(model, model_name, XTRAIN, XTEST,YTRAIN, YTEST):\n",
    "    model.fit(XTRAIN, YTRAIN)\n",
    "    YPRED = model.predict(XTEST)\n",
    "    \n",
    "    print('Mean squared error: %.2f'\n",
    "      % mean_squared_error(YTEST, YPRED))\n",
    "    # The coefficient of determination: 1 is perfect prediction\n",
    "    print('Coefficient of determination: %.2f'\n",
    "      % r2_score(YTEST, YPRED))\n",
    "\n",
    "    # Plot outputs\n",
    "    plt.rcParams['figure.figsize'] = 5,5\n",
    "    plt.scatter(YTEST, YPRED,  color='black')\n",
    "    #plt.plot(X_valid, y_pred, color='blue', linewidth=3)\n",
    "    plt.xlabel('true')\n",
    "    plt.ylabel('pred')\n",
    "    plt.title(model_name)\n",
    "    plt.xticks(())\n",
    "    plt.yticks(())\n",
    "\n",
    "    plt.show()\n",
    "    return mean_squared_error(YTEST, YPRED), r2_score(YTEST, YPRED)"
   ]
  },
  {
   "cell_type": "code",
   "execution_count": 113,
   "metadata": {},
   "outputs": [],
   "source": [
    "## try many models\n",
    "from sklearn.ensemble import ExtraTreesRegressor, AdaBoostRegressor, GradientBoostingRegressor\n",
    "from sklearn.linear_model import Lasso, Ridge, ElasticNet\n",
    "from sklearn.model_selection import KFold"
   ]
  },
  {
   "cell_type": "code",
   "execution_count": null,
   "metadata": {},
   "outputs": [],
   "source": []
  },
  {
   "cell_type": "code",
   "execution_count": 114,
   "metadata": {},
   "outputs": [],
   "source": [
    "model_dict = {\n",
    "    'extratrees': ExtraTreesRegressor(),\n",
    "    'rf' : RandomForestRegressor(),\n",
    "    'adaboost': AdaBoostRegressor(),\n",
    "    'linear': linear_model.LinearRegression(),\n",
    "    'gboost': GradientBoostingRegressor() , \n",
    "    'lasso' : Lasso(),\n",
    "    'elastic': ElasticNet(),\n",
    "    'ridge': Ridge()\n",
    "    \n",
    "}"
   ]
  },
  {
   "cell_type": "markdown",
   "metadata": {},
   "source": [
    "# k-fold cross validation"
   ]
  },
  {
   "cell_type": "code",
   "execution_count": 92,
   "metadata": {},
   "outputs": [
    {
     "data": {
      "text/plain": [
       "array([[37.99554289, 27.17636051, 28.29447674, ..., 15.16741815,\n",
       "        14.05324713, 10.56985561],\n",
       "       [37.35309104, 29.41922775, 29.04851028, ..., 17.5951409 ,\n",
       "        17.06381637, 13.86302471],\n",
       "       [37.52787482, 27.17417108, 28.95321485, ..., 15.70455212,\n",
       "        14.2511865 , 11.55074679],\n",
       "       ...,\n",
       "       [37.06898003, 32.41540953, 28.43013858, ..., 17.12565562,\n",
       "        15.93387504, 13.13249973],\n",
       "       [38.00467456, 26.63699361, 28.3468033 , ..., 14.4252159 ,\n",
       "        13.35810171, 10.5980525 ],\n",
       "       [38.31857615, 27.79958855, 25.86114656, ..., 15.51422091,\n",
       "        13.65508345, 11.79766153]])"
      ]
     },
     "execution_count": 92,
     "metadata": {},
     "output_type": "execute_result"
    }
   ],
   "source": [
    "np.asarray(X)"
   ]
  },
  {
   "cell_type": "code",
   "execution_count": 101,
   "metadata": {},
   "outputs": [],
   "source": [
    "xa = np.asarray(X)"
   ]
  },
  {
   "cell_type": "code",
   "execution_count": 104,
   "metadata": {},
   "outputs": [
    {
     "data": {
      "text/plain": [
       "array([37.99554289, 27.17636051, 28.29447674, ..., 15.16741815,\n",
       "       14.05324713, 10.56985561])"
      ]
     },
     "execution_count": 104,
     "metadata": {},
     "output_type": "execute_result"
    }
   ],
   "source": [
    "xa[0]"
   ]
  },
  {
   "cell_type": "code",
   "execution_count": 102,
   "metadata": {},
   "outputs": [
    {
     "data": {
      "text/plain": [
       "array([37.80015001, 27.99512544, 28.51739493, ..., 16.836149  ,\n",
       "       16.18495281, 13.33035672])"
      ]
     },
     "execution_count": 102,
     "metadata": {},
     "output_type": "execute_result"
    }
   ],
   "source": [
    "xa[35]"
   ]
  },
  {
   "cell_type": "code",
   "execution_count": 107,
   "metadata": {},
   "outputs": [
    {
     "data": {
      "text/plain": [
       "array([[37.35309104, 29.41922775, 29.04851028, ..., 17.5951409 ,\n",
       "        17.06381637, 13.86302471],\n",
       "       [37.67312772, 28.87970215, 29.52746006, ..., 15.85574448,\n",
       "        15.15165083, 11.84156435],\n",
       "       [37.98354217, 27.26248545, 28.60586678, ..., 16.78596325,\n",
       "        15.6909801 , 13.10164745],\n",
       "       ...,\n",
       "       [37.78755632, 26.96906061, 28.10314571, ..., 16.60819706,\n",
       "        15.47990654, 12.82376528],\n",
       "       [37.06898003, 32.41540953, 28.43013858, ..., 17.12565562,\n",
       "        15.93387504, 13.13249973],\n",
       "       [38.00467456, 26.63699361, 28.3468033 , ..., 14.4252159 ,\n",
       "        13.35810171, 10.5980525 ]])"
      ]
     },
     "execution_count": 107,
     "metadata": {},
     "output_type": "execute_result"
    }
   ],
   "source": [
    "xa[train_index]"
   ]
  },
  {
   "cell_type": "code",
   "execution_count": 110,
   "metadata": {},
   "outputs": [],
   "source": [
    "ya = np.asarray(y)"
   ]
  },
  {
   "cell_type": "code",
   "execution_count": 117,
   "metadata": {},
   "outputs": [
    {
     "data": {
      "text/plain": [
       "{'extratrees': None,\n",
       " 'rf': None,\n",
       " 'adaboost': None,\n",
       " 'linear': None,\n",
       " 'gboost': None,\n",
       " 'lasso': None,\n",
       " 'elastic': None,\n",
       " 'ridge': None}"
      ]
     },
     "execution_count": 117,
     "metadata": {},
     "output_type": "execute_result"
    }
   ],
   "source": [
    "\n"
   ]
  },
  {
   "cell_type": "code",
   "execution_count": 124,
   "metadata": {},
   "outputs": [],
   "source": [
    "mse = {}\n",
    "mse = mse.fromkeys(model_dict.keys(),[])"
   ]
  },
  {
   "cell_type": "code",
   "execution_count": 125,
   "metadata": {},
   "outputs": [
    {
     "data": {
      "text/plain": [
       "{'extratrees': [],\n",
       " 'rf': [],\n",
       " 'adaboost': [],\n",
       " 'linear': [],\n",
       " 'gboost': [],\n",
       " 'lasso': [],\n",
       " 'elastic': [],\n",
       " 'ridge': []}"
      ]
     },
     "execution_count": 125,
     "metadata": {},
     "output_type": "execute_result"
    }
   ],
   "source": [
    "mse"
   ]
  },
  {
   "cell_type": "code",
   "execution_count": 134,
   "metadata": {},
   "outputs": [],
   "source": [
    "from collections import defaultdict\n"
   ]
  },
  {
   "cell_type": "code",
   "execution_count": 135,
   "metadata": {
    "scrolled": true
   },
   "outputs": [
    {
     "name": "stdout",
     "output_type": "stream",
     "text": [
      "fold=0\n",
      "TRAIN: [  1   3   4   5   6   7   8   9  10  11  13  14  15  16  17  18  19  20\n",
      "  21  23  24  25  26  27  28  29  32  34  35  36  38  39  40  41  43  44\n",
      "  45  46  47  48  51  52  53  56  58  59  60  61  62  63  64  65  66  67\n",
      "  68  69  70  71  72  74  77  78  79  80  81  82  84  85  87  88  89  90\n",
      "  92  93  94  95  96  97  98  99 100] TEST: [  0   2  12  22  30  31  33  37  42  49  50  54  55  57  73  75  76  83\n",
      "  86  91 101]\n",
      "Mean squared error: 181.58\n",
      "Coefficient of determination: 0.36\n"
     ]
    },
    {
     "data": {
      "image/png": "[encoded data removed]",
      "text/plain": [
       "<Figure size 360x360 with 1 Axes>"
      ]
     },
     "metadata": {},
     "output_type": "display_data"
    },
    {
     "name": "stdout",
     "output_type": "stream",
     "text": [
      "181.57926666666668\n",
      "0.3620524163094916\n",
      "defaultdict(<class 'list'>, {'extratrees': [181.57926666666668]})\n",
      "Mean squared error: 213.82\n",
      "Coefficient of determination: 0.25\n"
     ]
    },
    {
     "data": {
      "image/png": "[encoded data removed]",
      "text/plain": [
       "<Figure size 360x360 with 1 Axes>"
      ]
     },
     "metadata": {},
     "output_type": "display_data"
    },
    {
     "name": "stdout",
     "output_type": "stream",
     "text": [
      "213.82110476190476\n",
      "0.24877625276843907\n",
      "defaultdict(<class 'list'>, {'extratrees': [181.57926666666668], 'rf': [213.82110476190476]})\n",
      "Mean squared error: 273.61\n",
      "Coefficient of determination: 0.04\n"
     ]
    },
    {
     "data": {
      "image/png": "[encoded data removed]",
      "text/plain": [
       "<Figure size 360x360 with 1 Axes>"
      ]
     },
     "metadata": {},
     "output_type": "display_data"
    },
    {
     "name": "stdout",
     "output_type": "stream",
     "text": [
      "273.61457507038944\n",
      "0.03870215893594964\n",
      "defaultdict(<class 'list'>, {'extratrees': [181.57926666666668], 'rf': [213.82110476190476], 'adaboost': [273.61457507038944]})\n",
      "Mean squared error: 186.91\n",
      "Coefficient of determination: 0.34\n"
     ]
    },
    {
     "data": {
      "image/png": "[encoded data removed]",
      "text/plain": [
       "<Figure size 360x360 with 1 Axes>"
      ]
     },
     "metadata": {},
     "output_type": "display_data"
    },
    {
     "name": "stdout",
     "output_type": "stream",
     "text": [
      "186.91075006684227\n",
      "0.3433211645808907\n",
      "defaultdict(<class 'list'>, {'extratrees': [181.57926666666668], 'rf': [213.82110476190476], 'adaboost': [273.61457507038944], 'linear': [186.91075006684227]})\n",
      "Mean squared error: 197.69\n",
      "Coefficient of determination: 0.31\n"
     ]
    },
    {
     "data": {
      "image/png": "[encoded data removed]",
      "text/plain": [
       "<Figure size 360x360 with 1 Axes>"
      ]
     },
     "metadata": {},
     "output_type": "display_data"
    },
    {
     "name": "stdout",
     "output_type": "stream",
     "text": [
      "197.68845098928438\n",
      "0.30545556248088457\n",
      "defaultdict(<class 'list'>, {'extratrees': [181.57926666666668], 'rf': [213.82110476190476], 'adaboost': [273.61457507038944], 'linear': [186.91075006684227], 'gboost': [197.68845098928438]})\n",
      "Mean squared error: 204.34\n",
      "Coefficient of determination: 0.28\n"
     ]
    },
    {
     "data": {
      "image/png": "[encoded data removed]",
      "text/plain": [
       "<Figure size 360x360 with 1 Axes>"
      ]
     },
     "metadata": {},
     "output_type": "display_data"
    },
    {
     "name": "stdout",
     "output_type": "stream",
     "text": [
      "204.33958899018347\n",
      "0.28208793084343065\n",
      "defaultdict(<class 'list'>, {'extratrees': [181.57926666666668], 'rf': [213.82110476190476], 'adaboost': [273.61457507038944], 'linear': [186.91075006684227], 'gboost': [197.68845098928438], 'lasso': [204.33958899018347]})\n",
      "Mean squared error: 200.58\n",
      "Coefficient of determination: 0.30\n"
     ]
    },
    {
     "data": {
      "image/png": "[encoded data removed]",
      "text/plain": [
       "<Figure size 360x360 with 1 Axes>"
      ]
     },
     "metadata": {},
     "output_type": "display_data"
    },
    {
     "name": "stdout",
     "output_type": "stream",
     "text": [
      "200.5773760754689\n",
      "0.29530582010100404\n",
      "defaultdict(<class 'list'>, {'extratrees': [181.57926666666668], 'rf': [213.82110476190476], 'adaboost': [273.61457507038944], 'linear': [186.91075006684227], 'gboost': [197.68845098928438], 'lasso': [204.33958899018347], 'elastic': [200.5773760754689]})\n",
      "Mean squared error: 187.14\n",
      "Coefficient of determination: 0.34\n"
     ]
    },
    {
     "data": {
      "image/png": "[encoded data removed]",
      "text/plain": [
       "<Figure size 360x360 with 1 Axes>"
      ]
     },
     "metadata": {},
     "output_type": "display_data"
    },
    {
     "name": "stdout",
     "output_type": "stream",
     "text": [
      "187.14313333525595\n",
      "0.3425047258580338\n",
      "defaultdict(<class 'list'>, {'extratrees': [181.57926666666668], 'rf': [213.82110476190476], 'adaboost': [273.61457507038944], 'linear': [186.91075006684227], 'gboost': [197.68845098928438], 'lasso': [204.33958899018347], 'elastic': [200.5773760754689], 'ridge': [187.14313333525595]})\n",
      "fold=1\n",
      "TRAIN: [  0   1   2   3   4   5   6   7   8   9  11  12  13  14  15  17  18  19\n",
      "  20  21  22  23  27  29  30  31  32  33  34  36  37  38  39  40  41  42\n",
      "  43  44  45  47  48  49  50  51  52  53  54  55  57  58  59  60  61  62\n",
      "  63  64  66  68  69  70  72  73  74  75  76  79  81  82  83  84  86  88\n",
      "  89  91  93  94  95  97  98 100 101] TEST: [10 16 24 25 26 28 35 46 56 65 67 71 77 78 80 85 87 90 92 96 99]\n",
      "Mean squared error: 147.20\n",
      "Coefficient of determination: 0.46\n"
     ]
    },
    {
     "data": {
      "image/png": "[encoded data removed]",
      "text/plain": [
       "<Figure size 360x360 with 1 Axes>"
      ]
     },
     "metadata": {},
     "output_type": "display_data"
    },
    {
     "name": "stdout",
     "output_type": "stream",
     "text": [
      "147.20063809523808\n",
      "0.45741895488206485\n",
      "defaultdict(<class 'list'>, {'extratrees': [181.57926666666668, 147.20063809523808], 'rf': [213.82110476190476], 'adaboost': [273.61457507038944], 'linear': [186.91075006684227], 'gboost': [197.68845098928438], 'lasso': [204.33958899018347], 'elastic': [200.5773760754689], 'ridge': [187.14313333525595]})\n",
      "Mean squared error: 179.04\n",
      "Coefficient of determination: 0.34\n"
     ]
    },
    {
     "data": {
      "image/png": "[encoded data removed]",
      "text/plain": [
       "<Figure size 360x360 with 1 Axes>"
      ]
     },
     "metadata": {},
     "output_type": "display_data"
    },
    {
     "name": "stdout",
     "output_type": "stream",
     "text": [
      "179.03508095238095\n",
      "0.34007730813593884\n",
      "defaultdict(<class 'list'>, {'extratrees': [181.57926666666668, 147.20063809523808], 'rf': [213.82110476190476, 179.03508095238095], 'adaboost': [273.61457507038944], 'linear': [186.91075006684227], 'gboost': [197.68845098928438], 'lasso': [204.33958899018347], 'elastic': [200.5773760754689], 'ridge': [187.14313333525595]})\n",
      "Mean squared error: 176.63\n",
      "Coefficient of determination: 0.35\n"
     ]
    },
    {
     "data": {
      "image/png": "[encoded data removed]",
      "text/plain": [
       "<Figure size 360x360 with 1 Axes>"
      ]
     },
     "metadata": {},
     "output_type": "display_data"
    },
    {
     "name": "stdout",
     "output_type": "stream",
     "text": [
      "176.63408622874763\n",
      "0.34892736641916955\n",
      "defaultdict(<class 'list'>, {'extratrees': [181.57926666666668, 147.20063809523808], 'rf': [213.82110476190476, 179.03508095238095], 'adaboost': [273.61457507038944, 176.63408622874763], 'linear': [186.91075006684227], 'gboost': [197.68845098928438], 'lasso': [204.33958899018347], 'elastic': [200.5773760754689], 'ridge': [187.14313333525595]})\n",
      "Mean squared error: 204.55\n",
      "Coefficient of determination: 0.25\n"
     ]
    },
    {
     "data": {
      "image/png": "[encoded data removed]",
      "text/plain": [
       "<Figure size 360x360 with 1 Axes>"
      ]
     },
     "metadata": {},
     "output_type": "display_data"
    },
    {
     "name": "stdout",
     "output_type": "stream",
     "text": [
      "204.54883345327366\n",
      "0.2460337042769788\n",
      "defaultdict(<class 'list'>, {'extratrees': [181.57926666666668, 147.20063809523808], 'rf': [213.82110476190476, 179.03508095238095], 'adaboost': [273.61457507038944, 176.63408622874763], 'linear': [186.91075006684227, 204.54883345327366], 'gboost': [197.68845098928438], 'lasso': [204.33958899018347], 'elastic': [200.5773760754689], 'ridge': [187.14313333525595]})\n",
      "Mean squared error: 300.13\n",
      "Coefficient of determination: -0.11\n"
     ]
    },
    {
     "data": {
      "image/png": "[encoded data removed]",
      "text/plain": [
       "<Figure size 360x360 with 1 Axes>"
      ]
     },
     "metadata": {},
     "output_type": "display_data"
    },
    {
     "name": "stdout",
     "output_type": "stream",
     "text": [
      "300.13386592362116\n",
      "-0.10629239625145814\n",
      "defaultdict(<class 'list'>, {'extratrees': [181.57926666666668, 147.20063809523808], 'rf': [213.82110476190476, 179.03508095238095], 'adaboost': [273.61457507038944, 176.63408622874763], 'linear': [186.91075006684227, 204.54883345327366], 'gboost': [197.68845098928438, 300.13386592362116], 'lasso': [204.33958899018347], 'elastic': [200.5773760754689], 'ridge': [187.14313333525595]})\n",
      "Mean squared error: 248.71\n",
      "Coefficient of determination: 0.08\n"
     ]
    },
    {
     "data": {
      "image/png": "[encoded data removed]",
      "text/plain": [
       "<Figure size 360x360 with 1 Axes>"
      ]
     },
     "metadata": {},
     "output_type": "display_data"
    },
    {
     "name": "stdout",
     "output_type": "stream",
     "text": [
      "248.71431006040703\n",
      "0.08323990959161909\n",
      "defaultdict(<class 'list'>, {'extratrees': [181.57926666666668, 147.20063809523808], 'rf': [213.82110476190476, 179.03508095238095], 'adaboost': [273.61457507038944, 176.63408622874763], 'linear': [186.91075006684227, 204.54883345327366], 'gboost': [197.68845098928438, 300.13386592362116], 'lasso': [204.33958899018347, 248.71431006040703], 'elastic': [200.5773760754689], 'ridge': [187.14313333525595]})\n",
      "Mean squared error: 215.59\n",
      "Coefficient of determination: 0.21\n"
     ]
    },
    {
     "data": {
      "image/png": "[encoded data removed]",
      "text/plain": [
       "<Figure size 360x360 with 1 Axes>"
      ]
     },
     "metadata": {},
     "output_type": "display_data"
    },
    {
     "name": "stdout",
     "output_type": "stream",
     "text": [
      "215.58669117955304\n",
      "0.2053481987079545\n",
      "defaultdict(<class 'list'>, {'extratrees': [181.57926666666668, 147.20063809523808], 'rf': [213.82110476190476, 179.03508095238095], 'adaboost': [273.61457507038944, 176.63408622874763], 'linear': [186.91075006684227, 204.54883345327366], 'gboost': [197.68845098928438, 300.13386592362116], 'lasso': [204.33958899018347, 248.71431006040703], 'elastic': [200.5773760754689, 215.58669117955304], 'ridge': [187.14313333525595]})\n",
      "Mean squared error: 204.55\n",
      "Coefficient of determination: 0.25\n"
     ]
    },
    {
     "data": {
      "image/png": "[encoded data removed]",
      "text/plain": [
       "<Figure size 360x360 with 1 Axes>"
      ]
     },
     "metadata": {},
     "output_type": "display_data"
    },
    {
     "name": "stdout",
     "output_type": "stream",
     "text": [
      "204.5544289216952\n",
      "0.24601307939964567\n",
      "defaultdict(<class 'list'>, {'extratrees': [181.57926666666668, 147.20063809523808], 'rf': [213.82110476190476, 179.03508095238095], 'adaboost': [273.61457507038944, 176.63408622874763], 'linear': [186.91075006684227, 204.54883345327366], 'gboost': [197.68845098928438, 300.13386592362116], 'lasso': [204.33958899018347, 248.71431006040703], 'elastic': [200.5773760754689, 215.58669117955304], 'ridge': [187.14313333525595, 204.5544289216952]})\n",
      "fold=2\n",
      "TRAIN: [  0   1   2   4   5   7   8  10  11  12  13  14  16  18  19  22  23  24\n",
      "  25  26  27  28  29  30  31  33  34  35  37  38  39  40  41  42  44  45\n",
      "  46  47  48  49  50  52  54  55  56  57  58  59  60  64  65  66  67  69\n",
      "  71  73  74  75  76  77  78  79  80  81  82  83  84  85  86  87  88  89\n",
      "  90  91  92  93  95  96  97  98  99 101] TEST: [  3   6   9  15  17  20  21  32  36  43  51  53  61  62  63  68  70  72\n",
      "  94 100]\n",
      "Mean squared error: 126.97\n",
      "Coefficient of determination: 0.57\n"
     ]
    },
    {
     "data": {
      "image/png": "[encoded data removed]",
      "text/plain": [
       "<Figure size 360x360 with 1 Axes>"
      ]
     },
     "metadata": {},
     "output_type": "display_data"
    },
    {
     "name": "stdout",
     "output_type": "stream",
     "text": [
      "126.96831000000002\n",
      "0.5656232979815258\n",
      "defaultdict(<class 'list'>, {'extratrees': [181.57926666666668, 147.20063809523808, 126.96831000000002], 'rf': [213.82110476190476, 179.03508095238095], 'adaboost': [273.61457507038944, 176.63408622874763], 'linear': [186.91075006684227, 204.54883345327366], 'gboost': [197.68845098928438, 300.13386592362116], 'lasso': [204.33958899018347, 248.71431006040703], 'elastic': [200.5773760754689, 215.58669117955304], 'ridge': [187.14313333525595, 204.5544289216952]})\n",
      "Mean squared error: 138.26\n",
      "Coefficient of determination: 0.53\n"
     ]
    },
    {
     "data": {
      "image/png": "[encoded data removed]",
      "text/plain": [
       "<Figure size 360x360 with 1 Axes>"
      ]
     },
     "metadata": {},
     "output_type": "display_data"
    },
    {
     "name": "stdout",
     "output_type": "stream",
     "text": [
      "138.25755999999998\n",
      "0.527001163188505\n",
      "defaultdict(<class 'list'>, {'extratrees': [181.57926666666668, 147.20063809523808, 126.96831000000002], 'rf': [213.82110476190476, 179.03508095238095, 138.25755999999998], 'adaboost': [273.61457507038944, 176.63408622874763], 'linear': [186.91075006684227, 204.54883345327366], 'gboost': [197.68845098928438, 300.13386592362116], 'lasso': [204.33958899018347, 248.71431006040703], 'elastic': [200.5773760754689, 215.58669117955304], 'ridge': [187.14313333525595, 204.5544289216952]})\n",
      "Mean squared error: 97.48\n",
      "Coefficient of determination: 0.67\n"
     ]
    },
    {
     "data": {
      "image/png": "[encoded data removed]",
      "text/plain": [
       "<Figure size 360x360 with 1 Axes>"
      ]
     },
     "metadata": {},
     "output_type": "display_data"
    },
    {
     "name": "stdout",
     "output_type": "stream",
     "text": [
      "97.48332095430726\n",
      "0.6664956518839984\n",
      "defaultdict(<class 'list'>, {'extratrees': [181.57926666666668, 147.20063809523808, 126.96831000000002], 'rf': [213.82110476190476, 179.03508095238095, 138.25755999999998], 'adaboost': [273.61457507038944, 176.63408622874763, 97.48332095430726], 'linear': [186.91075006684227, 204.54883345327366], 'gboost': [197.68845098928438, 300.13386592362116], 'lasso': [204.33958899018347, 248.71431006040703], 'elastic': [200.5773760754689, 215.58669117955304], 'ridge': [187.14313333525595, 204.5544289216952]})\n",
      "Mean squared error: 102.22\n",
      "Coefficient of determination: 0.65\n"
     ]
    },
    {
     "data": {
      "image/png": "[encoded data removed]",
      "text/plain": [
       "<Figure size 360x360 with 1 Axes>"
      ]
     },
     "metadata": {},
     "output_type": "display_data"
    },
    {
     "name": "stdout",
     "output_type": "stream",
     "text": [
      "102.22373414548458\n",
      "0.6502780220818181\n",
      "defaultdict(<class 'list'>, {'extratrees': [181.57926666666668, 147.20063809523808, 126.96831000000002], 'rf': [213.82110476190476, 179.03508095238095, 138.25755999999998], 'adaboost': [273.61457507038944, 176.63408622874763, 97.48332095430726], 'linear': [186.91075006684227, 204.54883345327366, 102.22373414548458], 'gboost': [197.68845098928438, 300.13386592362116], 'lasso': [204.33958899018347, 248.71431006040703], 'elastic': [200.5773760754689, 215.58669117955304], 'ridge': [187.14313333525595, 204.5544289216952]})\n",
      "Mean squared error: 200.07\n",
      "Coefficient of determination: 0.32\n"
     ]
    },
    {
     "data": {
      "image/png": "[encoded data removed]",
      "text/plain": [
       "<Figure size 360x360 with 1 Axes>"
      ]
     },
     "metadata": {},
     "output_type": "display_data"
    },
    {
     "name": "stdout",
     "output_type": "stream",
     "text": [
      "200.07112864509745\n",
      "0.31552812642799366\n",
      "defaultdict(<class 'list'>, {'extratrees': [181.57926666666668, 147.20063809523808, 126.96831000000002], 'rf': [213.82110476190476, 179.03508095238095, 138.25755999999998], 'adaboost': [273.61457507038944, 176.63408622874763, 97.48332095430726], 'linear': [186.91075006684227, 204.54883345327366, 102.22373414548458], 'gboost': [197.68845098928438, 300.13386592362116, 200.07112864509745], 'lasso': [204.33958899018347, 248.71431006040703], 'elastic': [200.5773760754689, 215.58669117955304], 'ridge': [187.14313333525595, 204.5544289216952]})\n",
      "Mean squared error: 127.37\n",
      "Coefficient of determination: 0.56\n"
     ]
    },
    {
     "data": {
      "image/png": "[encoded data removed]",
      "text/plain": [
       "<Figure size 360x360 with 1 Axes>"
      ]
     },
     "metadata": {},
     "output_type": "display_data"
    },
    {
     "name": "stdout",
     "output_type": "stream",
     "text": [
      "127.36766089427768\n",
      "0.5642570616001448\n",
      "defaultdict(<class 'list'>, {'extratrees': [181.57926666666668, 147.20063809523808, 126.96831000000002], 'rf': [213.82110476190476, 179.03508095238095, 138.25755999999998], 'adaboost': [273.61457507038944, 176.63408622874763, 97.48332095430726], 'linear': [186.91075006684227, 204.54883345327366, 102.22373414548458], 'gboost': [197.68845098928438, 300.13386592362116, 200.07112864509745], 'lasso': [204.33958899018347, 248.71431006040703, 127.36766089427768], 'elastic': [200.5773760754689, 215.58669117955304], 'ridge': [187.14313333525595, 204.5544289216952]})\n",
      "Mean squared error: 143.08\n",
      "Coefficient of determination: 0.51\n"
     ]
    },
    {
     "data": {
      "image/png": "[encoded data removed]",
      "text/plain": [
       "<Figure size 360x360 with 1 Axes>"
      ]
     },
     "metadata": {},
     "output_type": "display_data"
    },
    {
     "name": "stdout",
     "output_type": "stream",
     "text": [
      "143.0849927123351\n",
      "0.5104858271900955\n",
      "defaultdict(<class 'list'>, {'extratrees': [181.57926666666668, 147.20063809523808, 126.96831000000002], 'rf': [213.82110476190476, 179.03508095238095, 138.25755999999998], 'adaboost': [273.61457507038944, 176.63408622874763, 97.48332095430726], 'linear': [186.91075006684227, 204.54883345327366, 102.22373414548458], 'gboost': [197.68845098928438, 300.13386592362116, 200.07112864509745], 'lasso': [204.33958899018347, 248.71431006040703, 127.36766089427768], 'elastic': [200.5773760754689, 215.58669117955304, 143.0849927123351], 'ridge': [187.14313333525595, 204.5544289216952]})\n",
      "Mean squared error: 102.23\n",
      "Coefficient of determination: 0.65\n"
     ]
    },
    {
     "data": {
      "image/png": "[encoded data removed]",
      "text/plain": [
       "<Figure size 360x360 with 1 Axes>"
      ]
     },
     "metadata": {},
     "output_type": "display_data"
    },
    {
     "name": "stdout",
     "output_type": "stream",
     "text": [
      "102.22809434741627\n",
      "0.6502631052089761\n",
      "defaultdict(<class 'list'>, {'extratrees': [181.57926666666668, 147.20063809523808, 126.96831000000002], 'rf': [213.82110476190476, 179.03508095238095, 138.25755999999998], 'adaboost': [273.61457507038944, 176.63408622874763, 97.48332095430726], 'linear': [186.91075006684227, 204.54883345327366, 102.22373414548458], 'gboost': [197.68845098928438, 300.13386592362116, 200.07112864509745], 'lasso': [204.33958899018347, 248.71431006040703, 127.36766089427768], 'elastic': [200.5773760754689, 215.58669117955304, 143.0849927123351], 'ridge': [187.14313333525595, 204.5544289216952, 102.22809434741627]})\n",
      "fold=3\n",
      "TRAIN: [  0   2   3   4   5   6   8   9  10  12  14  15  16  17  18  20  21  22\n",
      "  24  25  26  27  28  29  30  31  32  33  34  35  36  37  39  40  41  42\n",
      "  43  44  45  46  49  50  51  53  54  55  56  57  61  62  63  64  65  67\n",
      "  68  70  71  72  73  75  76  77  78  80  83  84  85  86  87  88  89  90\n",
      "  91  92  93  94  95  96  97  99 100 101] TEST: [ 1  7 11 13 19 23 38 47 48 52 58 59 60 66 69 74 79 81 82 98]\n",
      "Mean squared error: 139.29\n",
      "Coefficient of determination: 0.46\n"
     ]
    },
    {
     "data": {
      "image/png": "[encoded data removed]",
      "text/plain": [
       "<Figure size 360x360 with 1 Axes>"
      ]
     },
     "metadata": {},
     "output_type": "display_data"
    },
    {
     "name": "stdout",
     "output_type": "stream",
     "text": [
      "139.288685\n",
      "0.45603106693743656\n",
      "defaultdict(<class 'list'>, {'extratrees': [181.57926666666668, 147.20063809523808, 126.96831000000002, 139.288685], 'rf': [213.82110476190476, 179.03508095238095, 138.25755999999998], 'adaboost': [273.61457507038944, 176.63408622874763, 97.48332095430726], 'linear': [186.91075006684227, 204.54883345327366, 102.22373414548458], 'gboost': [197.68845098928438, 300.13386592362116, 200.07112864509745], 'lasso': [204.33958899018347, 248.71431006040703, 127.36766089427768], 'elastic': [200.5773760754689, 215.58669117955304, 143.0849927123351], 'ridge': [187.14313333525595, 204.5544289216952, 102.22809434741627]})\n",
      "Mean squared error: 141.83\n",
      "Coefficient of determination: 0.45\n"
     ]
    },
    {
     "data": {
      "image/png": "[encoded data removed]",
      "text/plain": [
       "<Figure size 360x360 with 1 Axes>"
      ]
     },
     "metadata": {},
     "output_type": "display_data"
    },
    {
     "name": "stdout",
     "output_type": "stream",
     "text": [
      "141.83390000000003\n",
      "0.44609115051159864\n",
      "defaultdict(<class 'list'>, {'extratrees': [181.57926666666668, 147.20063809523808, 126.96831000000002, 139.288685], 'rf': [213.82110476190476, 179.03508095238095, 138.25755999999998, 141.83390000000003], 'adaboost': [273.61457507038944, 176.63408622874763, 97.48332095430726], 'linear': [186.91075006684227, 204.54883345327366, 102.22373414548458], 'gboost': [197.68845098928438, 300.13386592362116, 200.07112864509745], 'lasso': [204.33958899018347, 248.71431006040703, 127.36766089427768], 'elastic': [200.5773760754689, 215.58669117955304, 143.0849927123351], 'ridge': [187.14313333525595, 204.5544289216952, 102.22809434741627]})\n",
      "Mean squared error: 174.95\n",
      "Coefficient of determination: 0.32\n"
     ]
    },
    {
     "data": {
      "image/png": "[encoded data removed]",
      "text/plain": [
       "<Figure size 360x360 with 1 Axes>"
      ]
     },
     "metadata": {},
     "output_type": "display_data"
    },
    {
     "name": "stdout",
     "output_type": "stream",
     "text": [
      "174.95424023215864\n",
      "0.3167451369516572\n",
      "defaultdict(<class 'list'>, {'extratrees': [181.57926666666668, 147.20063809523808, 126.96831000000002, 139.288685], 'rf': [213.82110476190476, 179.03508095238095, 138.25755999999998, 141.83390000000003], 'adaboost': [273.61457507038944, 176.63408622874763, 97.48332095430726, 174.95424023215864], 'linear': [186.91075006684227, 204.54883345327366, 102.22373414548458], 'gboost': [197.68845098928438, 300.13386592362116, 200.07112864509745], 'lasso': [204.33958899018347, 248.71431006040703, 127.36766089427768], 'elastic': [200.5773760754689, 215.58669117955304, 143.0849927123351], 'ridge': [187.14313333525595, 204.5544289216952, 102.22809434741627]})\n",
      "Mean squared error: 153.18\n",
      "Coefficient of determination: 0.40\n"
     ]
    },
    {
     "data": {
      "image/png": "[encoded data removed]",
      "text/plain": [
       "<Figure size 360x360 with 1 Axes>"
      ]
     },
     "metadata": {},
     "output_type": "display_data"
    },
    {
     "name": "stdout",
     "output_type": "stream",
     "text": [
      "153.1831503510387\n",
      "0.4017685294421671\n",
      "defaultdict(<class 'list'>, {'extratrees': [181.57926666666668, 147.20063809523808, 126.96831000000002, 139.288685], 'rf': [213.82110476190476, 179.03508095238095, 138.25755999999998, 141.83390000000003], 'adaboost': [273.61457507038944, 176.63408622874763, 97.48332095430726, 174.95424023215864], 'linear': [186.91075006684227, 204.54883345327366, 102.22373414548458, 153.1831503510387], 'gboost': [197.68845098928438, 300.13386592362116, 200.07112864509745], 'lasso': [204.33958899018347, 248.71431006040703, 127.36766089427768], 'elastic': [200.5773760754689, 215.58669117955304, 143.0849927123351], 'ridge': [187.14313333525595, 204.5544289216952, 102.22809434741627]})\n",
      "Mean squared error: 168.13\n",
      "Coefficient of determination: 0.34\n"
     ]
    },
    {
     "data": {
      "image/png": "[encoded data removed]",
      "text/plain": [
       "<Figure size 360x360 with 1 Axes>"
      ]
     },
     "metadata": {},
     "output_type": "display_data"
    },
    {
     "name": "stdout",
     "output_type": "stream",
     "text": [
      "168.13190028406174\n",
      "0.3433886577987122\n",
      "defaultdict(<class 'list'>, {'extratrees': [181.57926666666668, 147.20063809523808, 126.96831000000002, 139.288685], 'rf': [213.82110476190476, 179.03508095238095, 138.25755999999998, 141.83390000000003], 'adaboost': [273.61457507038944, 176.63408622874763, 97.48332095430726, 174.95424023215864], 'linear': [186.91075006684227, 204.54883345327366, 102.22373414548458, 153.1831503510387], 'gboost': [197.68845098928438, 300.13386592362116, 200.07112864509745, 168.13190028406174], 'lasso': [204.33958899018347, 248.71431006040703, 127.36766089427768], 'elastic': [200.5773760754689, 215.58669117955304, 143.0849927123351], 'ridge': [187.14313333525595, 204.5544289216952, 102.22809434741627]})\n",
      "Mean squared error: 165.14\n",
      "Coefficient of determination: 0.36\n"
     ]
    },
    {
     "data": {
      "image/png": "[encoded data removed]",
      "text/plain": [
       "<Figure size 360x360 with 1 Axes>"
      ]
     },
     "metadata": {},
     "output_type": "display_data"
    },
    {
     "name": "stdout",
     "output_type": "stream",
     "text": [
      "165.13627302717276\n",
      "0.35508758483491076\n",
      "defaultdict(<class 'list'>, {'extratrees': [181.57926666666668, 147.20063809523808, 126.96831000000002, 139.288685], 'rf': [213.82110476190476, 179.03508095238095, 138.25755999999998, 141.83390000000003], 'adaboost': [273.61457507038944, 176.63408622874763, 97.48332095430726, 174.95424023215864], 'linear': [186.91075006684227, 204.54883345327366, 102.22373414548458, 153.1831503510387], 'gboost': [197.68845098928438, 300.13386592362116, 200.07112864509745, 168.13190028406174], 'lasso': [204.33958899018347, 248.71431006040703, 127.36766089427768, 165.13627302717276], 'elastic': [200.5773760754689, 215.58669117955304, 143.0849927123351], 'ridge': [187.14313333525595, 204.5544289216952, 102.22809434741627]})\n",
      "Mean squared error: 186.81\n",
      "Coefficient of determination: 0.27\n"
     ]
    },
    {
     "data": {
      "image/png": "[encoded data removed]",
      "text/plain": [
       "<Figure size 360x360 with 1 Axes>"
      ]
     },
     "metadata": {},
     "output_type": "display_data"
    },
    {
     "name": "stdout",
     "output_type": "stream",
     "text": [
      "186.80654135537353\n",
      "0.27045793425223175\n",
      "defaultdict(<class 'list'>, {'extratrees': [181.57926666666668, 147.20063809523808, 126.96831000000002, 139.288685], 'rf': [213.82110476190476, 179.03508095238095, 138.25755999999998, 141.83390000000003], 'adaboost': [273.61457507038944, 176.63408622874763, 97.48332095430726, 174.95424023215864], 'linear': [186.91075006684227, 204.54883345327366, 102.22373414548458, 153.1831503510387], 'gboost': [197.68845098928438, 300.13386592362116, 200.07112864509745, 168.13190028406174], 'lasso': [204.33958899018347, 248.71431006040703, 127.36766089427768, 165.13627302717276], 'elastic': [200.5773760754689, 215.58669117955304, 143.0849927123351, 186.80654135537353], 'ridge': [187.14313333525595, 204.5544289216952, 102.22809434741627]})\n",
      "Mean squared error: 153.16\n",
      "Coefficient of determination: 0.40\n"
     ]
    },
    {
     "data": {
      "image/png": "[encoded data removed]",
      "text/plain": [
       "<Figure size 360x360 with 1 Axes>"
      ]
     },
     "metadata": {},
     "output_type": "display_data"
    },
    {
     "name": "stdout",
     "output_type": "stream",
     "text": [
      "153.1646320851208\n",
      "0.4018408494684027\n",
      "defaultdict(<class 'list'>, {'extratrees': [181.57926666666668, 147.20063809523808, 126.96831000000002, 139.288685], 'rf': [213.82110476190476, 179.03508095238095, 138.25755999999998, 141.83390000000003], 'adaboost': [273.61457507038944, 176.63408622874763, 97.48332095430726, 174.95424023215864], 'linear': [186.91075006684227, 204.54883345327366, 102.22373414548458, 153.1831503510387], 'gboost': [197.68845098928438, 300.13386592362116, 200.07112864509745, 168.13190028406174], 'lasso': [204.33958899018347, 248.71431006040703, 127.36766089427768, 165.13627302717276], 'elastic': [200.5773760754689, 215.58669117955304, 143.0849927123351, 186.80654135537353], 'ridge': [187.14313333525595, 204.5544289216952, 102.22809434741627, 153.1646320851208]})\n",
      "fold=4\n",
      "TRAIN: [  0   1   2   3   6   7   9  10  11  12  13  15  16  17  19  20  21  22\n",
      "  23  24  25  26  28  30  31  32  33  35  36  37  38  42  43  46  47  48\n",
      "  49  50  51  52  53  54  55  56  57  58  59  60  61  62  63  65  66  67\n",
      "  68  69  70  71  72  73  74  75  76  77  78  79  80  81  82  83  85  86\n",
      "  87  90  91  92  94  96  98  99 100 101] TEST: [ 4  5  8 14 18 27 29 34 39 40 41 44 45 64 84 88 89 93 95 97]\n",
      "Mean squared error: 125.75\n",
      "Coefficient of determination: 0.46\n"
     ]
    },
    {
     "data": {
      "image/png": "[encoded data removed]",
      "text/plain": [
       "<Figure size 360x360 with 1 Axes>"
      ]
     },
     "metadata": {},
     "output_type": "display_data"
    },
    {
     "name": "stdout",
     "output_type": "stream",
     "text": [
      "125.74522999999999\n",
      "0.4599964356265568\n",
      "defaultdict(<class 'list'>, {'extratrees': [181.57926666666668, 147.20063809523808, 126.96831000000002, 139.288685, 125.74522999999999], 'rf': [213.82110476190476, 179.03508095238095, 138.25755999999998, 141.83390000000003], 'adaboost': [273.61457507038944, 176.63408622874763, 97.48332095430726, 174.95424023215864], 'linear': [186.91075006684227, 204.54883345327366, 102.22373414548458, 153.1831503510387], 'gboost': [197.68845098928438, 300.13386592362116, 200.07112864509745, 168.13190028406174], 'lasso': [204.33958899018347, 248.71431006040703, 127.36766089427768, 165.13627302717276], 'elastic': [200.5773760754689, 215.58669117955304, 143.0849927123351, 186.80654135537353], 'ridge': [187.14313333525595, 204.5544289216952, 102.22809434741627, 153.1646320851208]})\n",
      "Mean squared error: 144.33\n",
      "Coefficient of determination: 0.38\n"
     ]
    },
    {
     "data": {
      "image/png": "[encoded data removed]",
      "text/plain": [
       "<Figure size 360x360 with 1 Axes>"
      ]
     },
     "metadata": {},
     "output_type": "display_data"
    },
    {
     "name": "stdout",
     "output_type": "stream",
     "text": [
      "144.33331500000003\n",
      "0.3801712831744395\n",
      "defaultdict(<class 'list'>, {'extratrees': [181.57926666666668, 147.20063809523808, 126.96831000000002, 139.288685, 125.74522999999999], 'rf': [213.82110476190476, 179.03508095238095, 138.25755999999998, 141.83390000000003, 144.33331500000003], 'adaboost': [273.61457507038944, 176.63408622874763, 97.48332095430726, 174.95424023215864], 'linear': [186.91075006684227, 204.54883345327366, 102.22373414548458, 153.1831503510387], 'gboost': [197.68845098928438, 300.13386592362116, 200.07112864509745, 168.13190028406174], 'lasso': [204.33958899018347, 248.71431006040703, 127.36766089427768, 165.13627302717276], 'elastic': [200.5773760754689, 215.58669117955304, 143.0849927123351, 186.80654135537353], 'ridge': [187.14313333525595, 204.5544289216952, 102.22809434741627, 153.1646320851208]})\n",
      "Mean squared error: 162.78\n",
      "Coefficient of determination: 0.30\n"
     ]
    },
    {
     "data": {
      "image/png": "[encoded data removed]",
      "text/plain": [
       "<Figure size 360x360 with 1 Axes>"
      ]
     },
     "metadata": {},
     "output_type": "display_data"
    },
    {
     "name": "stdout",
     "output_type": "stream",
     "text": [
      "162.7792204098408\n",
      "0.30095671042754957\n",
      "defaultdict(<class 'list'>, {'extratrees': [181.57926666666668, 147.20063809523808, 126.96831000000002, 139.288685, 125.74522999999999], 'rf': [213.82110476190476, 179.03508095238095, 138.25755999999998, 141.83390000000003, 144.33331500000003], 'adaboost': [273.61457507038944, 176.63408622874763, 97.48332095430726, 174.95424023215864, 162.7792204098408], 'linear': [186.91075006684227, 204.54883345327366, 102.22373414548458, 153.1831503510387], 'gboost': [197.68845098928438, 300.13386592362116, 200.07112864509745, 168.13190028406174], 'lasso': [204.33958899018347, 248.71431006040703, 127.36766089427768, 165.13627302717276], 'elastic': [200.5773760754689, 215.58669117955304, 143.0849927123351, 186.80654135537353], 'ridge': [187.14313333525595, 204.5544289216952, 102.22809434741627, 153.1646320851208]})\n",
      "Mean squared error: 177.19\n",
      "Coefficient of determination: 0.24\n"
     ]
    },
    {
     "data": {
      "image/png": "[encoded data removed]",
      "text/plain": [
       "<Figure size 360x360 with 1 Axes>"
      ]
     },
     "metadata": {},
     "output_type": "display_data"
    },
    {
     "name": "stdout",
     "output_type": "stream",
     "text": [
      "177.19423527363867\n",
      "0.23905249818071506\n",
      "defaultdict(<class 'list'>, {'extratrees': [181.57926666666668, 147.20063809523808, 126.96831000000002, 139.288685, 125.74522999999999], 'rf': [213.82110476190476, 179.03508095238095, 138.25755999999998, 141.83390000000003, 144.33331500000003], 'adaboost': [273.61457507038944, 176.63408622874763, 97.48332095430726, 174.95424023215864, 162.7792204098408], 'linear': [186.91075006684227, 204.54883345327366, 102.22373414548458, 153.1831503510387, 177.19423527363867], 'gboost': [197.68845098928438, 300.13386592362116, 200.07112864509745, 168.13190028406174], 'lasso': [204.33958899018347, 248.71431006040703, 127.36766089427768, 165.13627302717276], 'elastic': [200.5773760754689, 215.58669117955304, 143.0849927123351, 186.80654135537353], 'ridge': [187.14313333525595, 204.5544289216952, 102.22809434741627, 153.1646320851208]})\n",
      "Mean squared error: 168.83\n",
      "Coefficient of determination: 0.27\n"
     ]
    },
    {
     "data": {
      "image/png": "[encoded data removed]",
      "text/plain": [
       "<Figure size 360x360 with 1 Axes>"
      ]
     },
     "metadata": {},
     "output_type": "display_data"
    },
    {
     "name": "stdout",
     "output_type": "stream",
     "text": [
      "168.82818137997396\n",
      "0.274979896160895\n",
      "defaultdict(<class 'list'>, {'extratrees': [181.57926666666668, 147.20063809523808, 126.96831000000002, 139.288685, 125.74522999999999], 'rf': [213.82110476190476, 179.03508095238095, 138.25755999999998, 141.83390000000003, 144.33331500000003], 'adaboost': [273.61457507038944, 176.63408622874763, 97.48332095430726, 174.95424023215864, 162.7792204098408], 'linear': [186.91075006684227, 204.54883345327366, 102.22373414548458, 153.1831503510387, 177.19423527363867], 'gboost': [197.68845098928438, 300.13386592362116, 200.07112864509745, 168.13190028406174, 168.82818137997396], 'lasso': [204.33958899018347, 248.71431006040703, 127.36766089427768, 165.13627302717276], 'elastic': [200.5773760754689, 215.58669117955304, 143.0849927123351, 186.80654135537353], 'ridge': [187.14313333525595, 204.5544289216952, 102.22809434741627, 153.1646320851208]})\n",
      "Mean squared error: 222.77\n",
      "Coefficient of determination: 0.04\n"
     ]
    },
    {
     "data": {
      "image/png": "[encoded data removed]",
      "text/plain": [
       "<Figure size 360x360 with 1 Axes>"
      ]
     },
     "metadata": {},
     "output_type": "display_data"
    },
    {
     "name": "stdout",
     "output_type": "stream",
     "text": [
      "222.7670534323248\n",
      "0.04334341049418189\n",
      "defaultdict(<class 'list'>, {'extratrees': [181.57926666666668, 147.20063809523808, 126.96831000000002, 139.288685, 125.74522999999999], 'rf': [213.82110476190476, 179.03508095238095, 138.25755999999998, 141.83390000000003, 144.33331500000003], 'adaboost': [273.61457507038944, 176.63408622874763, 97.48332095430726, 174.95424023215864, 162.7792204098408], 'linear': [186.91075006684227, 204.54883345327366, 102.22373414548458, 153.1831503510387, 177.19423527363867], 'gboost': [197.68845098928438, 300.13386592362116, 200.07112864509745, 168.13190028406174, 168.82818137997396], 'lasso': [204.33958899018347, 248.71431006040703, 127.36766089427768, 165.13627302717276, 222.7670534323248], 'elastic': [200.5773760754689, 215.58669117955304, 143.0849927123351, 186.80654135537353], 'ridge': [187.14313333525595, 204.5544289216952, 102.22809434741627, 153.1646320851208]})\n",
      "Mean squared error: 245.52\n",
      "Coefficient of determination: -0.05\n"
     ]
    },
    {
     "data": {
      "image/png": "[encoded data removed]",
      "text/plain": [
       "<Figure size 360x360 with 1 Axes>"
      ]
     },
     "metadata": {},
     "output_type": "display_data"
    },
    {
     "name": "stdout",
     "output_type": "stream",
     "text": [
      "245.51916763747067\n",
      "-0.05436385655531506\n",
      "defaultdict(<class 'list'>, {'extratrees': [181.57926666666668, 147.20063809523808, 126.96831000000002, 139.288685, 125.74522999999999], 'rf': [213.82110476190476, 179.03508095238095, 138.25755999999998, 141.83390000000003, 144.33331500000003], 'adaboost': [273.61457507038944, 176.63408622874763, 97.48332095430726, 174.95424023215864, 162.7792204098408], 'linear': [186.91075006684227, 204.54883345327366, 102.22373414548458, 153.1831503510387, 177.19423527363867], 'gboost': [197.68845098928438, 300.13386592362116, 200.07112864509745, 168.13190028406174, 168.82818137997396], 'lasso': [204.33958899018347, 248.71431006040703, 127.36766089427768, 165.13627302717276, 222.7670534323248], 'elastic': [200.5773760754689, 215.58669117955304, 143.0849927123351, 186.80654135537353, 245.51916763747067], 'ridge': [187.14313333525595, 204.5544289216952, 102.22809434741627, 153.1646320851208]})\n",
      "Mean squared error: 177.34\n",
      "Coefficient of determination: 0.24\n"
     ]
    },
    {
     "data": {
      "image/png": "[encoded data removed]",
      "text/plain": [
       "<Figure size 360x360 with 1 Axes>"
      ]
     },
     "metadata": {},
     "output_type": "display_data"
    },
    {
     "name": "stdout",
     "output_type": "stream",
     "text": [
      "177.3424669349747\n",
      "0.2384159283046693\n",
      "defaultdict(<class 'list'>, {'extratrees': [181.57926666666668, 147.20063809523808, 126.96831000000002, 139.288685, 125.74522999999999], 'rf': [213.82110476190476, 179.03508095238095, 138.25755999999998, 141.83390000000003, 144.33331500000003], 'adaboost': [273.61457507038944, 176.63408622874763, 97.48332095430726, 174.95424023215864, 162.7792204098408], 'linear': [186.91075006684227, 204.54883345327366, 102.22373414548458, 153.1831503510387, 177.19423527363867], 'gboost': [197.68845098928438, 300.13386592362116, 200.07112864509745, 168.13190028406174, 168.82818137997396], 'lasso': [204.33958899018347, 248.71431006040703, 127.36766089427768, 165.13627302717276, 222.7670534323248], 'elastic': [200.5773760754689, 215.58669117955304, 143.0849927123351, 186.80654135537353, 245.51916763747067], 'ridge': [187.14313333525595, 204.5544289216952, 102.22809434741627, 153.1646320851208, 177.3424669349747]})\n"
     ]
    }
   ],
   "source": [
    "fold=0\n",
    "mse = defaultdict(list)\n",
    "r2 = defaultdict(list)\n",
    "\n",
    "kf = KFold(n_splits=5, shuffle=True, random_state=22)\n",
    "for train_index, test_index in kf.split(xa):\n",
    "    print('fold='+str(fold))\n",
    "    print(\"TRAIN:\", train_index, \"TEST:\", test_index)\n",
    "    X_train, X_test = xa[train_index], xa[test_index]\n",
    "    y_train, y_test = ya[train_index], ya[test_index]\n",
    "    for key in model_dict.keys():\n",
    "        tmp_mse, tmp_r2 = model_eval(model_dict[key], key, X_train, X_test, y_train, y_test)\n",
    "        print(tmp_mse)\n",
    "        print(tmp_r2)\n",
    "        mse[key].append(tmp_mse)\n",
    "        r2[key].append(tmp_r2)\n",
    "        print(mse)\n",
    "    fold+=1"
   ]
  },
  {
   "cell_type": "code",
   "execution_count": 136,
   "metadata": {},
   "outputs": [
    {
     "data": {
      "text/plain": [
       "[181.57926666666668,\n",
       " 147.20063809523808,\n",
       " 126.96831000000002,\n",
       " 139.288685,\n",
       " 125.74522999999999]"
      ]
     },
     "execution_count": 136,
     "metadata": {},
     "output_type": "execute_result"
    }
   ],
   "source": [
    "mse['extratrees']"
   ]
  },
  {
   "cell_type": "code",
   "execution_count": 160,
   "metadata": {},
   "outputs": [
    {
     "name": "stdout",
     "output_type": "stream",
     "text": [
      "extratrees\n",
      "MSE= 144.15642595238097+/-20.33634481939401\n",
      "Rsq= 0.4602244343474151+/-0.0644549030092863\n",
      "rf\n",
      "MSE= 163.45619214285716+/-29.14620115646878\n",
      "Rsq= 0.3884234315557842+/-0.09427208882796283\n",
      "adaboost\n",
      "MSE= 177.09308857908877+/-56.327230773645255\n",
      "Rsq= 0.33436540492366484+/-0.19968270902001556\n",
      "linear\n",
      "MSE= 164.81214065805557+/-35.42093054824064\n",
      "Rsq= 0.3760907837125139+/-0.15007076454870877\n",
      "gboost\n",
      "MSE= 206.97070544440777+/-48.53131732509255\n",
      "Rsq= 0.2266119693234055+/-0.16788327082401505\n",
      "lasso\n",
      "MSE= 193.6649772808732+/-42.89645285428794\n",
      "Rsq= 0.2656031794728574+/-0.1898046965955696\n",
      "elastic\n",
      "MSE= 198.31495379204023+/-33.8066899575071\n",
      "Rsq= 0.24544678473919412+/-0.18157725202546382\n",
      "ridge\n",
      "MSE= 164.8865511248926+/-35.461335031175615\n",
      "Rsq= 0.37580753764794556+/-0.15022364985088596\n"
     ]
    }
   ],
   "source": [
    "mse_means = []\n",
    "r2_means = []\n",
    "for key in mse.keys():\n",
    "    print(key)\n",
    "    print('MSE= '+ str(np.mean(mse[key])) +'+/-' + str(np.std(mse[key])))\n",
    "    mse_means.append(np.mean(mse[key]))\n",
    "    print('Rsq= '+ str(np.mean(r2[key])) +'+/-' + str(np.std(r2[key])) )\n",
    "    r2_means.append(np.mean(r2[key]))"
   ]
  },
  {
   "cell_type": "code",
   "execution_count": 149,
   "metadata": {},
   "outputs": [
    {
     "data": {
      "text/plain": [
       "array(dict_values([[181.57926666666668, 147.20063809523808, 126.96831000000002, 139.288685, 125.74522999999999], [213.82110476190476, 179.03508095238095, 138.25755999999998, 141.83390000000003, 144.33331500000003], [273.61457507038944, 176.63408622874763, 97.48332095430726, 174.95424023215864, 162.7792204098408], [186.91075006684227, 204.54883345327366, 102.22373414548458, 153.1831503510387, 177.19423527363867], [197.68845098928438, 300.13386592362116, 200.07112864509745, 168.13190028406174, 168.82818137997396], [204.33958899018347, 248.71431006040703, 127.36766089427768, 165.13627302717276, 222.7670534323248], [200.5773760754689, 215.58669117955304, 143.0849927123351, 186.80654135537353, 245.51916763747067], [187.14313333525595, 204.5544289216952, 102.22809434741627, 153.1646320851208, 177.3424669349747]]),\n",
       "      dtype=object)"
      ]
     },
     "execution_count": 149,
     "metadata": {},
     "output_type": "execute_result"
    }
   ],
   "source": [
    "np.array(mse.values())"
   ]
  },
  {
   "cell_type": "code",
   "execution_count": 161,
   "metadata": {},
   "outputs": [],
   "source": [
    "### get numpy array from values\n",
    "#y = np.zeros(len(mse))\n",
    "mse_arr = np.zeros((len(mse), 5))\n",
    "i = 0\n",
    "for key, values in mse.items():\n",
    "    #y[i] = key\n",
    "    mse_arr[i, :] = values\n",
    "    i += 1\n",
    "    \n",
    "r2_arr = np.zeros((len(r2), 5))\n",
    "i = 0\n",
    "for key, values in r2.items():\n",
    "    #y[i] = key\n",
    "    r2_arr[i, :] = values\n",
    "    i += 1"
   ]
  },
  {
   "cell_type": "code",
   "execution_count": 164,
   "metadata": {},
   "outputs": [
    {
     "data": {
      "text/plain": [
       "array([[181.57926667, 147.2006381 , 126.96831   , 139.288685  ,\n",
       "        125.74523   ],\n",
       "       [213.82110476, 179.03508095, 138.25756   , 141.8339    ,\n",
       "        144.333315  ],\n",
       "       [273.61457507, 176.63408623,  97.48332095, 174.95424023,\n",
       "        162.77922041],\n",
       "       [186.91075007, 204.54883345, 102.22373415, 153.18315035,\n",
       "        177.19423527],\n",
       "       [197.68845099, 300.13386592, 200.07112865, 168.13190028,\n",
       "        168.82818138],\n",
       "       [204.33958899, 248.71431006, 127.36766089, 165.13627303,\n",
       "        222.76705343],\n",
       "       [200.57737608, 215.58669118, 143.08499271, 186.80654136,\n",
       "        245.51916764],\n",
       "       [187.14313334, 204.55442892, 102.22809435, 153.16463209,\n",
       "        177.34246693]])"
      ]
     },
     "execution_count": 164,
     "metadata": {},
     "output_type": "execute_result"
    }
   ],
   "source": [
    "mse_arr"
   ]
  },
  {
   "cell_type": "code",
   "execution_count": 180,
   "metadata": {},
   "outputs": [],
   "source": [
    "mse_hm = np.c_[mse_arr, mse_means]\n",
    "r2_hm = np.c_[r2_arr, r2_means]"
   ]
  },
  {
   "cell_type": "code",
   "execution_count": 154,
   "metadata": {},
   "outputs": [],
   "source": [
    "import seaborn as sns"
   ]
  },
  {
   "cell_type": "code",
   "execution_count": 191,
   "metadata": {},
   "outputs": [
    {
     "data": {
      "image/png": "[encoded data removed]",
      "text/plain": [
       "<Figure size 504x504 with 2 Axes>"
      ]
     },
     "metadata": {
      "needs_background": "light"
     },
     "output_type": "display_data"
    }
   ],
   "source": [
    "plt.rcParams['figure.figsize'] = 7,7\n",
    "sns.heatmap(mse_hm, cmap='viridis',\n",
    "            yticklabels=mse.keys(), \n",
    "            xticklabels=['fold 1','fold 2', 'fold 3' , 'fold 4', 'fold 5', 'average'])\n",
    "plt.savefig('MSE_hm.svg')"
   ]
  },
  {
   "cell_type": "code",
   "execution_count": 258,
   "metadata": {},
   "outputs": [
    {
     "data": {
      "image/png": "[encoded data removed]",
      "text/plain": [
       "<Figure size 504x504 with 2 Axes>"
      ]
     },
     "metadata": {
      "needs_background": "light"
     },
     "output_type": "display_data"
    }
   ],
   "source": [
    "plt.rcParams['figure.figsize'] = 7,7\n",
    "sns.heatmap(r2_hm, cmap='viridis',\n",
    "            yticklabels=mse.keys(), annot=True,\n",
    "            xticklabels=['fold 1','fold 2', 'fold 3' , 'fold 4', 'fold 5', 'average'])\n",
    "plt.title('Regression R squared values')\n",
    "plt.savefig('r2heatmap.png')"
   ]
  },
  {
   "cell_type": "code",
   "execution_count": 158,
   "metadata": {},
   "outputs": [
    {
     "data": {
      "text/plain": [
       "<matplotlib.axes._subplots.AxesSubplot at 0x12c1df80730>"
      ]
     },
     "execution_count": 158,
     "metadata": {},
     "output_type": "execute_result"
    },
    {
     "data": {
      "image/png": "[encoded data removed]",
      "text/plain": [
       "<Figure size 360x360 with 2 Axes>"
      ]
     },
     "metadata": {
      "needs_background": "light"
     },
     "output_type": "display_data"
    }
   ],
   "source": [
    "sns.heatmap(r2_arr)"
   ]
  },
  {
   "cell_type": "code",
   "execution_count": null,
   "metadata": {},
   "outputs": [],
   "source": []
  },
  {
   "cell_type": "code",
   "execution_count": 140,
   "metadata": {},
   "outputs": [
    {
     "data": {
      "text/plain": [
       "array([181.57926667, 147.2006381 , 126.96831   , 139.288685  ,\n",
       "       125.74523   ])"
      ]
     },
     "execution_count": 140,
     "metadata": {},
     "output_type": "execute_result"
    }
   ],
   "source": [
    "np.array(mse['extratrees'],\n",
    "        mse[''])"
   ]
  },
  {
   "cell_type": "code",
   "execution_count": null,
   "metadata": {},
   "outputs": [],
   "source": []
  },
  {
   "cell_type": "code",
   "execution_count": 57,
   "metadata": {},
   "outputs": [],
   "source": [
    "from sklearn import tree\n",
    "import matplotlib\n",
    "import numpy as np\n",
    "import matplotlib.pyplot as plt\n",
    "from sklearn import svm\n",
    "from sklearn.preprocessing import StandardScaler\n",
    "import statsmodels.formula.api as smf\n",
    "import statsmodels.api as sm\n",
    "from mpl_toolkits.mplot3d import Axes3D\n",
    "import seaborn as sns\n",
    "from sklearn import neighbors\n",
    "from sklearn import linear_model"
   ]
  },
  {
   "cell_type": "markdown",
   "metadata": {},
   "source": [
    "# Train with onlylipid data"
   ]
  },
  {
   "cell_type": "code",
   "execution_count": null,
   "metadata": {},
   "outputs": [],
   "source": []
  },
  {
   "cell_type": "code",
   "execution_count": 243,
   "metadata": {},
   "outputs": [],
   "source": [
    "# lipidomics data\n",
    "dfl = df_dict['lipidomics']\n",
    "dfl_covid = dfl[dfl['COVID']==1]\n",
    "X = dfl_covid[dfl.columns[[is_int(x) for x in dfl.columns]]]\n",
    "y = dfl_covid['Hospital_free_days_45']\n",
    "X_train, X_valid, y_train, y_valid = train_test_split(X, y, test_size = 0.2, random_state = 22)"
   ]
  },
  {
   "cell_type": "code",
   "execution_count": 244,
   "metadata": {},
   "outputs": [
    {
     "name": "stdout",
     "output_type": "stream",
     "text": [
      "R^2 Training Score: 0.92 \n",
      "OOB Score: 0.43 \n",
      "R^2 Validation Score: 0.31\n"
     ]
    }
   ],
   "source": [
    "\n",
    "et = ExtraTreesRegressor(n_estimators = 2000,\n",
    "                           max_depth=6,\n",
    "                           n_jobs = -1,\n",
    "                           random_state = 42)\n",
    "et.fit(X_train, y_train)\n",
    "\n",
    "print('R^2 Training Score: {:.2f} \\nOOB Score: {:.2f} \\nR^2 Validation Score: {:.2f}'.format(rf.score(X_train, y_train), \n",
    "                                                                                             rf.oob_score_,\n",
    "                                                                                             rf.score(X_valid, y_valid)))"
   ]
  },
  {
   "cell_type": "code",
   "execution_count": 245,
   "metadata": {},
   "outputs": [
    {
     "data": {
      "text/plain": [
       "(0, 45)"
      ]
     },
     "execution_count": 245,
     "metadata": {},
     "output_type": "execute_result"
    },
    {
     "data": {
      "image/png": "[encoded data removed]",
      "text/plain": [
       "<Figure size 504x504 with 1 Axes>"
      ]
     },
     "metadata": {
      "needs_background": "light"
     },
     "output_type": "display_data"
    }
   ],
   "source": [
    "plt.scatter(y_valid, rf.predict(X_valid))\n",
    "plt.xlabel(\"true\")\n",
    "plt.ylabel(\"predicted\")\n",
    "plt.xlim(0,45)\n",
    "plt.ylim(0,45)"
   ]
  },
  {
   "cell_type": "code",
   "execution_count": 246,
   "metadata": {},
   "outputs": [
    {
     "data": {
      "text/plain": [
       "(0, 45)"
      ]
     },
     "execution_count": 246,
     "metadata": {},
     "output_type": "execute_result"
    },
    {
     "data": {
      "image/png": "[encoded data removed]",
      "text/plain": [
       "<Figure size 504x504 with 1 Axes>"
      ]
     },
     "metadata": {
      "needs_background": "light"
     },
     "output_type": "display_data"
    }
   ],
   "source": [
    "plt.scatter(y_train, et.predict(X_train))\n",
    "plt.xlabel(\"true\")\n",
    "plt.ylabel(\"predicted\")\n",
    "plt.xlim(0,45)\n",
    "plt.ylim(0,45)"
   ]
  },
  {
   "cell_type": "code",
   "execution_count": 247,
   "metadata": {},
   "outputs": [
    {
     "name": "stdout",
     "output_type": "stream",
     "text": [
      "{'n_estimators': [200, 650, 1100, 1550, 2000], 'max_features': ['auto', 'sqrt', 'log2'], 'max_depth': [5, 31, 57, 83, 110, None], 'min_samples_split': [2, 5, 10], 'min_samples_leaf': [1, 2, 4], 'bootstrap': [True, False]}\n"
     ]
    }
   ],
   "source": [
    "from sklearn.model_selection import RandomizedSearchCV\n",
    "# Number of trees in random forest\n",
    "n_estimators = [int(x) for x in np.linspace(start = 200, stop = 2000, num = 5)]\n",
    "# Number of features to consider at every split\n",
    "max_features = ['auto', 'sqrt', 'log2']\n",
    "# Maximum number of levels in tree\n",
    "max_depth = [int(x) for x in np.linspace(5, 110, num = 5)]\n",
    "max_depth.append(None)\n",
    "# Minimum number of samples required to split a node\n",
    "min_samples_split = [2, 5, 10]\n",
    "# Minimum number of samples required at each leaf node\n",
    "min_samples_leaf = [1, 2, 4]\n",
    "# Method of selecting samples for training each tree\n",
    "bootstrap = [True, False]\n",
    "# Create the random grid\n",
    "random_grid = {'n_estimators': n_estimators,\n",
    "               'max_features': max_features,\n",
    "               'max_depth': max_depth,\n",
    "               'min_samples_split': min_samples_split,\n",
    "               'min_samples_leaf': min_samples_leaf,\n",
    "               'bootstrap': bootstrap}\n",
    "print(random_grid)"
   ]
  },
  {
   "cell_type": "code",
   "execution_count": 248,
   "metadata": {},
   "outputs": [
    {
     "data": {
      "text/plain": [
       "(array([  0,   7,   8,   9,  14,  21,  26,  27,  30,  31,  35,  42,  43,\n",
       "         46,  47,  48,  49,  51,  53,  60,  74,  78,  79,  81,  90,  91,\n",
       "         95,  97, 100, 101], dtype=int64),)"
      ]
     },
     "execution_count": 248,
     "metadata": {},
     "output_type": "execute_result"
    }
   ],
   "source": [
    "np.where(y==0)"
   ]
  },
  {
   "cell_type": "code",
   "execution_count": 249,
   "metadata": {},
   "outputs": [
    {
     "name": "stdout",
     "output_type": "stream",
     "text": [
      "Fitting 4 folds for each of 100 candidates, totalling 400 fits\n"
     ]
    },
    {
     "name": "stderr",
     "output_type": "stream",
     "text": [
      "[Parallel(n_jobs=-1)]: Using backend LokyBackend with 8 concurrent workers.\n",
      "[Parallel(n_jobs=-1)]: Done  25 tasks      | elapsed:   24.3s\n",
      "[Parallel(n_jobs=-1)]: Done 146 tasks      | elapsed:  4.2min\n",
      "[Parallel(n_jobs=-1)]: Done 349 tasks      | elapsed:  9.9min\n",
      "[Parallel(n_jobs=-1)]: Done 400 out of 400 | elapsed: 11.0min finished\n"
     ]
    },
    {
     "data": {
      "text/plain": [
       "RandomizedSearchCV(cv=4, error_score=nan,\n",
       "                   estimator=ExtraTreesRegressor(bootstrap=False, ccp_alpha=0.0,\n",
       "                                                 criterion='mse',\n",
       "                                                 max_depth=None,\n",
       "                                                 max_features='auto',\n",
       "                                                 max_leaf_nodes=None,\n",
       "                                                 max_samples=None,\n",
       "                                                 min_impurity_decrease=0.0,\n",
       "                                                 min_impurity_split=None,\n",
       "                                                 min_samples_leaf=1,\n",
       "                                                 min_samples_split=2,\n",
       "                                                 min_weight_fraction_leaf=0.0,\n",
       "                                                 n_estimators=100, n_jobs=None,\n",
       "                                                 oob_score=False...\n",
       "                   iid='deprecated', n_iter=100, n_jobs=-1,\n",
       "                   param_distributions={'bootstrap': [True, False],\n",
       "                                        'max_depth': [5, 31, 57, 83, 110, None],\n",
       "                                        'max_features': ['auto', 'sqrt',\n",
       "                                                         'log2'],\n",
       "                                        'min_samples_leaf': [1, 2, 4],\n",
       "                                        'min_samples_split': [2, 5, 10],\n",
       "                                        'n_estimators': [200, 650, 1100, 1550,\n",
       "                                                         2000]},\n",
       "                   pre_dispatch='2*n_jobs', random_state=42, refit=True,\n",
       "                   return_train_score=False, scoring=None, verbose=2)"
      ]
     },
     "execution_count": 249,
     "metadata": {},
     "output_type": "execute_result"
    }
   ],
   "source": [
    "et = ExtraTreesRegressor()\n",
    "et_randoml = RandomizedSearchCV(estimator = et, param_distributions = random_grid, \n",
    "                               n_iter = 100, cv = 4, verbose=2, random_state=42, n_jobs = -1)\n",
    "# Fit the random search model\n",
    "et_randoml.fit(X_train, y_train)"
   ]
  },
  {
   "cell_type": "code",
   "execution_count": 250,
   "metadata": {},
   "outputs": [
    {
     "data": {
      "text/plain": [
       "{'n_estimators': 200,\n",
       " 'min_samples_split': 2,\n",
       " 'min_samples_leaf': 2,\n",
       " 'max_features': 'auto',\n",
       " 'max_depth': 110,\n",
       " 'bootstrap': False}"
      ]
     },
     "execution_count": 250,
     "metadata": {},
     "output_type": "execute_result"
    }
   ],
   "source": [
    "et_randoml.best_params_"
   ]
  },
  {
   "cell_type": "code",
   "execution_count": 251,
   "metadata": {},
   "outputs": [
    {
     "name": "stdout",
     "output_type": "stream",
     "text": [
      "Model Performance\n",
      "Average Error: 11.5248 days.\n",
      "r2: 0.3842\n",
      "MSE = 175.28 days.\n"
     ]
    },
    {
     "data": {
      "image/png": "[encoded data removed]",
      "text/plain": [
       "<Figure size 504x504 with 1 Axes>"
      ]
     },
     "metadata": {
      "needs_background": "light"
     },
     "output_type": "display_data"
    }
   ],
   "source": [
    "## evaluate base model\n",
    "base_model = ExtraTreesRegressor(n_estimators = 100, random_state = 42)\n",
    "base_model.fit(X_train, y_train)\n",
    "base_accuracy = evaluate(base_model, X_valid, y_valid)"
   ]
  },
  {
   "cell_type": "code",
   "execution_count": 252,
   "metadata": {},
   "outputs": [
    {
     "name": "stdout",
     "output_type": "stream",
     "text": [
      "Model Performance\n",
      "Average Error: 11.4946 days.\n",
      "r2: 0.3819\n",
      "MSE = 175.92 days.\n"
     ]
    },
    {
     "data": {
      "image/png": "[encoded data removed]",
      "text/plain": [
       "<Figure size 504x504 with 1 Axes>"
      ]
     },
     "metadata": {
      "needs_background": "light"
     },
     "output_type": "display_data"
    }
   ],
   "source": [
    "## best random search model\n",
    "best_random_lip = et_randoml.best_estimator_\n",
    "random_accuracy = evaluate(best_random_lip, X_valid, y_valid)"
   ]
  },
  {
   "cell_type": "code",
   "execution_count": 253,
   "metadata": {},
   "outputs": [
    {
     "name": "stdout",
     "output_type": "stream",
     "text": [
      "Model Performance\n",
      "Average Error: 15.3956 days.\n",
      "r2: -0.0079\n",
      "MSE = 286.88 days.\n"
     ]
    },
    {
     "data": {
      "image/png": "[encoded data removed]",
      "text/plain": [
       "<Figure size 504x504 with 1 Axes>"
      ]
     },
     "metadata": {
      "needs_background": "light"
     },
     "output_type": "display_data"
    }
   ],
   "source": [
    "dummy_model = DummyRegressor()\n",
    "dummy_model.fit(X_train, y_train)\n",
    "dummy_accuracy = evaluate(dummy_model, X_valid, y_valid)"
   ]
  },
  {
   "cell_type": "markdown",
   "metadata": {},
   "source": [
    "# Train proteins only"
   ]
  },
  {
   "cell_type": "code",
   "execution_count": 282,
   "metadata": {},
   "outputs": [],
   "source": [
    "# proteomics data\n",
    "dfp = df_dict['proteomics']\n",
    "dfp_covid = dfp[dfp['COVID']==1]\n",
    "X = dfp_covid[dfp.columns[[is_int(x) for x in dfp.columns]]]\n",
    "y = dfp_covid['Hospital_free_days_45']\n",
    "X_train, X_valid, y_train, y_valid = train_test_split(X, y, test_size = 0.2, random_state = 22)"
   ]
  },
  {
   "cell_type": "code",
   "execution_count": 283,
   "metadata": {},
   "outputs": [
    {
     "name": "stdout",
     "output_type": "stream",
     "text": [
      "Fitting 4 folds for each of 100 candidates, totalling 400 fits\n"
     ]
    },
    {
     "name": "stderr",
     "output_type": "stream",
     "text": [
      "[Parallel(n_jobs=-1)]: Using backend LokyBackend with 8 concurrent workers.\n",
      "[Parallel(n_jobs=-1)]: Done  25 tasks      | elapsed:    9.5s\n",
      "[Parallel(n_jobs=-1)]: Done 146 tasks      | elapsed:  1.1min\n",
      "[Parallel(n_jobs=-1)]: Done 349 tasks      | elapsed:  2.8min\n",
      "[Parallel(n_jobs=-1)]: Done 400 out of 400 | elapsed:  3.2min finished\n"
     ]
    },
    {
     "name": "stdout",
     "output_type": "stream",
     "text": [
      "{'n_estimators': 650, 'min_samples_split': 2, 'min_samples_leaf': 2, 'max_features': 'auto', 'max_depth': 110, 'bootstrap': False}\n"
     ]
    }
   ],
   "source": [
    "et = ExtraTreesRegressor()\n",
    "et_randomp = RandomizedSearchCV(estimator = et, param_distributions = random_grid, \n",
    "                               n_iter = 100, cv = 4, verbose=2, random_state=42, n_jobs = -1)\n",
    "# Fit the random search model\n",
    "et_randomp.fit(X_train, y_train)\n",
    "print(et_randomp.best_params_)"
   ]
  },
  {
   "cell_type": "code",
   "execution_count": 284,
   "metadata": {},
   "outputs": [
    {
     "name": "stdout",
     "output_type": "stream",
     "text": [
      "Model Performance\n",
      "Average Error: 11.7071 days.\n",
      "r2: 0.3026\n",
      "MSE = 198.51 days.\n"
     ]
    },
    {
     "data": {
      "image/png": "[encoded data removed]",
      "text/plain": [
       "<Figure size 360x360 with 1 Axes>"
      ]
     },
     "metadata": {
      "needs_background": "light"
     },
     "output_type": "display_data"
    }
   ],
   "source": [
    "## evaluate base model\n",
    "base_model = ExtraTreesRegressor(n_estimators = 100, random_state = 42)\n",
    "base_model.fit(X_train, y_train)\n",
    "base_accuracy = evaluate(base_model, X_valid, y_valid)"
   ]
  },
  {
   "cell_type": "code",
   "execution_count": 285,
   "metadata": {},
   "outputs": [
    {
     "name": "stdout",
     "output_type": "stream",
     "text": [
      "Model Performance\n",
      "Average Error: 11.7674 days.\n",
      "r2: 0.3172\n",
      "MSE = 194.34 days.\n"
     ]
    },
    {
     "data": {
      "image/png": "[encoded data removed]",
      "text/plain": [
       "<Figure size 360x360 with 1 Axes>"
      ]
     },
     "metadata": {
      "needs_background": "light"
     },
     "output_type": "display_data"
    }
   ],
   "source": [
    "## best random search model\n",
    "best_random_prot = et_randomp.best_estimator_\n",
    "random_accuracy = evaluate(best_random_prot, X_valid, y_valid)"
   ]
  },
  {
   "cell_type": "markdown",
   "metadata": {},
   "source": [
    "# Train metabolites only"
   ]
  },
  {
   "cell_type": "code",
   "execution_count": 239,
   "metadata": {},
   "outputs": [
    {
     "name": "stdout",
     "output_type": "stream",
     "text": [
      "Fitting 4 folds for each of 100 candidates, totalling 400 fits\n"
     ]
    },
    {
     "name": "stderr",
     "output_type": "stream",
     "text": [
      "[Parallel(n_jobs=-1)]: Using backend LokyBackend with 8 concurrent workers.\n",
      "[Parallel(n_jobs=-1)]: Done  25 tasks      | elapsed:    8.6s\n",
      "[Parallel(n_jobs=-1)]: Done 146 tasks      | elapsed:   57.2s\n",
      "[Parallel(n_jobs=-1)]: Done 349 tasks      | elapsed:  2.5min\n",
      "[Parallel(n_jobs=-1)]: Done 400 out of 400 | elapsed:  2.9min finished\n"
     ]
    },
    {
     "name": "stdout",
     "output_type": "stream",
     "text": [
      "{'n_estimators': 1100, 'min_samples_split': 10, 'min_samples_leaf': 1, 'max_features': 'auto', 'max_depth': 83, 'bootstrap': False}\n"
     ]
    }
   ],
   "source": [
    "# proteomics data\n",
    "dfm = df_dict['metabolomics']\n",
    "dfm_covid = dfm[dfm['COVID']==1]\n",
    "X = dfm_covid[dfm.columns[[is_int(x) for x in dfm.columns]]]\n",
    "y = dfm_covid['Hospital_free_days_45']\n",
    "X_train, X_valid, y_train, y_valid = train_test_split(X, y, test_size = 0.2, random_state = 22)\n",
    "et = ExtraTreesRegressor()\n",
    "et_random_m = RandomizedSearchCV(estimator = et, param_distributions = random_grid, \n",
    "                               n_iter = 100, cv = 4, verbose=2, random_state=42, n_jobs = -1)\n",
    "# Fit the random search model\n",
    "et_random_m.fit(X_train, y_train)\n",
    "print(et_random.best_params_)"
   ]
  },
  {
   "cell_type": "code",
   "execution_count": 240,
   "metadata": {},
   "outputs": [
    {
     "name": "stdout",
     "output_type": "stream",
     "text": [
      "Model Performance\n",
      "Average Error: 13.8962 days.\n",
      "r2: 0.0529\n",
      "MSE = 269.58 days.\n"
     ]
    },
    {
     "data": {
      "image/png": "[encoded data removed]",
      "text/plain": [
       "<Figure size 504x504 with 1 Axes>"
      ]
     },
     "metadata": {
      "needs_background": "light"
     },
     "output_type": "display_data"
    }
   ],
   "source": [
    "## evaluate base model\n",
    "base_model = ExtraTreesRegressor(n_estimators = 100, random_state = 42)\n",
    "base_model.fit(X_train, y_train)\n",
    "base_accuracy = evaluate(base_model, X_valid, y_valid)"
   ]
  },
  {
   "cell_type": "code",
   "execution_count": 241,
   "metadata": {},
   "outputs": [
    {
     "name": "stdout",
     "output_type": "stream",
     "text": [
      "Model Performance\n",
      "Average Error: 14.1319 days.\n",
      "r2: 0.0349\n",
      "MSE = 274.68 days.\n"
     ]
    },
    {
     "data": {
      "image/png": "[encoded data removed]",
      "text/plain": [
       "<Figure size 504x504 with 1 Axes>"
      ]
     },
     "metadata": {
      "needs_background": "light"
     },
     "output_type": "display_data"
    }
   ],
   "source": [
    "## best random search model\n",
    "best_random_met = et_random_m.best_estimator_\n",
    "random_accuracy = evaluate(best_random_met, X_valid, y_valid)"
   ]
  },
  {
   "cell_type": "code",
   "execution_count": 242,
   "metadata": {},
   "outputs": [
    {
     "name": "stdout",
     "output_type": "stream",
     "text": [
      "Model Performance\n",
      "Average Error: 15.3956 days.\n",
      "r2: -0.0079\n",
      "MSE = 286.88 days.\n"
     ]
    },
    {
     "data": {
      "image/png": "[encoded data removed]",
      "text/plain": [
       "<Figure size 504x504 with 1 Axes>"
      ]
     },
     "metadata": {
      "needs_background": "light"
     },
     "output_type": "display_data"
    }
   ],
   "source": [
    "dummy_model = DummyRegressor()\n",
    "dummy_model.fit(X_train, y_train)\n",
    "dummy_accuracy = evaluate(dummy_model, X_valid, y_valid)"
   ]
  },
  {
   "cell_type": "markdown",
   "metadata": {},
   "source": [
    "# train all data"
   ]
  },
  {
   "cell_type": "code",
   "execution_count": 254,
   "metadata": {},
   "outputs": [
    {
     "name": "stdout",
     "output_type": "stream",
     "text": [
      "shape X train(81, 4029)\n",
      "shape X valid(21, 4029)\n",
      "Fitting 4 folds for each of 100 candidates, totalling 400 fits\n"
     ]
    },
    {
     "name": "stderr",
     "output_type": "stream",
     "text": [
      "[Parallel(n_jobs=-1)]: Using backend LokyBackend with 8 concurrent workers.\n",
      "[Parallel(n_jobs=-1)]: Done  25 tasks      | elapsed:   26.7s\n",
      "[Parallel(n_jobs=-1)]: Done 146 tasks      | elapsed:  4.7min\n",
      "[Parallel(n_jobs=-1)]: Done 349 tasks      | elapsed: 10.7min\n",
      "[Parallel(n_jobs=-1)]: Done 400 out of 400 | elapsed: 12.2min finished\n"
     ]
    },
    {
     "name": "stdout",
     "output_type": "stream",
     "text": [
      "{'n_estimators': 650, 'min_samples_split': 2, 'min_samples_leaf': 2, 'max_features': 'auto', 'max_depth': 110, 'bootstrap': False}\n"
     ]
    }
   ],
   "source": [
    "# combined \n",
    "dfc = df_dict['combined']\n",
    "dfc_covid = dfc[dfc['COVID']==1]\n",
    "X = dfc_covid[dfc.columns[[is_int(x) for x in dfc.columns]]]\n",
    "y = dfc_covid['Hospital_free_days_45']\n",
    "X_train, X_valid, y_train, y_valid = train_test_split(X, y, test_size = 0.2, random_state = 22)\n",
    "print('shape X train'+str(X_train.shape))\n",
    "print('shape X valid'+str(X_valid.shape))\n",
    "et = ExtraTreesRegressor()\n",
    "et_randomc = RandomizedSearchCV(estimator = et,\n",
    "                               param_distributions = random_grid,\n",
    "                               n_iter = 100, cv = 4, verbose=2,\n",
    "                               random_state=42,\n",
    "                               n_jobs = -1)\n",
    "et_randomc.fit(X_train, y_train)\n",
    "print(et_randomc.best_params_)"
   ]
  },
  {
   "cell_type": "code",
   "execution_count": 255,
   "metadata": {},
   "outputs": [
    {
     "name": "stdout",
     "output_type": "stream",
     "text": [
      "Model Performance\n",
      "Average Error: 10.9357 days.\n",
      "r2: 0.4594\n",
      "MSE = 153.87 days.\n"
     ]
    },
    {
     "data": {
      "image/png": "[encoded data removed]",
      "text/plain": [
       "<Figure size 504x504 with 1 Axes>"
      ]
     },
     "metadata": {
      "needs_background": "light"
     },
     "output_type": "display_data"
    }
   ],
   "source": [
    "## evaluate base model\n",
    "base_model = ExtraTreesRegressor(n_estimators = 100, random_state = 42)\n",
    "base_model.fit(X_train, y_train)\n",
    "base_accuracy = evaluate(base_model, X_valid, y_valid)"
   ]
  },
  {
   "cell_type": "code",
   "execution_count": 259,
   "metadata": {},
   "outputs": [
    {
     "name": "stdout",
     "output_type": "stream",
     "text": [
      "Model Performance\n",
      "Average Error: 11.4213 days.\n",
      "r2: 0.3971\n",
      "MSE = 171.62 days.\n"
     ]
    },
    {
     "data": {
      "image/png": "[encoded data removed]",
      "text/plain": [
       "<Figure size 504x504 with 1 Axes>"
      ]
     },
     "metadata": {
      "needs_background": "light"
     },
     "output_type": "display_data"
    }
   ],
   "source": [
    "## best random search model\n",
    "best_random_c = et_randomc.best_estimator_\n",
    "random_accuracy = evaluate(best_random_c, X_valid, y_valid)"
   ]
  },
  {
   "cell_type": "markdown",
   "metadata": {},
   "source": [
    "# make nice plots of the correlations"
   ]
  },
  {
   "cell_type": "code",
   "execution_count": 273,
   "metadata": {},
   "outputs": [],
   "source": []
  },
  {
   "cell_type": "code",
   "execution_count": 299,
   "metadata": {},
   "outputs": [
    {
     "data": {
      "image/png": "[encoded data removed]",
      "text/plain": [
       "<Figure size 360x360 with 1 Axes>"
      ]
     },
     "metadata": {
      "needs_background": "light"
     },
     "output_type": "display_data"
    },
    {
     "name": "stdout",
     "output_type": "stream",
     "text": [
      "0.3970508821308173\n"
     ]
    }
   ],
   "source": [
    "X = dfc_covid[dfc.columns[[is_int(x) for x in dfc.columns]]]\n",
    "y = dfc_covid['Hospital_free_days_45']\n",
    "X_train, X_valid, y_train, y_valid = train_test_split(X, y, test_size = 0.2, random_state = 22)\n",
    "ypred= best_random_c.predict(X_valid)\n",
    "plt.rcParams['figure.figsize'] =5,5\n",
    "sns.regplot(y_valid, ypred)\n",
    "plt.xlabel('True hospital free days')\n",
    "plt.ylabel('Predicted hospital free days')\n",
    "plt.title('Combined metabolites, lipids, and proteins')\n",
    "plt.show()\n",
    "print(r2_score(y_valid, ypred))"
   ]
  },
  {
   "cell_type": "code",
   "execution_count": 297,
   "metadata": {},
   "outputs": [
    {
     "data": {
      "image/png": "[encoded data removed]",
      "text/plain": [
       "<Figure size 360x360 with 1 Axes>"
      ]
     },
     "metadata": {
      "needs_background": "light"
     },
     "output_type": "display_data"
    },
    {
     "name": "stdout",
     "output_type": "stream",
     "text": [
      "0.3172346830374032\n"
     ]
    }
   ],
   "source": [
    "X = dfp_covid[dfp.columns[[is_int(x) for x in dfp.columns]]]\n",
    "y = dfp_covid['Hospital_free_days_45']\n",
    "X_train, X_valid, y_train, y_valid = train_test_split(X, y, test_size = 0.2, random_state = 22)\n",
    "ypred= best_random_prot.predict(X_valid)\n",
    "plt.rcParams['figure.figsize'] =5,5\n",
    "sns.regplot(y_valid, ypred)\n",
    "plt.xlabel('True hospital free days')\n",
    "plt.ylabel('Predicted hospital free days')\n",
    "plt.title('proteins')\n",
    "plt.show()\n",
    "print(r2_score(y_valid, ypred))"
   ]
  },
  {
   "cell_type": "code",
   "execution_count": 293,
   "metadata": {},
   "outputs": [
    {
     "data": {
      "image/png": "[encoded data removed]",
      "text/plain": [
       "<Figure size 360x360 with 1 Axes>"
      ]
     },
     "metadata": {
      "needs_background": "light"
     },
     "output_type": "display_data"
    },
    {
     "name": "stdout",
     "output_type": "stream",
     "text": [
      "0.034946822441492276\n"
     ]
    }
   ],
   "source": [
    "X = dfm_covid[dfm.columns[[is_int(x) for x in dfm.columns]]]\n",
    "y = dfm_covid['Hospital_free_days_45']\n",
    "X_train, X_valid, y_train, y_valid = train_test_split(X, y, test_size = 0.2, random_state = 22)\n",
    "ypred = best_random_met.predict(X_valid)\n",
    "\n",
    "plt.rcParams['figure.figsize'] =5,5\n",
    "sns.regplot(y_valid, ypred)\n",
    "plt.xlabel('True hospital free days')\n",
    "plt.ylabel('Predicted hospital free days')\n",
    "plt.title('metabolites')\n",
    "plt.show()\n",
    "print(r2_score(y_valid, ypred))"
   ]
  },
  {
   "cell_type": "code",
   "execution_count": 292,
   "metadata": {},
   "outputs": [
    {
     "data": {
      "image/png": "[encoded data removed]",
      "text/plain": [
       "<Figure size 360x360 with 1 Axes>"
      ]
     },
     "metadata": {
      "needs_background": "light"
     },
     "output_type": "display_data"
    },
    {
     "name": "stdout",
     "output_type": "stream",
     "text": [
      "0.3819391335283856\n"
     ]
    }
   ],
   "source": [
    "X = dfl_covid[dfl.columns[[is_int(x) for x in dfl.columns]]]\n",
    "y = dfl_covid['Hospital_free_days_45']\n",
    "X_train, X_valid, y_train, y_valid = train_test_split(X, y, test_size = 0.2, random_state = 22)\n",
    "ypred = best_random_lip.predict(X_valid)\n",
    "\n",
    "plt.rcParams['figure.figsize'] =5,5\n",
    "sns.regplot(y_valid, ypred)\n",
    "plt.xlabel('True hospital free days')\n",
    "plt.ylabel('Predicted hospital free days')\n",
    "plt.title('lipids')\n",
    "plt.show()\n",
    "print(r2_score(y_valid, ypred))\n"
   ]
  },
  {
   "cell_type": "code",
   "execution_count": 300,
   "metadata": {},
   "outputs": [
    {
     "data": {
      "text/plain": [
       "array([6.20024148e-05, 9.33976715e-05, 7.74109103e-06, ...,\n",
       "       5.02454163e-05, 8.50242504e-06, 1.58086599e-05])"
      ]
     },
     "execution_count": 300,
     "metadata": {},
     "output_type": "execute_result"
    }
   ],
   "source": [
    "best_random_c.feature_importances_"
   ]
  },
  {
   "cell_type": "code",
   "execution_count": 302,
   "metadata": {},
   "outputs": [],
   "source": [
    "importances = best_random_c.feature_importances_\n",
    "std = np.std([tree.feature_importances_ for tree in best_random_c.estimators_],\n",
    "             axis=0)\n",
    "indices = np.argsort(importances)[::-1]"
   ]
  },
  {
   "cell_type": "code",
   "execution_count": 303,
   "metadata": {},
   "outputs": [
    {
     "data": {
      "text/plain": [
       "array([ 370,  150,  261, ...,  634, 2873, 3283], dtype=int64)"
      ]
     },
     "execution_count": 303,
     "metadata": {},
     "output_type": "execute_result"
    }
   ],
   "source": [
    "indices"
   ]
  },
  {
   "cell_type": "code",
   "execution_count": 336,
   "metadata": {},
   "outputs": [],
   "source": [
    "X = dfc_covid[dfc.columns[[is_int(x) for x in dfc.columns]]]\n",
    "y = dfc_covid['Hospital_free_days_45']"
   ]
  },
  {
   "cell_type": "code",
   "execution_count": 314,
   "metadata": {},
   "outputs": [],
   "source": [
    "prot_name_dict = covid_data.get_biomolecule_names()"
   ]
  },
  {
   "cell_type": "code",
   "execution_count": 315,
   "metadata": {},
   "outputs": [],
   "source": [
    "lip_name_dict = covid_data.get_biomolecule_names(dataset='lipidomics')"
   ]
  },
  {
   "cell_type": "code",
   "execution_count": 316,
   "metadata": {},
   "outputs": [],
   "source": [
    "met_name_dict = covid_data.get_biomolecule_names(dataset='metabolomics')"
   ]
  },
  {
   "cell_type": "code",
   "execution_count": 317,
   "metadata": {},
   "outputs": [],
   "source": [
    "def Merge_dict(dict1, dict2): \n",
    "    res = {**dict1, **dict2} \n",
    "    return res "
   ]
  },
  {
   "cell_type": "code",
   "execution_count": 318,
   "metadata": {},
   "outputs": [],
   "source": [
    "combined1 = Merge_dict(prot_name_dict, lip_name_dict)"
   ]
  },
  {
   "cell_type": "code",
   "execution_count": 319,
   "metadata": {},
   "outputs": [],
   "source": [
    "combined2 = Merge_dict(combined1, met_name_dict)\n"
   ]
  },
  {
   "cell_type": "code",
   "execution_count": 331,
   "metadata": {},
   "outputs": [],
   "source": [
    "feature_names_ordered = [combined2[x] for x in dfc.columns[indices]]"
   ]
  },
  {
   "cell_type": "code",
   "execution_count": 339,
   "metadata": {},
   "outputs": [],
   "source": [
    "number_column_names = dfc.columns[[is_int(x) for x in dfc.columns]].values"
   ]
  },
  {
   "cell_type": "code",
   "execution_count": 340,
   "metadata": {},
   "outputs": [],
   "source": [
    "feature_names = [combined2[x] for x in number_column_names]"
   ]
  },
  {
   "cell_type": "code",
   "execution_count": null,
   "metadata": {},
   "outputs": [],
   "source": [
    "print(\"Feature ranking:\")\n",
    "\n",
    "for f in range(X.shape[1]):\n",
    "    print(\"%d. feature %d (%f)\" % (f + 1, indices[f], importances[indices[f]]))"
   ]
  },
  {
   "cell_type": "code",
   "execution_count": 342,
   "metadata": {},
   "outputs": [],
   "source": [
    "import pandas as pd"
   ]
  },
  {
   "cell_type": "code",
   "execution_count": 344,
   "metadata": {},
   "outputs": [
    {
     "data": {
      "text/plain": [
       "<matplotlib.axes._subplots.AxesSubplot at 0x12c105d4190>"
      ]
     },
     "execution_count": 344,
     "metadata": {},
     "output_type": "execute_result"
    },
    {
     "data": {
      "image/png": "[encoded data removed]",
      "text/plain": [
       "<Figure size 360x360 with 1 Axes>"
      ]
     },
     "metadata": {
      "needs_background": "light"
     },
     "output_type": "display_data"
    }
   ],
   "source": [
    "(pd.Series(best_random_c.feature_importances_, index=feature_names)\n",
    "   .nlargest(10)\n",
    "   .plot(kind='barh')) "
   ]
  },
  {
   "cell_type": "code",
   "execution_count": 322,
   "metadata": {},
   "outputs": [
    {
     "data": {
      "text/plain": [
       "4029"
      ]
     },
     "execution_count": 322,
     "metadata": {},
     "output_type": "execute_result"
    }
   ],
   "source": [
    "X.shape[1]"
   ]
  },
  {
   "cell_type": "code",
   "execution_count": 326,
   "metadata": {},
   "outputs": [
    {
     "data": {
      "text/plain": [
       "array([6.20024148e-05, 9.33976715e-05, 7.74109103e-06, ...,\n",
       "       5.02454163e-05, 8.50242504e-06, 1.58086599e-05])"
      ]
     },
     "execution_count": 326,
     "metadata": {},
     "output_type": "execute_result"
    }
   ],
   "source": [
    "importances"
   ]
  },
  {
   "cell_type": "code",
   "execution_count": 327,
   "metadata": {},
   "outputs": [
    {
     "data": {
      "text/plain": [
       "370"
      ]
     },
     "execution_count": 327,
     "metadata": {},
     "output_type": "execute_result"
    }
   ],
   "source": [
    "indices[0]"
   ]
  },
  {
   "cell_type": "code",
   "execution_count": 325,
   "metadata": {},
   "outputs": [
    {
     "name": "stdout",
     "output_type": "stream",
     "text": [
      "Feature ranking:\n",
      "1. feature 370 (0.119332)\n",
      "2. feature 150 (0.030773)\n",
      "3. feature 261 (0.028998)\n",
      "4. feature 3793 (0.024703)\n",
      "5. feature 3764 (0.019801)\n",
      "6. feature 2497 (0.018561)\n",
      "7. feature 747 (0.014780)\n",
      "8. feature 172 (0.014768)\n",
      "9. feature 2440 (0.012845)\n",
      "10. feature 3689 (0.012629)\n"
     ]
    },
    {
     "data": {
      "image/png": "[encoded data removed]",
      "text/plain": [
       "<Figure size 360x360 with 1 Axes>"
      ]
     },
     "metadata": {
      "needs_background": "light"
     },
     "output_type": "display_data"
    }
   ],
   "source": [
    "print(\"Feature ranking:\")\n",
    "\n",
    "for f in range(10):\n",
    "    print(\"%d. feature %d (%f)\" % (f + 1, [indices[f]], importances[indices[f]]))\n",
    "\n",
    "# Plot the impurity-based feature importances of the forest\n",
    "plt.figure()\n",
    "plt.title(\"Feature importances\")\n",
    "plt.bar(range(10), importances[indices][0:10],\n",
    "        color=\"r\", yerr=std[indices][0:10], align=\"center\")\n",
    "plt.xticks(range(10), indices)\n",
    "plt.xlim([-1, 10])\n",
    "plt.show()"
   ]
  },
  {
   "cell_type": "code",
   "execution_count": 250,
   "metadata": {},
   "outputs": [],
   "source": [
    "dfc = df_dict['combined']"
   ]
  },
  {
   "cell_type": "code",
   "execution_count": 251,
   "metadata": {},
   "outputs": [],
   "source": [
    "nonzero = (dfc['Hospital_free_days_45']!=0)"
   ]
  },
  {
   "cell_type": "code",
   "execution_count": 247,
   "metadata": {},
   "outputs": [
    {
     "data": {
      "text/plain": [
       "array([False,  True,  True,  True,  True,  True,  True, False, False,\n",
       "       False,  True,  True,  True,  True, False,  True,  True,  True,\n",
       "        True,  True,  True, False,  True,  True,  True,  True, False,\n",
       "       False,  True,  True, False, False,  True,  True,  True, False,\n",
       "        True,  True,  True,  True,  True,  True, False, False,  True,\n",
       "        True, False, False, False, False,  True, False,  True,  True,\n",
       "       False,  True,  True,  True,  True,  True,  True, False,  True,\n",
       "        True,  True,  True,  True,  True,  True,  True,  True,  True,\n",
       "        True,  True,  True, False,  True,  True,  True, False, False,\n",
       "        True, False,  True,  True,  True,  True,  True,  True,  True,\n",
       "        True, False, False,  True,  True,  True, False,  True, False,\n",
       "        True,  True, False, False,  True,  True, False,  True,  True,\n",
       "       False,  True,  True,  True,  True,  True,  True,  True,  True,\n",
       "        True,  True,  True, False,  True,  True,  True,  True,  True,\n",
       "        True,  True, False])"
      ]
     },
     "execution_count": 247,
     "metadata": {},
     "output_type": "execute_result"
    }
   ],
   "source": [
    "nonzero.values"
   ]
  },
  {
   "cell_type": "code",
   "execution_count": 253,
   "metadata": {},
   "outputs": [],
   "source": [
    "dfc_non0 = dfc[nonzero.values]"
   ]
  },
  {
   "cell_type": "code",
   "execution_count": 254,
   "metadata": {},
   "outputs": [],
   "source": [
    "dfc0_covid = dfc_non0[dfc_non0['COVID']==1]"
   ]
  },
  {
   "cell_type": "code",
   "execution_count": 256,
   "metadata": {},
   "outputs": [
    {
     "data": {
      "text/html": [
       "<div>\n",
       "<style scoped>\n",
       "    .dataframe tbody tr th:only-of-type {\n",
       "        vertical-align: middle;\n",
       "    }\n",
       "\n",
       "    .dataframe tbody tr th {\n",
       "        vertical-align: top;\n",
       "    }\n",
       "\n",
       "    .dataframe thead th {\n",
       "        text-align: right;\n",
       "    }\n",
       "</style>\n",
       "<table border=\"1\" class=\"dataframe\">\n",
       "  <thead>\n",
       "    <tr style=\"text-align: right;\">\n",
       "      <th></th>\n",
       "      <th>7593</th>\n",
       "      <th>7596</th>\n",
       "      <th>7597</th>\n",
       "      <th>7599</th>\n",
       "      <th>7600</th>\n",
       "      <th>7601</th>\n",
       "      <th>7602</th>\n",
       "      <th>7605</th>\n",
       "      <th>7606</th>\n",
       "      <th>7607</th>\n",
       "      <th>...</th>\n",
       "      <th>Vent_free_days</th>\n",
       "      <th>DM</th>\n",
       "      <th>Hospital_free_days_45</th>\n",
       "      <th>Ferritin_NG/ML</th>\n",
       "      <th>CRP_MG/L</th>\n",
       "      <th>DDIMER_mg/L_FEU</th>\n",
       "      <th>Procalcitonin_NG/ML</th>\n",
       "      <th>Lactate_MMol/L</th>\n",
       "      <th>Fibrinogen</th>\n",
       "      <th>SOFA</th>\n",
       "    </tr>\n",
       "    <tr>\n",
       "      <th>sample_id</th>\n",
       "      <th></th>\n",
       "      <th></th>\n",
       "      <th></th>\n",
       "      <th></th>\n",
       "      <th></th>\n",
       "      <th></th>\n",
       "      <th></th>\n",
       "      <th></th>\n",
       "      <th></th>\n",
       "      <th></th>\n",
       "      <th></th>\n",
       "      <th></th>\n",
       "      <th></th>\n",
       "      <th></th>\n",
       "      <th></th>\n",
       "      <th></th>\n",
       "      <th></th>\n",
       "      <th></th>\n",
       "      <th></th>\n",
       "      <th></th>\n",
       "      <th></th>\n",
       "    </tr>\n",
       "  </thead>\n",
       "  <tbody>\n",
       "    <tr>\n",
       "      <th>2.0</th>\n",
       "      <td>37.353091</td>\n",
       "      <td>29.419228</td>\n",
       "      <td>29.048510</td>\n",
       "      <td>27.573331</td>\n",
       "      <td>24.671039</td>\n",
       "      <td>22.343591</td>\n",
       "      <td>27.166913</td>\n",
       "      <td>29.576452</td>\n",
       "      <td>30.081443</td>\n",
       "      <td>29.514012</td>\n",
       "      <td>...</td>\n",
       "      <td>28</td>\n",
       "      <td>0</td>\n",
       "      <td>39</td>\n",
       "      <td>1060</td>\n",
       "      <td></td>\n",
       "      <td>1.03</td>\n",
       "      <td>0.37</td>\n",
       "      <td></td>\n",
       "      <td></td>\n",
       "      <td></td>\n",
       "    </tr>\n",
       "    <tr>\n",
       "      <th>3.0</th>\n",
       "      <td>37.527875</td>\n",
       "      <td>27.174171</td>\n",
       "      <td>28.953215</td>\n",
       "      <td>25.619161</td>\n",
       "      <td>24.528623</td>\n",
       "      <td>20.714471</td>\n",
       "      <td>25.589237</td>\n",
       "      <td>29.621968</td>\n",
       "      <td>29.398338</td>\n",
       "      <td>29.436129</td>\n",
       "      <td>...</td>\n",
       "      <td>28</td>\n",
       "      <td>1</td>\n",
       "      <td>18</td>\n",
       "      <td>1335</td>\n",
       "      <td>53.2</td>\n",
       "      <td>1.48</td>\n",
       "      <td>0.07</td>\n",
       "      <td></td>\n",
       "      <td>513</td>\n",
       "      <td></td>\n",
       "    </tr>\n",
       "    <tr>\n",
       "      <th>4.0</th>\n",
       "      <td>37.673128</td>\n",
       "      <td>28.879702</td>\n",
       "      <td>29.527460</td>\n",
       "      <td>23.893562</td>\n",
       "      <td>25.875326</td>\n",
       "      <td>24.170967</td>\n",
       "      <td>25.280226</td>\n",
       "      <td>30.966780</td>\n",
       "      <td>30.360452</td>\n",
       "      <td>30.041791</td>\n",
       "      <td>...</td>\n",
       "      <td>28</td>\n",
       "      <td>0</td>\n",
       "      <td>39</td>\n",
       "      <td>583</td>\n",
       "      <td>251.1</td>\n",
       "      <td>1.32</td>\n",
       "      <td>0.98</td>\n",
       "      <td>0.87</td>\n",
       "      <td>949</td>\n",
       "      <td></td>\n",
       "    </tr>\n",
       "    <tr>\n",
       "      <th>5.0</th>\n",
       "      <td>37.983542</td>\n",
       "      <td>27.262485</td>\n",
       "      <td>28.605867</td>\n",
       "      <td>18.440251</td>\n",
       "      <td>20.888495</td>\n",
       "      <td>17.354782</td>\n",
       "      <td>25.654472</td>\n",
       "      <td>29.020542</td>\n",
       "      <td>29.175695</td>\n",
       "      <td>29.628988</td>\n",
       "      <td>...</td>\n",
       "      <td>23</td>\n",
       "      <td>0</td>\n",
       "      <td>27</td>\n",
       "      <td>800</td>\n",
       "      <td>355.8</td>\n",
       "      <td>0.69</td>\n",
       "      <td>4.92</td>\n",
       "      <td>1.48</td>\n",
       "      <td>929</td>\n",
       "      <td>7</td>\n",
       "    </tr>\n",
       "    <tr>\n",
       "      <th>6.0</th>\n",
       "      <td>37.489959</td>\n",
       "      <td>29.535232</td>\n",
       "      <td>29.251895</td>\n",
       "      <td>25.033513</td>\n",
       "      <td>26.576723</td>\n",
       "      <td>25.044144</td>\n",
       "      <td>27.201630</td>\n",
       "      <td>30.070352</td>\n",
       "      <td>31.190664</td>\n",
       "      <td>30.745911</td>\n",
       "      <td>...</td>\n",
       "      <td>28</td>\n",
       "      <td>0</td>\n",
       "      <td>36</td>\n",
       "      <td>563</td>\n",
       "      <td>129.1</td>\n",
       "      <td></td>\n",
       "      <td>0.67</td>\n",
       "      <td>0.86</td>\n",
       "      <td>769</td>\n",
       "      <td></td>\n",
       "    </tr>\n",
       "    <tr>\n",
       "      <th>...</th>\n",
       "      <td>...</td>\n",
       "      <td>...</td>\n",
       "      <td>...</td>\n",
       "      <td>...</td>\n",
       "      <td>...</td>\n",
       "      <td>...</td>\n",
       "      <td>...</td>\n",
       "      <td>...</td>\n",
       "      <td>...</td>\n",
       "      <td>...</td>\n",
       "      <td>...</td>\n",
       "      <td>...</td>\n",
       "      <td>...</td>\n",
       "      <td>...</td>\n",
       "      <td>...</td>\n",
       "      <td>...</td>\n",
       "      <td>...</td>\n",
       "      <td>...</td>\n",
       "      <td>...</td>\n",
       "      <td>...</td>\n",
       "      <td>...</td>\n",
       "    </tr>\n",
       "    <tr>\n",
       "      <th>95.0</th>\n",
       "      <td>38.025760</td>\n",
       "      <td>27.909764</td>\n",
       "      <td>29.292547</td>\n",
       "      <td>19.582291</td>\n",
       "      <td>24.774145</td>\n",
       "      <td>23.696679</td>\n",
       "      <td>25.085698</td>\n",
       "      <td>30.882708</td>\n",
       "      <td>29.568374</td>\n",
       "      <td>30.343821</td>\n",
       "      <td>...</td>\n",
       "      <td>28</td>\n",
       "      <td>1</td>\n",
       "      <td>33</td>\n",
       "      <td>386</td>\n",
       "      <td>193.6</td>\n",
       "      <td>1.3</td>\n",
       "      <td></td>\n",
       "      <td></td>\n",
       "      <td>752</td>\n",
       "      <td></td>\n",
       "    </tr>\n",
       "    <tr>\n",
       "      <th>96.0</th>\n",
       "      <td>36.704965</td>\n",
       "      <td>28.605549</td>\n",
       "      <td>25.719967</td>\n",
       "      <td>23.779666</td>\n",
       "      <td>26.306052</td>\n",
       "      <td>22.671805</td>\n",
       "      <td>25.526087</td>\n",
       "      <td>31.268075</td>\n",
       "      <td>29.748808</td>\n",
       "      <td>30.919969</td>\n",
       "      <td>...</td>\n",
       "      <td>28</td>\n",
       "      <td>1</td>\n",
       "      <td>41</td>\n",
       "      <td></td>\n",
       "      <td></td>\n",
       "      <td></td>\n",
       "      <td></td>\n",
       "      <td></td>\n",
       "      <td></td>\n",
       "      <td></td>\n",
       "    </tr>\n",
       "    <tr>\n",
       "      <th>98.0</th>\n",
       "      <td>37.605885</td>\n",
       "      <td>29.348514</td>\n",
       "      <td>30.065610</td>\n",
       "      <td>25.341469</td>\n",
       "      <td>24.728426</td>\n",
       "      <td>24.685761</td>\n",
       "      <td>25.236846</td>\n",
       "      <td>30.618944</td>\n",
       "      <td>31.558692</td>\n",
       "      <td>29.998600</td>\n",
       "      <td>...</td>\n",
       "      <td>28</td>\n",
       "      <td>1</td>\n",
       "      <td>15</td>\n",
       "      <td>582</td>\n",
       "      <td>108.6</td>\n",
       "      <td>1.54</td>\n",
       "      <td>0.36</td>\n",
       "      <td>3.28</td>\n",
       "      <td>468</td>\n",
       "      <td></td>\n",
       "    </tr>\n",
       "    <tr>\n",
       "      <th>100.0</th>\n",
       "      <td>37.787556</td>\n",
       "      <td>26.969061</td>\n",
       "      <td>28.103146</td>\n",
       "      <td>26.583481</td>\n",
       "      <td>25.303093</td>\n",
       "      <td>20.852103</td>\n",
       "      <td>25.527788</td>\n",
       "      <td>28.278393</td>\n",
       "      <td>29.567178</td>\n",
       "      <td>29.739326</td>\n",
       "      <td>...</td>\n",
       "      <td>28</td>\n",
       "      <td>1</td>\n",
       "      <td>35</td>\n",
       "      <td>304</td>\n",
       "      <td>136.4</td>\n",
       "      <td>1.67</td>\n",
       "      <td>0.05</td>\n",
       "      <td></td>\n",
       "      <td>583</td>\n",
       "      <td></td>\n",
       "    </tr>\n",
       "    <tr>\n",
       "      <th>101.0</th>\n",
       "      <td>37.068980</td>\n",
       "      <td>32.415410</td>\n",
       "      <td>28.430139</td>\n",
       "      <td>26.307425</td>\n",
       "      <td>26.740082</td>\n",
       "      <td>23.796498</td>\n",
       "      <td>26.716858</td>\n",
       "      <td>30.895548</td>\n",
       "      <td>30.786904</td>\n",
       "      <td>31.184766</td>\n",
       "      <td>...</td>\n",
       "      <td>28</td>\n",
       "      <td>1</td>\n",
       "      <td>37</td>\n",
       "      <td>602</td>\n",
       "      <td>100.7</td>\n",
       "      <td>1.72</td>\n",
       "      <td>0.2</td>\n",
       "      <td>2.43</td>\n",
       "      <td>479</td>\n",
       "      <td>6</td>\n",
       "    </tr>\n",
       "  </tbody>\n",
       "</table>\n",
       "<p>72 rows × 4048 columns</p>\n",
       "</div>"
      ],
      "text/plain": [
       "                7593       7596       7597       7599       7600       7601  \\\n",
       "sample_id                                                                     \n",
       "2.0        37.353091  29.419228  29.048510  27.573331  24.671039  22.343591   \n",
       "3.0        37.527875  27.174171  28.953215  25.619161  24.528623  20.714471   \n",
       "4.0        37.673128  28.879702  29.527460  23.893562  25.875326  24.170967   \n",
       "5.0        37.983542  27.262485  28.605867  18.440251  20.888495  17.354782   \n",
       "6.0        37.489959  29.535232  29.251895  25.033513  26.576723  25.044144   \n",
       "...              ...        ...        ...        ...        ...        ...   \n",
       "95.0       38.025760  27.909764  29.292547  19.582291  24.774145  23.696679   \n",
       "96.0       36.704965  28.605549  25.719967  23.779666  26.306052  22.671805   \n",
       "98.0       37.605885  29.348514  30.065610  25.341469  24.728426  24.685761   \n",
       "100.0      37.787556  26.969061  28.103146  26.583481  25.303093  20.852103   \n",
       "101.0      37.068980  32.415410  28.430139  26.307425  26.740082  23.796498   \n",
       "\n",
       "                7602       7605       7606       7607  ...  Vent_free_days  \\\n",
       "sample_id                                              ...                   \n",
       "2.0        27.166913  29.576452  30.081443  29.514012  ...              28   \n",
       "3.0        25.589237  29.621968  29.398338  29.436129  ...              28   \n",
       "4.0        25.280226  30.966780  30.360452  30.041791  ...              28   \n",
       "5.0        25.654472  29.020542  29.175695  29.628988  ...              23   \n",
       "6.0        27.201630  30.070352  31.190664  30.745911  ...              28   \n",
       "...              ...        ...        ...        ...  ...             ...   \n",
       "95.0       25.085698  30.882708  29.568374  30.343821  ...              28   \n",
       "96.0       25.526087  31.268075  29.748808  30.919969  ...              28   \n",
       "98.0       25.236846  30.618944  31.558692  29.998600  ...              28   \n",
       "100.0      25.527788  28.278393  29.567178  29.739326  ...              28   \n",
       "101.0      26.716858  30.895548  30.786904  31.184766  ...              28   \n",
       "\n",
       "           DM  Hospital_free_days_45  Ferritin_NG/ML  CRP_MG/L  \\\n",
       "sample_id                                                        \n",
       "2.0         0                     39            1060             \n",
       "3.0         1                     18            1335      53.2   \n",
       "4.0         0                     39             583     251.1   \n",
       "5.0         0                     27             800     355.8   \n",
       "6.0         0                     36             563     129.1   \n",
       "...        ..                    ...             ...       ...   \n",
       "95.0        1                     33             386     193.6   \n",
       "96.0        1                     41                             \n",
       "98.0        1                     15             582     108.6   \n",
       "100.0       1                     35             304     136.4   \n",
       "101.0       1                     37             602     100.7   \n",
       "\n",
       "           DDIMER_mg/L_FEU  Procalcitonin_NG/ML  Lactate_MMol/L  Fibrinogen  \\\n",
       "sample_id                                                                     \n",
       "2.0                   1.03                 0.37                               \n",
       "3.0                   1.48                 0.07                         513   \n",
       "4.0                   1.32                 0.98            0.87         949   \n",
       "5.0                   0.69                 4.92            1.48         929   \n",
       "6.0                                        0.67            0.86         769   \n",
       "...                    ...                  ...             ...         ...   \n",
       "95.0                   1.3                                              752   \n",
       "96.0                                                                          \n",
       "98.0                  1.54                 0.36            3.28         468   \n",
       "100.0                 1.67                 0.05                         583   \n",
       "101.0                 1.72                  0.2            2.43         479   \n",
       "\n",
       "           SOFA  \n",
       "sample_id        \n",
       "2.0              \n",
       "3.0              \n",
       "4.0              \n",
       "5.0           7  \n",
       "6.0              \n",
       "...         ...  \n",
       "95.0             \n",
       "96.0             \n",
       "98.0             \n",
       "100.0            \n",
       "101.0         6  \n",
       "\n",
       "[72 rows x 4048 columns]"
      ]
     },
     "execution_count": 256,
     "metadata": {},
     "output_type": "execute_result"
    }
   ],
   "source": [
    "dfc0_covid"
   ]
  },
  {
   "cell_type": "code",
   "execution_count": 260,
   "metadata": {},
   "outputs": [
    {
     "data": {
      "text/plain": [
       "34"
      ]
     },
     "execution_count": 260,
     "metadata": {},
     "output_type": "execute_result"
    }
   ],
   "source": [
    "len(np.where(dfc['Hospital_free_days_45']==0)[0])"
   ]
  },
  {
   "cell_type": "code",
   "execution_count": 267,
   "metadata": {},
   "outputs": [
    {
     "name": "stdout",
     "output_type": "stream",
     "text": [
      "shape X train(64, 4029)\n",
      "shape X valid(8, 4029)\n"
     ]
    }
   ],
   "source": [
    "# combined \n",
    "\n",
    "X = dfc0_covid[dfc.columns[[is_int(x) for x in dfc.columns]]]\n",
    "y = dfc0_covid['Hospital_free_days_45']\n",
    "X_train, X_valid, y_train, y_valid = train_test_split(X, y, test_size = 0.1, random_state = 420)\n",
    "print('shape X train'+str(X_train.shape))\n",
    "print('shape X valid'+str(X_valid.shape))\n"
   ]
  },
  {
   "cell_type": "code",
   "execution_count": 268,
   "metadata": {},
   "outputs": [
    {
     "data": {
      "text/plain": [
       "(array([ 2.,  1.,  2.,  5.,  9.,  5.,  6., 10., 16., 16.]),\n",
       " array([ 3. ,  7.1, 11.2, 15.3, 19.4, 23.5, 27.6, 31.7, 35.8, 39.9, 44. ]),\n",
       " <a list of 10 Patch objects>)"
      ]
     },
     "execution_count": 268,
     "metadata": {},
     "output_type": "execute_result"
    },
    {
     "data": {
      "image/png": "[encoded data removed]",
      "text/plain": [
       "<Figure size 432x288 with 1 Axes>"
      ]
     },
     "metadata": {
      "needs_background": "light"
     },
     "output_type": "display_data"
    }
   ],
   "source": [
    "plt.hist(y)"
   ]
  },
  {
   "cell_type": "code",
   "execution_count": null,
   "metadata": {},
   "outputs": [],
   "source": []
  },
  {
   "cell_type": "code",
   "execution_count": 273,
   "metadata": {},
   "outputs": [
    {
     "name": "stdout",
     "output_type": "stream",
     "text": [
      "R^2 Training Score: 0.92 \n",
      "OOB Score: 0.43 \n",
      "R^2 Validation Score: 0.40\n"
     ]
    }
   ],
   "source": [
    "\n",
    "rf = RandomForestRegressor(n_estimators = 1000,\n",
    "                           max_depth=None,\n",
    "                           n_jobs = -1, min_samples_leaf=1, min_samples_split=2,\n",
    "                           oob_score = True,\n",
    "                           bootstrap = True,\n",
    "                           random_state = 42)\n",
    "rf.fit(X_train, y_train)\n",
    "\n",
    "print('R^2 Training Score: {:.2f} \\nOOB Score: {:.2f} \\nR^2 Validation Score: {:.2f}'.format(rf.score(X_train, y_train), \n",
    "                                                                                             rf.oob_score_,\n",
    "                                                                                             rf.score(X_valid, y_valid)))"
   ]
  },
  {
   "cell_type": "code",
   "execution_count": 274,
   "metadata": {},
   "outputs": [
    {
     "name": "stdout",
     "output_type": "stream",
     "text": [
      "Model Performance\n",
      "Average Error: 4.8098 days.\n",
      "Accuracy = 82.89%.\n"
     ]
    },
    {
     "data": {
      "image/png": "[encoded data removed]",
      "text/plain": [
       "<Figure size 432x288 with 1 Axes>"
      ]
     },
     "metadata": {
      "needs_background": "light"
     },
     "output_type": "display_data"
    }
   ],
   "source": [
    "## best random search model\n",
    "random_accuracy = evaluate(rf, X_valid, y_valid)"
   ]
  },
  {
   "cell_type": "code",
   "execution_count": null,
   "metadata": {},
   "outputs": [],
   "source": [
    "rf = RandomForestRegressor()\n",
    "rf_random = RandomizedSearchCV(estimator = rf,\n",
    "                               param_distributions = random_grid,\n",
    "                               n_iter = 100, cv = 5, verbose=2,\n",
    "                               random_state=42,\n",
    "                               n_jobs = -1)\n",
    "rf_random.fit(X_train, y_train)\n",
    "print(rf_random.best_params_)"
   ]
  }
 ],
 "metadata": {
  "kernelspec": {
   "display_name": "sklearn",
   "language": "python",
   "name": "sklearn"
  },
  "language_info": {
   "codemirror_mode": {
    "name": "ipython",
    "version": 3
   },
   "file_extension": ".py",
   "mimetype": "text/x-python",
   "name": "python",
   "nbconvert_exporter": "python",
   "pygments_lexer": "ipython3",
   "version": "3.8.3"
  }
 },
 "nbformat": 4,
 "nbformat_minor": 4
}
