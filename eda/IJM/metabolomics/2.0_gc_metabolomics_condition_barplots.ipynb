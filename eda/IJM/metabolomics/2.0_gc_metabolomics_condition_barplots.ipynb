{
 "cells": [
  {
   "cell_type": "markdown",
   "metadata": {},
   "source": [
    "# Goals\n",
    "\n",
    "1. Load data matrix\n",
    "2. Plot bars using drop down select"
   ]
  },
  {
   "cell_type": "markdown",
   "metadata": {},
   "source": [
    "## 1. Load data matrix"
   ]
  },
  {
   "cell_type": "code",
   "execution_count": 1,
   "metadata": {},
   "outputs": [
    {
     "data": {
      "text/html": [
       "<div>\n",
       "<style scoped>\n",
       "    .dataframe tbody tr th:only-of-type {\n",
       "        vertical-align: middle;\n",
       "    }\n",
       "\n",
       "    .dataframe tbody tr th {\n",
       "        vertical-align: top;\n",
       "    }\n",
       "\n",
       "    .dataframe thead th {\n",
       "        text-align: right;\n",
       "    }\n",
       "</style>\n",
       "<table border=\"1\" class=\"dataframe\">\n",
       "  <thead>\n",
       "    <tr style=\"text-align: right;\">\n",
       "      <th>biomolecule_id</th>\n",
       "      <th>1</th>\n",
       "      <th>2</th>\n",
       "      <th>3</th>\n",
       "      <th>4</th>\n",
       "      <th>5</th>\n",
       "      <th>6</th>\n",
       "      <th>7</th>\n",
       "      <th>8</th>\n",
       "      <th>9</th>\n",
       "      <th>10</th>\n",
       "      <th>...</th>\n",
       "      <th>206</th>\n",
       "      <th>207</th>\n",
       "      <th>208</th>\n",
       "      <th>209</th>\n",
       "      <th>210</th>\n",
       "      <th>211</th>\n",
       "      <th>212</th>\n",
       "      <th>213</th>\n",
       "      <th>214</th>\n",
       "      <th>215</th>\n",
       "    </tr>\n",
       "    <tr>\n",
       "      <th>sample_id</th>\n",
       "      <th></th>\n",
       "      <th></th>\n",
       "      <th></th>\n",
       "      <th></th>\n",
       "      <th></th>\n",
       "      <th></th>\n",
       "      <th></th>\n",
       "      <th></th>\n",
       "      <th></th>\n",
       "      <th></th>\n",
       "      <th></th>\n",
       "      <th></th>\n",
       "      <th></th>\n",
       "      <th></th>\n",
       "      <th></th>\n",
       "      <th></th>\n",
       "      <th></th>\n",
       "      <th></th>\n",
       "      <th></th>\n",
       "      <th></th>\n",
       "      <th></th>\n",
       "    </tr>\n",
       "  </thead>\n",
       "  <tbody>\n",
       "    <tr>\n",
       "      <th>1.0</th>\n",
       "      <td>21.309897</td>\n",
       "      <td>21.783308</td>\n",
       "      <td>22.687091</td>\n",
       "      <td>25.179914</td>\n",
       "      <td>21.630920</td>\n",
       "      <td>22.525987</td>\n",
       "      <td>10.453876</td>\n",
       "      <td>13.401977</td>\n",
       "      <td>11.735486</td>\n",
       "      <td>15.750871</td>\n",
       "      <td>...</td>\n",
       "      <td>11.735665</td>\n",
       "      <td>13.040251</td>\n",
       "      <td>12.276960</td>\n",
       "      <td>12.688793</td>\n",
       "      <td>17.169812</td>\n",
       "      <td>17.874240</td>\n",
       "      <td>12.808183</td>\n",
       "      <td>12.773660</td>\n",
       "      <td>15.037276</td>\n",
       "      <td>15.037276</td>\n",
       "    </tr>\n",
       "    <tr>\n",
       "      <th>2.0</th>\n",
       "      <td>21.221647</td>\n",
       "      <td>21.992647</td>\n",
       "      <td>23.610570</td>\n",
       "      <td>25.879197</td>\n",
       "      <td>19.130454</td>\n",
       "      <td>22.879847</td>\n",
       "      <td>12.930581</td>\n",
       "      <td>17.572637</td>\n",
       "      <td>12.743904</td>\n",
       "      <td>13.955800</td>\n",
       "      <td>...</td>\n",
       "      <td>13.523504</td>\n",
       "      <td>13.644353</td>\n",
       "      <td>13.343292</td>\n",
       "      <td>13.210456</td>\n",
       "      <td>13.352844</td>\n",
       "      <td>16.451434</td>\n",
       "      <td>13.200200</td>\n",
       "      <td>11.238030</td>\n",
       "      <td>17.255301</td>\n",
       "      <td>17.255301</td>\n",
       "    </tr>\n",
       "    <tr>\n",
       "      <th>3.0</th>\n",
       "      <td>21.905527</td>\n",
       "      <td>21.804050</td>\n",
       "      <td>23.092468</td>\n",
       "      <td>25.887330</td>\n",
       "      <td>12.570631</td>\n",
       "      <td>21.792056</td>\n",
       "      <td>12.698673</td>\n",
       "      <td>13.575324</td>\n",
       "      <td>12.576889</td>\n",
       "      <td>13.749587</td>\n",
       "      <td>...</td>\n",
       "      <td>13.145593</td>\n",
       "      <td>14.572374</td>\n",
       "      <td>12.980692</td>\n",
       "      <td>12.916020</td>\n",
       "      <td>20.310171</td>\n",
       "      <td>16.629386</td>\n",
       "      <td>13.528407</td>\n",
       "      <td>12.626464</td>\n",
       "      <td>15.841446</td>\n",
       "      <td>15.841446</td>\n",
       "    </tr>\n",
       "    <tr>\n",
       "      <th>4.0</th>\n",
       "      <td>21.398009</td>\n",
       "      <td>22.049826</td>\n",
       "      <td>23.324338</td>\n",
       "      <td>25.608685</td>\n",
       "      <td>18.225689</td>\n",
       "      <td>22.743837</td>\n",
       "      <td>13.183789</td>\n",
       "      <td>17.503154</td>\n",
       "      <td>13.101793</td>\n",
       "      <td>13.297381</td>\n",
       "      <td>...</td>\n",
       "      <td>13.150066</td>\n",
       "      <td>12.160665</td>\n",
       "      <td>12.567163</td>\n",
       "      <td>12.970315</td>\n",
       "      <td>12.525943</td>\n",
       "      <td>15.012600</td>\n",
       "      <td>13.594485</td>\n",
       "      <td>12.787116</td>\n",
       "      <td>16.246023</td>\n",
       "      <td>16.246023</td>\n",
       "    </tr>\n",
       "    <tr>\n",
       "      <th>5.0</th>\n",
       "      <td>20.810078</td>\n",
       "      <td>21.722431</td>\n",
       "      <td>22.867385</td>\n",
       "      <td>24.825837</td>\n",
       "      <td>18.028411</td>\n",
       "      <td>23.304373</td>\n",
       "      <td>12.809623</td>\n",
       "      <td>14.053167</td>\n",
       "      <td>12.051449</td>\n",
       "      <td>16.206185</td>\n",
       "      <td>...</td>\n",
       "      <td>10.887817</td>\n",
       "      <td>10.633127</td>\n",
       "      <td>12.489749</td>\n",
       "      <td>11.756084</td>\n",
       "      <td>16.983539</td>\n",
       "      <td>16.917784</td>\n",
       "      <td>13.370118</td>\n",
       "      <td>13.290696</td>\n",
       "      <td>16.177633</td>\n",
       "      <td>16.177633</td>\n",
       "    </tr>\n",
       "  </tbody>\n",
       "</table>\n",
       "<p>5 rows × 215 columns</p>\n",
       "</div>"
      ],
      "text/plain": [
       "biomolecule_id        1          2          3          4          5    \\\n",
       "sample_id                                                               \n",
       "1.0             21.309897  21.783308  22.687091  25.179914  21.630920   \n",
       "2.0             21.221647  21.992647  23.610570  25.879197  19.130454   \n",
       "3.0             21.905527  21.804050  23.092468  25.887330  12.570631   \n",
       "4.0             21.398009  22.049826  23.324338  25.608685  18.225689   \n",
       "5.0             20.810078  21.722431  22.867385  24.825837  18.028411   \n",
       "\n",
       "biomolecule_id        6          7          8          9          10   ...  \\\n",
       "sample_id                                                              ...   \n",
       "1.0             22.525987  10.453876  13.401977  11.735486  15.750871  ...   \n",
       "2.0             22.879847  12.930581  17.572637  12.743904  13.955800  ...   \n",
       "3.0             21.792056  12.698673  13.575324  12.576889  13.749587  ...   \n",
       "4.0             22.743837  13.183789  17.503154  13.101793  13.297381  ...   \n",
       "5.0             23.304373  12.809623  14.053167  12.051449  16.206185  ...   \n",
       "\n",
       "biomolecule_id        206        207        208        209        210  \\\n",
       "sample_id                                                               \n",
       "1.0             11.735665  13.040251  12.276960  12.688793  17.169812   \n",
       "2.0             13.523504  13.644353  13.343292  13.210456  13.352844   \n",
       "3.0             13.145593  14.572374  12.980692  12.916020  20.310171   \n",
       "4.0             13.150066  12.160665  12.567163  12.970315  12.525943   \n",
       "5.0             10.887817  10.633127  12.489749  11.756084  16.983539   \n",
       "\n",
       "biomolecule_id        211        212        213        214        215  \n",
       "sample_id                                                              \n",
       "1.0             17.874240  12.808183  12.773660  15.037276  15.037276  \n",
       "2.0             16.451434  13.200200  11.238030  17.255301  17.255301  \n",
       "3.0             16.629386  13.528407  12.626464  15.841446  15.841446  \n",
       "4.0             15.012600  13.594485  12.787116  16.246023  16.246023  \n",
       "5.0             16.917784  13.370118  13.290696  16.177633  16.177633  \n",
       "\n",
       "[5 rows x 215 columns]"
      ]
     },
     "execution_count": 1,
     "metadata": {},
     "output_type": "execute_result"
    }
   ],
   "source": [
    "# repurposing code from 1.1_gc_metabolomics_PCA.ipynb\n",
    "# Import create_engine\n",
    "from sqlalchemy import create_engine, MetaData, Table, select, join\n",
    "import pandas as pd\n",
    "\n",
    "# SQLite path\n",
    "db_path = 'sqlite:///../../../data/SQLite Database/Covid-19 Study DB.sqlite'\n",
    "\n",
    "# Create an engine that connects to the Covid-19 Study DB.sqlite file: engine\n",
    "engine = create_engine(db_path)\n",
    "\n",
    "# Establish connection\n",
    "connection = engine.connect()\n",
    "\n",
    "# pull table into df\n",
    "metabolomics_measurements_df = pd.read_sql_query(\"SELECT * from metabolomics_measurements\", connection)\n",
    "\n",
    "# pull table into df\n",
    "metabolomics_runs_df = pd.read_sql_query(\"SELECT * from metabolomics_runs\", connection)\n",
    "\n",
    "# pull table into df\n",
    "rawfiles_df = pd.read_sql_query(\"SELECT * from rawfiles WHERE ome_id=3 AND sample_ID<>-1 and keep=1\", connection)\n",
    "\n",
    "# pull table into df\n",
    "deidentified_patient_metadata_df = pd.read_sql_query(\"SELECT * from deidentified_patient_metadata\", connection)\n",
    "\n",
    "# make sure the merge by columns are all the same type -> pandas seems sensitive to this\n",
    "metabolomics_measurements_df = metabolomics_measurements_df.astype({'replicate_id': 'int32'})\n",
    "metabolomics_runs_df = metabolomics_runs_df.astype({'replicate_id': 'int32', 'rawfile_id': 'int32'})\n",
    "rawfiles_df = rawfiles_df.astype({'rawfile_id': 'int32', 'sample_id': 'int32'})\n",
    "deidentified_patient_metadata_df = deidentified_patient_metadata_df.astype({'sample_id': 'int32'})\n",
    "\n",
    "joined_df = metabolomics_measurements_df\\\n",
    "            .join(metabolomics_runs_df.set_index('replicate_id'), on='replicate_id')\\\n",
    "            .join(rawfiles_df.set_index('rawfile_id'), on='rawfile_id')\\\n",
    "            .join(deidentified_patient_metadata_df.set_index('sample_id'), on='sample_id')\n",
    "joined_df.head()\n",
    "\n",
    "wide_df = joined_df.pivot_table(index='sample_id', columns='biomolecule_id', values='normalized_abundance')\n",
    "wide_df.head()"
   ]
  },
  {
   "cell_type": "markdown",
   "metadata": {},
   "source": [
    "## 2. Plot bars using drop down select\n",
    "\n",
    "For a given biomolecule, plot the abundance across samples\n",
    "\n",
    "https://dash.plotly.com/basic-callbacks"
   ]
  },
  {
   "cell_type": "code",
   "execution_count": 11,
   "metadata": {},
   "outputs": [],
   "source": [
    "biomolecule_id = 4"
   ]
  },
  {
   "cell_type": "code",
   "execution_count": 15,
   "metadata": {},
   "outputs": [
    {
     "data": {
      "application/vnd.plotly.v1+json": {
       "config": {
        "plotlyServerURL": "https://plot.ly"
       },
       "data": [
        {
         "alignmentgroup": "True",
         "hovertemplate": "x=%{x}<br>4=%{y}<extra></extra>",
         "legendgroup": "",
         "marker": {
          "color": "#636efa"
         },
         "name": "",
         "offsetgroup": "",
         "orientation": "v",
         "showlegend": false,
         "textposition": "auto",
         "type": "bar",
         "x": [
          1,
          2,
          3,
          4,
          5,
          6,
          7,
          8,
          9,
          10,
          11,
          12,
          13,
          14,
          15,
          16,
          17,
          18,
          19,
          20,
          21,
          22,
          23,
          24,
          25,
          26,
          27,
          28,
          29,
          30,
          31,
          32,
          33,
          34,
          35,
          36,
          37,
          38,
          39,
          40,
          41,
          42,
          43,
          44,
          45,
          46,
          47,
          48,
          49,
          50,
          51,
          52,
          53,
          54,
          55,
          56,
          57,
          58,
          59,
          60,
          61,
          62,
          63,
          64,
          65,
          66,
          67,
          68,
          69,
          70,
          71,
          72,
          73,
          74,
          75,
          76,
          77,
          78,
          79,
          80,
          81,
          82,
          83,
          84,
          85,
          86,
          87,
          88,
          89,
          90,
          91,
          92,
          93,
          94,
          95,
          96,
          97,
          98,
          99,
          100,
          101,
          102,
          103,
          104,
          105,
          106,
          107,
          108,
          109,
          110,
          112,
          113,
          114,
          115,
          116,
          117,
          118,
          119,
          120,
          121,
          122,
          123,
          124,
          125,
          126,
          127,
          128,
          129
         ],
         "xaxis": "x",
         "y": [
          25.1799142989264,
          25.8791974405779,
          25.8873302695761,
          25.6086847871396,
          24.8258368251523,
          26.1010434046108,
          24.9781796521729,
          27.5492559448337,
          26.224407544272,
          27.6880252477223,
          24.9899109406652,
          27.4358735151024,
          25.3700437469828,
          25.9283978662911,
          26.4817134477755,
          25.7035767624379,
          25.8703611933106,
          27.0535330634939,
          25.5873493153805,
          26.7999195861575,
          25.8209871755764,
          27.5287102368455,
          27.1375789828962,
          26.8570239227648,
          26.299290264822,
          26.4714683551542,
          27.9251892040004,
          26.3268235656469,
          25.7743377953092,
          26.7200345080249,
          26.8690914372287,
          26.1642437291733,
          27.4856660709275,
          25.6724624842431,
          25.0802381126873,
          26.4791846593601,
          26.879103783607,
          26.3502383477285,
          27.2446647291368,
          25.9938362852041,
          27.5667654591944,
          27.4967167874573,
          27.35563050173,
          25.9531392591797,
          26.3294474780863,
          25.8699010249208,
          26.796294038704,
          27.7771128298626,
          26.5469739728568,
          26.6843883879758,
          27.6494067598945,
          26.9965242666692,
          25.3365890275909,
          25.9344074416189,
          27.4785982854541,
          24.889058449169,
          25.5567942543076,
          26.8908325050197,
          24.4933166631119,
          26.2797449445631,
          25.0155358137974,
          26.5497668482585,
          26.1558800455814,
          26.3175542315715,
          26.6388492930811,
          26.8822623266125,
          26.2705618610765,
          26.1208928077038,
          25.1823934787138,
          25.697637885586,
          27.2325297979756,
          25.2528543000312,
          26.3802214141517,
          26.7872109072857,
          25.4873106879276,
          26.4913464484661,
          25.4904031905143,
          26.5132683221084,
          25.5525590479739,
          25.897591346617,
          27.1402283749369,
          24.7863442480094,
          25.1851299643122,
          27.652626260958,
          25.3976943139394,
          25.0107534133534,
          24.1721551225259,
          25.3680590708001,
          25.7173950094604,
          25.9377641808488,
          25.0241416173315,
          28.361868516974,
          26.0906075999091,
          25.0533145728912,
          25.4067462301894,
          26.7602377563229,
          27.6499078402954,
          27.629868736147,
          26.2360832041816,
          26.0825124904255,
          26.9902023741366,
          28.1924561955381,
          25.7419020025988,
          25.7149302591881,
          26.0125169484555,
          27.5108468803517,
          25.9347917316493,
          26.170866413037402,
          25.645325078565,
          26.9246881055517,
          25.3891751558969,
          25.2869116857428,
          26.5012123976175,
          26.2140471811736,
          26.7707673299266,
          27.9343975076443,
          25.6365552195585,
          27.2150920592195,
          25.4331051063335,
          27.1784688833398,
          27.2039851855138,
          27.1485848650042,
          24.8724814862456,
          25.3408613588898,
          25.865795709188,
          25.0943738255189,
          25.6839540778763,
          27.2587115627836
         ],
         "yaxis": "y"
        }
       ],
       "layout": {
        "autosize": true,
        "barmode": "relative",
        "legend": {
         "tracegroupgap": 0
        },
        "margin": {
         "t": 60
        },
        "template": {
         "data": {
          "bar": [
           {
            "error_x": {
             "color": "#2a3f5f"
            },
            "error_y": {
             "color": "#2a3f5f"
            },
            "marker": {
             "line": {
              "color": "#E5ECF6",
              "width": 0.5
             }
            },
            "type": "bar"
           }
          ],
          "barpolar": [
           {
            "marker": {
             "line": {
              "color": "#E5ECF6",
              "width": 0.5
             }
            },
            "type": "barpolar"
           }
          ],
          "carpet": [
           {
            "aaxis": {
             "endlinecolor": "#2a3f5f",
             "gridcolor": "white",
             "linecolor": "white",
             "minorgridcolor": "white",
             "startlinecolor": "#2a3f5f"
            },
            "baxis": {
             "endlinecolor": "#2a3f5f",
             "gridcolor": "white",
             "linecolor": "white",
             "minorgridcolor": "white",
             "startlinecolor": "#2a3f5f"
            },
            "type": "carpet"
           }
          ],
          "choropleth": [
           {
            "colorbar": {
             "outlinewidth": 0,
             "ticks": ""
            },
            "type": "choropleth"
           }
          ],
          "contour": [
           {
            "colorbar": {
             "outlinewidth": 0,
             "ticks": ""
            },
            "colorscale": [
             [
              0,
              "#0d0887"
             ],
             [
              0.1111111111111111,
              "#46039f"
             ],
             [
              0.2222222222222222,
              "#7201a8"
             ],
             [
              0.3333333333333333,
              "#9c179e"
             ],
             [
              0.4444444444444444,
              "#bd3786"
             ],
             [
              0.5555555555555556,
              "#d8576b"
             ],
             [
              0.6666666666666666,
              "#ed7953"
             ],
             [
              0.7777777777777778,
              "#fb9f3a"
             ],
             [
              0.8888888888888888,
              "#fdca26"
             ],
             [
              1,
              "#f0f921"
             ]
            ],
            "type": "contour"
           }
          ],
          "contourcarpet": [
           {
            "colorbar": {
             "outlinewidth": 0,
             "ticks": ""
            },
            "type": "contourcarpet"
           }
          ],
          "heatmap": [
           {
            "colorbar": {
             "outlinewidth": 0,
             "ticks": ""
            },
            "colorscale": [
             [
              0,
              "#0d0887"
             ],
             [
              0.1111111111111111,
              "#46039f"
             ],
             [
              0.2222222222222222,
              "#7201a8"
             ],
             [
              0.3333333333333333,
              "#9c179e"
             ],
             [
              0.4444444444444444,
              "#bd3786"
             ],
             [
              0.5555555555555556,
              "#d8576b"
             ],
             [
              0.6666666666666666,
              "#ed7953"
             ],
             [
              0.7777777777777778,
              "#fb9f3a"
             ],
             [
              0.8888888888888888,
              "#fdca26"
             ],
             [
              1,
              "#f0f921"
             ]
            ],
            "type": "heatmap"
           }
          ],
          "heatmapgl": [
           {
            "colorbar": {
             "outlinewidth": 0,
             "ticks": ""
            },
            "colorscale": [
             [
              0,
              "#0d0887"
             ],
             [
              0.1111111111111111,
              "#46039f"
             ],
             [
              0.2222222222222222,
              "#7201a8"
             ],
             [
              0.3333333333333333,
              "#9c179e"
             ],
             [
              0.4444444444444444,
              "#bd3786"
             ],
             [
              0.5555555555555556,
              "#d8576b"
             ],
             [
              0.6666666666666666,
              "#ed7953"
             ],
             [
              0.7777777777777778,
              "#fb9f3a"
             ],
             [
              0.8888888888888888,
              "#fdca26"
             ],
             [
              1,
              "#f0f921"
             ]
            ],
            "type": "heatmapgl"
           }
          ],
          "histogram": [
           {
            "marker": {
             "colorbar": {
              "outlinewidth": 0,
              "ticks": ""
             }
            },
            "type": "histogram"
           }
          ],
          "histogram2d": [
           {
            "colorbar": {
             "outlinewidth": 0,
             "ticks": ""
            },
            "colorscale": [
             [
              0,
              "#0d0887"
             ],
             [
              0.1111111111111111,
              "#46039f"
             ],
             [
              0.2222222222222222,
              "#7201a8"
             ],
             [
              0.3333333333333333,
              "#9c179e"
             ],
             [
              0.4444444444444444,
              "#bd3786"
             ],
             [
              0.5555555555555556,
              "#d8576b"
             ],
             [
              0.6666666666666666,
              "#ed7953"
             ],
             [
              0.7777777777777778,
              "#fb9f3a"
             ],
             [
              0.8888888888888888,
              "#fdca26"
             ],
             [
              1,
              "#f0f921"
             ]
            ],
            "type": "histogram2d"
           }
          ],
          "histogram2dcontour": [
           {
            "colorbar": {
             "outlinewidth": 0,
             "ticks": ""
            },
            "colorscale": [
             [
              0,
              "#0d0887"
             ],
             [
              0.1111111111111111,
              "#46039f"
             ],
             [
              0.2222222222222222,
              "#7201a8"
             ],
             [
              0.3333333333333333,
              "#9c179e"
             ],
             [
              0.4444444444444444,
              "#bd3786"
             ],
             [
              0.5555555555555556,
              "#d8576b"
             ],
             [
              0.6666666666666666,
              "#ed7953"
             ],
             [
              0.7777777777777778,
              "#fb9f3a"
             ],
             [
              0.8888888888888888,
              "#fdca26"
             ],
             [
              1,
              "#f0f921"
             ]
            ],
            "type": "histogram2dcontour"
           }
          ],
          "mesh3d": [
           {
            "colorbar": {
             "outlinewidth": 0,
             "ticks": ""
            },
            "type": "mesh3d"
           }
          ],
          "parcoords": [
           {
            "line": {
             "colorbar": {
              "outlinewidth": 0,
              "ticks": ""
             }
            },
            "type": "parcoords"
           }
          ],
          "pie": [
           {
            "automargin": true,
            "type": "pie"
           }
          ],
          "scatter": [
           {
            "marker": {
             "colorbar": {
              "outlinewidth": 0,
              "ticks": ""
             }
            },
            "type": "scatter"
           }
          ],
          "scatter3d": [
           {
            "line": {
             "colorbar": {
              "outlinewidth": 0,
              "ticks": ""
             }
            },
            "marker": {
             "colorbar": {
              "outlinewidth": 0,
              "ticks": ""
             }
            },
            "type": "scatter3d"
           }
          ],
          "scattercarpet": [
           {
            "marker": {
             "colorbar": {
              "outlinewidth": 0,
              "ticks": ""
             }
            },
            "type": "scattercarpet"
           }
          ],
          "scattergeo": [
           {
            "marker": {
             "colorbar": {
              "outlinewidth": 0,
              "ticks": ""
             }
            },
            "type": "scattergeo"
           }
          ],
          "scattergl": [
           {
            "marker": {
             "colorbar": {
              "outlinewidth": 0,
              "ticks": ""
             }
            },
            "type": "scattergl"
           }
          ],
          "scattermapbox": [
           {
            "marker": {
             "colorbar": {
              "outlinewidth": 0,
              "ticks": ""
             }
            },
            "type": "scattermapbox"
           }
          ],
          "scatterpolar": [
           {
            "marker": {
             "colorbar": {
              "outlinewidth": 0,
              "ticks": ""
             }
            },
            "type": "scatterpolar"
           }
          ],
          "scatterpolargl": [
           {
            "marker": {
             "colorbar": {
              "outlinewidth": 0,
              "ticks": ""
             }
            },
            "type": "scatterpolargl"
           }
          ],
          "scatterternary": [
           {
            "marker": {
             "colorbar": {
              "outlinewidth": 0,
              "ticks": ""
             }
            },
            "type": "scatterternary"
           }
          ],
          "surface": [
           {
            "colorbar": {
             "outlinewidth": 0,
             "ticks": ""
            },
            "colorscale": [
             [
              0,
              "#0d0887"
             ],
             [
              0.1111111111111111,
              "#46039f"
             ],
             [
              0.2222222222222222,
              "#7201a8"
             ],
             [
              0.3333333333333333,
              "#9c179e"
             ],
             [
              0.4444444444444444,
              "#bd3786"
             ],
             [
              0.5555555555555556,
              "#d8576b"
             ],
             [
              0.6666666666666666,
              "#ed7953"
             ],
             [
              0.7777777777777778,
              "#fb9f3a"
             ],
             [
              0.8888888888888888,
              "#fdca26"
             ],
             [
              1,
              "#f0f921"
             ]
            ],
            "type": "surface"
           }
          ],
          "table": [
           {
            "cells": {
             "fill": {
              "color": "#EBF0F8"
             },
             "line": {
              "color": "white"
             }
            },
            "header": {
             "fill": {
              "color": "#C8D4E3"
             },
             "line": {
              "color": "white"
             }
            },
            "type": "table"
           }
          ]
         },
         "layout": {
          "annotationdefaults": {
           "arrowcolor": "#2a3f5f",
           "arrowhead": 0,
           "arrowwidth": 1
          },
          "coloraxis": {
           "colorbar": {
            "outlinewidth": 0,
            "ticks": ""
           }
          },
          "colorscale": {
           "diverging": [
            [
             0,
             "#8e0152"
            ],
            [
             0.1,
             "#c51b7d"
            ],
            [
             0.2,
             "#de77ae"
            ],
            [
             0.3,
             "#f1b6da"
            ],
            [
             0.4,
             "#fde0ef"
            ],
            [
             0.5,
             "#f7f7f7"
            ],
            [
             0.6,
             "#e6f5d0"
            ],
            [
             0.7,
             "#b8e186"
            ],
            [
             0.8,
             "#7fbc41"
            ],
            [
             0.9,
             "#4d9221"
            ],
            [
             1,
             "#276419"
            ]
           ],
           "sequential": [
            [
             0,
             "#0d0887"
            ],
            [
             0.1111111111111111,
             "#46039f"
            ],
            [
             0.2222222222222222,
             "#7201a8"
            ],
            [
             0.3333333333333333,
             "#9c179e"
            ],
            [
             0.4444444444444444,
             "#bd3786"
            ],
            [
             0.5555555555555556,
             "#d8576b"
            ],
            [
             0.6666666666666666,
             "#ed7953"
            ],
            [
             0.7777777777777778,
             "#fb9f3a"
            ],
            [
             0.8888888888888888,
             "#fdca26"
            ],
            [
             1,
             "#f0f921"
            ]
           ],
           "sequentialminus": [
            [
             0,
             "#0d0887"
            ],
            [
             0.1111111111111111,
             "#46039f"
            ],
            [
             0.2222222222222222,
             "#7201a8"
            ],
            [
             0.3333333333333333,
             "#9c179e"
            ],
            [
             0.4444444444444444,
             "#bd3786"
            ],
            [
             0.5555555555555556,
             "#d8576b"
            ],
            [
             0.6666666666666666,
             "#ed7953"
            ],
            [
             0.7777777777777778,
             "#fb9f3a"
            ],
            [
             0.8888888888888888,
             "#fdca26"
            ],
            [
             1,
             "#f0f921"
            ]
           ]
          },
          "colorway": [
           "#636efa",
           "#EF553B",
           "#00cc96",
           "#ab63fa",
           "#FFA15A",
           "#19d3f3",
           "#FF6692",
           "#B6E880",
           "#FF97FF",
           "#FECB52"
          ],
          "font": {
           "color": "#2a3f5f"
          },
          "geo": {
           "bgcolor": "white",
           "lakecolor": "white",
           "landcolor": "#E5ECF6",
           "showlakes": true,
           "showland": true,
           "subunitcolor": "white"
          },
          "hoverlabel": {
           "align": "left"
          },
          "hovermode": "closest",
          "mapbox": {
           "style": "light"
          },
          "paper_bgcolor": "white",
          "plot_bgcolor": "#E5ECF6",
          "polar": {
           "angularaxis": {
            "gridcolor": "white",
            "linecolor": "white",
            "ticks": ""
           },
           "bgcolor": "#E5ECF6",
           "radialaxis": {
            "gridcolor": "white",
            "linecolor": "white",
            "ticks": ""
           }
          },
          "scene": {
           "xaxis": {
            "backgroundcolor": "#E5ECF6",
            "gridcolor": "white",
            "gridwidth": 2,
            "linecolor": "white",
            "showbackground": true,
            "ticks": "",
            "zerolinecolor": "white"
           },
           "yaxis": {
            "backgroundcolor": "#E5ECF6",
            "gridcolor": "white",
            "gridwidth": 2,
            "linecolor": "white",
            "showbackground": true,
            "ticks": "",
            "zerolinecolor": "white"
           },
           "zaxis": {
            "backgroundcolor": "#E5ECF6",
            "gridcolor": "white",
            "gridwidth": 2,
            "linecolor": "white",
            "showbackground": true,
            "ticks": "",
            "zerolinecolor": "white"
           }
          },
          "shapedefaults": {
           "line": {
            "color": "#2a3f5f"
           }
          },
          "ternary": {
           "aaxis": {
            "gridcolor": "white",
            "linecolor": "white",
            "ticks": ""
           },
           "baxis": {
            "gridcolor": "white",
            "linecolor": "white",
            "ticks": ""
           },
           "bgcolor": "#E5ECF6",
           "caxis": {
            "gridcolor": "white",
            "linecolor": "white",
            "ticks": ""
           }
          },
          "title": {
           "x": 0.05
          },
          "xaxis": {
           "automargin": true,
           "gridcolor": "white",
           "linecolor": "white",
           "ticks": "",
           "title": {
            "standoff": 15
           },
           "zerolinecolor": "white",
           "zerolinewidth": 2
          },
          "yaxis": {
           "automargin": true,
           "gridcolor": "white",
           "linecolor": "white",
           "ticks": "",
           "title": {
            "standoff": 15
           },
           "zerolinecolor": "white",
           "zerolinewidth": 2
          }
         }
        },
        "xaxis": {
         "anchor": "y",
         "autorange": true,
         "domain": [
          0,
          1
         ],
         "range": [
          0.5,
          129.5
         ],
         "title": {
          "text": "x"
         },
         "type": "linear"
        },
        "yaxis": {
         "anchor": "x",
         "autorange": true,
         "domain": [
          0,
          1
         ],
         "range": [
          0,
          29.85459843892
         ],
         "title": {
          "text": "4"
         },
         "type": "linear"
        }
       }
      },
      "image/png": "[encoded data removed]",
      "text/html": [
       "<div>\n",
       "        \n",
       "        \n",
       "            <div id=\"b5fef2c7-b158-4871-bd2b-70c5cbf0ed84\" class=\"plotly-graph-div\" style=\"height:525px; width:100%;\"></div>\n",
       "            <script type=\"text/javascript\">\n",
       "                require([\"plotly\"], function(Plotly) {\n",
       "                    window.PLOTLYENV=window.PLOTLYENV || {};\n",
       "                    \n",
       "                if (document.getElementById(\"b5fef2c7-b158-4871-bd2b-70c5cbf0ed84\")) {\n",
       "                    Plotly.newPlot(\n",
       "                        'b5fef2c7-b158-4871-bd2b-70c5cbf0ed84',\n",
       "                        [{\"alignmentgroup\": \"True\", \"hovertemplate\": \"x=%{x}<br>4=%{y}<extra></extra>\", \"legendgroup\": \"\", \"marker\": {\"color\": \"#636efa\"}, \"name\": \"\", \"offsetgroup\": \"\", \"orientation\": \"v\", \"showlegend\": false, \"textposition\": \"auto\", \"type\": \"bar\", \"x\": [1.0, 2.0, 3.0, 4.0, 5.0, 6.0, 7.0, 8.0, 9.0, 10.0, 11.0, 12.0, 13.0, 14.0, 15.0, 16.0, 17.0, 18.0, 19.0, 20.0, 21.0, 22.0, 23.0, 24.0, 25.0, 26.0, 27.0, 28.0, 29.0, 30.0, 31.0, 32.0, 33.0, 34.0, 35.0, 36.0, 37.0, 38.0, 39.0, 40.0, 41.0, 42.0, 43.0, 44.0, 45.0, 46.0, 47.0, 48.0, 49.0, 50.0, 51.0, 52.0, 53.0, 54.0, 55.0, 56.0, 57.0, 58.0, 59.0, 60.0, 61.0, 62.0, 63.0, 64.0, 65.0, 66.0, 67.0, 68.0, 69.0, 70.0, 71.0, 72.0, 73.0, 74.0, 75.0, 76.0, 77.0, 78.0, 79.0, 80.0, 81.0, 82.0, 83.0, 84.0, 85.0, 86.0, 87.0, 88.0, 89.0, 90.0, 91.0, 92.0, 93.0, 94.0, 95.0, 96.0, 97.0, 98.0, 99.0, 100.0, 101.0, 102.0, 103.0, 104.0, 105.0, 106.0, 107.0, 108.0, 109.0, 110.0, 112.0, 113.0, 114.0, 115.0, 116.0, 117.0, 118.0, 119.0, 120.0, 121.0, 122.0, 123.0, 124.0, 125.0, 126.0, 127.0, 128.0, 129.0], \"xaxis\": \"x\", \"y\": [25.1799142989264, 25.8791974405779, 25.8873302695761, 25.6086847871396, 24.8258368251523, 26.1010434046108, 24.9781796521729, 27.5492559448337, 26.224407544272, 27.6880252477223, 24.9899109406652, 27.4358735151024, 25.3700437469828, 25.9283978662911, 26.4817134477755, 25.7035767624379, 25.8703611933106, 27.0535330634939, 25.5873493153805, 26.7999195861575, 25.8209871755764, 27.5287102368455, 27.1375789828962, 26.8570239227648, 26.299290264822, 26.4714683551542, 27.9251892040004, 26.3268235656469, 25.7743377953092, 26.7200345080249, 26.8690914372287, 26.1642437291733, 27.4856660709275, 25.6724624842431, 25.0802381126873, 26.4791846593601, 26.879103783607, 26.3502383477285, 27.2446647291368, 25.9938362852041, 27.5667654591944, 27.4967167874573, 27.35563050173, 25.9531392591797, 26.3294474780863, 25.8699010249208, 26.796294038704, 27.7771128298626, 26.5469739728568, 26.6843883879758, 27.6494067598945, 26.9965242666692, 25.3365890275909, 25.9344074416189, 27.4785982854541, 24.889058449169, 25.5567942543076, 26.8908325050197, 24.4933166631119, 26.2797449445631, 25.0155358137974, 26.5497668482585, 26.1558800455814, 26.3175542315715, 26.6388492930811, 26.8822623266125, 26.2705618610765, 26.1208928077038, 25.1823934787138, 25.697637885586, 27.2325297979756, 25.2528543000312, 26.3802214141517, 26.7872109072857, 25.4873106879276, 26.4913464484661, 25.4904031905143, 26.5132683221084, 25.5525590479739, 25.897591346617, 27.1402283749369, 24.7863442480094, 25.1851299643122, 27.652626260958, 25.3976943139394, 25.0107534133534, 24.1721551225259, 25.3680590708001, 25.7173950094604, 25.9377641808488, 25.0241416173315, 28.361868516974, 26.0906075999091, 25.0533145728912, 25.4067462301894, 26.7602377563229, 27.6499078402954, 27.629868736147, 26.2360832041816, 26.0825124904255, 26.9902023741366, 28.1924561955381, 25.7419020025988, 25.7149302591881, 26.0125169484555, 27.5108468803517, 25.9347917316493, 26.170866413037402, 25.645325078565, 26.9246881055517, 25.3891751558969, 25.2869116857428, 26.5012123976175, 26.2140471811736, 26.7707673299266, 27.9343975076443, 25.6365552195585, 27.2150920592195, 25.4331051063335, 27.1784688833398, 27.2039851855138, 27.1485848650042, 24.8724814862456, 25.3408613588898, 25.865795709188, 25.0943738255189, 25.6839540778763, 27.2587115627836], \"yaxis\": \"y\"}],\n",
       "                        {\"barmode\": \"relative\", \"legend\": {\"tracegroupgap\": 0}, \"margin\": {\"t\": 60}, \"template\": {\"data\": {\"bar\": [{\"error_x\": {\"color\": \"#2a3f5f\"}, \"error_y\": {\"color\": \"#2a3f5f\"}, \"marker\": {\"line\": {\"color\": \"#E5ECF6\", \"width\": 0.5}}, \"type\": \"bar\"}], \"barpolar\": [{\"marker\": {\"line\": {\"color\": \"#E5ECF6\", \"width\": 0.5}}, \"type\": \"barpolar\"}], \"carpet\": [{\"aaxis\": {\"endlinecolor\": \"#2a3f5f\", \"gridcolor\": \"white\", \"linecolor\": \"white\", \"minorgridcolor\": \"white\", \"startlinecolor\": \"#2a3f5f\"}, \"baxis\": {\"endlinecolor\": \"#2a3f5f\", \"gridcolor\": \"white\", \"linecolor\": \"white\", \"minorgridcolor\": \"white\", \"startlinecolor\": \"#2a3f5f\"}, \"type\": \"carpet\"}], \"choropleth\": [{\"colorbar\": {\"outlinewidth\": 0, \"ticks\": \"\"}, \"type\": \"choropleth\"}], \"contour\": [{\"colorbar\": {\"outlinewidth\": 0, \"ticks\": \"\"}, \"colorscale\": [[0.0, \"#0d0887\"], [0.1111111111111111, \"#46039f\"], [0.2222222222222222, \"#7201a8\"], [0.3333333333333333, \"#9c179e\"], [0.4444444444444444, \"#bd3786\"], [0.5555555555555556, \"#d8576b\"], [0.6666666666666666, \"#ed7953\"], [0.7777777777777778, \"#fb9f3a\"], [0.8888888888888888, \"#fdca26\"], [1.0, \"#f0f921\"]], \"type\": \"contour\"}], \"contourcarpet\": [{\"colorbar\": {\"outlinewidth\": 0, \"ticks\": \"\"}, \"type\": \"contourcarpet\"}], \"heatmap\": [{\"colorbar\": {\"outlinewidth\": 0, \"ticks\": \"\"}, \"colorscale\": [[0.0, \"#0d0887\"], [0.1111111111111111, \"#46039f\"], [0.2222222222222222, \"#7201a8\"], [0.3333333333333333, \"#9c179e\"], [0.4444444444444444, \"#bd3786\"], [0.5555555555555556, \"#d8576b\"], [0.6666666666666666, \"#ed7953\"], [0.7777777777777778, \"#fb9f3a\"], [0.8888888888888888, \"#fdca26\"], [1.0, \"#f0f921\"]], \"type\": \"heatmap\"}], \"heatmapgl\": [{\"colorbar\": {\"outlinewidth\": 0, \"ticks\": \"\"}, \"colorscale\": [[0.0, \"#0d0887\"], [0.1111111111111111, \"#46039f\"], [0.2222222222222222, \"#7201a8\"], [0.3333333333333333, \"#9c179e\"], [0.4444444444444444, \"#bd3786\"], [0.5555555555555556, \"#d8576b\"], [0.6666666666666666, \"#ed7953\"], [0.7777777777777778, \"#fb9f3a\"], [0.8888888888888888, \"#fdca26\"], [1.0, \"#f0f921\"]], \"type\": \"heatmapgl\"}], \"histogram\": [{\"marker\": {\"colorbar\": {\"outlinewidth\": 0, \"ticks\": \"\"}}, \"type\": \"histogram\"}], \"histogram2d\": [{\"colorbar\": {\"outlinewidth\": 0, \"ticks\": \"\"}, \"colorscale\": [[0.0, \"#0d0887\"], [0.1111111111111111, \"#46039f\"], [0.2222222222222222, \"#7201a8\"], [0.3333333333333333, \"#9c179e\"], [0.4444444444444444, \"#bd3786\"], [0.5555555555555556, \"#d8576b\"], [0.6666666666666666, \"#ed7953\"], [0.7777777777777778, \"#fb9f3a\"], [0.8888888888888888, \"#fdca26\"], [1.0, \"#f0f921\"]], \"type\": \"histogram2d\"}], \"histogram2dcontour\": [{\"colorbar\": {\"outlinewidth\": 0, \"ticks\": \"\"}, \"colorscale\": [[0.0, \"#0d0887\"], [0.1111111111111111, \"#46039f\"], [0.2222222222222222, \"#7201a8\"], [0.3333333333333333, \"#9c179e\"], [0.4444444444444444, \"#bd3786\"], [0.5555555555555556, \"#d8576b\"], [0.6666666666666666, \"#ed7953\"], [0.7777777777777778, \"#fb9f3a\"], [0.8888888888888888, \"#fdca26\"], [1.0, \"#f0f921\"]], \"type\": \"histogram2dcontour\"}], \"mesh3d\": [{\"colorbar\": {\"outlinewidth\": 0, \"ticks\": \"\"}, \"type\": \"mesh3d\"}], \"parcoords\": [{\"line\": {\"colorbar\": {\"outlinewidth\": 0, \"ticks\": \"\"}}, \"type\": \"parcoords\"}], \"pie\": [{\"automargin\": true, \"type\": \"pie\"}], \"scatter\": [{\"marker\": {\"colorbar\": {\"outlinewidth\": 0, \"ticks\": \"\"}}, \"type\": \"scatter\"}], \"scatter3d\": [{\"line\": {\"colorbar\": {\"outlinewidth\": 0, \"ticks\": \"\"}}, \"marker\": {\"colorbar\": {\"outlinewidth\": 0, \"ticks\": \"\"}}, \"type\": \"scatter3d\"}], \"scattercarpet\": [{\"marker\": {\"colorbar\": {\"outlinewidth\": 0, \"ticks\": \"\"}}, \"type\": \"scattercarpet\"}], \"scattergeo\": [{\"marker\": {\"colorbar\": {\"outlinewidth\": 0, \"ticks\": \"\"}}, \"type\": \"scattergeo\"}], \"scattergl\": [{\"marker\": {\"colorbar\": {\"outlinewidth\": 0, \"ticks\": \"\"}}, \"type\": \"scattergl\"}], \"scattermapbox\": [{\"marker\": {\"colorbar\": {\"outlinewidth\": 0, \"ticks\": \"\"}}, \"type\": \"scattermapbox\"}], \"scatterpolar\": [{\"marker\": {\"colorbar\": {\"outlinewidth\": 0, \"ticks\": \"\"}}, \"type\": \"scatterpolar\"}], \"scatterpolargl\": [{\"marker\": {\"colorbar\": {\"outlinewidth\": 0, \"ticks\": \"\"}}, \"type\": \"scatterpolargl\"}], \"scatterternary\": [{\"marker\": {\"colorbar\": {\"outlinewidth\": 0, \"ticks\": \"\"}}, \"type\": \"scatterternary\"}], \"surface\": [{\"colorbar\": {\"outlinewidth\": 0, \"ticks\": \"\"}, \"colorscale\": [[0.0, \"#0d0887\"], [0.1111111111111111, \"#46039f\"], [0.2222222222222222, \"#7201a8\"], [0.3333333333333333, \"#9c179e\"], [0.4444444444444444, \"#bd3786\"], [0.5555555555555556, \"#d8576b\"], [0.6666666666666666, \"#ed7953\"], [0.7777777777777778, \"#fb9f3a\"], [0.8888888888888888, \"#fdca26\"], [1.0, \"#f0f921\"]], \"type\": \"surface\"}], \"table\": [{\"cells\": {\"fill\": {\"color\": \"#EBF0F8\"}, \"line\": {\"color\": \"white\"}}, \"header\": {\"fill\": {\"color\": \"#C8D4E3\"}, \"line\": {\"color\": \"white\"}}, \"type\": \"table\"}]}, \"layout\": {\"annotationdefaults\": {\"arrowcolor\": \"#2a3f5f\", \"arrowhead\": 0, \"arrowwidth\": 1}, \"coloraxis\": {\"colorbar\": {\"outlinewidth\": 0, \"ticks\": \"\"}}, \"colorscale\": {\"diverging\": [[0, \"#8e0152\"], [0.1, \"#c51b7d\"], [0.2, \"#de77ae\"], [0.3, \"#f1b6da\"], [0.4, \"#fde0ef\"], [0.5, \"#f7f7f7\"], [0.6, \"#e6f5d0\"], [0.7, \"#b8e186\"], [0.8, \"#7fbc41\"], [0.9, \"#4d9221\"], [1, \"#276419\"]], \"sequential\": [[0.0, \"#0d0887\"], [0.1111111111111111, \"#46039f\"], [0.2222222222222222, \"#7201a8\"], [0.3333333333333333, \"#9c179e\"], [0.4444444444444444, \"#bd3786\"], [0.5555555555555556, \"#d8576b\"], [0.6666666666666666, \"#ed7953\"], [0.7777777777777778, \"#fb9f3a\"], [0.8888888888888888, \"#fdca26\"], [1.0, \"#f0f921\"]], \"sequentialminus\": [[0.0, \"#0d0887\"], [0.1111111111111111, \"#46039f\"], [0.2222222222222222, \"#7201a8\"], [0.3333333333333333, \"#9c179e\"], [0.4444444444444444, \"#bd3786\"], [0.5555555555555556, \"#d8576b\"], [0.6666666666666666, \"#ed7953\"], [0.7777777777777778, \"#fb9f3a\"], [0.8888888888888888, \"#fdca26\"], [1.0, \"#f0f921\"]]}, \"colorway\": [\"#636efa\", \"#EF553B\", \"#00cc96\", \"#ab63fa\", \"#FFA15A\", \"#19d3f3\", \"#FF6692\", \"#B6E880\", \"#FF97FF\", \"#FECB52\"], \"font\": {\"color\": \"#2a3f5f\"}, \"geo\": {\"bgcolor\": \"white\", \"lakecolor\": \"white\", \"landcolor\": \"#E5ECF6\", \"showlakes\": true, \"showland\": true, \"subunitcolor\": \"white\"}, \"hoverlabel\": {\"align\": \"left\"}, \"hovermode\": \"closest\", \"mapbox\": {\"style\": \"light\"}, \"paper_bgcolor\": \"white\", \"plot_bgcolor\": \"#E5ECF6\", \"polar\": {\"angularaxis\": {\"gridcolor\": \"white\", \"linecolor\": \"white\", \"ticks\": \"\"}, \"bgcolor\": \"#E5ECF6\", \"radialaxis\": {\"gridcolor\": \"white\", \"linecolor\": \"white\", \"ticks\": \"\"}}, \"scene\": {\"xaxis\": {\"backgroundcolor\": \"#E5ECF6\", \"gridcolor\": \"white\", \"gridwidth\": 2, \"linecolor\": \"white\", \"showbackground\": true, \"ticks\": \"\", \"zerolinecolor\": \"white\"}, \"yaxis\": {\"backgroundcolor\": \"#E5ECF6\", \"gridcolor\": \"white\", \"gridwidth\": 2, \"linecolor\": \"white\", \"showbackground\": true, \"ticks\": \"\", \"zerolinecolor\": \"white\"}, \"zaxis\": {\"backgroundcolor\": \"#E5ECF6\", \"gridcolor\": \"white\", \"gridwidth\": 2, \"linecolor\": \"white\", \"showbackground\": true, \"ticks\": \"\", \"zerolinecolor\": \"white\"}}, \"shapedefaults\": {\"line\": {\"color\": \"#2a3f5f\"}}, \"ternary\": {\"aaxis\": {\"gridcolor\": \"white\", \"linecolor\": \"white\", \"ticks\": \"\"}, \"baxis\": {\"gridcolor\": \"white\", \"linecolor\": \"white\", \"ticks\": \"\"}, \"bgcolor\": \"#E5ECF6\", \"caxis\": {\"gridcolor\": \"white\", \"linecolor\": \"white\", \"ticks\": \"\"}}, \"title\": {\"x\": 0.05}, \"xaxis\": {\"automargin\": true, \"gridcolor\": \"white\", \"linecolor\": \"white\", \"ticks\": \"\", \"title\": {\"standoff\": 15}, \"zerolinecolor\": \"white\", \"zerolinewidth\": 2}, \"yaxis\": {\"automargin\": true, \"gridcolor\": \"white\", \"linecolor\": \"white\", \"ticks\": \"\", \"title\": {\"standoff\": 15}, \"zerolinecolor\": \"white\", \"zerolinewidth\": 2}}}, \"xaxis\": {\"anchor\": \"y\", \"domain\": [0.0, 1.0], \"title\": {\"text\": \"x\"}}, \"yaxis\": {\"anchor\": \"x\", \"domain\": [0.0, 1.0], \"title\": {\"text\": \"4\"}}},\n",
       "                        {\"responsive\": true}\n",
       "                    ).then(function(){\n",
       "                            \n",
       "var gd = document.getElementById('b5fef2c7-b158-4871-bd2b-70c5cbf0ed84');\n",
       "var x = new MutationObserver(function (mutations, observer) {{\n",
       "        var display = window.getComputedStyle(gd).display;\n",
       "        if (!display || display === 'none') {{\n",
       "            console.log([gd, 'removed!']);\n",
       "            Plotly.purge(gd);\n",
       "            observer.disconnect();\n",
       "        }}\n",
       "}});\n",
       "\n",
       "// Listen for the removal of the full notebook cells\n",
       "var notebookContainer = gd.closest('#notebook-container');\n",
       "if (notebookContainer) {{\n",
       "    x.observe(notebookContainer, {childList: true});\n",
       "}}\n",
       "\n",
       "// Listen for the clearing of the current output cell\n",
       "var outputEl = gd.closest('.output');\n",
       "if (outputEl) {{\n",
       "    x.observe(outputEl, {childList: true});\n",
       "}}\n",
       "\n",
       "                        })\n",
       "                };\n",
       "                });\n",
       "            </script>\n",
       "        </div>"
      ]
     },
     "metadata": {},
     "output_type": "display_data"
    }
   ],
   "source": [
    "import plotly.express as px\n",
    "\n",
    "fig = px.bar(wide_df, x=wide_df.index, y=biomolecule_id)\n",
    "\n",
    "fig.show()"
   ]
  },
  {
   "cell_type": "code",
   "execution_count": 17,
   "metadata": {},
   "outputs": [
    {
     "data": {
      "text/html": [
       "<div>\n",
       "<style scoped>\n",
       "    .dataframe tbody tr th:only-of-type {\n",
       "        vertical-align: middle;\n",
       "    }\n",
       "\n",
       "    .dataframe tbody tr th {\n",
       "        vertical-align: top;\n",
       "    }\n",
       "\n",
       "    .dataframe thead th {\n",
       "        text-align: right;\n",
       "    }\n",
       "</style>\n",
       "<table border=\"1\" class=\"dataframe\">\n",
       "  <thead>\n",
       "    <tr style=\"text-align: right;\">\n",
       "      <th></th>\n",
       "      <th>biomolecule_id</th>\n",
       "      <th>standardized_name</th>\n",
       "      <th>omics_id</th>\n",
       "      <th>keep</th>\n",
       "    </tr>\n",
       "  </thead>\n",
       "  <tbody>\n",
       "    <tr>\n",
       "      <th>0</th>\n",
       "      <td>1</td>\n",
       "      <td>unknown RT 4.081766</td>\n",
       "      <td>3</td>\n",
       "      <td>1</td>\n",
       "    </tr>\n",
       "    <tr>\n",
       "      <th>1</th>\n",
       "      <td>2</td>\n",
       "      <td>unknown RT 4.148561</td>\n",
       "      <td>3</td>\n",
       "      <td>1</td>\n",
       "    </tr>\n",
       "    <tr>\n",
       "      <th>2</th>\n",
       "      <td>3</td>\n",
       "      <td>unknown RT 5.261918</td>\n",
       "      <td>3</td>\n",
       "      <td>1</td>\n",
       "    </tr>\n",
       "    <tr>\n",
       "      <th>3</th>\n",
       "      <td>4</td>\n",
       "      <td>unknown RT 5.349937</td>\n",
       "      <td>3</td>\n",
       "      <td>1</td>\n",
       "    </tr>\n",
       "    <tr>\n",
       "      <th>4</th>\n",
       "      <td>5</td>\n",
       "      <td>unknown RT 5.462593</td>\n",
       "      <td>3</td>\n",
       "      <td>1</td>\n",
       "    </tr>\n",
       "  </tbody>\n",
       "</table>\n",
       "</div>"
      ],
      "text/plain": [
       "   biomolecule_id    standardized_name  omics_id keep\n",
       "0               1  unknown RT 4.081766         3    1\n",
       "1               2  unknown RT 4.148561         3    1\n",
       "2               3  unknown RT 5.261918         3    1\n",
       "3               4  unknown RT 5.349937         3    1\n",
       "4               5  unknown RT 5.462593         3    1"
      ]
     },
     "execution_count": 17,
     "metadata": {},
     "output_type": "execute_result"
    }
   ],
   "source": [
    "# get biomolecule names\n",
    "biomolecules_df = pd.read_sql_query(\"SELECT * from biomolecules\", connection)\n",
    "biomolecules_df.head()"
   ]
  },
  {
   "cell_type": "code",
   "execution_count": 18,
   "metadata": {},
   "outputs": [],
   "source": [
    "# build biomolecule name dict\n",
    "biomolecule_name_dict = {}\n",
    "for index, row in biomolecules_df.iterrows():\n",
    "    biomolecule_id = row['biomolecule_id']\n",
    "    standardized_name = row['standardized_name']\n",
    "    biomolecule_name_dict[biomolecule_id] = standardized_name"
   ]
  },
  {
   "cell_type": "code",
   "execution_count": 19,
   "metadata": {},
   "outputs": [],
   "source": [
    "# replace wide_df column names\n",
    "new_col_names = []\n",
    "for col in wide_df.columns:\n",
    "    new_col_names.append(biomolecule_name_dict[col])"
   ]
  },
  {
   "cell_type": "code",
   "execution_count": 20,
   "metadata": {},
   "outputs": [],
   "source": [
    "wide_df.columns = new_col_names"
   ]
  },
  {
   "cell_type": "code",
   "execution_count": 21,
   "metadata": {},
   "outputs": [
    {
     "data": {
      "text/html": [
       "<div>\n",
       "<style scoped>\n",
       "    .dataframe tbody tr th:only-of-type {\n",
       "        vertical-align: middle;\n",
       "    }\n",
       "\n",
       "    .dataframe tbody tr th {\n",
       "        vertical-align: top;\n",
       "    }\n",
       "\n",
       "    .dataframe thead th {\n",
       "        text-align: right;\n",
       "    }\n",
       "</style>\n",
       "<table border=\"1\" class=\"dataframe\">\n",
       "  <thead>\n",
       "    <tr style=\"text-align: right;\">\n",
       "      <th></th>\n",
       "      <th>unknown RT 4.081766</th>\n",
       "      <th>unknown RT 4.148561</th>\n",
       "      <th>unknown RT 5.261918</th>\n",
       "      <th>unknown RT 5.349937</th>\n",
       "      <th>unknown RT 5.462593</th>\n",
       "      <th>1,2-Propanediol, 2TMS derivative RT5.872253</th>\n",
       "      <th>1,2-Propanediol, 2TMS derivative RT5.931987</th>\n",
       "      <th>unknown RT 6.116922</th>\n",
       "      <th>unknown RT 6.143433</th>\n",
       "      <th>2,3-Butanediol, 2TMS derivative RT6.321158</th>\n",
       "      <th>...</th>\n",
       "      <th>Sugar RT23.573516</th>\n",
       "      <th>unknown possibly Mycophenolic acid</th>\n",
       "      <th>unknown RT 23.674324</th>\n",
       "      <th>unknown RT 24.167976</th>\n",
       "      <th>unknown RT 24.557433</th>\n",
       "      <th>Cholesterol derivative RT25.501888</th>\n",
       "      <th>Sugar RT26.882393</th>\n",
       "      <th>unknown RT 27.639949</th>\n",
       "      <th>Sugar RT28.077994</th>\n",
       "      <th>Sugar RT28.077994_Duplicate</th>\n",
       "    </tr>\n",
       "    <tr>\n",
       "      <th>sample_id</th>\n",
       "      <th></th>\n",
       "      <th></th>\n",
       "      <th></th>\n",
       "      <th></th>\n",
       "      <th></th>\n",
       "      <th></th>\n",
       "      <th></th>\n",
       "      <th></th>\n",
       "      <th></th>\n",
       "      <th></th>\n",
       "      <th></th>\n",
       "      <th></th>\n",
       "      <th></th>\n",
       "      <th></th>\n",
       "      <th></th>\n",
       "      <th></th>\n",
       "      <th></th>\n",
       "      <th></th>\n",
       "      <th></th>\n",
       "      <th></th>\n",
       "      <th></th>\n",
       "    </tr>\n",
       "  </thead>\n",
       "  <tbody>\n",
       "    <tr>\n",
       "      <th>1.0</th>\n",
       "      <td>21.309897</td>\n",
       "      <td>21.783308</td>\n",
       "      <td>22.687091</td>\n",
       "      <td>25.179914</td>\n",
       "      <td>21.630920</td>\n",
       "      <td>22.525987</td>\n",
       "      <td>10.453876</td>\n",
       "      <td>13.401977</td>\n",
       "      <td>11.735486</td>\n",
       "      <td>15.750871</td>\n",
       "      <td>...</td>\n",
       "      <td>11.735665</td>\n",
       "      <td>13.040251</td>\n",
       "      <td>12.276960</td>\n",
       "      <td>12.688793</td>\n",
       "      <td>17.169812</td>\n",
       "      <td>17.874240</td>\n",
       "      <td>12.808183</td>\n",
       "      <td>12.773660</td>\n",
       "      <td>15.037276</td>\n",
       "      <td>15.037276</td>\n",
       "    </tr>\n",
       "    <tr>\n",
       "      <th>2.0</th>\n",
       "      <td>21.221647</td>\n",
       "      <td>21.992647</td>\n",
       "      <td>23.610570</td>\n",
       "      <td>25.879197</td>\n",
       "      <td>19.130454</td>\n",
       "      <td>22.879847</td>\n",
       "      <td>12.930581</td>\n",
       "      <td>17.572637</td>\n",
       "      <td>12.743904</td>\n",
       "      <td>13.955800</td>\n",
       "      <td>...</td>\n",
       "      <td>13.523504</td>\n",
       "      <td>13.644353</td>\n",
       "      <td>13.343292</td>\n",
       "      <td>13.210456</td>\n",
       "      <td>13.352844</td>\n",
       "      <td>16.451434</td>\n",
       "      <td>13.200200</td>\n",
       "      <td>11.238030</td>\n",
       "      <td>17.255301</td>\n",
       "      <td>17.255301</td>\n",
       "    </tr>\n",
       "    <tr>\n",
       "      <th>3.0</th>\n",
       "      <td>21.905527</td>\n",
       "      <td>21.804050</td>\n",
       "      <td>23.092468</td>\n",
       "      <td>25.887330</td>\n",
       "      <td>12.570631</td>\n",
       "      <td>21.792056</td>\n",
       "      <td>12.698673</td>\n",
       "      <td>13.575324</td>\n",
       "      <td>12.576889</td>\n",
       "      <td>13.749587</td>\n",
       "      <td>...</td>\n",
       "      <td>13.145593</td>\n",
       "      <td>14.572374</td>\n",
       "      <td>12.980692</td>\n",
       "      <td>12.916020</td>\n",
       "      <td>20.310171</td>\n",
       "      <td>16.629386</td>\n",
       "      <td>13.528407</td>\n",
       "      <td>12.626464</td>\n",
       "      <td>15.841446</td>\n",
       "      <td>15.841446</td>\n",
       "    </tr>\n",
       "    <tr>\n",
       "      <th>4.0</th>\n",
       "      <td>21.398009</td>\n",
       "      <td>22.049826</td>\n",
       "      <td>23.324338</td>\n",
       "      <td>25.608685</td>\n",
       "      <td>18.225689</td>\n",
       "      <td>22.743837</td>\n",
       "      <td>13.183789</td>\n",
       "      <td>17.503154</td>\n",
       "      <td>13.101793</td>\n",
       "      <td>13.297381</td>\n",
       "      <td>...</td>\n",
       "      <td>13.150066</td>\n",
       "      <td>12.160665</td>\n",
       "      <td>12.567163</td>\n",
       "      <td>12.970315</td>\n",
       "      <td>12.525943</td>\n",
       "      <td>15.012600</td>\n",
       "      <td>13.594485</td>\n",
       "      <td>12.787116</td>\n",
       "      <td>16.246023</td>\n",
       "      <td>16.246023</td>\n",
       "    </tr>\n",
       "    <tr>\n",
       "      <th>5.0</th>\n",
       "      <td>20.810078</td>\n",
       "      <td>21.722431</td>\n",
       "      <td>22.867385</td>\n",
       "      <td>24.825837</td>\n",
       "      <td>18.028411</td>\n",
       "      <td>23.304373</td>\n",
       "      <td>12.809623</td>\n",
       "      <td>14.053167</td>\n",
       "      <td>12.051449</td>\n",
       "      <td>16.206185</td>\n",
       "      <td>...</td>\n",
       "      <td>10.887817</td>\n",
       "      <td>10.633127</td>\n",
       "      <td>12.489749</td>\n",
       "      <td>11.756084</td>\n",
       "      <td>16.983539</td>\n",
       "      <td>16.917784</td>\n",
       "      <td>13.370118</td>\n",
       "      <td>13.290696</td>\n",
       "      <td>16.177633</td>\n",
       "      <td>16.177633</td>\n",
       "    </tr>\n",
       "    <tr>\n",
       "      <th>...</th>\n",
       "      <td>...</td>\n",
       "      <td>...</td>\n",
       "      <td>...</td>\n",
       "      <td>...</td>\n",
       "      <td>...</td>\n",
       "      <td>...</td>\n",
       "      <td>...</td>\n",
       "      <td>...</td>\n",
       "      <td>...</td>\n",
       "      <td>...</td>\n",
       "      <td>...</td>\n",
       "      <td>...</td>\n",
       "      <td>...</td>\n",
       "      <td>...</td>\n",
       "      <td>...</td>\n",
       "      <td>...</td>\n",
       "      <td>...</td>\n",
       "      <td>...</td>\n",
       "      <td>...</td>\n",
       "      <td>...</td>\n",
       "      <td>...</td>\n",
       "    </tr>\n",
       "    <tr>\n",
       "      <th>125.0</th>\n",
       "      <td>21.717839</td>\n",
       "      <td>21.199616</td>\n",
       "      <td>22.814710</td>\n",
       "      <td>25.340861</td>\n",
       "      <td>19.365934</td>\n",
       "      <td>22.871919</td>\n",
       "      <td>13.079537</td>\n",
       "      <td>13.666417</td>\n",
       "      <td>12.101021</td>\n",
       "      <td>15.508293</td>\n",
       "      <td>...</td>\n",
       "      <td>13.035087</td>\n",
       "      <td>12.672107</td>\n",
       "      <td>12.797433</td>\n",
       "      <td>13.068042</td>\n",
       "      <td>12.862235</td>\n",
       "      <td>16.626568</td>\n",
       "      <td>13.724262</td>\n",
       "      <td>14.738471</td>\n",
       "      <td>17.016293</td>\n",
       "      <td>17.016293</td>\n",
       "    </tr>\n",
       "    <tr>\n",
       "      <th>126.0</th>\n",
       "      <td>22.026375</td>\n",
       "      <td>21.318946</td>\n",
       "      <td>22.831807</td>\n",
       "      <td>25.865796</td>\n",
       "      <td>17.951237</td>\n",
       "      <td>21.440177</td>\n",
       "      <td>11.775681</td>\n",
       "      <td>17.808692</td>\n",
       "      <td>12.604064</td>\n",
       "      <td>13.658463</td>\n",
       "      <td>...</td>\n",
       "      <td>12.337837</td>\n",
       "      <td>18.665645</td>\n",
       "      <td>12.583670</td>\n",
       "      <td>12.881798</td>\n",
       "      <td>20.619348</td>\n",
       "      <td>16.576569</td>\n",
       "      <td>13.356697</td>\n",
       "      <td>12.078360</td>\n",
       "      <td>18.009642</td>\n",
       "      <td>18.009642</td>\n",
       "    </tr>\n",
       "    <tr>\n",
       "      <th>127.0</th>\n",
       "      <td>20.440768</td>\n",
       "      <td>21.778698</td>\n",
       "      <td>22.952819</td>\n",
       "      <td>25.094374</td>\n",
       "      <td>16.093479</td>\n",
       "      <td>22.357201</td>\n",
       "      <td>13.026523</td>\n",
       "      <td>14.016694</td>\n",
       "      <td>13.029534</td>\n",
       "      <td>15.977306</td>\n",
       "      <td>...</td>\n",
       "      <td>13.441363</td>\n",
       "      <td>13.300513</td>\n",
       "      <td>13.127588</td>\n",
       "      <td>13.139711</td>\n",
       "      <td>13.314418</td>\n",
       "      <td>16.191941</td>\n",
       "      <td>13.900984</td>\n",
       "      <td>13.052785</td>\n",
       "      <td>17.290952</td>\n",
       "      <td>17.290952</td>\n",
       "    </tr>\n",
       "    <tr>\n",
       "      <th>128.0</th>\n",
       "      <td>25.329794</td>\n",
       "      <td>22.655724</td>\n",
       "      <td>22.969696</td>\n",
       "      <td>25.683954</td>\n",
       "      <td>22.907318</td>\n",
       "      <td>22.897409</td>\n",
       "      <td>11.612133</td>\n",
       "      <td>18.149261</td>\n",
       "      <td>12.714545</td>\n",
       "      <td>12.115372</td>\n",
       "      <td>...</td>\n",
       "      <td>12.807434</td>\n",
       "      <td>13.373823</td>\n",
       "      <td>12.290858</td>\n",
       "      <td>12.337533</td>\n",
       "      <td>13.205083</td>\n",
       "      <td>16.405160</td>\n",
       "      <td>14.039567</td>\n",
       "      <td>13.205865</td>\n",
       "      <td>16.277051</td>\n",
       "      <td>16.277051</td>\n",
       "    </tr>\n",
       "    <tr>\n",
       "      <th>129.0</th>\n",
       "      <td>21.206276</td>\n",
       "      <td>21.721864</td>\n",
       "      <td>25.927357</td>\n",
       "      <td>27.258712</td>\n",
       "      <td>13.859056</td>\n",
       "      <td>25.083573</td>\n",
       "      <td>13.870171</td>\n",
       "      <td>14.651218</td>\n",
       "      <td>13.550703</td>\n",
       "      <td>18.212867</td>\n",
       "      <td>...</td>\n",
       "      <td>13.954127</td>\n",
       "      <td>13.836940</td>\n",
       "      <td>13.949137</td>\n",
       "      <td>13.520742</td>\n",
       "      <td>13.462488</td>\n",
       "      <td>16.472796</td>\n",
       "      <td>13.088431</td>\n",
       "      <td>15.942001</td>\n",
       "      <td>13.670651</td>\n",
       "      <td>13.670651</td>\n",
       "    </tr>\n",
       "  </tbody>\n",
       "</table>\n",
       "<p>128 rows × 215 columns</p>\n",
       "</div>"
      ],
      "text/plain": [
       "           unknown RT 4.081766  unknown RT 4.148561  unknown RT 5.261918  \\\n",
       "sample_id                                                                  \n",
       "1.0                  21.309897            21.783308            22.687091   \n",
       "2.0                  21.221647            21.992647            23.610570   \n",
       "3.0                  21.905527            21.804050            23.092468   \n",
       "4.0                  21.398009            22.049826            23.324338   \n",
       "5.0                  20.810078            21.722431            22.867385   \n",
       "...                        ...                  ...                  ...   \n",
       "125.0                21.717839            21.199616            22.814710   \n",
       "126.0                22.026375            21.318946            22.831807   \n",
       "127.0                20.440768            21.778698            22.952819   \n",
       "128.0                25.329794            22.655724            22.969696   \n",
       "129.0                21.206276            21.721864            25.927357   \n",
       "\n",
       "           unknown RT 5.349937  unknown RT 5.462593  \\\n",
       "sample_id                                             \n",
       "1.0                  25.179914            21.630920   \n",
       "2.0                  25.879197            19.130454   \n",
       "3.0                  25.887330            12.570631   \n",
       "4.0                  25.608685            18.225689   \n",
       "5.0                  24.825837            18.028411   \n",
       "...                        ...                  ...   \n",
       "125.0                25.340861            19.365934   \n",
       "126.0                25.865796            17.951237   \n",
       "127.0                25.094374            16.093479   \n",
       "128.0                25.683954            22.907318   \n",
       "129.0                27.258712            13.859056   \n",
       "\n",
       "           1,2-Propanediol, 2TMS derivative RT5.872253  \\\n",
       "sample_id                                                \n",
       "1.0                                          22.525987   \n",
       "2.0                                          22.879847   \n",
       "3.0                                          21.792056   \n",
       "4.0                                          22.743837   \n",
       "5.0                                          23.304373   \n",
       "...                                                ...   \n",
       "125.0                                        22.871919   \n",
       "126.0                                        21.440177   \n",
       "127.0                                        22.357201   \n",
       "128.0                                        22.897409   \n",
       "129.0                                        25.083573   \n",
       "\n",
       "           1,2-Propanediol, 2TMS derivative RT5.931987  unknown RT 6.116922  \\\n",
       "sample_id                                                                     \n",
       "1.0                                          10.453876            13.401977   \n",
       "2.0                                          12.930581            17.572637   \n",
       "3.0                                          12.698673            13.575324   \n",
       "4.0                                          13.183789            17.503154   \n",
       "5.0                                          12.809623            14.053167   \n",
       "...                                                ...                  ...   \n",
       "125.0                                        13.079537            13.666417   \n",
       "126.0                                        11.775681            17.808692   \n",
       "127.0                                        13.026523            14.016694   \n",
       "128.0                                        11.612133            18.149261   \n",
       "129.0                                        13.870171            14.651218   \n",
       "\n",
       "           unknown RT 6.143433  2,3-Butanediol, 2TMS derivative RT6.321158  \\\n",
       "sample_id                                                                    \n",
       "1.0                  11.735486                                   15.750871   \n",
       "2.0                  12.743904                                   13.955800   \n",
       "3.0                  12.576889                                   13.749587   \n",
       "4.0                  13.101793                                   13.297381   \n",
       "5.0                  12.051449                                   16.206185   \n",
       "...                        ...                                         ...   \n",
       "125.0                12.101021                                   15.508293   \n",
       "126.0                12.604064                                   13.658463   \n",
       "127.0                13.029534                                   15.977306   \n",
       "128.0                12.714545                                   12.115372   \n",
       "129.0                13.550703                                   18.212867   \n",
       "\n",
       "           ...  Sugar RT23.573516  unknown possibly Mycophenolic acid  \\\n",
       "sample_id  ...                                                          \n",
       "1.0        ...          11.735665                           13.040251   \n",
       "2.0        ...          13.523504                           13.644353   \n",
       "3.0        ...          13.145593                           14.572374   \n",
       "4.0        ...          13.150066                           12.160665   \n",
       "5.0        ...          10.887817                           10.633127   \n",
       "...        ...                ...                                 ...   \n",
       "125.0      ...          13.035087                           12.672107   \n",
       "126.0      ...          12.337837                           18.665645   \n",
       "127.0      ...          13.441363                           13.300513   \n",
       "128.0      ...          12.807434                           13.373823   \n",
       "129.0      ...          13.954127                           13.836940   \n",
       "\n",
       "           unknown RT 23.674324  unknown RT 24.167976  unknown RT 24.557433  \\\n",
       "sample_id                                                                     \n",
       "1.0                   12.276960             12.688793             17.169812   \n",
       "2.0                   13.343292             13.210456             13.352844   \n",
       "3.0                   12.980692             12.916020             20.310171   \n",
       "4.0                   12.567163             12.970315             12.525943   \n",
       "5.0                   12.489749             11.756084             16.983539   \n",
       "...                         ...                   ...                   ...   \n",
       "125.0                 12.797433             13.068042             12.862235   \n",
       "126.0                 12.583670             12.881798             20.619348   \n",
       "127.0                 13.127588             13.139711             13.314418   \n",
       "128.0                 12.290858             12.337533             13.205083   \n",
       "129.0                 13.949137             13.520742             13.462488   \n",
       "\n",
       "           Cholesterol derivative RT25.501888  Sugar RT26.882393  \\\n",
       "sample_id                                                          \n",
       "1.0                                 17.874240          12.808183   \n",
       "2.0                                 16.451434          13.200200   \n",
       "3.0                                 16.629386          13.528407   \n",
       "4.0                                 15.012600          13.594485   \n",
       "5.0                                 16.917784          13.370118   \n",
       "...                                       ...                ...   \n",
       "125.0                               16.626568          13.724262   \n",
       "126.0                               16.576569          13.356697   \n",
       "127.0                               16.191941          13.900984   \n",
       "128.0                               16.405160          14.039567   \n",
       "129.0                               16.472796          13.088431   \n",
       "\n",
       "           unknown RT 27.639949  Sugar RT28.077994  \\\n",
       "sample_id                                            \n",
       "1.0                   12.773660          15.037276   \n",
       "2.0                   11.238030          17.255301   \n",
       "3.0                   12.626464          15.841446   \n",
       "4.0                   12.787116          16.246023   \n",
       "5.0                   13.290696          16.177633   \n",
       "...                         ...                ...   \n",
       "125.0                 14.738471          17.016293   \n",
       "126.0                 12.078360          18.009642   \n",
       "127.0                 13.052785          17.290952   \n",
       "128.0                 13.205865          16.277051   \n",
       "129.0                 15.942001          13.670651   \n",
       "\n",
       "           Sugar RT28.077994_Duplicate  \n",
       "sample_id                               \n",
       "1.0                          15.037276  \n",
       "2.0                          17.255301  \n",
       "3.0                          15.841446  \n",
       "4.0                          16.246023  \n",
       "5.0                          16.177633  \n",
       "...                                ...  \n",
       "125.0                        17.016293  \n",
       "126.0                        18.009642  \n",
       "127.0                        17.290952  \n",
       "128.0                        16.277051  \n",
       "129.0                        13.670651  \n",
       "\n",
       "[128 rows x 215 columns]"
      ]
     },
     "execution_count": 21,
     "metadata": {},
     "output_type": "execute_result"
    }
   ],
   "source": [
    "wide_df"
   ]
  },
  {
   "cell_type": "code",
   "execution_count": null,
   "metadata": {},
   "outputs": [],
   "source": []
  }
 ],
 "metadata": {
  "kernelspec": {
   "display_name": "Python 3",
   "language": "python",
   "name": "python3"
  },
  "language_info": {
   "codemirror_mode": {
    "name": "ipython",
    "version": 3
   },
   "file_extension": ".py",
   "mimetype": "text/x-python",
   "name": "python",
   "nbconvert_exporter": "python",
   "pygments_lexer": "ipython3",
   "version": "3.6.10"
  }
 },
 "nbformat": 4,
 "nbformat_minor": 4
}
