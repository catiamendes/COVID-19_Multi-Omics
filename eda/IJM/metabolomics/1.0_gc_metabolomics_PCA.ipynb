{
 "cells": [
  {
   "cell_type": "markdown",
   "metadata": {},
   "source": [
    "# Goals\n",
    "\n",
    "1. Load data from SQLlite data base\n",
    "2. Join metabolomics measurements and clinical metadata tables\n",
    "3. Run PCA\n",
    "4. Generate plot scores plot and color by ICU status"
   ]
  },
  {
   "cell_type": "markdown",
   "metadata": {},
   "source": [
    "## 1. Load data from SQLlite data base"
   ]
  },
  {
   "cell_type": "code",
   "execution_count": 1,
   "metadata": {},
   "outputs": [
    {
     "name": "stdout",
     "output_type": "stream",
     "text": [
      "['biomolecules', 'deidentified_patient_metadata', 'lipidomics_measurements', 'lipidomics_runs', 'metabolomics_measurements', 'metabolomics_runs', 'metadata', 'omes', 'patient_metadata', 'patient_samples', 'proteomics_measurements', 'proteomics_runs', 'rawfiles', 'sqlite_sequence']\n"
     ]
    }
   ],
   "source": [
    "# Import create_engine\n",
    "from sqlalchemy import create_engine, MetaData, Table, select, join\n",
    "\n",
    "# SQLite path\n",
    "db_path = 'sqlite:///../../../data/SQLite Database/Covid-19 Study DB.sqlite'\n",
    "\n",
    "# Create an engine that connects to the Covid-19 Study DB.sqlite file: engine\n",
    "engine = create_engine(db_path)\n",
    "\n",
    "# Establish connection\n",
    "connection = engine.connect()\n",
    "\n",
    "# Print table names\n",
    "print(engine.table_names())"
   ]
  },
  {
   "cell_type": "code",
   "execution_count": 2,
   "metadata": {},
   "outputs": [
    {
     "name": "stdout",
     "output_type": "stream",
     "text": [
      "['measurement_id', 'replicate_id', 'biomolecule_id', 'raw_abundance', 'normalized_abundance']\n"
     ]
    }
   ],
   "source": [
    "# Instantiate metadata table\n",
    "metadata = MetaData()\n",
    "\n",
    "# Reflect the metabolomics_measurements table from the engine: metabolomics_measurements\n",
    "metabolomics_measurements = Table('metabolomics_measurements', metadata, autoload=True, autoload_with=engine)\n",
    "\n",
    "# Print the column names\n",
    "print(metabolomics_measurements.columns.keys())"
   ]
  },
  {
   "cell_type": "code",
   "execution_count": 3,
   "metadata": {},
   "outputs": [
    {
     "name": "stdout",
     "output_type": "stream",
     "text": [
      "['replicate_id', 'rawfile_id', 'unique_identifier']\n"
     ]
    }
   ],
   "source": [
    "# Reflect the metabolomics_runs table from the engine: metabolomics_runs\n",
    "metabolomics_runs = Table('metabolomics_runs', metadata, autoload=True, autoload_with=engine)\n",
    "\n",
    "# Print the column names\n",
    "print(metabolomics_runs.columns.keys())"
   ]
  },
  {
   "cell_type": "code",
   "execution_count": 4,
   "metadata": {},
   "outputs": [
    {
     "name": "stdout",
     "output_type": "stream",
     "text": [
      "['rawfile_id', 'timestamp', 'rawfile_name', 'sample_id', 'run_type', 'keep', 'batch', 'ome_id']\n"
     ]
    }
   ],
   "source": [
    "# Reflect the rawfiles table from the engine: cerawfilesnsus\n",
    "rawfiles = Table('rawfiles', metadata, autoload=True, autoload_with=engine)\n",
    "\n",
    "# Print the column names\n",
    "print(rawfiles.columns.keys())"
   ]
  },
  {
   "cell_type": "code",
   "execution_count": 5,
   "metadata": {},
   "outputs": [
    {
     "name": "stdout",
     "output_type": "stream",
     "text": [
      "['sample_id', 'Sample_label', 'Albany_sampleID', 'COVID', 'Hospital_free_days', 'Age_less_than_90', 'Gender', 'ICU_1', 'APACHEII', 'Charlson_score', 'Mech_Ventilation', 'Vent_free_days']\n"
     ]
    }
   ],
   "source": [
    "# Reflect the metabolomics_runs table from the engine: metabolomics_runs\n",
    "deidentified_patient_metadata = Table('deidentified_patient_metadata', metadata, autoload=True, autoload_with=engine)\n",
    "\n",
    "# Print the column names\n",
    "print(deidentified_patient_metadata.columns.keys())"
   ]
  },
  {
   "cell_type": "markdown",
   "metadata": {},
   "source": [
    "## 2. Join metabolomics measurements and clinical metadata tables"
   ]
  },
  {
   "cell_type": "markdown",
   "metadata": {},
   "source": [
    "Metabolomics measurements can be connected to patient meta via multiple join\n",
    "\n",
    "1. metabolomics_measurements['replicate_id'] -> metabolomics_runs['replicate_id']\n",
    "2. metabolomics_runs['rawfile_id'] -> rawfiles['rawfile_id']\n",
    "3. rawfiles['sample_id'] -> deidentified_patient_metadata['sample_id']\n",
    "4. deidentified_patient_metadata[['COVID', 'ICU_1', Mech_Ventilation']]"
   ]
  },
  {
   "cell_type": "code",
   "execution_count": 6,
   "metadata": {},
   "outputs": [
    {
     "data": {
      "text/plain": [
       "[(21716, 121, 1, 20.74501332, 21.3098966372068, '1', 'COVID_01', 'C1', '1', '0', '39', 'M', '0', '15', '0', '1', '0'),\n",
       " (21717, 121, 2, 21.70633334, 21.7833078310619, '1', 'COVID_01', 'C1', '1', '0', '39', 'M', '0', '15', '0', '1', '0'),\n",
       " (21718, 121, 3, 22.57034767, 22.6870914559704, '1', 'COVID_01', 'C1', '1', '0', '39', 'M', '0', '15', '0', '1', '0'),\n",
       " (21719, 121, 4, 25.14983841, 25.1799142989264, '1', 'COVID_01', 'C1', '1', '0', '39', 'M', '0', '15', '0', '1', '0'),\n",
       " (21720, 121, 5, 21.67189183, 21.6309204409134, '1', 'COVID_01', 'C1', '1', '0', '39', 'M', '0', '15', '0', '1', '0'),\n",
       " (21721, 121, 6, 22.55288388, 22.5259871151933, '1', 'COVID_01', 'C1', '1', '0', '39', 'M', '0', '15', '0', '1', '0'),\n",
       " (21722, 121, 7, 10.02842216, 10.4538758470883, '1', 'COVID_01', 'C1', '1', '0', '39', 'M', '0', '15', '0', '1', '0'),\n",
       " (21723, 121, 8, 11.90219889, 13.4019767784001, '1', 'COVID_01', 'C1', '1', '0', '39', 'M', '0', '15', '0', '1', '0'),\n",
       " (21724, 121, 9, 12.01436182, 11.7354863713926, '1', 'COVID_01', 'C1', '1', '0', '39', 'M', '0', '15', '0', '1', '0'),\n",
       " (21725, 121, 10, 13.6208, 15.7508713819199, '1', 'COVID_01', 'C1', '1', '0', '39', 'M', '0', '15', '0', '1', '0')]"
      ]
     },
     "execution_count": 6,
     "metadata": {},
     "output_type": "execute_result"
    }
   ],
   "source": [
    "# https://www.tutorialspoint.com/sqlalchemy/sqlalchemy_core_using_joins.htm\n",
    "from sqlalchemy import join\n",
    "from sqlalchemy.sql import select\n",
    "\n",
    "j = metabolomics_measurements.join(metabolomics_runs, metabolomics_measurements.c.replicate_id == metabolomics_runs.c.replicate_id)\\\n",
    "    .join(rawfiles, metabolomics_runs.c.rawfile_id==rawfiles.c.rawfile_id)\\\n",
    "    .join(deidentified_patient_metadata, rawfiles.c.sample_id==deidentified_patient_metadata.c.sample_id)\n",
    "\n",
    "stmt = select([metabolomics_measurements, deidentified_patient_metadata]).select_from(j)\n",
    "result = connection.execute(stmt)\n",
    "result.fetchmany(size=10)"
   ]
  },
  {
   "cell_type": "code",
   "execution_count": 7,
   "metadata": {},
   "outputs": [
    {
     "name": "stdout",
     "output_type": "stream",
     "text": [
      "SELECT metabolomics_measurements.measurement_id, metabolomics_measurements.replicate_id, metabolomics_measurements.biomolecule_id, metabolomics_measurements.raw_abundance, metabolomics_measurements.normalized_abundance, deidentified_patient_metadata.sample_id, deidentified_patient_metadata.\"Sample_label\", deidentified_patient_metadata.\"Albany_sampleID\", deidentified_patient_metadata.\"COVID\", deidentified_patient_metadata.\"Hospital_free_days\", deidentified_patient_metadata.\"Age_less_than_90\", deidentified_patient_metadata.\"Gender\", deidentified_patient_metadata.\"ICU_1\", deidentified_patient_metadata.\"APACHEII\", deidentified_patient_metadata.\"Charlson_score\", deidentified_patient_metadata.\"Mech_Ventilation\", deidentified_patient_metadata.\"Vent_free_days\" \n",
      "FROM metabolomics_measurements JOIN metabolomics_runs ON metabolomics_measurements.replicate_id = metabolomics_runs.replicate_id JOIN rawfiles ON metabolomics_runs.rawfile_id = rawfiles.rawfile_id JOIN deidentified_patient_metadata ON rawfiles.sample_id = deidentified_patient_metadata.sample_id\n"
     ]
    }
   ],
   "source": [
    "# show the full SQL statement\n",
    "print(stmt)"
   ]
  },
  {
   "cell_type": "code",
   "execution_count": 8,
   "metadata": {},
   "outputs": [
    {
     "name": "stdout",
     "output_type": "stream",
     "text": [
      "['measurement_id', 'replicate_id', 'biomolecule_id', 'raw_abundance', 'normalized_abundance', 'sample_id', 'Sample_label', 'Albany_sampleID', 'COVID', 'Hospital_free_days', 'Age_less_than_90', 'Gender', 'ICU_1', 'APACHEII', 'Charlson_score', 'Mech_Ventilation', 'Vent_free_days']\n"
     ]
    }
   ],
   "source": [
    "print(metabolomics_measurements.columns.keys() + deidentified_patient_metadata.columns.keys())"
   ]
  },
  {
   "cell_type": "code",
   "execution_count": 9,
   "metadata": {},
   "outputs": [
    {
     "data": {
      "text/html": [
       "<div>\n",
       "<style scoped>\n",
       "    .dataframe tbody tr th:only-of-type {\n",
       "        vertical-align: middle;\n",
       "    }\n",
       "\n",
       "    .dataframe tbody tr th {\n",
       "        vertical-align: top;\n",
       "    }\n",
       "\n",
       "    .dataframe thead th {\n",
       "        text-align: right;\n",
       "    }\n",
       "</style>\n",
       "<table border=\"1\" class=\"dataframe\">\n",
       "  <thead>\n",
       "    <tr style=\"text-align: right;\">\n",
       "      <th></th>\n",
       "      <th>measurement_id</th>\n",
       "      <th>replicate_id</th>\n",
       "      <th>biomolecule_id</th>\n",
       "      <th>raw_abundance</th>\n",
       "      <th>normalized_abundance</th>\n",
       "      <th>sample_id</th>\n",
       "      <th>Sample_label</th>\n",
       "      <th>Albany_sampleID</th>\n",
       "      <th>COVID</th>\n",
       "      <th>Hospital_free_days</th>\n",
       "      <th>Age_less_than_90</th>\n",
       "      <th>Gender</th>\n",
       "      <th>ICU_1</th>\n",
       "      <th>APACHEII</th>\n",
       "      <th>Charlson_score</th>\n",
       "      <th>Mech_Ventilation</th>\n",
       "      <th>Vent_free_days</th>\n",
       "    </tr>\n",
       "  </thead>\n",
       "  <tbody>\n",
       "    <tr>\n",
       "      <th>0</th>\n",
       "      <td>21726</td>\n",
       "      <td>121</td>\n",
       "      <td>11</td>\n",
       "      <td>13.142800</td>\n",
       "      <td>16.262668</td>\n",
       "      <td>1</td>\n",
       "      <td>COVID_01</td>\n",
       "      <td>C1</td>\n",
       "      <td>1</td>\n",
       "      <td>0</td>\n",
       "      <td>39</td>\n",
       "      <td>M</td>\n",
       "      <td>0</td>\n",
       "      <td>15</td>\n",
       "      <td>0</td>\n",
       "      <td>1</td>\n",
       "      <td>0</td>\n",
       "    </tr>\n",
       "    <tr>\n",
       "      <th>1</th>\n",
       "      <td>21727</td>\n",
       "      <td>121</td>\n",
       "      <td>12</td>\n",
       "      <td>21.259488</td>\n",
       "      <td>21.240711</td>\n",
       "      <td>1</td>\n",
       "      <td>COVID_01</td>\n",
       "      <td>C1</td>\n",
       "      <td>1</td>\n",
       "      <td>0</td>\n",
       "      <td>39</td>\n",
       "      <td>M</td>\n",
       "      <td>0</td>\n",
       "      <td>15</td>\n",
       "      <td>0</td>\n",
       "      <td>1</td>\n",
       "      <td>0</td>\n",
       "    </tr>\n",
       "    <tr>\n",
       "      <th>2</th>\n",
       "      <td>21728</td>\n",
       "      <td>121</td>\n",
       "      <td>13</td>\n",
       "      <td>12.813945</td>\n",
       "      <td>12.888080</td>\n",
       "      <td>1</td>\n",
       "      <td>COVID_01</td>\n",
       "      <td>C1</td>\n",
       "      <td>1</td>\n",
       "      <td>0</td>\n",
       "      <td>39</td>\n",
       "      <td>M</td>\n",
       "      <td>0</td>\n",
       "      <td>15</td>\n",
       "      <td>0</td>\n",
       "      <td>1</td>\n",
       "      <td>0</td>\n",
       "    </tr>\n",
       "    <tr>\n",
       "      <th>3</th>\n",
       "      <td>21729</td>\n",
       "      <td>121</td>\n",
       "      <td>14</td>\n",
       "      <td>12.770113</td>\n",
       "      <td>12.736195</td>\n",
       "      <td>1</td>\n",
       "      <td>COVID_01</td>\n",
       "      <td>C1</td>\n",
       "      <td>1</td>\n",
       "      <td>0</td>\n",
       "      <td>39</td>\n",
       "      <td>M</td>\n",
       "      <td>0</td>\n",
       "      <td>15</td>\n",
       "      <td>0</td>\n",
       "      <td>1</td>\n",
       "      <td>0</td>\n",
       "    </tr>\n",
       "    <tr>\n",
       "      <th>4</th>\n",
       "      <td>21730</td>\n",
       "      <td>121</td>\n",
       "      <td>15</td>\n",
       "      <td>12.650865</td>\n",
       "      <td>12.642085</td>\n",
       "      <td>1</td>\n",
       "      <td>COVID_01</td>\n",
       "      <td>C1</td>\n",
       "      <td>1</td>\n",
       "      <td>0</td>\n",
       "      <td>39</td>\n",
       "      <td>M</td>\n",
       "      <td>0</td>\n",
       "      <td>15</td>\n",
       "      <td>0</td>\n",
       "      <td>1</td>\n",
       "      <td>0</td>\n",
       "    </tr>\n",
       "  </tbody>\n",
       "</table>\n",
       "</div>"
      ],
      "text/plain": [
       "   measurement_id  replicate_id  biomolecule_id  raw_abundance  \\\n",
       "0           21726           121              11      13.142800   \n",
       "1           21727           121              12      21.259488   \n",
       "2           21728           121              13      12.813945   \n",
       "3           21729           121              14      12.770113   \n",
       "4           21730           121              15      12.650865   \n",
       "\n",
       "   normalized_abundance sample_id Sample_label Albany_sampleID COVID  \\\n",
       "0             16.262668         1     COVID_01              C1     1   \n",
       "1             21.240711         1     COVID_01              C1     1   \n",
       "2             12.888080         1     COVID_01              C1     1   \n",
       "3             12.736195         1     COVID_01              C1     1   \n",
       "4             12.642085         1     COVID_01              C1     1   \n",
       "\n",
       "  Hospital_free_days Age_less_than_90 Gender ICU_1 APACHEII Charlson_score  \\\n",
       "0                  0               39      M     0       15              0   \n",
       "1                  0               39      M     0       15              0   \n",
       "2                  0               39      M     0       15              0   \n",
       "3                  0               39      M     0       15              0   \n",
       "4                  0               39      M     0       15              0   \n",
       "\n",
       "  Mech_Ventilation Vent_free_days  \n",
       "0                1              0  \n",
       "1                1              0  \n",
       "2                1              0  \n",
       "3                1              0  \n",
       "4                1              0  "
      ]
     },
     "execution_count": 9,
     "metadata": {},
     "output_type": "execute_result"
    }
   ],
   "source": [
    "import pandas as pd\n",
    "\n",
    "joined_df = pd.DataFrame(result.fetchall())\n",
    "joined_df.columns = metabolomics_measurements.columns.keys() + deidentified_patient_metadata.columns.keys()\n",
    "joined_df.head()"
   ]
  },
  {
   "cell_type": "code",
   "execution_count": 10,
   "metadata": {},
   "outputs": [
    {
     "data": {
      "text/plain": [
       "(31380, 17)"
      ]
     },
     "execution_count": 10,
     "metadata": {},
     "output_type": "execute_result"
    }
   ],
   "source": [
    "joined_df.shape"
   ]
  },
  {
   "cell_type": "code",
   "execution_count": 11,
   "metadata": {},
   "outputs": [],
   "source": [
    "connection.close()"
   ]
  }
 ],
 "metadata": {
  "kernelspec": {
   "display_name": "Python 3",
   "language": "python",
   "name": "python3"
  },
  "language_info": {
   "codemirror_mode": {
    "name": "ipython",
    "version": 3
   },
   "file_extension": ".py",
   "mimetype": "text/x-python",
   "name": "python",
   "nbconvert_exporter": "python",
   "pygments_lexer": "ipython3",
   "version": "3.6.10"
  }
 },
 "nbformat": 4,
 "nbformat_minor": 4
}
