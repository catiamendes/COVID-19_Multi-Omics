{
 "cells": [
  {
   "cell_type": "markdown",
   "metadata": {},
   "source": [
    "# Goals\n",
    "\n",
    "1. Load data from SQLlite data base\n",
    "2. Join metabolomics measurements and clinical metadata tables\n",
    "3. Run PCA\n",
    "4. Generate plot scores plot and color by ICU status"
   ]
  },
  {
   "cell_type": "markdown",
   "metadata": {},
   "source": [
    "## 1. Load data from SQLlite data base"
   ]
  },
  {
   "cell_type": "code",
   "execution_count": 5,
   "metadata": {},
   "outputs": [
    {
     "name": "stdout",
     "output_type": "stream",
     "text": [
      "['biomolecules', 'deidentified_patient_metadata', 'lipidomics_measurements', 'lipidomics_runs', 'metabolomics_measurements', 'metabolomics_runs', 'metadata', 'omes', 'patient_metadata', 'patient_samples', 'proteomics_measurements', 'proteomics_runs', 'rawfiles', 'sqlite_sequence']\n"
     ]
    }
   ],
   "source": [
    "# Import create_engine\n",
    "from sqlalchemy import create_engine, MetaData, Table, select, join\n",
    "\n",
    "# SQLite path\n",
    "db_path = 'sqlite:///../../../data/SQLite Database/Covid-19 Study DB.sqlite'\n",
    "\n",
    "# Create an engine that connects to the Covid-19 Study DB.sqlite file: engine\n",
    "engine = create_engine(db_path)\n",
    "\n",
    "# Establish connection\n",
    "connection = engine.connect()\n",
    "\n",
    "# Print table names\n",
    "print(engine.table_names())"
   ]
  },
  {
   "cell_type": "code",
   "execution_count": 6,
   "metadata": {},
   "outputs": [
    {
     "name": "stdout",
     "output_type": "stream",
     "text": [
      "['measurement_id', 'replicate_id', 'biomolecule_id', 'raw_abundance', 'normalized_abundance']\n"
     ]
    }
   ],
   "source": [
    "# Instantiate metadata table\n",
    "metadata = MetaData()\n",
    "\n",
    "# Reflect the metabolomics_measurements table from the engine: metabolomics_measurements\n",
    "metabolomics_measurements = Table('metabolomics_measurements', metadata, autoload=True, autoload_with=engine)\n",
    "\n",
    "# Print the column names\n",
    "print(metabolomics_measurements.columns.keys())"
   ]
  },
  {
   "cell_type": "code",
   "execution_count": 7,
   "metadata": {},
   "outputs": [
    {
     "name": "stdout",
     "output_type": "stream",
     "text": [
      "['replicate_id', 'rawfile_id', 'unique_identifier']\n"
     ]
    }
   ],
   "source": [
    "# Reflect the metabolomics_runs table from the engine: metabolomics_runs\n",
    "metabolomics_runs = Table('metabolomics_runs', metadata, autoload=True, autoload_with=engine)\n",
    "\n",
    "# Print the column names\n",
    "print(metabolomics_runs.columns.keys())"
   ]
  },
  {
   "cell_type": "code",
   "execution_count": 8,
   "metadata": {},
   "outputs": [
    {
     "name": "stdout",
     "output_type": "stream",
     "text": [
      "['rawfile_id', 'timestamp', 'rawfile_name', 'sample_id', 'run_type', 'keep', 'batch', 'ome_id']\n"
     ]
    }
   ],
   "source": [
    "# Reflect the rawfiles table from the engine: cerawfilesnsus\n",
    "rawfiles = Table('rawfiles', metadata, autoload=True, autoload_with=engine)\n",
    "\n",
    "# Print the column names\n",
    "print(rawfiles.columns.keys())"
   ]
  },
  {
   "cell_type": "code",
   "execution_count": 9,
   "metadata": {},
   "outputs": [
    {
     "name": "stdout",
     "output_type": "stream",
     "text": [
      "['sample_id', 'Sample_label', 'Albany_sampleID', 'COVID', 'Hospital_free_days', 'Age_less_than_90', 'Gender', 'ICU_1', 'APACHEII', 'Charlson_score', 'Mech_Ventilation', 'Vent_free_days']\n"
     ]
    }
   ],
   "source": [
    "# Reflect the metabolomics_runs table from the engine: metabolomics_runs\n",
    "deidentified_patient_metadata = Table('deidentified_patient_metadata', metadata, autoload=True, autoload_with=engine)\n",
    "\n",
    "# Print the column names\n",
    "print(deidentified_patient_metadata.columns.keys())"
   ]
  },
  {
   "cell_type": "markdown",
   "metadata": {},
   "source": [
    "## 2. Join metabolomics measurements and clinical metadata tables"
   ]
  },
  {
   "cell_type": "markdown",
   "metadata": {},
   "source": [
    "Metabolomics measurements can be connected to patient meta via multiple join\n",
    "\n",
    "1. metabolomics_measurements['replicate_id'] -> metabolomics_runs['replicate_id']\n",
    "2. metabolomics_runs['rawfile_id'] -> rawfiles['rawfile_id']\n",
    "3. rawfiles['sample_id'] -> deidentified_patient_metadata['sample_id']\n",
    "4. deidentified_patient_metadata[['COVID', 'ICU_1', Mech_Ventilation']]"
   ]
  },
  {
   "cell_type": "code",
   "execution_count": 85,
   "metadata": {},
   "outputs": [
    {
     "data": {
      "text/plain": [
       "[(21716, 121, 1, 20.74501332, 21.3098966372068, '1', 'COVID_01', 'C1', '1', '0', '39', 'M', '0', '15', '0', '1', '0'),\n",
       " (21717, 121, 2, 21.70633334, 21.7833078310619, '1', 'COVID_01', 'C1', '1', '0', '39', 'M', '0', '15', '0', '1', '0'),\n",
       " (21718, 121, 3, 22.57034767, 22.6870914559704, '1', 'COVID_01', 'C1', '1', '0', '39', 'M', '0', '15', '0', '1', '0'),\n",
       " (21719, 121, 4, 25.14983841, 25.1799142989264, '1', 'COVID_01', 'C1', '1', '0', '39', 'M', '0', '15', '0', '1', '0'),\n",
       " (21720, 121, 5, 21.67189183, 21.6309204409134, '1', 'COVID_01', 'C1', '1', '0', '39', 'M', '0', '15', '0', '1', '0'),\n",
       " (21721, 121, 6, 22.55288388, 22.5259871151933, '1', 'COVID_01', 'C1', '1', '0', '39', 'M', '0', '15', '0', '1', '0'),\n",
       " (21722, 121, 7, 10.02842216, 10.4538758470883, '1', 'COVID_01', 'C1', '1', '0', '39', 'M', '0', '15', '0', '1', '0'),\n",
       " (21723, 121, 8, 11.90219889, 13.4019767784001, '1', 'COVID_01', 'C1', '1', '0', '39', 'M', '0', '15', '0', '1', '0'),\n",
       " (21724, 121, 9, 12.01436182, 11.7354863713926, '1', 'COVID_01', 'C1', '1', '0', '39', 'M', '0', '15', '0', '1', '0'),\n",
       " (21725, 121, 10, 13.6208, 15.7508713819199, '1', 'COVID_01', 'C1', '1', '0', '39', 'M', '0', '15', '0', '1', '0')]"
      ]
     },
     "execution_count": 85,
     "metadata": {},
     "output_type": "execute_result"
    }
   ],
   "source": [
    "# https://www.tutorialspoint.com/sqlalchemy/sqlalchemy_core_using_joins.htm\n",
    "from sqlalchemy import join\n",
    "from sqlalchemy.sql import select\n",
    "\n",
    "j = metabolomics_measurements.join(metabolomics_runs, metabolomics_measurements.c.replicate_id == metabolomics_runs.c.replicate_id)\\\n",
    "    .join(rawfiles, metabolomics_runs.c.rawfile_id==rawfiles.c.rawfile_id)\\\n",
    "    .join(deidentified_patient_metadata, rawfiles.c.sample_id==deidentified_patient_metadata.c.sample_id)\n",
    "\n",
    "stmt = select([metabolomics_measurements, deidentified_patient_metadata]).select_from(j)\n",
    "result = connection.execute(stmt)\n",
    "result.fetchmany(size=10)"
   ]
  },
  {
   "cell_type": "code",
   "execution_count": 86,
   "metadata": {},
   "outputs": [
    {
     "name": "stdout",
     "output_type": "stream",
     "text": [
      "SELECT metabolomics_measurements.measurement_id, metabolomics_measurements.replicate_id, metabolomics_measurements.biomolecule_id, metabolomics_measurements.raw_abundance, metabolomics_measurements.normalized_abundance, deidentified_patient_metadata.sample_id, deidentified_patient_metadata.\"Sample_label\", deidentified_patient_metadata.\"Albany_sampleID\", deidentified_patient_metadata.\"COVID\", deidentified_patient_metadata.\"Hospital_free_days\", deidentified_patient_metadata.\"Age_less_than_90\", deidentified_patient_metadata.\"Gender\", deidentified_patient_metadata.\"ICU_1\", deidentified_patient_metadata.\"APACHEII\", deidentified_patient_metadata.\"Charlson_score\", deidentified_patient_metadata.\"Mech_Ventilation\", deidentified_patient_metadata.\"Vent_free_days\" \n",
      "FROM metabolomics_measurements JOIN metabolomics_runs ON metabolomics_measurements.replicate_id = metabolomics_runs.replicate_id JOIN rawfiles ON metabolomics_runs.rawfile_id = rawfiles.rawfile_id JOIN deidentified_patient_metadata ON rawfiles.sample_id = deidentified_patient_metadata.sample_id\n"
     ]
    }
   ],
   "source": [
    "# show the full SQL statement\n",
    "print(stmt)"
   ]
  },
  {
   "cell_type": "code",
   "execution_count": 87,
   "metadata": {},
   "outputs": [
    {
     "name": "stdout",
     "output_type": "stream",
     "text": [
      "['measurement_id', 'replicate_id', 'biomolecule_id', 'raw_abundance', 'normalized_abundance', 'sample_id', 'Sample_label', 'Albany_sampleID', 'COVID', 'Hospital_free_days', 'Age_less_than_90', 'Gender', 'ICU_1', 'APACHEII', 'Charlson_score', 'Mech_Ventilation', 'Vent_free_days']\n"
     ]
    }
   ],
   "source": [
    "print(metabolomics_measurements.columns.keys() + deidentified_patient_metadata.columns.keys())"
   ]
  },
  {
   "cell_type": "code",
   "execution_count": 88,
   "metadata": {},
   "outputs": [
    {
     "data": {
      "text/html": [
       "<div>\n",
       "<style scoped>\n",
       "    .dataframe tbody tr th:only-of-type {\n",
       "        vertical-align: middle;\n",
       "    }\n",
       "\n",
       "    .dataframe tbody tr th {\n",
       "        vertical-align: top;\n",
       "    }\n",
       "\n",
       "    .dataframe thead th {\n",
       "        text-align: right;\n",
       "    }\n",
       "</style>\n",
       "<table border=\"1\" class=\"dataframe\">\n",
       "  <thead>\n",
       "    <tr style=\"text-align: right;\">\n",
       "      <th></th>\n",
       "      <th>measurement_id</th>\n",
       "      <th>replicate_id</th>\n",
       "      <th>biomolecule_id</th>\n",
       "      <th>raw_abundance</th>\n",
       "      <th>normalized_abundance</th>\n",
       "      <th>sample_id</th>\n",
       "      <th>Sample_label</th>\n",
       "      <th>Albany_sampleID</th>\n",
       "      <th>COVID</th>\n",
       "      <th>Hospital_free_days</th>\n",
       "      <th>Age_less_than_90</th>\n",
       "      <th>Gender</th>\n",
       "      <th>ICU_1</th>\n",
       "      <th>APACHEII</th>\n",
       "      <th>Charlson_score</th>\n",
       "      <th>Mech_Ventilation</th>\n",
       "      <th>Vent_free_days</th>\n",
       "    </tr>\n",
       "  </thead>\n",
       "  <tbody>\n",
       "    <tr>\n",
       "      <th>0</th>\n",
       "      <td>21726</td>\n",
       "      <td>121</td>\n",
       "      <td>11</td>\n",
       "      <td>13.142800</td>\n",
       "      <td>16.262668</td>\n",
       "      <td>1</td>\n",
       "      <td>COVID_01</td>\n",
       "      <td>C1</td>\n",
       "      <td>1</td>\n",
       "      <td>0</td>\n",
       "      <td>39</td>\n",
       "      <td>M</td>\n",
       "      <td>0</td>\n",
       "      <td>15</td>\n",
       "      <td>0</td>\n",
       "      <td>1</td>\n",
       "      <td>0</td>\n",
       "    </tr>\n",
       "    <tr>\n",
       "      <th>1</th>\n",
       "      <td>21727</td>\n",
       "      <td>121</td>\n",
       "      <td>12</td>\n",
       "      <td>21.259488</td>\n",
       "      <td>21.240711</td>\n",
       "      <td>1</td>\n",
       "      <td>COVID_01</td>\n",
       "      <td>C1</td>\n",
       "      <td>1</td>\n",
       "      <td>0</td>\n",
       "      <td>39</td>\n",
       "      <td>M</td>\n",
       "      <td>0</td>\n",
       "      <td>15</td>\n",
       "      <td>0</td>\n",
       "      <td>1</td>\n",
       "      <td>0</td>\n",
       "    </tr>\n",
       "    <tr>\n",
       "      <th>2</th>\n",
       "      <td>21728</td>\n",
       "      <td>121</td>\n",
       "      <td>13</td>\n",
       "      <td>12.813945</td>\n",
       "      <td>12.888080</td>\n",
       "      <td>1</td>\n",
       "      <td>COVID_01</td>\n",
       "      <td>C1</td>\n",
       "      <td>1</td>\n",
       "      <td>0</td>\n",
       "      <td>39</td>\n",
       "      <td>M</td>\n",
       "      <td>0</td>\n",
       "      <td>15</td>\n",
       "      <td>0</td>\n",
       "      <td>1</td>\n",
       "      <td>0</td>\n",
       "    </tr>\n",
       "    <tr>\n",
       "      <th>3</th>\n",
       "      <td>21729</td>\n",
       "      <td>121</td>\n",
       "      <td>14</td>\n",
       "      <td>12.770113</td>\n",
       "      <td>12.736195</td>\n",
       "      <td>1</td>\n",
       "      <td>COVID_01</td>\n",
       "      <td>C1</td>\n",
       "      <td>1</td>\n",
       "      <td>0</td>\n",
       "      <td>39</td>\n",
       "      <td>M</td>\n",
       "      <td>0</td>\n",
       "      <td>15</td>\n",
       "      <td>0</td>\n",
       "      <td>1</td>\n",
       "      <td>0</td>\n",
       "    </tr>\n",
       "    <tr>\n",
       "      <th>4</th>\n",
       "      <td>21730</td>\n",
       "      <td>121</td>\n",
       "      <td>15</td>\n",
       "      <td>12.650865</td>\n",
       "      <td>12.642085</td>\n",
       "      <td>1</td>\n",
       "      <td>COVID_01</td>\n",
       "      <td>C1</td>\n",
       "      <td>1</td>\n",
       "      <td>0</td>\n",
       "      <td>39</td>\n",
       "      <td>M</td>\n",
       "      <td>0</td>\n",
       "      <td>15</td>\n",
       "      <td>0</td>\n",
       "      <td>1</td>\n",
       "      <td>0</td>\n",
       "    </tr>\n",
       "  </tbody>\n",
       "</table>\n",
       "</div>"
      ],
      "text/plain": [
       "   measurement_id  replicate_id  biomolecule_id  raw_abundance  \\\n",
       "0           21726           121              11      13.142800   \n",
       "1           21727           121              12      21.259488   \n",
       "2           21728           121              13      12.813945   \n",
       "3           21729           121              14      12.770113   \n",
       "4           21730           121              15      12.650865   \n",
       "\n",
       "   normalized_abundance sample_id Sample_label Albany_sampleID COVID  \\\n",
       "0             16.262668         1     COVID_01              C1     1   \n",
       "1             21.240711         1     COVID_01              C1     1   \n",
       "2             12.888080         1     COVID_01              C1     1   \n",
       "3             12.736195         1     COVID_01              C1     1   \n",
       "4             12.642085         1     COVID_01              C1     1   \n",
       "\n",
       "  Hospital_free_days Age_less_than_90 Gender ICU_1 APACHEII Charlson_score  \\\n",
       "0                  0               39      M     0       15              0   \n",
       "1                  0               39      M     0       15              0   \n",
       "2                  0               39      M     0       15              0   \n",
       "3                  0               39      M     0       15              0   \n",
       "4                  0               39      M     0       15              0   \n",
       "\n",
       "  Mech_Ventilation Vent_free_days  \n",
       "0                1              0  \n",
       "1                1              0  \n",
       "2                1              0  \n",
       "3                1              0  \n",
       "4                1              0  "
      ]
     },
     "execution_count": 88,
     "metadata": {},
     "output_type": "execute_result"
    }
   ],
   "source": [
    "import pandas as pd\n",
    "\n",
    "joined_df = pd.DataFrame(result.fetchall())\n",
    "joined_df.columns = metabolomics_measurements.columns.keys() + deidentified_patient_metadata.columns.keys()\n",
    "joined_df.head()"
   ]
  },
  {
   "cell_type": "code",
   "execution_count": 89,
   "metadata": {},
   "outputs": [
    {
     "data": {
      "text/plain": [
       "(31380, 17)"
      ]
     },
     "execution_count": 89,
     "metadata": {},
     "output_type": "execute_result"
    }
   ],
   "source": [
    "joined_df.shape"
   ]
  },
  {
   "cell_type": "code",
   "execution_count": 90,
   "metadata": {},
   "outputs": [
    {
     "data": {
      "text/plain": [
       "(31380, 17)"
      ]
     },
     "execution_count": 90,
     "metadata": {},
     "output_type": "execute_result"
    }
   ],
   "source": [
    "joined_df.drop_duplicates().shape"
   ]
  },
  {
   "cell_type": "code",
   "execution_count": 91,
   "metadata": {},
   "outputs": [
    {
     "data": {
      "text/html": [
       "<div>\n",
       "<style scoped>\n",
       "    .dataframe tbody tr th:only-of-type {\n",
       "        vertical-align: middle;\n",
       "    }\n",
       "\n",
       "    .dataframe tbody tr th {\n",
       "        vertical-align: top;\n",
       "    }\n",
       "\n",
       "    .dataframe thead th {\n",
       "        text-align: right;\n",
       "    }\n",
       "</style>\n",
       "<table border=\"1\" class=\"dataframe\">\n",
       "  <thead>\n",
       "    <tr style=\"text-align: right;\">\n",
       "      <th>biomolecule_id</th>\n",
       "      <th>1</th>\n",
       "      <th>2</th>\n",
       "      <th>3</th>\n",
       "      <th>4</th>\n",
       "      <th>5</th>\n",
       "      <th>6</th>\n",
       "      <th>7</th>\n",
       "      <th>8</th>\n",
       "      <th>9</th>\n",
       "      <th>10</th>\n",
       "      <th>...</th>\n",
       "      <th>206</th>\n",
       "      <th>207</th>\n",
       "      <th>208</th>\n",
       "      <th>209</th>\n",
       "      <th>210</th>\n",
       "      <th>211</th>\n",
       "      <th>212</th>\n",
       "      <th>213</th>\n",
       "      <th>214</th>\n",
       "      <th>215</th>\n",
       "    </tr>\n",
       "    <tr>\n",
       "      <th>sample_id</th>\n",
       "      <th></th>\n",
       "      <th></th>\n",
       "      <th></th>\n",
       "      <th></th>\n",
       "      <th></th>\n",
       "      <th></th>\n",
       "      <th></th>\n",
       "      <th></th>\n",
       "      <th></th>\n",
       "      <th></th>\n",
       "      <th></th>\n",
       "      <th></th>\n",
       "      <th></th>\n",
       "      <th></th>\n",
       "      <th></th>\n",
       "      <th></th>\n",
       "      <th></th>\n",
       "      <th></th>\n",
       "      <th></th>\n",
       "      <th></th>\n",
       "      <th></th>\n",
       "    </tr>\n",
       "  </thead>\n",
       "  <tbody>\n",
       "    <tr>\n",
       "      <th>1</th>\n",
       "      <td>NaN</td>\n",
       "      <td>NaN</td>\n",
       "      <td>NaN</td>\n",
       "      <td>NaN</td>\n",
       "      <td>NaN</td>\n",
       "      <td>NaN</td>\n",
       "      <td>NaN</td>\n",
       "      <td>NaN</td>\n",
       "      <td>NaN</td>\n",
       "      <td>NaN</td>\n",
       "      <td>...</td>\n",
       "      <td>11.735665</td>\n",
       "      <td>13.040251</td>\n",
       "      <td>12.276960</td>\n",
       "      <td>12.688793</td>\n",
       "      <td>17.169812</td>\n",
       "      <td>17.874240</td>\n",
       "      <td>12.808183</td>\n",
       "      <td>12.773660</td>\n",
       "      <td>15.037276</td>\n",
       "      <td>15.037276</td>\n",
       "    </tr>\n",
       "    <tr>\n",
       "      <th>10</th>\n",
       "      <td>20.625906</td>\n",
       "      <td>21.873159</td>\n",
       "      <td>23.564427</td>\n",
       "      <td>27.688025</td>\n",
       "      <td>16.610075</td>\n",
       "      <td>22.634601</td>\n",
       "      <td>12.231073</td>\n",
       "      <td>14.160800</td>\n",
       "      <td>13.309080</td>\n",
       "      <td>23.895285</td>\n",
       "      <td>...</td>\n",
       "      <td>13.519018</td>\n",
       "      <td>13.388211</td>\n",
       "      <td>13.478136</td>\n",
       "      <td>20.504155</td>\n",
       "      <td>17.512638</td>\n",
       "      <td>15.204200</td>\n",
       "      <td>13.812129</td>\n",
       "      <td>13.804686</td>\n",
       "      <td>17.166528</td>\n",
       "      <td>17.166528</td>\n",
       "    </tr>\n",
       "    <tr>\n",
       "      <th>100</th>\n",
       "      <td>20.662917</td>\n",
       "      <td>22.549653</td>\n",
       "      <td>22.840298</td>\n",
       "      <td>26.082512</td>\n",
       "      <td>20.761355</td>\n",
       "      <td>22.129562</td>\n",
       "      <td>13.516431</td>\n",
       "      <td>17.911787</td>\n",
       "      <td>13.108486</td>\n",
       "      <td>15.764481</td>\n",
       "      <td>...</td>\n",
       "      <td>13.530966</td>\n",
       "      <td>13.537485</td>\n",
       "      <td>13.344140</td>\n",
       "      <td>13.788838</td>\n",
       "      <td>14.006516</td>\n",
       "      <td>17.436237</td>\n",
       "      <td>14.091067</td>\n",
       "      <td>13.730729</td>\n",
       "      <td>17.113001</td>\n",
       "      <td>17.113001</td>\n",
       "    </tr>\n",
       "    <tr>\n",
       "      <th>101</th>\n",
       "      <td>22.360212</td>\n",
       "      <td>21.846840</td>\n",
       "      <td>23.050276</td>\n",
       "      <td>26.990202</td>\n",
       "      <td>18.928471</td>\n",
       "      <td>21.942203</td>\n",
       "      <td>13.364934</td>\n",
       "      <td>13.401198</td>\n",
       "      <td>13.029064</td>\n",
       "      <td>13.519000</td>\n",
       "      <td>...</td>\n",
       "      <td>12.858362</td>\n",
       "      <td>13.017871</td>\n",
       "      <td>11.943209</td>\n",
       "      <td>13.132328</td>\n",
       "      <td>12.695043</td>\n",
       "      <td>16.700752</td>\n",
       "      <td>13.280378</td>\n",
       "      <td>12.620021</td>\n",
       "      <td>18.143107</td>\n",
       "      <td>18.143107</td>\n",
       "    </tr>\n",
       "    <tr>\n",
       "      <th>102</th>\n",
       "      <td>21.813873</td>\n",
       "      <td>21.989365</td>\n",
       "      <td>24.234489</td>\n",
       "      <td>28.192456</td>\n",
       "      <td>16.838486</td>\n",
       "      <td>21.875789</td>\n",
       "      <td>12.155274</td>\n",
       "      <td>17.781388</td>\n",
       "      <td>13.581510</td>\n",
       "      <td>13.555614</td>\n",
       "      <td>...</td>\n",
       "      <td>11.881474</td>\n",
       "      <td>13.621948</td>\n",
       "      <td>13.704429</td>\n",
       "      <td>12.247701</td>\n",
       "      <td>17.927238</td>\n",
       "      <td>16.414562</td>\n",
       "      <td>13.065931</td>\n",
       "      <td>12.379498</td>\n",
       "      <td>16.111023</td>\n",
       "      <td>16.111023</td>\n",
       "    </tr>\n",
       "  </tbody>\n",
       "</table>\n",
       "<p>5 rows × 215 columns</p>\n",
       "</div>"
      ],
      "text/plain": [
       "biomolecule_id        1          2          3          4          5    \\\n",
       "sample_id                                                               \n",
       "1                     NaN        NaN        NaN        NaN        NaN   \n",
       "10              20.625906  21.873159  23.564427  27.688025  16.610075   \n",
       "100             20.662917  22.549653  22.840298  26.082512  20.761355   \n",
       "101             22.360212  21.846840  23.050276  26.990202  18.928471   \n",
       "102             21.813873  21.989365  24.234489  28.192456  16.838486   \n",
       "\n",
       "biomolecule_id        6          7          8          9          10   ...  \\\n",
       "sample_id                                                              ...   \n",
       "1                     NaN        NaN        NaN        NaN        NaN  ...   \n",
       "10              22.634601  12.231073  14.160800  13.309080  23.895285  ...   \n",
       "100             22.129562  13.516431  17.911787  13.108486  15.764481  ...   \n",
       "101             21.942203  13.364934  13.401198  13.029064  13.519000  ...   \n",
       "102             21.875789  12.155274  17.781388  13.581510  13.555614  ...   \n",
       "\n",
       "biomolecule_id        206        207        208        209        210  \\\n",
       "sample_id                                                               \n",
       "1               11.735665  13.040251  12.276960  12.688793  17.169812   \n",
       "10              13.519018  13.388211  13.478136  20.504155  17.512638   \n",
       "100             13.530966  13.537485  13.344140  13.788838  14.006516   \n",
       "101             12.858362  13.017871  11.943209  13.132328  12.695043   \n",
       "102             11.881474  13.621948  13.704429  12.247701  17.927238   \n",
       "\n",
       "biomolecule_id        211        212        213        214        215  \n",
       "sample_id                                                              \n",
       "1               17.874240  12.808183  12.773660  15.037276  15.037276  \n",
       "10              15.204200  13.812129  13.804686  17.166528  17.166528  \n",
       "100             17.436237  14.091067  13.730729  17.113001  17.113001  \n",
       "101             16.700752  13.280378  12.620021  18.143107  18.143107  \n",
       "102             16.414562  13.065931  12.379498  16.111023  16.111023  \n",
       "\n",
       "[5 rows x 215 columns]"
      ]
     },
     "execution_count": 91,
     "metadata": {},
     "output_type": "execute_result"
    }
   ],
   "source": [
    "wide_df = joined_df.pivot_table(index='sample_id', columns='biomolecule_id', values='normalized_abundance')\n",
    "wide_df.head()"
   ]
  },
  {
   "cell_type": "code",
   "execution_count": 92,
   "metadata": {},
   "outputs": [
    {
     "data": {
      "text/plain": [
       "10"
      ]
     },
     "execution_count": 92,
     "metadata": {},
     "output_type": "execute_result"
    }
   ],
   "source": [
    "joined_df.pivot_table(index='sample_id', columns='biomolecule_id', values='normalized_abundance').isna().sum().sum()"
   ]
  },
  {
   "cell_type": "code",
   "execution_count": 93,
   "metadata": {},
   "outputs": [
    {
     "data": {
      "text/html": [
       "<div>\n",
       "<style scoped>\n",
       "    .dataframe tbody tr th:only-of-type {\n",
       "        vertical-align: middle;\n",
       "    }\n",
       "\n",
       "    .dataframe tbody tr th {\n",
       "        vertical-align: top;\n",
       "    }\n",
       "\n",
       "    .dataframe thead th {\n",
       "        text-align: right;\n",
       "    }\n",
       "</style>\n",
       "<table border=\"1\" class=\"dataframe\">\n",
       "  <thead>\n",
       "    <tr style=\"text-align: right;\">\n",
       "      <th></th>\n",
       "      <th>measurement_id</th>\n",
       "      <th>replicate_id</th>\n",
       "      <th>biomolecule_id</th>\n",
       "      <th>raw_abundance</th>\n",
       "      <th>normalized_abundance</th>\n",
       "    </tr>\n",
       "  </thead>\n",
       "  <tbody>\n",
       "    <tr>\n",
       "      <th>count</th>\n",
       "      <td>215.000000</td>\n",
       "      <td>215.0</td>\n",
       "      <td>215.000000</td>\n",
       "      <td>215.000000</td>\n",
       "      <td>215.000000</td>\n",
       "    </tr>\n",
       "    <tr>\n",
       "      <th>mean</th>\n",
       "      <td>38163.000000</td>\n",
       "      <td>221.0</td>\n",
       "      <td>108.000000</td>\n",
       "      <td>17.406535</td>\n",
       "      <td>17.598325</td>\n",
       "    </tr>\n",
       "    <tr>\n",
       "      <th>std</th>\n",
       "      <td>62.209324</td>\n",
       "      <td>0.0</td>\n",
       "      <td>62.209324</td>\n",
       "      <td>3.998175</td>\n",
       "      <td>3.990891</td>\n",
       "    </tr>\n",
       "    <tr>\n",
       "      <th>min</th>\n",
       "      <td>38056.000000</td>\n",
       "      <td>221.0</td>\n",
       "      <td>1.000000</td>\n",
       "      <td>11.949517</td>\n",
       "      <td>11.755886</td>\n",
       "    </tr>\n",
       "    <tr>\n",
       "      <th>25%</th>\n",
       "      <td>38109.500000</td>\n",
       "      <td>221.0</td>\n",
       "      <td>54.500000</td>\n",
       "      <td>13.164293</td>\n",
       "      <td>13.734355</td>\n",
       "    </tr>\n",
       "    <tr>\n",
       "      <th>50%</th>\n",
       "      <td>38163.000000</td>\n",
       "      <td>221.0</td>\n",
       "      <td>108.000000</td>\n",
       "      <td>17.444954</td>\n",
       "      <td>17.536684</td>\n",
       "    </tr>\n",
       "    <tr>\n",
       "      <th>75%</th>\n",
       "      <td>38216.500000</td>\n",
       "      <td>221.0</td>\n",
       "      <td>161.500000</td>\n",
       "      <td>20.160013</td>\n",
       "      <td>20.443621</td>\n",
       "    </tr>\n",
       "    <tr>\n",
       "      <th>max</th>\n",
       "      <td>38270.000000</td>\n",
       "      <td>221.0</td>\n",
       "      <td>215.000000</td>\n",
       "      <td>28.445077</td>\n",
       "      <td>28.766705</td>\n",
       "    </tr>\n",
       "  </tbody>\n",
       "</table>\n",
       "</div>"
      ],
      "text/plain": [
       "       measurement_id  replicate_id  biomolecule_id  raw_abundance  \\\n",
       "count      215.000000         215.0      215.000000     215.000000   \n",
       "mean     38163.000000         221.0      108.000000      17.406535   \n",
       "std         62.209324           0.0       62.209324       3.998175   \n",
       "min      38056.000000         221.0        1.000000      11.949517   \n",
       "25%      38109.500000         221.0       54.500000      13.164293   \n",
       "50%      38163.000000         221.0      108.000000      17.444954   \n",
       "75%      38216.500000         221.0      161.500000      20.160013   \n",
       "max      38270.000000         221.0      215.000000      28.445077   \n",
       "\n",
       "       normalized_abundance  \n",
       "count            215.000000  \n",
       "mean              17.598325  \n",
       "std                3.990891  \n",
       "min               11.755886  \n",
       "25%               13.734355  \n",
       "50%               17.536684  \n",
       "75%               20.443621  \n",
       "max               28.766705  "
      ]
     },
     "execution_count": 93,
     "metadata": {},
     "output_type": "execute_result"
    }
   ],
   "source": [
    "joined_df[joined_df['sample_id']=='3'].describe()"
   ]
  },
  {
   "cell_type": "code",
   "execution_count": 19,
   "metadata": {},
   "outputs": [
    {
     "data": {
      "text/html": [
       "<div>\n",
       "<style scoped>\n",
       "    .dataframe tbody tr th:only-of-type {\n",
       "        vertical-align: middle;\n",
       "    }\n",
       "\n",
       "    .dataframe tbody tr th {\n",
       "        vertical-align: top;\n",
       "    }\n",
       "\n",
       "    .dataframe thead th {\n",
       "        text-align: right;\n",
       "    }\n",
       "</style>\n",
       "<table border=\"1\" class=\"dataframe\">\n",
       "  <thead>\n",
       "    <tr style=\"text-align: right;\">\n",
       "      <th>biomolecule_id</th>\n",
       "      <th>1</th>\n",
       "      <th>2</th>\n",
       "      <th>3</th>\n",
       "      <th>4</th>\n",
       "      <th>5</th>\n",
       "      <th>6</th>\n",
       "      <th>7</th>\n",
       "      <th>8</th>\n",
       "      <th>9</th>\n",
       "      <th>10</th>\n",
       "      <th>...</th>\n",
       "      <th>206</th>\n",
       "      <th>207</th>\n",
       "      <th>208</th>\n",
       "      <th>209</th>\n",
       "      <th>210</th>\n",
       "      <th>211</th>\n",
       "      <th>212</th>\n",
       "      <th>213</th>\n",
       "      <th>214</th>\n",
       "      <th>215</th>\n",
       "    </tr>\n",
       "    <tr>\n",
       "      <th>sample_id</th>\n",
       "      <th></th>\n",
       "      <th></th>\n",
       "      <th></th>\n",
       "      <th></th>\n",
       "      <th></th>\n",
       "      <th></th>\n",
       "      <th></th>\n",
       "      <th></th>\n",
       "      <th></th>\n",
       "      <th></th>\n",
       "      <th></th>\n",
       "      <th></th>\n",
       "      <th></th>\n",
       "      <th></th>\n",
       "      <th></th>\n",
       "      <th></th>\n",
       "      <th></th>\n",
       "      <th></th>\n",
       "      <th></th>\n",
       "      <th></th>\n",
       "      <th></th>\n",
       "    </tr>\n",
       "  </thead>\n",
       "  <tbody>\n",
       "    <tr>\n",
       "      <th>10</th>\n",
       "      <td>20.625906</td>\n",
       "      <td>21.873159</td>\n",
       "      <td>23.564427</td>\n",
       "      <td>27.688025</td>\n",
       "      <td>16.610075</td>\n",
       "      <td>22.634601</td>\n",
       "      <td>12.231073</td>\n",
       "      <td>14.160800</td>\n",
       "      <td>13.309080</td>\n",
       "      <td>23.895285</td>\n",
       "      <td>...</td>\n",
       "      <td>13.519018</td>\n",
       "      <td>13.388211</td>\n",
       "      <td>13.478136</td>\n",
       "      <td>20.504155</td>\n",
       "      <td>17.512638</td>\n",
       "      <td>15.204200</td>\n",
       "      <td>13.812129</td>\n",
       "      <td>13.804686</td>\n",
       "      <td>17.166528</td>\n",
       "      <td>17.166528</td>\n",
       "    </tr>\n",
       "    <tr>\n",
       "      <th>100</th>\n",
       "      <td>20.662917</td>\n",
       "      <td>22.549653</td>\n",
       "      <td>22.840298</td>\n",
       "      <td>26.082512</td>\n",
       "      <td>20.761355</td>\n",
       "      <td>22.129562</td>\n",
       "      <td>13.516431</td>\n",
       "      <td>17.911787</td>\n",
       "      <td>13.108486</td>\n",
       "      <td>15.764481</td>\n",
       "      <td>...</td>\n",
       "      <td>13.530966</td>\n",
       "      <td>13.537485</td>\n",
       "      <td>13.344140</td>\n",
       "      <td>13.788838</td>\n",
       "      <td>14.006516</td>\n",
       "      <td>17.436237</td>\n",
       "      <td>14.091067</td>\n",
       "      <td>13.730729</td>\n",
       "      <td>17.113001</td>\n",
       "      <td>17.113001</td>\n",
       "    </tr>\n",
       "    <tr>\n",
       "      <th>101</th>\n",
       "      <td>22.360212</td>\n",
       "      <td>21.846840</td>\n",
       "      <td>23.050276</td>\n",
       "      <td>26.990202</td>\n",
       "      <td>18.928471</td>\n",
       "      <td>21.942203</td>\n",
       "      <td>13.364934</td>\n",
       "      <td>13.401198</td>\n",
       "      <td>13.029064</td>\n",
       "      <td>13.519000</td>\n",
       "      <td>...</td>\n",
       "      <td>12.858362</td>\n",
       "      <td>13.017871</td>\n",
       "      <td>11.943209</td>\n",
       "      <td>13.132328</td>\n",
       "      <td>12.695043</td>\n",
       "      <td>16.700752</td>\n",
       "      <td>13.280378</td>\n",
       "      <td>12.620021</td>\n",
       "      <td>18.143107</td>\n",
       "      <td>18.143107</td>\n",
       "    </tr>\n",
       "    <tr>\n",
       "      <th>102</th>\n",
       "      <td>21.813873</td>\n",
       "      <td>21.989365</td>\n",
       "      <td>24.234489</td>\n",
       "      <td>28.192456</td>\n",
       "      <td>16.838486</td>\n",
       "      <td>21.875789</td>\n",
       "      <td>12.155274</td>\n",
       "      <td>17.781388</td>\n",
       "      <td>13.581510</td>\n",
       "      <td>13.555614</td>\n",
       "      <td>...</td>\n",
       "      <td>11.881474</td>\n",
       "      <td>13.621948</td>\n",
       "      <td>13.704429</td>\n",
       "      <td>12.247701</td>\n",
       "      <td>17.927238</td>\n",
       "      <td>16.414562</td>\n",
       "      <td>13.065931</td>\n",
       "      <td>12.379498</td>\n",
       "      <td>16.111023</td>\n",
       "      <td>16.111023</td>\n",
       "    </tr>\n",
       "    <tr>\n",
       "      <th>103</th>\n",
       "      <td>21.923397</td>\n",
       "      <td>21.740432</td>\n",
       "      <td>22.852894</td>\n",
       "      <td>25.741902</td>\n",
       "      <td>17.267050</td>\n",
       "      <td>21.375991</td>\n",
       "      <td>12.467264</td>\n",
       "      <td>13.691479</td>\n",
       "      <td>12.633755</td>\n",
       "      <td>12.707312</td>\n",
       "      <td>...</td>\n",
       "      <td>12.539112</td>\n",
       "      <td>12.888349</td>\n",
       "      <td>12.959471</td>\n",
       "      <td>13.089788</td>\n",
       "      <td>14.869794</td>\n",
       "      <td>16.710962</td>\n",
       "      <td>13.741838</td>\n",
       "      <td>12.613334</td>\n",
       "      <td>13.451596</td>\n",
       "      <td>13.451596</td>\n",
       "    </tr>\n",
       "    <tr>\n",
       "      <th>...</th>\n",
       "      <td>...</td>\n",
       "      <td>...</td>\n",
       "      <td>...</td>\n",
       "      <td>...</td>\n",
       "      <td>...</td>\n",
       "      <td>...</td>\n",
       "      <td>...</td>\n",
       "      <td>...</td>\n",
       "      <td>...</td>\n",
       "      <td>...</td>\n",
       "      <td>...</td>\n",
       "      <td>...</td>\n",
       "      <td>...</td>\n",
       "      <td>...</td>\n",
       "      <td>...</td>\n",
       "      <td>...</td>\n",
       "      <td>...</td>\n",
       "      <td>...</td>\n",
       "      <td>...</td>\n",
       "      <td>...</td>\n",
       "      <td>...</td>\n",
       "    </tr>\n",
       "    <tr>\n",
       "      <th>95</th>\n",
       "      <td>20.792265</td>\n",
       "      <td>21.711325</td>\n",
       "      <td>22.881555</td>\n",
       "      <td>25.406746</td>\n",
       "      <td>18.488325</td>\n",
       "      <td>24.077752</td>\n",
       "      <td>13.021569</td>\n",
       "      <td>14.025023</td>\n",
       "      <td>12.598229</td>\n",
       "      <td>15.929856</td>\n",
       "      <td>...</td>\n",
       "      <td>13.129927</td>\n",
       "      <td>12.967827</td>\n",
       "      <td>12.522604</td>\n",
       "      <td>12.612814</td>\n",
       "      <td>18.002319</td>\n",
       "      <td>16.685760</td>\n",
       "      <td>13.718468</td>\n",
       "      <td>12.695960</td>\n",
       "      <td>15.104294</td>\n",
       "      <td>15.104294</td>\n",
       "    </tr>\n",
       "    <tr>\n",
       "      <th>96</th>\n",
       "      <td>23.134671</td>\n",
       "      <td>21.810881</td>\n",
       "      <td>23.192704</td>\n",
       "      <td>26.760238</td>\n",
       "      <td>12.664495</td>\n",
       "      <td>21.575231</td>\n",
       "      <td>11.516891</td>\n",
       "      <td>17.768753</td>\n",
       "      <td>12.810127</td>\n",
       "      <td>13.388827</td>\n",
       "      <td>...</td>\n",
       "      <td>12.728948</td>\n",
       "      <td>13.146975</td>\n",
       "      <td>12.589521</td>\n",
       "      <td>12.670543</td>\n",
       "      <td>20.546220</td>\n",
       "      <td>16.414667</td>\n",
       "      <td>13.347771</td>\n",
       "      <td>11.033808</td>\n",
       "      <td>17.419396</td>\n",
       "      <td>17.419396</td>\n",
       "    </tr>\n",
       "    <tr>\n",
       "      <th>97</th>\n",
       "      <td>21.939655</td>\n",
       "      <td>21.270367</td>\n",
       "      <td>23.387662</td>\n",
       "      <td>27.649908</td>\n",
       "      <td>21.495076</td>\n",
       "      <td>21.476968</td>\n",
       "      <td>12.540594</td>\n",
       "      <td>18.217819</td>\n",
       "      <td>13.291450</td>\n",
       "      <td>14.018969</td>\n",
       "      <td>...</td>\n",
       "      <td>13.073348</td>\n",
       "      <td>13.056241</td>\n",
       "      <td>13.376785</td>\n",
       "      <td>13.397164</td>\n",
       "      <td>19.281831</td>\n",
       "      <td>16.654429</td>\n",
       "      <td>13.344848</td>\n",
       "      <td>12.101831</td>\n",
       "      <td>16.104166</td>\n",
       "      <td>16.104166</td>\n",
       "    </tr>\n",
       "    <tr>\n",
       "      <th>98</th>\n",
       "      <td>21.056998</td>\n",
       "      <td>22.265556</td>\n",
       "      <td>23.451757</td>\n",
       "      <td>27.629869</td>\n",
       "      <td>14.642526</td>\n",
       "      <td>22.779673</td>\n",
       "      <td>13.600387</td>\n",
       "      <td>12.657716</td>\n",
       "      <td>13.601379</td>\n",
       "      <td>13.860456</td>\n",
       "      <td>...</td>\n",
       "      <td>12.896940</td>\n",
       "      <td>13.165931</td>\n",
       "      <td>13.627781</td>\n",
       "      <td>13.649146</td>\n",
       "      <td>17.539071</td>\n",
       "      <td>16.602548</td>\n",
       "      <td>13.783937</td>\n",
       "      <td>13.990112</td>\n",
       "      <td>18.085293</td>\n",
       "      <td>18.085293</td>\n",
       "    </tr>\n",
       "    <tr>\n",
       "      <th>99</th>\n",
       "      <td>18.486430</td>\n",
       "      <td>21.405817</td>\n",
       "      <td>22.765626</td>\n",
       "      <td>26.236083</td>\n",
       "      <td>16.705777</td>\n",
       "      <td>22.397412</td>\n",
       "      <td>12.956896</td>\n",
       "      <td>14.210218</td>\n",
       "      <td>13.223755</td>\n",
       "      <td>15.352831</td>\n",
       "      <td>...</td>\n",
       "      <td>12.719173</td>\n",
       "      <td>13.105211</td>\n",
       "      <td>13.332857</td>\n",
       "      <td>13.372075</td>\n",
       "      <td>15.964938</td>\n",
       "      <td>16.334882</td>\n",
       "      <td>14.294951</td>\n",
       "      <td>13.399081</td>\n",
       "      <td>17.066767</td>\n",
       "      <td>17.066767</td>\n",
       "    </tr>\n",
       "  </tbody>\n",
       "</table>\n",
       "<p>126 rows × 215 columns</p>\n",
       "</div>"
      ],
      "text/plain": [
       "biomolecule_id        1          2          3          4          5    \\\n",
       "sample_id                                                               \n",
       "10              20.625906  21.873159  23.564427  27.688025  16.610075   \n",
       "100             20.662917  22.549653  22.840298  26.082512  20.761355   \n",
       "101             22.360212  21.846840  23.050276  26.990202  18.928471   \n",
       "102             21.813873  21.989365  24.234489  28.192456  16.838486   \n",
       "103             21.923397  21.740432  22.852894  25.741902  17.267050   \n",
       "...                   ...        ...        ...        ...        ...   \n",
       "95              20.792265  21.711325  22.881555  25.406746  18.488325   \n",
       "96              23.134671  21.810881  23.192704  26.760238  12.664495   \n",
       "97              21.939655  21.270367  23.387662  27.649908  21.495076   \n",
       "98              21.056998  22.265556  23.451757  27.629869  14.642526   \n",
       "99              18.486430  21.405817  22.765626  26.236083  16.705777   \n",
       "\n",
       "biomolecule_id        6          7          8          9          10   ...  \\\n",
       "sample_id                                                              ...   \n",
       "10              22.634601  12.231073  14.160800  13.309080  23.895285  ...   \n",
       "100             22.129562  13.516431  17.911787  13.108486  15.764481  ...   \n",
       "101             21.942203  13.364934  13.401198  13.029064  13.519000  ...   \n",
       "102             21.875789  12.155274  17.781388  13.581510  13.555614  ...   \n",
       "103             21.375991  12.467264  13.691479  12.633755  12.707312  ...   \n",
       "...                   ...        ...        ...        ...        ...  ...   \n",
       "95              24.077752  13.021569  14.025023  12.598229  15.929856  ...   \n",
       "96              21.575231  11.516891  17.768753  12.810127  13.388827  ...   \n",
       "97              21.476968  12.540594  18.217819  13.291450  14.018969  ...   \n",
       "98              22.779673  13.600387  12.657716  13.601379  13.860456  ...   \n",
       "99              22.397412  12.956896  14.210218  13.223755  15.352831  ...   \n",
       "\n",
       "biomolecule_id        206        207        208        209        210  \\\n",
       "sample_id                                                               \n",
       "10              13.519018  13.388211  13.478136  20.504155  17.512638   \n",
       "100             13.530966  13.537485  13.344140  13.788838  14.006516   \n",
       "101             12.858362  13.017871  11.943209  13.132328  12.695043   \n",
       "102             11.881474  13.621948  13.704429  12.247701  17.927238   \n",
       "103             12.539112  12.888349  12.959471  13.089788  14.869794   \n",
       "...                   ...        ...        ...        ...        ...   \n",
       "95              13.129927  12.967827  12.522604  12.612814  18.002319   \n",
       "96              12.728948  13.146975  12.589521  12.670543  20.546220   \n",
       "97              13.073348  13.056241  13.376785  13.397164  19.281831   \n",
       "98              12.896940  13.165931  13.627781  13.649146  17.539071   \n",
       "99              12.719173  13.105211  13.332857  13.372075  15.964938   \n",
       "\n",
       "biomolecule_id        211        212        213        214        215  \n",
       "sample_id                                                              \n",
       "10              15.204200  13.812129  13.804686  17.166528  17.166528  \n",
       "100             17.436237  14.091067  13.730729  17.113001  17.113001  \n",
       "101             16.700752  13.280378  12.620021  18.143107  18.143107  \n",
       "102             16.414562  13.065931  12.379498  16.111023  16.111023  \n",
       "103             16.710962  13.741838  12.613334  13.451596  13.451596  \n",
       "...                   ...        ...        ...        ...        ...  \n",
       "95              16.685760  13.718468  12.695960  15.104294  15.104294  \n",
       "96              16.414667  13.347771  11.033808  17.419396  17.419396  \n",
       "97              16.654429  13.344848  12.101831  16.104166  16.104166  \n",
       "98              16.602548  13.783937  13.990112  18.085293  18.085293  \n",
       "99              16.334882  14.294951  13.399081  17.066767  17.066767  \n",
       "\n",
       "[126 rows x 215 columns]"
      ]
     },
     "execution_count": 19,
     "metadata": {},
     "output_type": "execute_result"
    }
   ],
   "source": [
    "wide_df.dropna()"
   ]
  },
  {
   "cell_type": "markdown",
   "metadata": {},
   "source": [
    "## 3. Run PCA"
   ]
  },
  {
   "cell_type": "code",
   "execution_count": 20,
   "metadata": {},
   "outputs": [
    {
     "name": "stdout",
     "output_type": "stream",
     "text": [
      "[0.80730823 0.03501811 0.02746934 0.0143676  0.01197397 0.00857376\n",
      " 0.00711822 0.00588702 0.00413274 0.00400644]\n",
      "0.9258554464044985\n"
     ]
    }
   ],
   "source": [
    "from sklearn.decomposition import PCA\n",
    "\n",
    "pca = PCA(n_components = 10)\n",
    "PCA = pca.fit_transform(wide_df.dropna()) # drop first sample with missing values\n",
    "\n",
    "print(pca.explained_variance_ratio_)\n",
    "print(pca.explained_variance_ratio_.sum())\n",
    "\n",
    "PC1s = []\n",
    "PC2s = []\n",
    "for PCs in PCA:\n",
    "    PC1 = PCs[0]\n",
    "    PC2 = PCs[1]\n",
    "    PC1s.append(PC1)\n",
    "    PC2s.append(PC2)\n",
    "\n",
    "#colormap = {'subject1': 'red', 'subject2': 'blue'}\n",
    "#colors = [colormap[x] for x in sample_labels]"
   ]
  },
  {
   "cell_type": "markdown",
   "metadata": {},
   "source": [
    "Get metadata for color and shape scheme"
   ]
  },
  {
   "cell_type": "code",
   "execution_count": 59,
   "metadata": {},
   "outputs": [
    {
     "data": {
      "text/html": [
       "<div>\n",
       "<style scoped>\n",
       "    .dataframe tbody tr th:only-of-type {\n",
       "        vertical-align: middle;\n",
       "    }\n",
       "\n",
       "    .dataframe tbody tr th {\n",
       "        vertical-align: top;\n",
       "    }\n",
       "\n",
       "    .dataframe thead th {\n",
       "        text-align: right;\n",
       "    }\n",
       "</style>\n",
       "<table border=\"1\" class=\"dataframe\">\n",
       "  <thead>\n",
       "    <tr style=\"text-align: right;\">\n",
       "      <th></th>\n",
       "      <th>Sample_label</th>\n",
       "      <th>Albany_sampleID</th>\n",
       "      <th>COVID</th>\n",
       "      <th>Hospital_free_days</th>\n",
       "      <th>Age_less_than_90</th>\n",
       "      <th>Gender</th>\n",
       "      <th>ICU_1</th>\n",
       "      <th>APACHEII</th>\n",
       "      <th>Charlson_score</th>\n",
       "      <th>Mech_Ventilation</th>\n",
       "      <th>Vent_free_days</th>\n",
       "    </tr>\n",
       "    <tr>\n",
       "      <th>sample_id</th>\n",
       "      <th></th>\n",
       "      <th></th>\n",
       "      <th></th>\n",
       "      <th></th>\n",
       "      <th></th>\n",
       "      <th></th>\n",
       "      <th></th>\n",
       "      <th></th>\n",
       "      <th></th>\n",
       "      <th></th>\n",
       "      <th></th>\n",
       "    </tr>\n",
       "  </thead>\n",
       "  <tbody>\n",
       "    <tr>\n",
       "      <th>1</th>\n",
       "      <td>COVID_01</td>\n",
       "      <td>C1</td>\n",
       "      <td>1</td>\n",
       "      <td>0</td>\n",
       "      <td>39</td>\n",
       "      <td>M</td>\n",
       "      <td>0</td>\n",
       "      <td>15</td>\n",
       "      <td>0</td>\n",
       "      <td>1</td>\n",
       "      <td>0</td>\n",
       "    </tr>\n",
       "    <tr>\n",
       "      <th>2</th>\n",
       "      <td>COVID_02</td>\n",
       "      <td>C2</td>\n",
       "      <td>1</td>\n",
       "      <td>22</td>\n",
       "      <td>63</td>\n",
       "      <td>M</td>\n",
       "      <td>0</td>\n",
       "      <td></td>\n",
       "      <td>2</td>\n",
       "      <td>0</td>\n",
       "      <td>28</td>\n",
       "    </tr>\n",
       "    <tr>\n",
       "      <th>3</th>\n",
       "      <td>COVID_03</td>\n",
       "      <td>C3</td>\n",
       "      <td>1</td>\n",
       "      <td>1</td>\n",
       "      <td>33</td>\n",
       "      <td>M</td>\n",
       "      <td>0</td>\n",
       "      <td></td>\n",
       "      <td>2</td>\n",
       "      <td>0</td>\n",
       "      <td>28</td>\n",
       "    </tr>\n",
       "    <tr>\n",
       "      <th>4</th>\n",
       "      <td>COVID_04</td>\n",
       "      <td>C4</td>\n",
       "      <td>1</td>\n",
       "      <td>22</td>\n",
       "      <td>49</td>\n",
       "      <td>M</td>\n",
       "      <td>0</td>\n",
       "      <td></td>\n",
       "      <td>1</td>\n",
       "      <td>0</td>\n",
       "      <td>28</td>\n",
       "    </tr>\n",
       "    <tr>\n",
       "      <th>5</th>\n",
       "      <td>COVID_05</td>\n",
       "      <td>C5</td>\n",
       "      <td>1</td>\n",
       "      <td>10</td>\n",
       "      <td>49</td>\n",
       "      <td>M</td>\n",
       "      <td>0</td>\n",
       "      <td>19</td>\n",
       "      <td>1</td>\n",
       "      <td>1</td>\n",
       "      <td>23</td>\n",
       "    </tr>\n",
       "  </tbody>\n",
       "</table>\n",
       "</div>"
      ],
      "text/plain": [
       "          Sample_label Albany_sampleID COVID Hospital_free_days  \\\n",
       "sample_id                                                         \n",
       "1             COVID_01              C1     1                  0   \n",
       "2             COVID_02              C2     1                 22   \n",
       "3             COVID_03              C3     1                  1   \n",
       "4             COVID_04              C4     1                 22   \n",
       "5             COVID_05              C5     1                 10   \n",
       "\n",
       "          Age_less_than_90 Gender ICU_1 APACHEII Charlson_score  \\\n",
       "sample_id                                                         \n",
       "1                       39      M     0       15              0   \n",
       "2                       63      M     0                       2   \n",
       "3                       33      M     0                       2   \n",
       "4                       49      M     0                       1   \n",
       "5                       49      M     0       19              1   \n",
       "\n",
       "          Mech_Ventilation Vent_free_days  \n",
       "sample_id                                  \n",
       "1                        1              0  \n",
       "2                        0             28  \n",
       "3                        0             28  \n",
       "4                        0             28  \n",
       "5                        1             23  "
      ]
     },
     "execution_count": 59,
     "metadata": {},
     "output_type": "execute_result"
    }
   ],
   "source": [
    "deidentified_patient_metadata_df = joined_df[deidentified_patient_metadata.columns.keys()].drop_duplicates().set_index('sample_id')\n",
    "deidentified_patient_metadata_df.head()"
   ]
  },
  {
   "cell_type": "code",
   "execution_count": 104,
   "metadata": {},
   "outputs": [
    {
     "data": {
      "text/plain": [
       "Sample_label          COVID_54\n",
       "Albany_sampleID               \n",
       "COVID                         \n",
       "Hospital_free_days            \n",
       "Age_less_than_90              \n",
       "Gender                        \n",
       "ICU_1                         \n",
       "APACHEII                      \n",
       "Charlson_score                \n",
       "Mech_Ventilation              \n",
       "Vent_free_days                \n",
       "Name: 54, dtype: object"
      ]
     },
     "execution_count": 104,
     "metadata": {},
     "output_type": "execute_result"
    }
   ],
   "source": [
    "deidentified_patient_metadata_df.loc['54']"
   ]
  },
  {
   "cell_type": "code",
   "execution_count": 62,
   "metadata": {},
   "outputs": [
    {
     "data": {
      "text/html": [
       "<div>\n",
       "<style scoped>\n",
       "    .dataframe tbody tr th:only-of-type {\n",
       "        vertical-align: middle;\n",
       "    }\n",
       "\n",
       "    .dataframe tbody tr th {\n",
       "        vertical-align: top;\n",
       "    }\n",
       "\n",
       "    .dataframe thead th {\n",
       "        text-align: right;\n",
       "    }\n",
       "</style>\n",
       "<table border=\"1\" class=\"dataframe\">\n",
       "  <thead>\n",
       "    <tr style=\"text-align: right;\">\n",
       "      <th></th>\n",
       "      <th>1</th>\n",
       "      <th>2</th>\n",
       "      <th>3</th>\n",
       "      <th>4</th>\n",
       "      <th>5</th>\n",
       "      <th>6</th>\n",
       "      <th>7</th>\n",
       "      <th>8</th>\n",
       "      <th>9</th>\n",
       "      <th>10</th>\n",
       "      <th>...</th>\n",
       "      <th>Albany_sampleID</th>\n",
       "      <th>COVID</th>\n",
       "      <th>Hospital_free_days</th>\n",
       "      <th>Age_less_than_90</th>\n",
       "      <th>Gender</th>\n",
       "      <th>ICU_1</th>\n",
       "      <th>APACHEII</th>\n",
       "      <th>Charlson_score</th>\n",
       "      <th>Mech_Ventilation</th>\n",
       "      <th>Vent_free_days</th>\n",
       "    </tr>\n",
       "    <tr>\n",
       "      <th>sample_id</th>\n",
       "      <th></th>\n",
       "      <th></th>\n",
       "      <th></th>\n",
       "      <th></th>\n",
       "      <th></th>\n",
       "      <th></th>\n",
       "      <th></th>\n",
       "      <th></th>\n",
       "      <th></th>\n",
       "      <th></th>\n",
       "      <th></th>\n",
       "      <th></th>\n",
       "      <th></th>\n",
       "      <th></th>\n",
       "      <th></th>\n",
       "      <th></th>\n",
       "      <th></th>\n",
       "      <th></th>\n",
       "      <th></th>\n",
       "      <th></th>\n",
       "      <th></th>\n",
       "    </tr>\n",
       "  </thead>\n",
       "  <tbody>\n",
       "    <tr>\n",
       "      <th>10</th>\n",
       "      <td>20.625906</td>\n",
       "      <td>21.873159</td>\n",
       "      <td>23.564427</td>\n",
       "      <td>27.688025</td>\n",
       "      <td>16.610075</td>\n",
       "      <td>22.634601</td>\n",
       "      <td>12.231073</td>\n",
       "      <td>14.160800</td>\n",
       "      <td>13.309080</td>\n",
       "      <td>23.895285</td>\n",
       "      <td>...</td>\n",
       "      <td>C10</td>\n",
       "      <td>1</td>\n",
       "      <td>0</td>\n",
       "      <td>62</td>\n",
       "      <td>M</td>\n",
       "      <td>1</td>\n",
       "      <td>34</td>\n",
       "      <td>1</td>\n",
       "      <td>1</td>\n",
       "      <td>2</td>\n",
       "    </tr>\n",
       "    <tr>\n",
       "      <th>100</th>\n",
       "      <td>20.662917</td>\n",
       "      <td>22.549653</td>\n",
       "      <td>22.840298</td>\n",
       "      <td>26.082512</td>\n",
       "      <td>20.761355</td>\n",
       "      <td>22.129562</td>\n",
       "      <td>13.516431</td>\n",
       "      <td>17.911787</td>\n",
       "      <td>13.108486</td>\n",
       "      <td>15.764481</td>\n",
       "      <td>...</td>\n",
       "      <td>C100</td>\n",
       "      <td>1</td>\n",
       "      <td>NA</td>\n",
       "      <td>74</td>\n",
       "      <td>F</td>\n",
       "      <td>0</td>\n",
       "      <td></td>\n",
       "      <td>6</td>\n",
       "      <td>0</td>\n",
       "      <td>28</td>\n",
       "    </tr>\n",
       "    <tr>\n",
       "      <th>101</th>\n",
       "      <td>22.360212</td>\n",
       "      <td>21.846840</td>\n",
       "      <td>23.050276</td>\n",
       "      <td>26.990202</td>\n",
       "      <td>18.928471</td>\n",
       "      <td>21.942203</td>\n",
       "      <td>13.364934</td>\n",
       "      <td>13.401198</td>\n",
       "      <td>13.029064</td>\n",
       "      <td>13.519000</td>\n",
       "      <td>...</td>\n",
       "      <td>C101</td>\n",
       "      <td>1</td>\n",
       "      <td>NA</td>\n",
       "      <td>58</td>\n",
       "      <td>M</td>\n",
       "      <td>1</td>\n",
       "      <td>14</td>\n",
       "      <td>3</td>\n",
       "      <td>0</td>\n",
       "      <td>28</td>\n",
       "    </tr>\n",
       "    <tr>\n",
       "      <th>102</th>\n",
       "      <td>21.813873</td>\n",
       "      <td>21.989365</td>\n",
       "      <td>24.234489</td>\n",
       "      <td>28.192456</td>\n",
       "      <td>16.838486</td>\n",
       "      <td>21.875789</td>\n",
       "      <td>12.155274</td>\n",
       "      <td>17.781388</td>\n",
       "      <td>13.581510</td>\n",
       "      <td>13.555614</td>\n",
       "      <td>...</td>\n",
       "      <td>C102</td>\n",
       "      <td>1</td>\n",
       "      <td>0</td>\n",
       "      <td>84</td>\n",
       "      <td>M</td>\n",
       "      <td>0</td>\n",
       "      <td></td>\n",
       "      <td></td>\n",
       "      <td></td>\n",
       "      <td></td>\n",
       "    </tr>\n",
       "    <tr>\n",
       "      <th>103</th>\n",
       "      <td>21.923397</td>\n",
       "      <td>21.740432</td>\n",
       "      <td>22.852894</td>\n",
       "      <td>25.741902</td>\n",
       "      <td>17.267050</td>\n",
       "      <td>21.375991</td>\n",
       "      <td>12.467264</td>\n",
       "      <td>13.691479</td>\n",
       "      <td>12.633755</td>\n",
       "      <td>12.707312</td>\n",
       "      <td>...</td>\n",
       "      <td>C103</td>\n",
       "      <td>1</td>\n",
       "      <td>NA</td>\n",
       "      <td>83</td>\n",
       "      <td>M</td>\n",
       "      <td>0</td>\n",
       "      <td></td>\n",
       "      <td>4</td>\n",
       "      <td>0</td>\n",
       "      <td>28</td>\n",
       "    </tr>\n",
       "    <tr>\n",
       "      <th>...</th>\n",
       "      <td>...</td>\n",
       "      <td>...</td>\n",
       "      <td>...</td>\n",
       "      <td>...</td>\n",
       "      <td>...</td>\n",
       "      <td>...</td>\n",
       "      <td>...</td>\n",
       "      <td>...</td>\n",
       "      <td>...</td>\n",
       "      <td>...</td>\n",
       "      <td>...</td>\n",
       "      <td>...</td>\n",
       "      <td>...</td>\n",
       "      <td>...</td>\n",
       "      <td>...</td>\n",
       "      <td>...</td>\n",
       "      <td>...</td>\n",
       "      <td>...</td>\n",
       "      <td>...</td>\n",
       "      <td>...</td>\n",
       "      <td>...</td>\n",
       "    </tr>\n",
       "    <tr>\n",
       "      <th>95</th>\n",
       "      <td>20.792265</td>\n",
       "      <td>21.711325</td>\n",
       "      <td>22.881555</td>\n",
       "      <td>25.406746</td>\n",
       "      <td>18.488325</td>\n",
       "      <td>24.077752</td>\n",
       "      <td>13.021569</td>\n",
       "      <td>14.025023</td>\n",
       "      <td>12.598229</td>\n",
       "      <td>15.929856</td>\n",
       "      <td>...</td>\n",
       "      <td>C95</td>\n",
       "      <td>1</td>\n",
       "      <td>16</td>\n",
       "      <td>49</td>\n",
       "      <td>M</td>\n",
       "      <td>0</td>\n",
       "      <td></td>\n",
       "      <td>2</td>\n",
       "      <td>0</td>\n",
       "      <td>28</td>\n",
       "    </tr>\n",
       "    <tr>\n",
       "      <th>96</th>\n",
       "      <td>23.134671</td>\n",
       "      <td>21.810881</td>\n",
       "      <td>23.192704</td>\n",
       "      <td>26.760238</td>\n",
       "      <td>12.664495</td>\n",
       "      <td>21.575231</td>\n",
       "      <td>11.516891</td>\n",
       "      <td>17.768753</td>\n",
       "      <td>12.810127</td>\n",
       "      <td>13.388827</td>\n",
       "      <td>...</td>\n",
       "      <td>C96</td>\n",
       "      <td>1</td>\n",
       "      <td>24</td>\n",
       "      <td>51</td>\n",
       "      <td>M</td>\n",
       "      <td>0</td>\n",
       "      <td></td>\n",
       "      <td>3</td>\n",
       "      <td>0</td>\n",
       "      <td>28</td>\n",
       "    </tr>\n",
       "    <tr>\n",
       "      <th>97</th>\n",
       "      <td>21.939655</td>\n",
       "      <td>21.270367</td>\n",
       "      <td>23.387662</td>\n",
       "      <td>27.649908</td>\n",
       "      <td>21.495076</td>\n",
       "      <td>21.476968</td>\n",
       "      <td>12.540594</td>\n",
       "      <td>18.217819</td>\n",
       "      <td>13.291450</td>\n",
       "      <td>14.018969</td>\n",
       "      <td>...</td>\n",
       "      <td>C97</td>\n",
       "      <td>1</td>\n",
       "      <td>NA</td>\n",
       "      <td>76</td>\n",
       "      <td>M</td>\n",
       "      <td>1</td>\n",
       "      <td>18</td>\n",
       "      <td>9</td>\n",
       "      <td>0</td>\n",
       "      <td>28</td>\n",
       "    </tr>\n",
       "    <tr>\n",
       "      <th>98</th>\n",
       "      <td>21.056998</td>\n",
       "      <td>22.265556</td>\n",
       "      <td>23.451757</td>\n",
       "      <td>27.629869</td>\n",
       "      <td>14.642526</td>\n",
       "      <td>22.779673</td>\n",
       "      <td>13.600387</td>\n",
       "      <td>12.657716</td>\n",
       "      <td>13.601379</td>\n",
       "      <td>13.860456</td>\n",
       "      <td>...</td>\n",
       "      <td>C98</td>\n",
       "      <td>1</td>\n",
       "      <td>NA</td>\n",
       "      <td>81</td>\n",
       "      <td>M</td>\n",
       "      <td>0</td>\n",
       "      <td></td>\n",
       "      <td>8</td>\n",
       "      <td>0</td>\n",
       "      <td>28</td>\n",
       "    </tr>\n",
       "    <tr>\n",
       "      <th>99</th>\n",
       "      <td>18.486430</td>\n",
       "      <td>21.405817</td>\n",
       "      <td>22.765626</td>\n",
       "      <td>26.236083</td>\n",
       "      <td>16.705777</td>\n",
       "      <td>22.397412</td>\n",
       "      <td>12.956896</td>\n",
       "      <td>14.210218</td>\n",
       "      <td>13.223755</td>\n",
       "      <td>15.352831</td>\n",
       "      <td>...</td>\n",
       "      <td>C99</td>\n",
       "      <td>1</td>\n",
       "      <td>NA</td>\n",
       "      <td>71</td>\n",
       "      <td>M</td>\n",
       "      <td>1</td>\n",
       "      <td>12</td>\n",
       "      <td>5</td>\n",
       "      <td>0</td>\n",
       "      <td>28</td>\n",
       "    </tr>\n",
       "  </tbody>\n",
       "</table>\n",
       "<p>126 rows × 226 columns</p>\n",
       "</div>"
      ],
      "text/plain": [
       "                   1          2          3          4          5          6  \\\n",
       "sample_id                                                                     \n",
       "10         20.625906  21.873159  23.564427  27.688025  16.610075  22.634601   \n",
       "100        20.662917  22.549653  22.840298  26.082512  20.761355  22.129562   \n",
       "101        22.360212  21.846840  23.050276  26.990202  18.928471  21.942203   \n",
       "102        21.813873  21.989365  24.234489  28.192456  16.838486  21.875789   \n",
       "103        21.923397  21.740432  22.852894  25.741902  17.267050  21.375991   \n",
       "...              ...        ...        ...        ...        ...        ...   \n",
       "95         20.792265  21.711325  22.881555  25.406746  18.488325  24.077752   \n",
       "96         23.134671  21.810881  23.192704  26.760238  12.664495  21.575231   \n",
       "97         21.939655  21.270367  23.387662  27.649908  21.495076  21.476968   \n",
       "98         21.056998  22.265556  23.451757  27.629869  14.642526  22.779673   \n",
       "99         18.486430  21.405817  22.765626  26.236083  16.705777  22.397412   \n",
       "\n",
       "                   7          8          9         10  ...  Albany_sampleID  \\\n",
       "sample_id                                              ...                    \n",
       "10         12.231073  14.160800  13.309080  23.895285  ...              C10   \n",
       "100        13.516431  17.911787  13.108486  15.764481  ...             C100   \n",
       "101        13.364934  13.401198  13.029064  13.519000  ...             C101   \n",
       "102        12.155274  17.781388  13.581510  13.555614  ...             C102   \n",
       "103        12.467264  13.691479  12.633755  12.707312  ...             C103   \n",
       "...              ...        ...        ...        ...  ...              ...   \n",
       "95         13.021569  14.025023  12.598229  15.929856  ...              C95   \n",
       "96         11.516891  17.768753  12.810127  13.388827  ...              C96   \n",
       "97         12.540594  18.217819  13.291450  14.018969  ...              C97   \n",
       "98         13.600387  12.657716  13.601379  13.860456  ...              C98   \n",
       "99         12.956896  14.210218  13.223755  15.352831  ...              C99   \n",
       "\n",
       "           COVID  Hospital_free_days  Age_less_than_90  Gender  ICU_1  \\\n",
       "sample_id                                                               \n",
       "10             1                   0                62       M      1   \n",
       "100            1                  NA                74       F      0   \n",
       "101            1                  NA                58       M      1   \n",
       "102            1                   0                84       M      0   \n",
       "103            1                  NA                83       M      0   \n",
       "...          ...                 ...               ...     ...    ...   \n",
       "95             1                  16                49       M      0   \n",
       "96             1                  24                51       M      0   \n",
       "97             1                  NA                76       M      1   \n",
       "98             1                  NA                81       M      0   \n",
       "99             1                  NA                71       M      1   \n",
       "\n",
       "           APACHEII  Charlson_score  Mech_Ventilation  Vent_free_days  \n",
       "sample_id                                                              \n",
       "10               34               1                 1               2  \n",
       "100                               6                 0              28  \n",
       "101              14               3                 0              28  \n",
       "102                                                                    \n",
       "103                               4                 0              28  \n",
       "...             ...             ...               ...             ...  \n",
       "95                                2                 0              28  \n",
       "96                                3                 0              28  \n",
       "97               18               9                 0              28  \n",
       "98                                8                 0              28  \n",
       "99               12               5                 0              28  \n",
       "\n",
       "[126 rows x 226 columns]"
      ]
     },
     "execution_count": 62,
     "metadata": {},
     "output_type": "execute_result"
    }
   ],
   "source": [
    "# combine quant values with clinical metadata \n",
    "combined_df = wide_df.join(deidentified_patient_metadata_df).dropna()\n",
    "combined_df"
   ]
  },
  {
   "cell_type": "code",
   "execution_count": 69,
   "metadata": {},
   "outputs": [
    {
     "data": {
      "text/plain": [
       "1    101\n",
       "0     24\n",
       "       1\n",
       "Name: COVID, dtype: int64"
      ]
     },
     "execution_count": 69,
     "metadata": {},
     "output_type": "execute_result"
    }
   ],
   "source": [
    "combined_df['COVID'].value_counts()"
   ]
  },
  {
   "cell_type": "code",
   "execution_count": 65,
   "metadata": {},
   "outputs": [],
   "source": [
    "### Class Color\n",
    "color_dict = {\"COVID_ICU\":\"#D53E4F\",\n",
    "\"COVID_NONICU\":\"#FDAE61\",  \n",
    "\"NONCOVID_ICU\":\"#74ADD1\", \n",
    "\"NONCOVID_NONICU\":\"#66C2A5\",\n",
    "\"Col5\":\"#F46D43\",\n",
    "\"Col6\":\"#5AAE61\", \n",
    "\"Col7\":\"#8073AC\", \n",
    "\"Col8\":\"#DE77AE\", \n",
    "\"Col9\":\"#9E0142\", \n",
    "\"Col10\":\"#F4A582\", \n",
    "\"Col11\":\"#2A4023\", \n",
    "\"Col12\":\"#2C0379\"}"
   ]
  },
  {
   "cell_type": "code",
   "execution_count": 94,
   "metadata": {},
   "outputs": [],
   "source": [
    "# get colors and shapes\n",
    "shape_list = []\n",
    "color_list = []\n",
    "for sample_id, row in combined_df.iterrows():\n",
    "    \n",
    "    ICU_1 = row['ICU_1']\n",
    "    COVID = row['COVID']\n",
    "    \n",
    "    if ICU_1 == \"1\" and COVID == \"1\":\n",
    "        color = color_dict[\"COVID_ICU\"]\n",
    "        color = \"COVID_ICU\"\n",
    "        \n",
    "    elif ICU_1 == \"1\" and COVID == \"0\":\n",
    "        color = color_dict[\"NONCOVID_ICU\"]\n",
    "        color = \"NONCOVID_ICU\"\n",
    "        \n",
    "    elif ICU_1 == \"0\" and COVID == \"1\":\n",
    "        color = color_dict[\"COVID_NONICU\"]\n",
    "        color = 'COVID_NONICU'\n",
    "            \n",
    "    elif ICU_1 == \"0\" and COVID == \"0\":\n",
    "        color = color_dict[\"NONCOVID_NONICU\"]\n",
    "        color = \"NONCOVID_NONICU\"\n",
    "    \n",
    "    if COVID == \"1\":\n",
    "        # hex shape\n",
    "        shape = \"COVID\"\n",
    "    else:\n",
    "        # circle\n",
    "        shape = \"NONCOVID\"\n",
    "    \n",
    "    color_list.append(color)\n",
    "    shape_list.append(shape)"
   ]
  },
  {
   "cell_type": "markdown",
   "metadata": {},
   "source": [
    "## Plot with Plotly (Dash)"
   ]
  },
  {
   "cell_type": "code",
   "execution_count": 99,
   "metadata": {},
   "outputs": [
    {
     "data": {
      "application/vnd.plotly.v1+json": {
       "config": {
        "plotlyServerURL": "https://plot.ly"
       },
       "data": [
        {
         "customdata": [
          [
           "10"
          ],
          [
           "101"
          ],
          [
           "12"
          ],
          [
           "14"
          ],
          [
           "15"
          ],
          [
           "20"
          ],
          [
           "21"
          ],
          [
           "22"
          ],
          [
           "23"
          ],
          [
           "24"
          ],
          [
           "25"
          ],
          [
           "26"
          ],
          [
           "27"
          ],
          [
           "28"
          ],
          [
           "29"
          ],
          [
           "30"
          ],
          [
           "31"
          ],
          [
           "32"
          ],
          [
           "38"
          ],
          [
           "39"
          ],
          [
           "40"
          ],
          [
           "41"
          ],
          [
           "42"
          ],
          [
           "43"
          ],
          [
           "44"
          ],
          [
           "45"
          ],
          [
           "46"
          ],
          [
           "47"
          ],
          [
           "48"
          ],
          [
           "49"
          ],
          [
           "50"
          ],
          [
           "55"
          ],
          [
           "62"
          ],
          [
           "63"
          ],
          [
           "64"
          ],
          [
           "67"
          ],
          [
           "68"
          ],
          [
           "71"
          ],
          [
           "74"
          ],
          [
           "76"
          ],
          [
           "77"
          ],
          [
           "8"
          ],
          [
           "80"
          ],
          [
           "81"
          ],
          [
           "85"
          ],
          [
           "87"
          ],
          [
           "9"
          ],
          [
           "92"
          ],
          [
           "93"
          ],
          [
           "97"
          ],
          [
           "99"
          ]
         ],
         "hovertemplate": "color=COVID_ICU<br>symbol=COVID<br>x=%{x}<br>y=%{y}<br>sample_id=%{customdata[0]}<extra></extra>",
         "legendgroup": "COVID_ICU, COVID",
         "marker": {
          "color": "#D53E4F",
          "symbol": "hexagram"
         },
         "mode": "markers",
         "name": "COVID_ICU, COVID",
         "showlegend": true,
         "type": "scatter",
         "x": [
          -34.882898674361456,
          -12.118242059204857,
          114.49073502728346,
          119.77712877295774,
          -22.956840618693445,
          -16.22422870729289,
          -14.36907629271886,
          -33.297992579691616,
          -23.21390945548442,
          -24.795325596044183,
          119.26087883814793,
          -28.70148432650469,
          -33.06490208100301,
          -22.268300847716574,
          -15.243853445805371,
          120.48376567885191,
          118.62627863780853,
          -18.14446390265078,
          -19.867984652220695,
          -33.80372155341198,
          -22.903513939191154,
          -30.453027413757074,
          117.45807403725708,
          -23.475069045517348,
          -11.051157500980633,
          -17.7909406303304,
          -8.603232450260936,
          -17.731898340290417,
          -28.017497833039812,
          -18.818454030900767,
          -30.60854346030049,
          -36.168048430944644,
          -30.230557112763613,
          -19.08395105204966,
          -16.257513889991696,
          -18.49539034021261,
          123.40016581098422,
          -39.26445457701646,
          -25.78312718639533,
          -26.848002612012213,
          124.66996406806597,
          -30.209586743389494,
          -19.35896717316671,
          -19.364814552632613,
          -7.133791670150556,
          -7.253517029593409,
          -14.12309603383209,
          -29.68869337801257,
          -13.057009512743088,
          -20.229110693223372,
          -18.776598937254082
         ],
         "xaxis": "x",
         "y": [
          29.849213072981907,
          -2.4237181523790756,
          11.308242678331947,
          3.845078379726302,
          1.4941956621135408,
          -18.483794449483256,
          -8.95888610755957,
          19.523529605576563,
          13.758128979306134,
          2.7210509445632836,
          7.351905395217029,
          3.417187176247903,
          28.284365883736275,
          8.459291826814985,
          -0.3891180297121373,
          3.601481253640221,
          5.899465400750331,
          -8.913649123990377,
          -11.010695857895952,
          16.789553964572118,
          0.8612983326932266,
          15.032146899520955,
          7.495594973588635,
          2.998548467809259,
          -3.1134861568652066,
          -4.915012339381874,
          -11.424058922059675,
          -5.820657497779281,
          27.190360207766798,
          12.978233649867805,
          14.208965854327804,
          35.150156878180674,
          10.45297183179088,
          -0.9794745186167355,
          -1.3773103972898157,
          -4.44986653747364,
          2.5300733004826896,
          30.844444143731614,
          12.906256928615118,
          22.846098336784824,
          -1.2627950160297945,
          22.20353036071142,
          1.828551570160448,
          -11.744177526091287,
          -2.5994983928690276,
          -0.6637521637869113,
          3.2479927392481778,
          7.066045722243001,
          -12.75625122834316,
          0.6295376058180037,
          2.13528350794378
         ],
         "yaxis": "y"
        },
        {
         "customdata": [
          [
           "100"
          ],
          [
           "102"
          ],
          [
           "103"
          ],
          [
           "11"
          ],
          [
           "13"
          ],
          [
           "16"
          ],
          [
           "17"
          ],
          [
           "18"
          ],
          [
           "19"
          ],
          [
           "2"
          ],
          [
           "3"
          ],
          [
           "33"
          ],
          [
           "34"
          ],
          [
           "35"
          ],
          [
           "36"
          ],
          [
           "37"
          ],
          [
           "4"
          ],
          [
           "5"
          ],
          [
           "51"
          ],
          [
           "52"
          ],
          [
           "53"
          ],
          [
           "56"
          ],
          [
           "57"
          ],
          [
           "58"
          ],
          [
           "59"
          ],
          [
           "6"
          ],
          [
           "60"
          ],
          [
           "61"
          ],
          [
           "65"
          ],
          [
           "66"
          ],
          [
           "69"
          ],
          [
           "7"
          ],
          [
           "70"
          ],
          [
           "72"
          ],
          [
           "73"
          ],
          [
           "75"
          ],
          [
           "78"
          ],
          [
           "79"
          ],
          [
           "82"
          ],
          [
           "83"
          ],
          [
           "84"
          ],
          [
           "86"
          ],
          [
           "88"
          ],
          [
           "89"
          ],
          [
           "90"
          ],
          [
           "91"
          ],
          [
           "94"
          ],
          [
           "95"
          ],
          [
           "96"
          ],
          [
           "98"
          ]
         ],
         "hovertemplate": "color=COVID_NONICU<br>symbol=COVID<br>x=%{x}<br>y=%{y}<br>sample_id=%{customdata[0]}<extra></extra>",
         "legendgroup": "COVID_NONICU, COVID",
         "marker": {
          "color": "#FDAE61",
          "symbol": "hexagram"
         },
         "mode": "markers",
         "name": "COVID_NONICU, COVID",
         "showlegend": true,
         "type": "scatter",
         "x": [
          -23.056434339162507,
          -24.48514162103426,
          -8.407811084159363,
          125.05922207938391,
          -10.340642720444862,
          -13.239744923861132,
          122.30605721580577,
          124.40740468857832,
          123.05331912546052,
          -21.241080355338905,
          -15.708207966692775,
          115.21384619808968,
          -15.878122968554601,
          -13.27483526763445,
          -23.17810744634852,
          -23.57461791306407,
          -14.769882250850262,
          -10.539376429670314,
          -33.22856331006498,
          -20.794624496747,
          -16.121963659808237,
          -8.66620646336111,
          124.74248007272361,
          -28.17945117498496,
          -1.784006401677028,
          -19.47148810229564,
          -18.657973872232954,
          -12.417682031220595,
          -8.727109027739752,
          -22.6846715499268,
          -17.629014962910993,
          -11.463342327777177,
          123.93910230332871,
          -10.729096266518514,
          -19.17165114284779,
          -15.101144960237676,
          -22.115395844952584,
          -11.85096511732201,
          -17.445492917500996,
          -10.620948135651357,
          -26.598183671789887,
          -10.320814767765668,
          -19.79292650957948,
          -16.13718369815158,
          -23.414780907519717,
          -14.796714802343478,
          -13.53943217549939,
          -10.080685073228992,
          -19.146659793825243,
          -26.246746451949853
         ],
         "xaxis": "x",
         "y": [
          -0.4237838155095311,
          -0.5144354055152461,
          -12.618599096441258,
          -0.7316418726984781,
          -7.347188205190045,
          -4.272263601478405,
          0.22044779887448607,
          -0.02268965120505024,
          0.2369146790338704,
          -7.686743955542985,
          -13.126589445191199,
          5.70610554767113,
          -14.986541078534643,
          -10.260018346182406,
          -3.7259259155684252,
          0.27574622993890896,
          -7.096934724617812,
          -7.4058088452533575,
          5.185890777398656,
          -1.8845528881358962,
          -4.338580153078918,
          -9.514061191624032,
          -0.6082927150550109,
          -4.162692934614041,
          -10.469892121922372,
          -3.522870169197581,
          -0.8596294199678368,
          -3.2773458680418415,
          -15.927074720088706,
          -1.0335420138966618,
          -7.952346045042076,
          -9.02024893412135,
          -0.38852108724052414,
          -3.3352300737789538,
          -6.130107259719944,
          -2.8379655335995797,
          -0.20848615811414306,
          -12.579976039737867,
          2.774421747557114,
          -4.340056633856475,
          3.265600682799262,
          -16.689343394618408,
          -3.6802394946323824,
          5.687360102438012,
          -1.27361632265089,
          -14.63257894610247,
          -3.827226116956148,
          -0.7148151633486991,
          -10.945020941505955,
          -8.765885638567717
         ],
         "yaxis": "y"
        },
        {
         "customdata": [
          [
           "54"
          ]
         ],
         "hovertemplate": "color=COVID_NONICU<br>symbol=NONCOVID<br>x=%{x}<br>y=%{y}<br>sample_id=%{customdata[0]}<extra></extra>",
         "legendgroup": "COVID_NONICU, NONCOVID",
         "marker": {
          "color": "#FDAE61",
          "symbol": "circle"
         },
         "mode": "markers",
         "name": "COVID_NONICU, NONCOVID",
         "showlegend": true,
         "type": "scatter",
         "visible": true,
         "x": [
          -23.29556054593736
         ],
         "xaxis": "x",
         "y": [
          -2.5329214834678444
         ],
         "yaxis": "y"
        },
        {
         "customdata": [
          [
           "104"
          ],
          [
           "107"
          ],
          [
           "108"
          ],
          [
           "112"
          ],
          [
           "114"
          ],
          [
           "124"
          ],
          [
           "125"
          ],
          [
           "126"
          ],
          [
           "127"
          ],
          [
           "128"
          ]
         ],
         "hovertemplate": "color=NONCOVID_NONICU<br>symbol=NONCOVID<br>x=%{x}<br>y=%{y}<br>sample_id=%{customdata[0]}<extra></extra>",
         "legendgroup": "NONCOVID_NONICU, NONCOVID",
         "marker": {
          "color": "#66C2A5",
          "symbol": "circle"
         },
         "mode": "markers",
         "name": "NONCOVID_NONICU, NONCOVID",
         "showlegend": true,
         "type": "scatter",
         "x": [
          -23.540375755179863,
          -17.926940212791433,
          71.99570013747336,
          -16.888565603594326,
          -24.00254120867602,
          -16.011654355964797,
          -11.461201909570825,
          -15.502708733710566,
          -9.423811502951233,
          -19.308238241371452
         ],
         "xaxis": "x",
         "y": [
          -4.994379097149395,
          6.075394203783916,
          -0.770941320849289,
          -2.49568026866099,
          -4.350010430922259,
          -14.77281732322266,
          -2.1858840697353505,
          -8.89223365121289,
          0.3599713346970943,
          -9.64420737535866
         ],
         "yaxis": "y"
        },
        {
         "customdata": [
          [
           "105"
          ],
          [
           "106"
          ],
          [
           "109"
          ],
          [
           "110"
          ],
          [
           "113"
          ],
          [
           "115"
          ],
          [
           "116"
          ],
          [
           "117"
          ],
          [
           "118"
          ],
          [
           "119"
          ],
          [
           "120"
          ],
          [
           "121"
          ],
          [
           "122"
          ],
          [
           "123"
          ]
         ],
         "hovertemplate": "color=NONCOVID_ICU<br>symbol=NONCOVID<br>x=%{x}<br>y=%{y}<br>sample_id=%{customdata[0]}<extra></extra>",
         "legendgroup": "NONCOVID_ICU, NONCOVID",
         "marker": {
          "color": "#74ADD1",
          "symbol": "circle"
         },
         "mode": "markers",
         "name": "NONCOVID_ICU, NONCOVID",
         "showlegend": true,
         "type": "scatter",
         "x": [
          122.45482696559294,
          -32.69154133082724,
          -10.332394203512365,
          -33.08236620215402,
          125.0638853234754,
          -22.558308648447326,
          -28.830019254550443,
          -30.617669329347645,
          -16.353623439773667,
          -16.494955898149747,
          -12.547061540901028,
          -26.84584619147647,
          -27.713519211814834,
          -22.612216393561145
         ],
         "xaxis": "x",
         "y": [
          3.4420966921365466,
          13.108516902202823,
          -0.40608785287092025,
          4.491321553137722,
          -1.95207464718353,
          3.6077381769094536,
          19.527004719924694,
          -3.0938182517519235,
          -10.68365744624043,
          -8.962086647120815,
          -9.580371006074047,
          -0.40778084300314515,
          1.0013139879348778,
          -13.724110600725217
         ],
         "yaxis": "y"
        }
       ],
       "layout": {
        "autosize": true,
        "font": {
         "color": "#7f7f7f",
         "family": "Helvetica",
         "size": 18
        },
        "legend": {
         "title": {
          "text": "color, symbol"
         },
         "tracegroupgap": 0
        },
        "margin": {
         "t": 60
        },
        "template": {
         "data": {
          "bar": [
           {
            "error_x": {
             "color": "#2a3f5f"
            },
            "error_y": {
             "color": "#2a3f5f"
            },
            "marker": {
             "line": {
              "color": "#E5ECF6",
              "width": 0.5
             }
            },
            "type": "bar"
           }
          ],
          "barpolar": [
           {
            "marker": {
             "line": {
              "color": "#E5ECF6",
              "width": 0.5
             }
            },
            "type": "barpolar"
           }
          ],
          "carpet": [
           {
            "aaxis": {
             "endlinecolor": "#2a3f5f",
             "gridcolor": "white",
             "linecolor": "white",
             "minorgridcolor": "white",
             "startlinecolor": "#2a3f5f"
            },
            "baxis": {
             "endlinecolor": "#2a3f5f",
             "gridcolor": "white",
             "linecolor": "white",
             "minorgridcolor": "white",
             "startlinecolor": "#2a3f5f"
            },
            "type": "carpet"
           }
          ],
          "choropleth": [
           {
            "colorbar": {
             "outlinewidth": 0,
             "ticks": ""
            },
            "type": "choropleth"
           }
          ],
          "contour": [
           {
            "colorbar": {
             "outlinewidth": 0,
             "ticks": ""
            },
            "colorscale": [
             [
              0,
              "#0d0887"
             ],
             [
              0.1111111111111111,
              "#46039f"
             ],
             [
              0.2222222222222222,
              "#7201a8"
             ],
             [
              0.3333333333333333,
              "#9c179e"
             ],
             [
              0.4444444444444444,
              "#bd3786"
             ],
             [
              0.5555555555555556,
              "#d8576b"
             ],
             [
              0.6666666666666666,
              "#ed7953"
             ],
             [
              0.7777777777777778,
              "#fb9f3a"
             ],
             [
              0.8888888888888888,
              "#fdca26"
             ],
             [
              1,
              "#f0f921"
             ]
            ],
            "type": "contour"
           }
          ],
          "contourcarpet": [
           {
            "colorbar": {
             "outlinewidth": 0,
             "ticks": ""
            },
            "type": "contourcarpet"
           }
          ],
          "heatmap": [
           {
            "colorbar": {
             "outlinewidth": 0,
             "ticks": ""
            },
            "colorscale": [
             [
              0,
              "#0d0887"
             ],
             [
              0.1111111111111111,
              "#46039f"
             ],
             [
              0.2222222222222222,
              "#7201a8"
             ],
             [
              0.3333333333333333,
              "#9c179e"
             ],
             [
              0.4444444444444444,
              "#bd3786"
             ],
             [
              0.5555555555555556,
              "#d8576b"
             ],
             [
              0.6666666666666666,
              "#ed7953"
             ],
             [
              0.7777777777777778,
              "#fb9f3a"
             ],
             [
              0.8888888888888888,
              "#fdca26"
             ],
             [
              1,
              "#f0f921"
             ]
            ],
            "type": "heatmap"
           }
          ],
          "heatmapgl": [
           {
            "colorbar": {
             "outlinewidth": 0,
             "ticks": ""
            },
            "colorscale": [
             [
              0,
              "#0d0887"
             ],
             [
              0.1111111111111111,
              "#46039f"
             ],
             [
              0.2222222222222222,
              "#7201a8"
             ],
             [
              0.3333333333333333,
              "#9c179e"
             ],
             [
              0.4444444444444444,
              "#bd3786"
             ],
             [
              0.5555555555555556,
              "#d8576b"
             ],
             [
              0.6666666666666666,
              "#ed7953"
             ],
             [
              0.7777777777777778,
              "#fb9f3a"
             ],
             [
              0.8888888888888888,
              "#fdca26"
             ],
             [
              1,
              "#f0f921"
             ]
            ],
            "type": "heatmapgl"
           }
          ],
          "histogram": [
           {
            "marker": {
             "colorbar": {
              "outlinewidth": 0,
              "ticks": ""
             }
            },
            "type": "histogram"
           }
          ],
          "histogram2d": [
           {
            "colorbar": {
             "outlinewidth": 0,
             "ticks": ""
            },
            "colorscale": [
             [
              0,
              "#0d0887"
             ],
             [
              0.1111111111111111,
              "#46039f"
             ],
             [
              0.2222222222222222,
              "#7201a8"
             ],
             [
              0.3333333333333333,
              "#9c179e"
             ],
             [
              0.4444444444444444,
              "#bd3786"
             ],
             [
              0.5555555555555556,
              "#d8576b"
             ],
             [
              0.6666666666666666,
              "#ed7953"
             ],
             [
              0.7777777777777778,
              "#fb9f3a"
             ],
             [
              0.8888888888888888,
              "#fdca26"
             ],
             [
              1,
              "#f0f921"
             ]
            ],
            "type": "histogram2d"
           }
          ],
          "histogram2dcontour": [
           {
            "colorbar": {
             "outlinewidth": 0,
             "ticks": ""
            },
            "colorscale": [
             [
              0,
              "#0d0887"
             ],
             [
              0.1111111111111111,
              "#46039f"
             ],
             [
              0.2222222222222222,
              "#7201a8"
             ],
             [
              0.3333333333333333,
              "#9c179e"
             ],
             [
              0.4444444444444444,
              "#bd3786"
             ],
             [
              0.5555555555555556,
              "#d8576b"
             ],
             [
              0.6666666666666666,
              "#ed7953"
             ],
             [
              0.7777777777777778,
              "#fb9f3a"
             ],
             [
              0.8888888888888888,
              "#fdca26"
             ],
             [
              1,
              "#f0f921"
             ]
            ],
            "type": "histogram2dcontour"
           }
          ],
          "mesh3d": [
           {
            "colorbar": {
             "outlinewidth": 0,
             "ticks": ""
            },
            "type": "mesh3d"
           }
          ],
          "parcoords": [
           {
            "line": {
             "colorbar": {
              "outlinewidth": 0,
              "ticks": ""
             }
            },
            "type": "parcoords"
           }
          ],
          "pie": [
           {
            "automargin": true,
            "type": "pie"
           }
          ],
          "scatter": [
           {
            "marker": {
             "colorbar": {
              "outlinewidth": 0,
              "ticks": ""
             }
            },
            "type": "scatter"
           }
          ],
          "scatter3d": [
           {
            "line": {
             "colorbar": {
              "outlinewidth": 0,
              "ticks": ""
             }
            },
            "marker": {
             "colorbar": {
              "outlinewidth": 0,
              "ticks": ""
             }
            },
            "type": "scatter3d"
           }
          ],
          "scattercarpet": [
           {
            "marker": {
             "colorbar": {
              "outlinewidth": 0,
              "ticks": ""
             }
            },
            "type": "scattercarpet"
           }
          ],
          "scattergeo": [
           {
            "marker": {
             "colorbar": {
              "outlinewidth": 0,
              "ticks": ""
             }
            },
            "type": "scattergeo"
           }
          ],
          "scattergl": [
           {
            "marker": {
             "colorbar": {
              "outlinewidth": 0,
              "ticks": ""
             }
            },
            "type": "scattergl"
           }
          ],
          "scattermapbox": [
           {
            "marker": {
             "colorbar": {
              "outlinewidth": 0,
              "ticks": ""
             }
            },
            "type": "scattermapbox"
           }
          ],
          "scatterpolar": [
           {
            "marker": {
             "colorbar": {
              "outlinewidth": 0,
              "ticks": ""
             }
            },
            "type": "scatterpolar"
           }
          ],
          "scatterpolargl": [
           {
            "marker": {
             "colorbar": {
              "outlinewidth": 0,
              "ticks": ""
             }
            },
            "type": "scatterpolargl"
           }
          ],
          "scatterternary": [
           {
            "marker": {
             "colorbar": {
              "outlinewidth": 0,
              "ticks": ""
             }
            },
            "type": "scatterternary"
           }
          ],
          "surface": [
           {
            "colorbar": {
             "outlinewidth": 0,
             "ticks": ""
            },
            "colorscale": [
             [
              0,
              "#0d0887"
             ],
             [
              0.1111111111111111,
              "#46039f"
             ],
             [
              0.2222222222222222,
              "#7201a8"
             ],
             [
              0.3333333333333333,
              "#9c179e"
             ],
             [
              0.4444444444444444,
              "#bd3786"
             ],
             [
              0.5555555555555556,
              "#d8576b"
             ],
             [
              0.6666666666666666,
              "#ed7953"
             ],
             [
              0.7777777777777778,
              "#fb9f3a"
             ],
             [
              0.8888888888888888,
              "#fdca26"
             ],
             [
              1,
              "#f0f921"
             ]
            ],
            "type": "surface"
           }
          ],
          "table": [
           {
            "cells": {
             "fill": {
              "color": "#EBF0F8"
             },
             "line": {
              "color": "white"
             }
            },
            "header": {
             "fill": {
              "color": "#C8D4E3"
             },
             "line": {
              "color": "white"
             }
            },
            "type": "table"
           }
          ]
         },
         "layout": {
          "annotationdefaults": {
           "arrowcolor": "#2a3f5f",
           "arrowhead": 0,
           "arrowwidth": 1
          },
          "coloraxis": {
           "colorbar": {
            "outlinewidth": 0,
            "ticks": ""
           }
          },
          "colorscale": {
           "diverging": [
            [
             0,
             "#8e0152"
            ],
            [
             0.1,
             "#c51b7d"
            ],
            [
             0.2,
             "#de77ae"
            ],
            [
             0.3,
             "#f1b6da"
            ],
            [
             0.4,
             "#fde0ef"
            ],
            [
             0.5,
             "#f7f7f7"
            ],
            [
             0.6,
             "#e6f5d0"
            ],
            [
             0.7,
             "#b8e186"
            ],
            [
             0.8,
             "#7fbc41"
            ],
            [
             0.9,
             "#4d9221"
            ],
            [
             1,
             "#276419"
            ]
           ],
           "sequential": [
            [
             0,
             "#0d0887"
            ],
            [
             0.1111111111111111,
             "#46039f"
            ],
            [
             0.2222222222222222,
             "#7201a8"
            ],
            [
             0.3333333333333333,
             "#9c179e"
            ],
            [
             0.4444444444444444,
             "#bd3786"
            ],
            [
             0.5555555555555556,
             "#d8576b"
            ],
            [
             0.6666666666666666,
             "#ed7953"
            ],
            [
             0.7777777777777778,
             "#fb9f3a"
            ],
            [
             0.8888888888888888,
             "#fdca26"
            ],
            [
             1,
             "#f0f921"
            ]
           ],
           "sequentialminus": [
            [
             0,
             "#0d0887"
            ],
            [
             0.1111111111111111,
             "#46039f"
            ],
            [
             0.2222222222222222,
             "#7201a8"
            ],
            [
             0.3333333333333333,
             "#9c179e"
            ],
            [
             0.4444444444444444,
             "#bd3786"
            ],
            [
             0.5555555555555556,
             "#d8576b"
            ],
            [
             0.6666666666666666,
             "#ed7953"
            ],
            [
             0.7777777777777778,
             "#fb9f3a"
            ],
            [
             0.8888888888888888,
             "#fdca26"
            ],
            [
             1,
             "#f0f921"
            ]
           ]
          },
          "colorway": [
           "#636efa",
           "#EF553B",
           "#00cc96",
           "#ab63fa",
           "#FFA15A",
           "#19d3f3",
           "#FF6692",
           "#B6E880",
           "#FF97FF",
           "#FECB52"
          ],
          "font": {
           "color": "#2a3f5f"
          },
          "geo": {
           "bgcolor": "white",
           "lakecolor": "white",
           "landcolor": "#E5ECF6",
           "showlakes": true,
           "showland": true,
           "subunitcolor": "white"
          },
          "hoverlabel": {
           "align": "left"
          },
          "hovermode": "closest",
          "mapbox": {
           "style": "light"
          },
          "paper_bgcolor": "white",
          "plot_bgcolor": "#E5ECF6",
          "polar": {
           "angularaxis": {
            "gridcolor": "white",
            "linecolor": "white",
            "ticks": ""
           },
           "bgcolor": "#E5ECF6",
           "radialaxis": {
            "gridcolor": "white",
            "linecolor": "white",
            "ticks": ""
           }
          },
          "scene": {
           "xaxis": {
            "backgroundcolor": "#E5ECF6",
            "gridcolor": "white",
            "gridwidth": 2,
            "linecolor": "white",
            "showbackground": true,
            "ticks": "",
            "zerolinecolor": "white"
           },
           "yaxis": {
            "backgroundcolor": "#E5ECF6",
            "gridcolor": "white",
            "gridwidth": 2,
            "linecolor": "white",
            "showbackground": true,
            "ticks": "",
            "zerolinecolor": "white"
           },
           "zaxis": {
            "backgroundcolor": "#E5ECF6",
            "gridcolor": "white",
            "gridwidth": 2,
            "linecolor": "white",
            "showbackground": true,
            "ticks": "",
            "zerolinecolor": "white"
           }
          },
          "shapedefaults": {
           "line": {
            "color": "#2a3f5f"
           }
          },
          "ternary": {
           "aaxis": {
            "gridcolor": "white",
            "linecolor": "white",
            "ticks": ""
           },
           "baxis": {
            "gridcolor": "white",
            "linecolor": "white",
            "ticks": ""
           },
           "bgcolor": "#E5ECF6",
           "caxis": {
            "gridcolor": "white",
            "linecolor": "white",
            "ticks": ""
           }
          },
          "title": {
           "x": 0.05
          },
          "xaxis": {
           "automargin": true,
           "gridcolor": "white",
           "linecolor": "white",
           "ticks": "",
           "title": {
            "standoff": 15
           },
           "zerolinecolor": "white",
           "zerolinewidth": 2
          },
          "yaxis": {
           "automargin": true,
           "gridcolor": "white",
           "linecolor": "white",
           "ticks": "",
           "title": {
            "standoff": 15
           },
           "zerolinecolor": "white",
           "zerolinewidth": 2
          }
         }
        },
        "title": {
         "text": "GC/MS Metabolomics PCA"
        },
        "xaxis": {
         "anchor": "y",
         "autorange": true,
         "domain": [
          0,
          1
         ],
         "range": [
          -49.688383114852535,
          135.48781386131148
         ],
         "title": {
          "text": "PC1 (80.7%)"
         },
         "type": "linear"
        },
        "yaxis": {
         "anchor": "x",
         "autorange": true,
         "domain": [
          0,
          1
         ],
         "range": [
          -22.286570004022963,
          38.95293243272038
         ],
         "title": {
          "text": "PC2 (3.5%)"
         },
         "type": "linear"
        }
       }
      },
      "image/png": "[encoded data removed]",
      "text/html": [
       "<div>\n",
       "        \n",
       "        \n",
       "            <div id=\"93ee51c0-ceb8-439c-a830-2d61ccba2a0e\" class=\"plotly-graph-div\" style=\"height:525px; width:100%;\"></div>\n",
       "            <script type=\"text/javascript\">\n",
       "                require([\"plotly\"], function(Plotly) {\n",
       "                    window.PLOTLYENV=window.PLOTLYENV || {};\n",
       "                    \n",
       "                if (document.getElementById(\"93ee51c0-ceb8-439c-a830-2d61ccba2a0e\")) {\n",
       "                    Plotly.newPlot(\n",
       "                        '93ee51c0-ceb8-439c-a830-2d61ccba2a0e',\n",
       "                        [{\"customdata\": [[\"10\"], [\"101\"], [\"12\"], [\"14\"], [\"15\"], [\"20\"], [\"21\"], [\"22\"], [\"23\"], [\"24\"], [\"25\"], [\"26\"], [\"27\"], [\"28\"], [\"29\"], [\"30\"], [\"31\"], [\"32\"], [\"38\"], [\"39\"], [\"40\"], [\"41\"], [\"42\"], [\"43\"], [\"44\"], [\"45\"], [\"46\"], [\"47\"], [\"48\"], [\"49\"], [\"50\"], [\"55\"], [\"62\"], [\"63\"], [\"64\"], [\"67\"], [\"68\"], [\"71\"], [\"74\"], [\"76\"], [\"77\"], [\"8\"], [\"80\"], [\"81\"], [\"85\"], [\"87\"], [\"9\"], [\"92\"], [\"93\"], [\"97\"], [\"99\"]], \"hovertemplate\": \"color=COVID_ICU<br>symbol=COVID<br>x=%{x}<br>y=%{y}<br>sample_id=%{customdata[0]}<extra></extra>\", \"legendgroup\": \"COVID_ICU, COVID\", \"marker\": {\"color\": \"#D53E4F\", \"symbol\": \"hexagram\"}, \"mode\": \"markers\", \"name\": \"COVID_ICU, COVID\", \"showlegend\": true, \"type\": \"scatter\", \"x\": [-34.882898674361456, -12.118242059204857, 114.49073502728346, 119.77712877295774, -22.956840618693445, -16.22422870729289, -14.36907629271886, -33.297992579691616, -23.21390945548442, -24.795325596044183, 119.26087883814793, -28.70148432650469, -33.06490208100301, -22.268300847716574, -15.243853445805371, 120.48376567885191, 118.62627863780853, -18.14446390265078, -19.867984652220695, -33.80372155341198, -22.903513939191154, -30.453027413757074, 117.45807403725708, -23.475069045517348, -11.051157500980633, -17.7909406303304, -8.603232450260936, -17.731898340290417, -28.017497833039812, -18.818454030900767, -30.60854346030049, -36.168048430944644, -30.230557112763613, -19.08395105204966, -16.257513889991696, -18.49539034021261, 123.40016581098422, -39.26445457701646, -25.78312718639533, -26.848002612012213, 124.66996406806597, -30.209586743389494, -19.35896717316671, -19.364814552632613, -7.133791670150556, -7.253517029593409, -14.12309603383209, -29.68869337801257, -13.057009512743088, -20.229110693223372, -18.776598937254082], \"xaxis\": \"x\", \"y\": [29.849213072981907, -2.4237181523790756, 11.308242678331947, 3.845078379726302, 1.4941956621135408, -18.483794449483256, -8.95888610755957, 19.523529605576563, 13.758128979306134, 2.7210509445632836, 7.351905395217029, 3.417187176247903, 28.284365883736275, 8.459291826814985, -0.3891180297121373, 3.601481253640221, 5.899465400750331, -8.913649123990377, -11.010695857895952, 16.789553964572118, 0.8612983326932266, 15.032146899520955, 7.495594973588635, 2.998548467809259, -3.1134861568652066, -4.915012339381874, -11.424058922059675, -5.820657497779281, 27.190360207766798, 12.978233649867805, 14.208965854327804, 35.150156878180674, 10.45297183179088, -0.9794745186167355, -1.3773103972898157, -4.44986653747364, 2.5300733004826896, 30.844444143731614, 12.906256928615118, 22.846098336784824, -1.2627950160297945, 22.20353036071142, 1.828551570160448, -11.744177526091287, -2.5994983928690276, -0.6637521637869113, 3.2479927392481778, 7.066045722243001, -12.75625122834316, 0.6295376058180037, 2.13528350794378], \"yaxis\": \"y\"}, {\"customdata\": [[\"100\"], [\"102\"], [\"103\"], [\"11\"], [\"13\"], [\"16\"], [\"17\"], [\"18\"], [\"19\"], [\"2\"], [\"3\"], [\"33\"], [\"34\"], [\"35\"], [\"36\"], [\"37\"], [\"4\"], [\"5\"], [\"51\"], [\"52\"], [\"53\"], [\"56\"], [\"57\"], [\"58\"], [\"59\"], [\"6\"], [\"60\"], [\"61\"], [\"65\"], [\"66\"], [\"69\"], [\"7\"], [\"70\"], [\"72\"], [\"73\"], [\"75\"], [\"78\"], [\"79\"], [\"82\"], [\"83\"], [\"84\"], [\"86\"], [\"88\"], [\"89\"], [\"90\"], [\"91\"], [\"94\"], [\"95\"], [\"96\"], [\"98\"]], \"hovertemplate\": \"color=COVID_NONICU<br>symbol=COVID<br>x=%{x}<br>y=%{y}<br>sample_id=%{customdata[0]}<extra></extra>\", \"legendgroup\": \"COVID_NONICU, COVID\", \"marker\": {\"color\": \"#FDAE61\", \"symbol\": \"hexagram\"}, \"mode\": \"markers\", \"name\": \"COVID_NONICU, COVID\", \"showlegend\": true, \"type\": \"scatter\", \"x\": [-23.056434339162507, -24.48514162103426, -8.407811084159363, 125.05922207938391, -10.340642720444862, -13.239744923861132, 122.30605721580577, 124.40740468857832, 123.05331912546052, -21.241080355338905, -15.708207966692775, 115.21384619808968, -15.878122968554601, -13.27483526763445, -23.17810744634852, -23.57461791306407, -14.769882250850262, -10.539376429670314, -33.22856331006498, -20.794624496747, -16.121963659808237, -8.66620646336111, 124.74248007272361, -28.17945117498496, -1.784006401677028, -19.47148810229564, -18.657973872232954, -12.417682031220595, -8.727109027739752, -22.6846715499268, -17.629014962910993, -11.463342327777177, 123.93910230332871, -10.729096266518514, -19.17165114284779, -15.101144960237676, -22.115395844952584, -11.85096511732201, -17.445492917500996, -10.620948135651357, -26.598183671789887, -10.320814767765668, -19.79292650957948, -16.13718369815158, -23.414780907519717, -14.796714802343478, -13.53943217549939, -10.080685073228992, -19.146659793825243, -26.246746451949853], \"xaxis\": \"x\", \"y\": [-0.4237838155095311, -0.5144354055152461, -12.618599096441258, -0.7316418726984781, -7.347188205190045, -4.272263601478405, 0.22044779887448607, -0.02268965120505024, 0.2369146790338704, -7.686743955542985, -13.126589445191199, 5.70610554767113, -14.986541078534643, -10.260018346182406, -3.7259259155684252, 0.27574622993890896, -7.096934724617812, -7.4058088452533575, 5.185890777398656, -1.8845528881358962, -4.338580153078918, -9.514061191624032, -0.6082927150550109, -4.162692934614041, -10.469892121922372, -3.522870169197581, -0.8596294199678368, -3.2773458680418415, -15.927074720088706, -1.0335420138966618, -7.952346045042076, -9.02024893412135, -0.38852108724052414, -3.3352300737789538, -6.130107259719944, -2.8379655335995797, -0.20848615811414306, -12.579976039737867, 2.774421747557114, -4.340056633856475, 3.265600682799262, -16.689343394618408, -3.6802394946323824, 5.687360102438012, -1.27361632265089, -14.63257894610247, -3.827226116956148, -0.7148151633486991, -10.945020941505955, -8.765885638567717], \"yaxis\": \"y\"}, {\"customdata\": [[\"54\"]], \"hovertemplate\": \"color=COVID_NONICU<br>symbol=NONCOVID<br>x=%{x}<br>y=%{y}<br>sample_id=%{customdata[0]}<extra></extra>\", \"legendgroup\": \"COVID_NONICU, NONCOVID\", \"marker\": {\"color\": \"#FDAE61\", \"symbol\": \"circle\"}, \"mode\": \"markers\", \"name\": \"COVID_NONICU, NONCOVID\", \"showlegend\": true, \"type\": \"scatter\", \"x\": [-23.29556054593736], \"xaxis\": \"x\", \"y\": [-2.5329214834678444], \"yaxis\": \"y\"}, {\"customdata\": [[\"104\"], [\"107\"], [\"108\"], [\"112\"], [\"114\"], [\"124\"], [\"125\"], [\"126\"], [\"127\"], [\"128\"]], \"hovertemplate\": \"color=NONCOVID_NONICU<br>symbol=NONCOVID<br>x=%{x}<br>y=%{y}<br>sample_id=%{customdata[0]}<extra></extra>\", \"legendgroup\": \"NONCOVID_NONICU, NONCOVID\", \"marker\": {\"color\": \"#66C2A5\", \"symbol\": \"circle\"}, \"mode\": \"markers\", \"name\": \"NONCOVID_NONICU, NONCOVID\", \"showlegend\": true, \"type\": \"scatter\", \"x\": [-23.540375755179863, -17.926940212791433, 71.99570013747336, -16.888565603594326, -24.00254120867602, -16.011654355964797, -11.461201909570825, -15.502708733710566, -9.423811502951233, -19.308238241371452], \"xaxis\": \"x\", \"y\": [-4.994379097149395, 6.075394203783916, -0.770941320849289, -2.49568026866099, -4.350010430922259, -14.77281732322266, -2.1858840697353505, -8.89223365121289, 0.3599713346970943, -9.64420737535866], \"yaxis\": \"y\"}, {\"customdata\": [[\"105\"], [\"106\"], [\"109\"], [\"110\"], [\"113\"], [\"115\"], [\"116\"], [\"117\"], [\"118\"], [\"119\"], [\"120\"], [\"121\"], [\"122\"], [\"123\"]], \"hovertemplate\": \"color=NONCOVID_ICU<br>symbol=NONCOVID<br>x=%{x}<br>y=%{y}<br>sample_id=%{customdata[0]}<extra></extra>\", \"legendgroup\": \"NONCOVID_ICU, NONCOVID\", \"marker\": {\"color\": \"#74ADD1\", \"symbol\": \"circle\"}, \"mode\": \"markers\", \"name\": \"NONCOVID_ICU, NONCOVID\", \"showlegend\": true, \"type\": \"scatter\", \"x\": [122.45482696559294, -32.69154133082724, -10.332394203512365, -33.08236620215402, 125.0638853234754, -22.558308648447326, -28.830019254550443, -30.617669329347645, -16.353623439773667, -16.494955898149747, -12.547061540901028, -26.84584619147647, -27.713519211814834, -22.612216393561145], \"xaxis\": \"x\", \"y\": [3.4420966921365466, 13.108516902202823, -0.40608785287092025, 4.491321553137722, -1.95207464718353, 3.6077381769094536, 19.527004719924694, -3.0938182517519235, -10.68365744624043, -8.962086647120815, -9.580371006074047, -0.40778084300314515, 1.0013139879348778, -13.724110600725217], \"yaxis\": \"y\"}],\n",
       "                        {\"font\": {\"color\": \"#7f7f7f\", \"family\": \"Helvetica\", \"size\": 18}, \"legend\": {\"title\": {\"text\": \"color, symbol\"}, \"tracegroupgap\": 0}, \"margin\": {\"t\": 60}, \"template\": {\"data\": {\"bar\": [{\"error_x\": {\"color\": \"#2a3f5f\"}, \"error_y\": {\"color\": \"#2a3f5f\"}, \"marker\": {\"line\": {\"color\": \"#E5ECF6\", \"width\": 0.5}}, \"type\": \"bar\"}], \"barpolar\": [{\"marker\": {\"line\": {\"color\": \"#E5ECF6\", \"width\": 0.5}}, \"type\": \"barpolar\"}], \"carpet\": [{\"aaxis\": {\"endlinecolor\": \"#2a3f5f\", \"gridcolor\": \"white\", \"linecolor\": \"white\", \"minorgridcolor\": \"white\", \"startlinecolor\": \"#2a3f5f\"}, \"baxis\": {\"endlinecolor\": \"#2a3f5f\", \"gridcolor\": \"white\", \"linecolor\": \"white\", \"minorgridcolor\": \"white\", \"startlinecolor\": \"#2a3f5f\"}, \"type\": \"carpet\"}], \"choropleth\": [{\"colorbar\": {\"outlinewidth\": 0, \"ticks\": \"\"}, \"type\": \"choropleth\"}], \"contour\": [{\"colorbar\": {\"outlinewidth\": 0, \"ticks\": \"\"}, \"colorscale\": [[0.0, \"#0d0887\"], [0.1111111111111111, \"#46039f\"], [0.2222222222222222, \"#7201a8\"], [0.3333333333333333, \"#9c179e\"], [0.4444444444444444, \"#bd3786\"], [0.5555555555555556, \"#d8576b\"], [0.6666666666666666, \"#ed7953\"], [0.7777777777777778, \"#fb9f3a\"], [0.8888888888888888, \"#fdca26\"], [1.0, \"#f0f921\"]], \"type\": \"contour\"}], \"contourcarpet\": [{\"colorbar\": {\"outlinewidth\": 0, \"ticks\": \"\"}, \"type\": \"contourcarpet\"}], \"heatmap\": [{\"colorbar\": {\"outlinewidth\": 0, \"ticks\": \"\"}, \"colorscale\": [[0.0, \"#0d0887\"], [0.1111111111111111, \"#46039f\"], [0.2222222222222222, \"#7201a8\"], [0.3333333333333333, \"#9c179e\"], [0.4444444444444444, \"#bd3786\"], [0.5555555555555556, \"#d8576b\"], [0.6666666666666666, \"#ed7953\"], [0.7777777777777778, \"#fb9f3a\"], [0.8888888888888888, \"#fdca26\"], [1.0, \"#f0f921\"]], \"type\": \"heatmap\"}], \"heatmapgl\": [{\"colorbar\": {\"outlinewidth\": 0, \"ticks\": \"\"}, \"colorscale\": [[0.0, \"#0d0887\"], [0.1111111111111111, \"#46039f\"], [0.2222222222222222, \"#7201a8\"], [0.3333333333333333, \"#9c179e\"], [0.4444444444444444, \"#bd3786\"], [0.5555555555555556, \"#d8576b\"], [0.6666666666666666, \"#ed7953\"], [0.7777777777777778, \"#fb9f3a\"], [0.8888888888888888, \"#fdca26\"], [1.0, \"#f0f921\"]], \"type\": \"heatmapgl\"}], \"histogram\": [{\"marker\": {\"colorbar\": {\"outlinewidth\": 0, \"ticks\": \"\"}}, \"type\": \"histogram\"}], \"histogram2d\": [{\"colorbar\": {\"outlinewidth\": 0, \"ticks\": \"\"}, \"colorscale\": [[0.0, \"#0d0887\"], [0.1111111111111111, \"#46039f\"], [0.2222222222222222, \"#7201a8\"], [0.3333333333333333, \"#9c179e\"], [0.4444444444444444, \"#bd3786\"], [0.5555555555555556, \"#d8576b\"], [0.6666666666666666, \"#ed7953\"], [0.7777777777777778, \"#fb9f3a\"], [0.8888888888888888, \"#fdca26\"], [1.0, \"#f0f921\"]], \"type\": \"histogram2d\"}], \"histogram2dcontour\": [{\"colorbar\": {\"outlinewidth\": 0, \"ticks\": \"\"}, \"colorscale\": [[0.0, \"#0d0887\"], [0.1111111111111111, \"#46039f\"], [0.2222222222222222, \"#7201a8\"], [0.3333333333333333, \"#9c179e\"], [0.4444444444444444, \"#bd3786\"], [0.5555555555555556, \"#d8576b\"], [0.6666666666666666, \"#ed7953\"], [0.7777777777777778, \"#fb9f3a\"], [0.8888888888888888, \"#fdca26\"], [1.0, \"#f0f921\"]], \"type\": \"histogram2dcontour\"}], \"mesh3d\": [{\"colorbar\": {\"outlinewidth\": 0, \"ticks\": \"\"}, \"type\": \"mesh3d\"}], \"parcoords\": [{\"line\": {\"colorbar\": {\"outlinewidth\": 0, \"ticks\": \"\"}}, \"type\": \"parcoords\"}], \"pie\": [{\"automargin\": true, \"type\": \"pie\"}], \"scatter\": [{\"marker\": {\"colorbar\": {\"outlinewidth\": 0, \"ticks\": \"\"}}, \"type\": \"scatter\"}], \"scatter3d\": [{\"line\": {\"colorbar\": {\"outlinewidth\": 0, \"ticks\": \"\"}}, \"marker\": {\"colorbar\": {\"outlinewidth\": 0, \"ticks\": \"\"}}, \"type\": \"scatter3d\"}], \"scattercarpet\": [{\"marker\": {\"colorbar\": {\"outlinewidth\": 0, \"ticks\": \"\"}}, \"type\": \"scattercarpet\"}], \"scattergeo\": [{\"marker\": {\"colorbar\": {\"outlinewidth\": 0, \"ticks\": \"\"}}, \"type\": \"scattergeo\"}], \"scattergl\": [{\"marker\": {\"colorbar\": {\"outlinewidth\": 0, \"ticks\": \"\"}}, \"type\": \"scattergl\"}], \"scattermapbox\": [{\"marker\": {\"colorbar\": {\"outlinewidth\": 0, \"ticks\": \"\"}}, \"type\": \"scattermapbox\"}], \"scatterpolar\": [{\"marker\": {\"colorbar\": {\"outlinewidth\": 0, \"ticks\": \"\"}}, \"type\": \"scatterpolar\"}], \"scatterpolargl\": [{\"marker\": {\"colorbar\": {\"outlinewidth\": 0, \"ticks\": \"\"}}, \"type\": \"scatterpolargl\"}], \"scatterternary\": [{\"marker\": {\"colorbar\": {\"outlinewidth\": 0, \"ticks\": \"\"}}, \"type\": \"scatterternary\"}], \"surface\": [{\"colorbar\": {\"outlinewidth\": 0, \"ticks\": \"\"}, \"colorscale\": [[0.0, \"#0d0887\"], [0.1111111111111111, \"#46039f\"], [0.2222222222222222, \"#7201a8\"], [0.3333333333333333, \"#9c179e\"], [0.4444444444444444, \"#bd3786\"], [0.5555555555555556, \"#d8576b\"], [0.6666666666666666, \"#ed7953\"], [0.7777777777777778, \"#fb9f3a\"], [0.8888888888888888, \"#fdca26\"], [1.0, \"#f0f921\"]], \"type\": \"surface\"}], \"table\": [{\"cells\": {\"fill\": {\"color\": \"#EBF0F8\"}, \"line\": {\"color\": \"white\"}}, \"header\": {\"fill\": {\"color\": \"#C8D4E3\"}, \"line\": {\"color\": \"white\"}}, \"type\": \"table\"}]}, \"layout\": {\"annotationdefaults\": {\"arrowcolor\": \"#2a3f5f\", \"arrowhead\": 0, \"arrowwidth\": 1}, \"coloraxis\": {\"colorbar\": {\"outlinewidth\": 0, \"ticks\": \"\"}}, \"colorscale\": {\"diverging\": [[0, \"#8e0152\"], [0.1, \"#c51b7d\"], [0.2, \"#de77ae\"], [0.3, \"#f1b6da\"], [0.4, \"#fde0ef\"], [0.5, \"#f7f7f7\"], [0.6, \"#e6f5d0\"], [0.7, \"#b8e186\"], [0.8, \"#7fbc41\"], [0.9, \"#4d9221\"], [1, \"#276419\"]], \"sequential\": [[0.0, \"#0d0887\"], [0.1111111111111111, \"#46039f\"], [0.2222222222222222, \"#7201a8\"], [0.3333333333333333, \"#9c179e\"], [0.4444444444444444, \"#bd3786\"], [0.5555555555555556, \"#d8576b\"], [0.6666666666666666, \"#ed7953\"], [0.7777777777777778, \"#fb9f3a\"], [0.8888888888888888, \"#fdca26\"], [1.0, \"#f0f921\"]], \"sequentialminus\": [[0.0, \"#0d0887\"], [0.1111111111111111, \"#46039f\"], [0.2222222222222222, \"#7201a8\"], [0.3333333333333333, \"#9c179e\"], [0.4444444444444444, \"#bd3786\"], [0.5555555555555556, \"#d8576b\"], [0.6666666666666666, \"#ed7953\"], [0.7777777777777778, \"#fb9f3a\"], [0.8888888888888888, \"#fdca26\"], [1.0, \"#f0f921\"]]}, \"colorway\": [\"#636efa\", \"#EF553B\", \"#00cc96\", \"#ab63fa\", \"#FFA15A\", \"#19d3f3\", \"#FF6692\", \"#B6E880\", \"#FF97FF\", \"#FECB52\"], \"font\": {\"color\": \"#2a3f5f\"}, \"geo\": {\"bgcolor\": \"white\", \"lakecolor\": \"white\", \"landcolor\": \"#E5ECF6\", \"showlakes\": true, \"showland\": true, \"subunitcolor\": \"white\"}, \"hoverlabel\": {\"align\": \"left\"}, \"hovermode\": \"closest\", \"mapbox\": {\"style\": \"light\"}, \"paper_bgcolor\": \"white\", \"plot_bgcolor\": \"#E5ECF6\", \"polar\": {\"angularaxis\": {\"gridcolor\": \"white\", \"linecolor\": \"white\", \"ticks\": \"\"}, \"bgcolor\": \"#E5ECF6\", \"radialaxis\": {\"gridcolor\": \"white\", \"linecolor\": \"white\", \"ticks\": \"\"}}, \"scene\": {\"xaxis\": {\"backgroundcolor\": \"#E5ECF6\", \"gridcolor\": \"white\", \"gridwidth\": 2, \"linecolor\": \"white\", \"showbackground\": true, \"ticks\": \"\", \"zerolinecolor\": \"white\"}, \"yaxis\": {\"backgroundcolor\": \"#E5ECF6\", \"gridcolor\": \"white\", \"gridwidth\": 2, \"linecolor\": \"white\", \"showbackground\": true, \"ticks\": \"\", \"zerolinecolor\": \"white\"}, \"zaxis\": {\"backgroundcolor\": \"#E5ECF6\", \"gridcolor\": \"white\", \"gridwidth\": 2, \"linecolor\": \"white\", \"showbackground\": true, \"ticks\": \"\", \"zerolinecolor\": \"white\"}}, \"shapedefaults\": {\"line\": {\"color\": \"#2a3f5f\"}}, \"ternary\": {\"aaxis\": {\"gridcolor\": \"white\", \"linecolor\": \"white\", \"ticks\": \"\"}, \"baxis\": {\"gridcolor\": \"white\", \"linecolor\": \"white\", \"ticks\": \"\"}, \"bgcolor\": \"#E5ECF6\", \"caxis\": {\"gridcolor\": \"white\", \"linecolor\": \"white\", \"ticks\": \"\"}}, \"title\": {\"x\": 0.05}, \"xaxis\": {\"automargin\": true, \"gridcolor\": \"white\", \"linecolor\": \"white\", \"ticks\": \"\", \"title\": {\"standoff\": 15}, \"zerolinecolor\": \"white\", \"zerolinewidth\": 2}, \"yaxis\": {\"automargin\": true, \"gridcolor\": \"white\", \"linecolor\": \"white\", \"ticks\": \"\", \"title\": {\"standoff\": 15}, \"zerolinecolor\": \"white\", \"zerolinewidth\": 2}}}, \"title\": {\"text\": \"GC/MS Metabolomics PCA\"}, \"xaxis\": {\"anchor\": \"y\", \"domain\": [0.0, 1.0], \"title\": {\"text\": \"PC1 (80.7%)\"}}, \"yaxis\": {\"anchor\": \"x\", \"domain\": [0.0, 1.0], \"title\": {\"text\": \"PC2 (3.5%)\"}}},\n",
       "                        {\"responsive\": true}\n",
       "                    ).then(function(){\n",
       "                            \n",
       "var gd = document.getElementById('93ee51c0-ceb8-439c-a830-2d61ccba2a0e');\n",
       "var x = new MutationObserver(function (mutations, observer) {{\n",
       "        var display = window.getComputedStyle(gd).display;\n",
       "        if (!display || display === 'none') {{\n",
       "            console.log([gd, 'removed!']);\n",
       "            Plotly.purge(gd);\n",
       "            observer.disconnect();\n",
       "        }}\n",
       "}});\n",
       "\n",
       "// Listen for the removal of the full notebook cells\n",
       "var notebookContainer = gd.closest('#notebook-container');\n",
       "if (notebookContainer) {{\n",
       "    x.observe(notebookContainer, {childList: true});\n",
       "}}\n",
       "\n",
       "// Listen for the clearing of the current output cell\n",
       "var outputEl = gd.closest('.output');\n",
       "if (outputEl) {{\n",
       "    x.observe(outputEl, {childList: true});\n",
       "}}\n",
       "\n",
       "                        })\n",
       "                };\n",
       "                });\n",
       "            </script>\n",
       "        </div>"
      ]
     },
     "metadata": {},
     "output_type": "display_data"
    }
   ],
   "source": [
    "import plotly.express as px\n",
    "\n",
    "df = pd.DataFrame({'x':PC1s, 'y':PC2s, 'sample_id':combined_df.index.tolist(), 'symbol':shape_list})\n",
    "\n",
    "fig = px.scatter(df, x=\"x\", y=\"y\", hover_data=['sample_id'], color=color_list, color_discrete_map=color_dict,\n",
    "                symbol=shape_list,\n",
    "                symbol_map={\"COVID\":'hexagram', \"NONCOVID\":'circle'})\n",
    "\n",
    "fig.update_layout(\n",
    "    title=\"GC/MS Metabolomics PCA\",\n",
    "    xaxis_title='PC1 ({}%)'.format(round(100*pca.explained_variance_ratio_[0],1)),\n",
    "    yaxis_title='PC2 ({}%)'.format(round(100*pca.explained_variance_ratio_[1],1)),\n",
    "    font=dict(\n",
    "        family=\"Helvetica\",\n",
    "        size=18,\n",
    "        color=\"#7f7f7f\")\n",
    "    )\n",
    "fig.show()"
   ]
  },
  {
   "cell_type": "code",
   "execution_count": 11,
   "metadata": {},
   "outputs": [],
   "source": [
    "#connection.close()"
   ]
  },
  {
   "cell_type": "code",
   "execution_count": null,
   "metadata": {},
   "outputs": [],
   "source": []
  }
 ],
 "metadata": {
  "kernelspec": {
   "display_name": "Python 3",
   "language": "python",
   "name": "python3"
  },
  "language_info": {
   "codemirror_mode": {
    "name": "ipython",
    "version": 3
   },
   "file_extension": ".py",
   "mimetype": "text/x-python",
   "name": "python",
   "nbconvert_exporter": "python",
   "pygments_lexer": "ipython3",
   "version": "3.6.10"
  }
 },
 "nbformat": 4,
 "nbformat_minor": 4
}
