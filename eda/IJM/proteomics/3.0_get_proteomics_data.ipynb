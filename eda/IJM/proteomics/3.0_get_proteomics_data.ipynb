{
 "cells": [
  {
   "cell_type": "markdown",
   "metadata": {},
   "source": [
    "# Build the get_proteomics_data() function for dash app and general querying\n",
    "\n",
    "Adapting from `src/dash/data.py` function `get_metabolomics_data()` and `1.0_get_lipidomics_data.ipynb`"
   ]
  },
  {
   "cell_type": "code",
   "execution_count": 75,
   "metadata": {},
   "outputs": [],
   "source": [
    "from sqlalchemy import create_engine, MetaData, Table, select, join\n",
    "import pandas as pd\n",
    "\n",
    "# SQLite path (updated to include new version of proteomics data)\n",
    "db_path = 'sqlite:///../../../data/SQLite Database/20200528/Covid-19 Study DB.sqlite'\n",
    "db_path = 'sqlite:////Volumes/projects/All_20200428_COVID_plasma_multiomics/SQLite Database/Covid-19 Study DB.sqlite'\n",
    "\n",
    "\n",
    "def get_proteomics_data(with_metadata=False):\n",
    "    # Create an engine that connects to the Covid-19 Study DB.sqlite file: engine\n",
    "    engine = create_engine(db_path)\n",
    "\n",
    "    # Establish connection\n",
    "    connection = engine.connect()\n",
    "\n",
    "    # pull table into df\n",
    "    proteomics_measurements_df = pd.read_sql_query(\"SELECT * from proteomics_measurements\", connection)\n",
    "\n",
    "    # pull table into df\n",
    "    proteomics_runs_df = pd.read_sql_query(\"SELECT * from proteomics_runs\", connection)\n",
    "\n",
    "    # pull table into df\n",
    "    rawfiles_df = pd.read_sql_query(\"SELECT * from rawfiles WHERE ome_id=1 AND sample_ID<>-1 and keep=1\", connection)\n",
    "\n",
    "    # pull table into df\n",
    "    deidentified_patient_metadata_df = pd.read_sql_query(\"SELECT * from deidentified_patient_metadata\", connection)\n",
    "\n",
    "    # make sure the merge by columns are all the same type -> pandas seems sensitive to this\n",
    "    proteomics_measurements_df = proteomics_measurements_df.astype({'replicate_id': 'int32'})\n",
    "    proteomics_runs_df = proteomics_runs_df.astype({'replicate_id': 'int32', 'rawfile_id': 'int32'})\n",
    "    rawfiles_df = rawfiles_df.astype({'rawfile_id': 'int32', 'sample_id': 'int32'})\n",
    "    deidentified_patient_metadata_df = deidentified_patient_metadata_df.astype({'sample_id': 'int32'})\n",
    "\n",
    "    joined_df = proteomics_measurements_df\\\n",
    "                .join(proteomics_runs_df.set_index('replicate_id'), on='replicate_id')\\\n",
    "                .join(rawfiles_df.set_index('rawfile_id'), on='rawfile_id')\\\n",
    "                .join(deidentified_patient_metadata_df.set_index('sample_id'), on='sample_id')\n",
    "\n",
    "    # drop samples that are missing COVID or ICU status\n",
    "    joined_df.dropna(subset=['ICU_1','COVID'], inplace=True)\n",
    "\n",
    "    # pivot to wide format\n",
    "    wide_df = joined_df.pivot_table(index='sample_id', columns='biomolecule_id', values='normalized_abundance')\n",
    "    wide_df.columns = [str(col) for col in wide_df.columns]\n",
    "\n",
    "    # get biomolecule names\n",
    "    biomolecules_df = pd.read_sql_query(\"SELECT * from biomolecules WHERE omics_id=1\", connection)\n",
    "    \n",
    "    # close DB connection\n",
    "    connection.close()\n",
    "\n",
    "    # build biomolecule name dict \n",
    "    biomolecule_name_dict = {}\n",
    "    biomolecule_drop_list = []\n",
    "    for index, row in biomolecules_df.iterrows():\n",
    "        biomolecule_id = str(row['biomolecule_id'])\n",
    "        standardized_name = row['standardized_name']\n",
    "        biomolecule_name_dict[biomolecule_id] = standardized_name\n",
    "\n",
    "        keep = row['keep']\n",
    "        if keep!=\"1\":\n",
    "            biomolecule_drop_list.append(biomolecule_id)\n",
    "\n",
    "    # replace wide_df column names\n",
    "    \"\"\"new_col_names = []\n",
    "    for col in wide_df.columns:\n",
    "        new_col_names.append(biomolecule_name_dict[str(col)])\n",
    "    wide_df.columns = new_col_names\"\"\"\n",
    "\n",
    "    # optional return matrix with clinical metadata\n",
    "    if with_metadata:\n",
    "\n",
    "        combined_df = wide_df.join(deidentified_patient_metadata_df.set_index('sample_id'), on='sample_id')#.dropna()\n",
    "        return combined_df\n",
    "    \n",
    "    return wide_df"
   ]
  },
  {
   "cell_type": "code",
   "execution_count": 76,
   "metadata": {},
   "outputs": [
    {
     "data": {
      "text/html": [
       "<div>\n",
       "<style scoped>\n",
       "    .dataframe tbody tr th:only-of-type {\n",
       "        vertical-align: middle;\n",
       "    }\n",
       "\n",
       "    .dataframe tbody tr th {\n",
       "        vertical-align: top;\n",
       "    }\n",
       "\n",
       "    .dataframe thead th {\n",
       "        text-align: right;\n",
       "    }\n",
       "</style>\n",
       "<table border=\"1\" class=\"dataframe\">\n",
       "  <thead>\n",
       "    <tr style=\"text-align: right;\">\n",
       "      <th></th>\n",
       "      <th>7593</th>\n",
       "      <th>7594</th>\n",
       "      <th>7595</th>\n",
       "      <th>7596</th>\n",
       "      <th>7597</th>\n",
       "      <th>7598</th>\n",
       "      <th>7599</th>\n",
       "      <th>7600</th>\n",
       "      <th>7601</th>\n",
       "      <th>7602</th>\n",
       "      <th>...</th>\n",
       "      <th>Albany_sampleID</th>\n",
       "      <th>COVID</th>\n",
       "      <th>Hospital_free_days</th>\n",
       "      <th>Age_less_than_90</th>\n",
       "      <th>Gender</th>\n",
       "      <th>ICU_1</th>\n",
       "      <th>APACHEII</th>\n",
       "      <th>Charlson_score</th>\n",
       "      <th>Mech_Ventilation</th>\n",
       "      <th>Vent_free_days</th>\n",
       "    </tr>\n",
       "    <tr>\n",
       "      <th>sample_id</th>\n",
       "      <th></th>\n",
       "      <th></th>\n",
       "      <th></th>\n",
       "      <th></th>\n",
       "      <th></th>\n",
       "      <th></th>\n",
       "      <th></th>\n",
       "      <th></th>\n",
       "      <th></th>\n",
       "      <th></th>\n",
       "      <th></th>\n",
       "      <th></th>\n",
       "      <th></th>\n",
       "      <th></th>\n",
       "      <th></th>\n",
       "      <th></th>\n",
       "      <th></th>\n",
       "      <th></th>\n",
       "      <th></th>\n",
       "      <th></th>\n",
       "      <th></th>\n",
       "    </tr>\n",
       "  </thead>\n",
       "  <tbody>\n",
       "    <tr>\n",
       "      <th>1.0</th>\n",
       "      <td>37.995543</td>\n",
       "      <td>22.751400</td>\n",
       "      <td>22.122531</td>\n",
       "      <td>27.176361</td>\n",
       "      <td>28.294477</td>\n",
       "      <td>22.830609</td>\n",
       "      <td>24.783368</td>\n",
       "      <td>23.926601</td>\n",
       "      <td>23.490571</td>\n",
       "      <td>25.490816</td>\n",
       "      <td>...</td>\n",
       "      <td>C1</td>\n",
       "      <td>1</td>\n",
       "      <td>0</td>\n",
       "      <td>39</td>\n",
       "      <td>M</td>\n",
       "      <td>0</td>\n",
       "      <td>15</td>\n",
       "      <td>0</td>\n",
       "      <td>1</td>\n",
       "      <td>0</td>\n",
       "    </tr>\n",
       "    <tr>\n",
       "      <th>2.0</th>\n",
       "      <td>37.353091</td>\n",
       "      <td>21.477142</td>\n",
       "      <td>21.106922</td>\n",
       "      <td>29.419228</td>\n",
       "      <td>29.048510</td>\n",
       "      <td>26.660849</td>\n",
       "      <td>27.573331</td>\n",
       "      <td>24.671039</td>\n",
       "      <td>22.343591</td>\n",
       "      <td>27.166913</td>\n",
       "      <td>...</td>\n",
       "      <td>C2</td>\n",
       "      <td>1</td>\n",
       "      <td>22</td>\n",
       "      <td>63</td>\n",
       "      <td>M</td>\n",
       "      <td>0</td>\n",
       "      <td></td>\n",
       "      <td>2</td>\n",
       "      <td>0</td>\n",
       "      <td>28</td>\n",
       "    </tr>\n",
       "    <tr>\n",
       "      <th>3.0</th>\n",
       "      <td>37.527875</td>\n",
       "      <td>20.647824</td>\n",
       "      <td>19.148225</td>\n",
       "      <td>27.174171</td>\n",
       "      <td>28.953215</td>\n",
       "      <td>20.212142</td>\n",
       "      <td>25.619161</td>\n",
       "      <td>24.528623</td>\n",
       "      <td>20.714471</td>\n",
       "      <td>25.589237</td>\n",
       "      <td>...</td>\n",
       "      <td>C3</td>\n",
       "      <td>1</td>\n",
       "      <td>1</td>\n",
       "      <td>33</td>\n",
       "      <td>M</td>\n",
       "      <td>0</td>\n",
       "      <td></td>\n",
       "      <td>2</td>\n",
       "      <td>0</td>\n",
       "      <td>28</td>\n",
       "    </tr>\n",
       "    <tr>\n",
       "      <th>4.0</th>\n",
       "      <td>37.673128</td>\n",
       "      <td>21.828886</td>\n",
       "      <td>23.396629</td>\n",
       "      <td>28.879702</td>\n",
       "      <td>29.527460</td>\n",
       "      <td>26.439300</td>\n",
       "      <td>23.893562</td>\n",
       "      <td>25.875326</td>\n",
       "      <td>24.170967</td>\n",
       "      <td>25.280226</td>\n",
       "      <td>...</td>\n",
       "      <td>C4</td>\n",
       "      <td>1</td>\n",
       "      <td>22</td>\n",
       "      <td>49</td>\n",
       "      <td>M</td>\n",
       "      <td>0</td>\n",
       "      <td></td>\n",
       "      <td>1</td>\n",
       "      <td>0</td>\n",
       "      <td>28</td>\n",
       "    </tr>\n",
       "    <tr>\n",
       "      <th>5.0</th>\n",
       "      <td>37.983542</td>\n",
       "      <td>18.769891</td>\n",
       "      <td>18.695882</td>\n",
       "      <td>27.262485</td>\n",
       "      <td>28.605867</td>\n",
       "      <td>22.957979</td>\n",
       "      <td>18.440251</td>\n",
       "      <td>20.888495</td>\n",
       "      <td>17.354782</td>\n",
       "      <td>25.654472</td>\n",
       "      <td>...</td>\n",
       "      <td>C5</td>\n",
       "      <td>1</td>\n",
       "      <td>10</td>\n",
       "      <td>49</td>\n",
       "      <td>M</td>\n",
       "      <td>0</td>\n",
       "      <td>19</td>\n",
       "      <td>1</td>\n",
       "      <td>1</td>\n",
       "      <td>23</td>\n",
       "    </tr>\n",
       "    <tr>\n",
       "      <th>...</th>\n",
       "      <td>...</td>\n",
       "      <td>...</td>\n",
       "      <td>...</td>\n",
       "      <td>...</td>\n",
       "      <td>...</td>\n",
       "      <td>...</td>\n",
       "      <td>...</td>\n",
       "      <td>...</td>\n",
       "      <td>...</td>\n",
       "      <td>...</td>\n",
       "      <td>...</td>\n",
       "      <td>...</td>\n",
       "      <td>...</td>\n",
       "      <td>...</td>\n",
       "      <td>...</td>\n",
       "      <td>...</td>\n",
       "      <td>...</td>\n",
       "      <td>...</td>\n",
       "      <td>...</td>\n",
       "      <td>...</td>\n",
       "      <td>...</td>\n",
       "    </tr>\n",
       "    <tr>\n",
       "      <th>124.0</th>\n",
       "      <td>37.365447</td>\n",
       "      <td>18.888922</td>\n",
       "      <td>22.348868</td>\n",
       "      <td>27.133006</td>\n",
       "      <td>29.418182</td>\n",
       "      <td>25.645154</td>\n",
       "      <td>26.724164</td>\n",
       "      <td>24.374313</td>\n",
       "      <td>24.805480</td>\n",
       "      <td>27.039675</td>\n",
       "      <td>...</td>\n",
       "      <td>NC21</td>\n",
       "      <td>0</td>\n",
       "      <td>19</td>\n",
       "      <td>71</td>\n",
       "      <td>M</td>\n",
       "      <td>0</td>\n",
       "      <td></td>\n",
       "      <td>5</td>\n",
       "      <td>0</td>\n",
       "      <td>28</td>\n",
       "    </tr>\n",
       "    <tr>\n",
       "      <th>125.0</th>\n",
       "      <td>37.564109</td>\n",
       "      <td>19.975562</td>\n",
       "      <td>24.375109</td>\n",
       "      <td>27.793462</td>\n",
       "      <td>29.003245</td>\n",
       "      <td>26.466999</td>\n",
       "      <td>26.577443</td>\n",
       "      <td>25.152285</td>\n",
       "      <td>24.429947</td>\n",
       "      <td>26.009474</td>\n",
       "      <td>...</td>\n",
       "      <td>NC22</td>\n",
       "      <td>0</td>\n",
       "      <td>26</td>\n",
       "      <td>63</td>\n",
       "      <td>M</td>\n",
       "      <td>0</td>\n",
       "      <td>4</td>\n",
       "      <td>2</td>\n",
       "      <td>0</td>\n",
       "      <td>28</td>\n",
       "    </tr>\n",
       "    <tr>\n",
       "      <th>126.0</th>\n",
       "      <td>37.683884</td>\n",
       "      <td>18.226595</td>\n",
       "      <td>19.727447</td>\n",
       "      <td>26.876193</td>\n",
       "      <td>28.002763</td>\n",
       "      <td>20.797804</td>\n",
       "      <td>27.996742</td>\n",
       "      <td>24.717171</td>\n",
       "      <td>23.581184</td>\n",
       "      <td>26.701340</td>\n",
       "      <td>...</td>\n",
       "      <td>NC23</td>\n",
       "      <td>0</td>\n",
       "      <td>23</td>\n",
       "      <td>42</td>\n",
       "      <td>F</td>\n",
       "      <td>0</td>\n",
       "      <td></td>\n",
       "      <td>2</td>\n",
       "      <td>0</td>\n",
       "      <td>28</td>\n",
       "    </tr>\n",
       "    <tr>\n",
       "      <th>127.0</th>\n",
       "      <td>37.282698</td>\n",
       "      <td>22.212080</td>\n",
       "      <td>20.632306</td>\n",
       "      <td>27.715091</td>\n",
       "      <td>28.660543</td>\n",
       "      <td>17.828118</td>\n",
       "      <td>21.713502</td>\n",
       "      <td>25.369895</td>\n",
       "      <td>24.291863</td>\n",
       "      <td>26.368563</td>\n",
       "      <td>...</td>\n",
       "      <td>NC24</td>\n",
       "      <td>0</td>\n",
       "      <td>26</td>\n",
       "      <td>32</td>\n",
       "      <td>F</td>\n",
       "      <td>0</td>\n",
       "      <td></td>\n",
       "      <td>0</td>\n",
       "      <td>0</td>\n",
       "      <td>28</td>\n",
       "    </tr>\n",
       "    <tr>\n",
       "      <th>128.0</th>\n",
       "      <td>37.655909</td>\n",
       "      <td>20.608924</td>\n",
       "      <td>18.924288</td>\n",
       "      <td>26.965212</td>\n",
       "      <td>28.665092</td>\n",
       "      <td>25.495855</td>\n",
       "      <td>19.659693</td>\n",
       "      <td>25.790296</td>\n",
       "      <td>24.768906</td>\n",
       "      <td>26.011970</td>\n",
       "      <td>...</td>\n",
       "      <td>NC25</td>\n",
       "      <td>0</td>\n",
       "      <td>27</td>\n",
       "      <td>62</td>\n",
       "      <td>M</td>\n",
       "      <td>0</td>\n",
       "      <td></td>\n",
       "      <td>8</td>\n",
       "      <td>0</td>\n",
       "      <td>28</td>\n",
       "    </tr>\n",
       "  </tbody>\n",
       "</table>\n",
       "<p>128 rows × 756 columns</p>\n",
       "</div>"
      ],
      "text/plain": [
       "                7593       7594       7595       7596       7597       7598  \\\n",
       "sample_id                                                                     \n",
       "1.0        37.995543  22.751400  22.122531  27.176361  28.294477  22.830609   \n",
       "2.0        37.353091  21.477142  21.106922  29.419228  29.048510  26.660849   \n",
       "3.0        37.527875  20.647824  19.148225  27.174171  28.953215  20.212142   \n",
       "4.0        37.673128  21.828886  23.396629  28.879702  29.527460  26.439300   \n",
       "5.0        37.983542  18.769891  18.695882  27.262485  28.605867  22.957979   \n",
       "...              ...        ...        ...        ...        ...        ...   \n",
       "124.0      37.365447  18.888922  22.348868  27.133006  29.418182  25.645154   \n",
       "125.0      37.564109  19.975562  24.375109  27.793462  29.003245  26.466999   \n",
       "126.0      37.683884  18.226595  19.727447  26.876193  28.002763  20.797804   \n",
       "127.0      37.282698  22.212080  20.632306  27.715091  28.660543  17.828118   \n",
       "128.0      37.655909  20.608924  18.924288  26.965212  28.665092  25.495855   \n",
       "\n",
       "                7599       7600       7601       7602  ...  Albany_sampleID  \\\n",
       "sample_id                                              ...                    \n",
       "1.0        24.783368  23.926601  23.490571  25.490816  ...               C1   \n",
       "2.0        27.573331  24.671039  22.343591  27.166913  ...               C2   \n",
       "3.0        25.619161  24.528623  20.714471  25.589237  ...               C3   \n",
       "4.0        23.893562  25.875326  24.170967  25.280226  ...               C4   \n",
       "5.0        18.440251  20.888495  17.354782  25.654472  ...               C5   \n",
       "...              ...        ...        ...        ...  ...              ...   \n",
       "124.0      26.724164  24.374313  24.805480  27.039675  ...             NC21   \n",
       "125.0      26.577443  25.152285  24.429947  26.009474  ...             NC22   \n",
       "126.0      27.996742  24.717171  23.581184  26.701340  ...             NC23   \n",
       "127.0      21.713502  25.369895  24.291863  26.368563  ...             NC24   \n",
       "128.0      19.659693  25.790296  24.768906  26.011970  ...             NC25   \n",
       "\n",
       "           COVID  Hospital_free_days  Age_less_than_90  Gender  ICU_1  \\\n",
       "sample_id                                                               \n",
       "1.0            1                   0                39       M      0   \n",
       "2.0            1                  22                63       M      0   \n",
       "3.0            1                   1                33       M      0   \n",
       "4.0            1                  22                49       M      0   \n",
       "5.0            1                  10                49       M      0   \n",
       "...          ...                 ...               ...     ...    ...   \n",
       "124.0          0                  19                71       M      0   \n",
       "125.0          0                  26                63       M      0   \n",
       "126.0          0                  23                42       F      0   \n",
       "127.0          0                  26                32       F      0   \n",
       "128.0          0                  27                62       M      0   \n",
       "\n",
       "           APACHEII  Charlson_score  Mech_Ventilation  Vent_free_days  \n",
       "sample_id                                                              \n",
       "1.0              15               0                 1               0  \n",
       "2.0                               2                 0              28  \n",
       "3.0                               2                 0              28  \n",
       "4.0                               1                 0              28  \n",
       "5.0              19               1                 1              23  \n",
       "...             ...             ...               ...             ...  \n",
       "124.0                             5                 0              28  \n",
       "125.0             4               2                 0              28  \n",
       "126.0                             2                 0              28  \n",
       "127.0                             0                 0              28  \n",
       "128.0                             8                 0              28  \n",
       "\n",
       "[128 rows x 756 columns]"
      ]
     },
     "execution_count": 76,
     "metadata": {},
     "output_type": "execute_result"
    }
   ],
   "source": [
    "proteomics_df = get_proteomics_data(with_metadata=True)\n",
    "proteomics_df"
   ]
  },
  {
   "cell_type": "markdown",
   "metadata": {},
   "source": [
    "# Test functions"
   ]
  },
  {
   "cell_type": "code",
   "execution_count": 77,
   "metadata": {},
   "outputs": [],
   "source": [
    "color_dict = {\n",
    "                \"COVID_ICU\":\"#D53E4F\",\n",
    "                \"COVID_NONICU\":\"#FDAE61\",\n",
    "                \"NONCOVID_ICU\":\"#74ADD1\",\n",
    "                \"NONCOVID_NONICU\":\"#66C2A5\",\n",
    "                \"Male\":\"#F46D43\",\n",
    "                \"Female\":\"#5AAE61\",\n",
    "                \"Col7\":\"#8073AC\",\n",
    "                \"Col8\":\"#DE77AE\",\n",
    "                \"proteomics\":\"#9E0142\",\n",
    "                \"lipidomics\":\"#F4A582\",\n",
    "                \"metabolomics\":\"#2A4023\",\n",
    "                \"transcriptomics\":\"#2C0379\",\n",
    "                \"selected_biomolecule\":\"black\"\n",
    "                }\n",
    "\n",
    "def get_color_list(combined_df):\n",
    "    # from combined_df\n",
    "\n",
    "    # get colors\n",
    "    color_list = []\n",
    "    for sample_id, row in combined_df.iterrows():\n",
    "\n",
    "        ICU_1 = row['ICU_1']\n",
    "        COVID = row['COVID']\n",
    "\n",
    "        if pd.isnull(ICU_1):\n",
    "            color = \"Col12\"\n",
    "\n",
    "        elif ICU_1 == \"1\" and COVID == \"1\":\n",
    "            color = color_dict[\"COVID_ICU\"]\n",
    "            color = \"COVID_ICU\"\n",
    "\n",
    "        elif ICU_1 == \"1\" and COVID == \"0\":\n",
    "            color = color_dict[\"NONCOVID_ICU\"]\n",
    "            color = \"NONCOVID_ICU\"\n",
    "\n",
    "        elif ICU_1 == \"0\" and COVID == \"1\":\n",
    "            color = color_dict[\"COVID_NONICU\"]\n",
    "            color = 'COVID_NONICU'\n",
    "\n",
    "        elif ICU_1 == \"0\" and COVID == \"0\":\n",
    "            color = color_dict[\"NONCOVID_NONICU\"]\n",
    "            color = \"NONCOVID_NONICU\"\n",
    "\n",
    "        color_list.append(color)\n",
    "\n",
    "    return color_list"
   ]
  },
  {
   "cell_type": "code",
   "execution_count": 78,
   "metadata": {},
   "outputs": [],
   "source": [
    "color_list = get_color_list(proteomics_df)"
   ]
  },
  {
   "cell_type": "code",
   "execution_count": 79,
   "metadata": {},
   "outputs": [],
   "source": [
    "proteomics_df['color_by'] = color_list"
   ]
  },
  {
   "cell_type": "code",
   "execution_count": 80,
   "metadata": {},
   "outputs": [],
   "source": [
    "proteomics_df.to_csv(\"../../../data/proteomics_measurements_w_clinical_metadata.csv\")"
   ]
  },
  {
   "cell_type": "code",
   "execution_count": 70,
   "metadata": {},
   "outputs": [
    {
     "data": {
      "application/vnd.plotly.v1+json": {
       "config": {
        "plotlyServerURL": "https://plot.ly"
       },
       "data": [
        {
         "customdata": [
          [
           "M",
           "39"
          ],
          [
           "M",
           "63"
          ],
          [
           "M",
           "33"
          ],
          [
           "M",
           "49"
          ],
          [
           "M",
           "49"
          ],
          [
           "M",
           "45"
          ],
          [
           "M",
           "37"
          ],
          [
           "M",
           "48"
          ],
          [
           "M",
           "54"
          ],
          [
           "M",
           "51"
          ],
          [
           "M",
           "81"
          ],
          [
           "M",
           "68"
          ],
          [
           "M",
           "87"
          ],
          [
           "M",
           "71"
          ],
          [
           "M",
           "62"
          ],
          [
           "M",
           "55"
          ],
          [
           "M",
           "49"
          ],
          [
           "M",
           "84"
          ],
          [
           "M",
           "81"
          ],
          [
           "M",
           "82"
          ],
          [
           "M",
           "55"
          ],
          [
           "M",
           "80"
          ],
          [
           "M",
           "27"
          ],
          [
           "M",
           "67"
          ],
          [
           "M",
           "80"
          ],
          [
           "M",
           "49"
          ],
          [
           "M",
           "51"
          ],
          [
           "M",
           "81"
          ],
          [
           "M",
           "84"
          ],
          [
           "M",
           "83"
          ]
         ],
         "hovertemplate": "color=COVID_NONICU<br>Gender=%{customdata[0]}<br>Hospital_free_days=%{x}<br>7974=%{y}<br>Age_less_than_90=%{customdata[1]}<extra></extra>",
         "legendgroup": "COVID_NONICU, M",
         "marker": {
          "color": "#FDAE61",
          "opacity": 0.8,
          "size": 15,
          "symbol": "circle"
         },
         "mode": "markers",
         "name": "COVID_NONICU, M",
         "showlegend": true,
         "type": "scatter",
         "x": [
          "0",
          "22",
          "1",
          "22",
          "10",
          "19",
          "22",
          "25",
          "16",
          "21",
          "23",
          "0",
          "26",
          "0",
          "27",
          "26",
          "26",
          "16",
          "12",
          "14",
          "22",
          "14",
          "23",
          "24",
          "18",
          "16",
          "24",
          "NA",
          "0",
          "NA"
         ],
         "xaxis": "x",
         "y": [
          31.77297567,
          31.87107432,
          32.59363607,
          32.10827157,
          32.10236994,
          31.68912526,
          31.64568527,
          32.30407998,
          31.65129963,
          31.78818862,
          31.9926697,
          31.61535273,
          32.354159,
          31.8755851,
          32.66636285,
          32.74270239,
          32.13231395,
          31.8148228,
          32.46980601,
          32.49826483,
          32.34188741,
          32.04527818,
          32.80437809,
          32.55155923,
          31.95008174,
          31.84011131,
          32.48296442,
          31.53208551,
          32.3591695,
          31.79350843
         ],
         "yaxis": "y"
        },
        {
         "customdata": [
          [
           "F",
           "38"
          ],
          [
           "F",
           "52"
          ],
          [
           "F",
           "70"
          ],
          [
           "F",
           "64"
          ],
          [
           "F",
           "58"
          ],
          [
           "F",
           "58"
          ],
          [
           "F",
           "35"
          ],
          [
           "F",
           "33"
          ],
          [
           "F",
           "30"
          ],
          [
           "F",
           "54"
          ],
          [
           "F",
           "66"
          ],
          [
           "F",
           "77"
          ],
          [
           "F",
           "50"
          ],
          [
           "F",
           "85"
          ],
          [
           "F",
           "75"
          ],
          [
           "F",
           "52"
          ],
          [
           "F",
           "90"
          ],
          [
           "F",
           "86"
          ],
          [
           "F",
           "29"
          ],
          [
           "F",
           "24"
          ],
          [
           "F",
           "74"
          ]
         ],
         "hovertemplate": "color=COVID_NONICU<br>Gender=%{customdata[0]}<br>Hospital_free_days=%{x}<br>7974=%{y}<br>Age_less_than_90=%{customdata[1]}<extra></extra>",
         "legendgroup": "COVID_NONICU, F",
         "marker": {
          "color": "#FDAE61",
          "opacity": 0.8,
          "size": 15,
          "symbol": "diamond"
         },
         "mode": "markers",
         "name": "COVID_NONICU, F",
         "showlegend": true,
         "type": "scatter",
         "x": [
          "25",
          "20",
          "17",
          "19",
          "18",
          "21",
          "24",
          "22",
          "26",
          "21",
          "5",
          "25",
          "22",
          "NA",
          "NA",
          "25",
          "16",
          "NA",
          "23",
          "26",
          "NA"
         ],
         "xaxis": "x",
         "y": [
          31.9672612,
          32.63122777,
          32.02610816,
          32.44082399,
          31.85032002,
          31.8207683,
          31.24496182,
          31.32420799,
          31.8448694,
          32.11231691,
          32.40054891,
          32.51034222,
          32.52208545,
          32.07800996,
          31.58530935,
          32.08882075,
          32.44524682,
          31.8382713,
          32.84421469,
          32.22570106,
          32.15514799
         ],
         "yaxis": "y"
        },
        {
         "customdata": [
          [
           "",
           ""
          ]
         ],
         "hovertemplate": "color=COVID_NONICU<br>Gender=%{customdata[0]}<br>Hospital_free_days=%{x}<br>7974=%{y}<br>Age_less_than_90=%{customdata[1]}<extra></extra>",
         "legendgroup": "COVID_NONICU, ",
         "marker": {
          "color": "#FDAE61",
          "opacity": 0.8,
          "size": 15,
          "symbol": "square"
         },
         "mode": "markers",
         "name": "COVID_NONICU, ",
         "showlegend": true,
         "type": "scatter",
         "x": [
          ""
         ],
         "xaxis": "x",
         "y": [
          32.12392304
         ],
         "yaxis": "y"
        },
        {
         "customdata": [
          [
           "M",
           "78"
          ],
          [
           "M",
           "62"
          ],
          [
           "M",
           "50"
          ],
          [
           "M",
           "55"
          ],
          [
           "M",
           "68"
          ],
          [
           "M",
           "62"
          ],
          [
           "M",
           "66"
          ],
          [
           "M",
           "43"
          ],
          [
           "M",
           "76"
          ],
          [
           "M",
           "55"
          ],
          [
           "M",
           "55"
          ],
          [
           "M",
           "63"
          ],
          [
           "M",
           "54"
          ],
          [
           "M",
           "50"
          ],
          [
           "M",
           "72"
          ],
          [
           "M",
           "68"
          ],
          [
           "M",
           "66"
          ],
          [
           "M",
           "74"
          ],
          [
           "M",
           "46"
          ],
          [
           "M",
           "62"
          ],
          [
           "M",
           "78"
          ],
          [
           "M",
           "73"
          ],
          [
           "M",
           "37"
          ],
          [
           "M",
           "65"
          ],
          [
           "M",
           "57"
          ],
          [
           "M",
           "79"
          ],
          [
           "M",
           "37"
          ],
          [
           "M",
           "71"
          ],
          [
           "M",
           "74"
          ],
          [
           "M",
           "62"
          ],
          [
           "M",
           "61"
          ],
          [
           "M",
           "76"
          ],
          [
           "M",
           "71"
          ],
          [
           "M",
           "58"
          ]
         ],
         "hovertemplate": "color=COVID_ICU<br>Gender=%{customdata[0]}<br>Hospital_free_days=%{x}<br>7974=%{y}<br>Age_less_than_90=%{customdata[1]}<extra></extra>",
         "legendgroup": "COVID_ICU, M",
         "marker": {
          "color": "#D53E4F",
          "opacity": 0.8,
          "size": 15,
          "symbol": "circle"
         },
         "mode": "markers",
         "name": "COVID_ICU, M",
         "showlegend": true,
         "type": "scatter",
         "x": [
          "0",
          "0",
          "5",
          "0",
          "0",
          "18",
          "15",
          "0",
          "0",
          "6",
          "9",
          "0",
          "0",
          "0",
          "0",
          "0",
          "12",
          "3",
          "0",
          "22",
          "0",
          "0",
          "0",
          "0",
          "20",
          "0",
          "NA",
          "0",
          "0",
          "NA",
          "22",
          "NA",
          "NA",
          "NA"
         ],
         "xaxis": "x",
         "y": [
          31.20821644,
          31.46187736,
          31.12890814,
          31.34159585,
          31.18730533,
          32.7955225,
          31.6826523,
          31.18517972,
          31.68240115,
          31.66572776,
          31.48053493,
          31.55448977,
          31.69867709,
          31.15888367,
          31.44342003,
          31.66953412,
          31.69257952,
          31.81760804,
          30.98400077,
          31.53727957,
          31.3253344,
          31.62322486,
          30.77195312,
          32.29928362,
          30.67631833,
          31.6087156,
          31.33255471,
          31.65957409,
          32.03262503,
          32.12527872,
          32.78958843,
          32.04713248,
          31.46216998,
          31.59499325
         ],
         "yaxis": "y"
        },
        {
         "customdata": [
          [
           "F",
           "64"
          ],
          [
           "F",
           "41"
          ],
          [
           "F",
           "71"
          ],
          [
           "F",
           "63"
          ],
          [
           "F",
           "80"
          ],
          [
           "F",
           "21"
          ],
          [
           "F",
           "83"
          ],
          [
           "F",
           "62"
          ],
          [
           "F",
           "72"
          ],
          [
           "F",
           "62"
          ],
          [
           "F",
           "78"
          ],
          [
           "F",
           "39"
          ],
          [
           "F",
           "55"
          ],
          [
           "F",
           "73"
          ],
          [
           "F",
           "55"
          ],
          [
           "F",
           "82"
          ],
          [
           "F",
           "81"
          ]
         ],
         "hovertemplate": "color=COVID_ICU<br>Gender=%{customdata[0]}<br>Hospital_free_days=%{x}<br>7974=%{y}<br>Age_less_than_90=%{customdata[1]}<extra></extra>",
         "legendgroup": "COVID_ICU, F",
         "marker": {
          "color": "#D53E4F",
          "opacity": 0.8,
          "size": 15,
          "symbol": "diamond"
         },
         "mode": "markers",
         "name": "COVID_ICU, F",
         "showlegend": true,
         "type": "scatter",
         "x": [
          "0",
          "10",
          "0",
          "0",
          "0",
          "11",
          "0",
          "3",
          "0",
          "0",
          "0",
          "NA",
          "13",
          "0",
          "9",
          "0",
          "0"
         ],
         "xaxis": "x",
         "y": [
          31.88092111,
          31.89836239,
          31.53106304,
          31.67862863,
          31.84071162,
          32.08863123,
          30.95136776,
          31.71534441,
          31.87103759,
          31.10711812,
          32.47469708,
          31.22595957,
          30.99212941,
          30.95178461,
          31.85779043,
          32.11004669,
          31.91755278
         ],
         "yaxis": "y"
        },
        {
         "customdata": [
          [
           "M",
           "90"
          ],
          [
           "M",
           "71"
          ],
          [
           "M",
           "63"
          ],
          [
           "M",
           "62"
          ]
         ],
         "hovertemplate": "color=NONCOVID_NONICU<br>Gender=%{customdata[0]}<br>Hospital_free_days=%{x}<br>7974=%{y}<br>Age_less_than_90=%{customdata[1]}<extra></extra>",
         "legendgroup": "NONCOVID_NONICU, M",
         "marker": {
          "color": "#66C2A5",
          "opacity": 0.8,
          "size": 15,
          "symbol": "circle"
         },
         "mode": "markers",
         "name": "NONCOVID_NONICU, M",
         "showlegend": true,
         "type": "scatter",
         "x": [
          "24",
          "19",
          "26",
          "27"
         ],
         "xaxis": "x",
         "y": [
          32.97122449,
          32.11597905,
          32.27005427,
          33.00589404
         ],
         "yaxis": "y"
        },
        {
         "customdata": [
          [
           "F",
           "54"
          ],
          [
           "F",
           "83"
          ],
          [
           "F",
           "49"
          ],
          [
           "F",
           "58"
          ],
          [
           "F",
           "42"
          ],
          [
           "F",
           "32"
          ]
         ],
         "hovertemplate": "color=NONCOVID_NONICU<br>Gender=%{customdata[0]}<br>Hospital_free_days=%{x}<br>7974=%{y}<br>Age_less_than_90=%{customdata[1]}<extra></extra>",
         "legendgroup": "NONCOVID_NONICU, F",
         "marker": {
          "color": "#66C2A5",
          "opacity": 0.8,
          "size": 15,
          "symbol": "diamond"
         },
         "mode": "markers",
         "name": "NONCOVID_NONICU, F",
         "showlegend": true,
         "type": "scatter",
         "x": [
          "18",
          "26",
          "27",
          "24",
          "23",
          "26"
         ],
         "xaxis": "x",
         "y": [
          33.1675379,
          32.69432431,
          32.74553009,
          33.13925404,
          32.50367663,
          33.23306476
         ],
         "yaxis": "y"
        },
        {
         "customdata": [
          [
           "M",
           "65"
          ],
          [
           "M",
           "65"
          ],
          [
           "M",
           "50"
          ],
          [
           "M",
           "67"
          ],
          [
           "M",
           "82"
          ],
          [
           "M",
           "65"
          ],
          [
           "M",
           "88"
          ]
         ],
         "hovertemplate": "color=NONCOVID_ICU<br>Gender=%{customdata[0]}<br>Hospital_free_days=%{x}<br>7974=%{y}<br>Age_less_than_90=%{customdata[1]}<extra></extra>",
         "legendgroup": "NONCOVID_ICU, M",
         "marker": {
          "color": "#74ADD1",
          "opacity": 0.8,
          "size": 15,
          "symbol": "circle"
         },
         "mode": "markers",
         "name": "NONCOVID_ICU, M",
         "showlegend": true,
         "type": "scatter",
         "x": [
          "12",
          "NA",
          "25",
          "21",
          "25",
          "18",
          "NA"
         ],
         "xaxis": "x",
         "y": [
          32.78341519,
          31.83349136,
          33.4963135,
          32.08176011,
          33.08461386,
          32.37435659,
          31.8925479
         ],
         "yaxis": "y"
        },
        {
         "customdata": [
          [
           "F",
           "75"
          ],
          [
           "F",
           "53"
          ],
          [
           "F",
           "75"
          ],
          [
           "F",
           "40"
          ],
          [
           "F",
           "84"
          ],
          [
           "F",
           "66"
          ],
          [
           "F",
           "62"
          ]
         ],
         "hovertemplate": "color=NONCOVID_ICU<br>Gender=%{customdata[0]}<br>Hospital_free_days=%{x}<br>7974=%{y}<br>Age_less_than_90=%{customdata[1]}<extra></extra>",
         "legendgroup": "NONCOVID_ICU, F",
         "marker": {
          "color": "#74ADD1",
          "opacity": 0.8,
          "size": 15,
          "symbol": "diamond"
         },
         "mode": "markers",
         "name": "NONCOVID_ICU, F",
         "showlegend": true,
         "type": "scatter",
         "x": [
          "0",
          "21",
          "19",
          "12",
          "24",
          "NA",
          "23"
         ],
         "xaxis": "x",
         "y": [
          32.65750992,
          32.25180501,
          32.65614637,
          31.57009499,
          31.72411487,
          31.77882171,
          32.57203947
         ],
         "yaxis": "y"
        },
        {
         "customdata": [
          [
           "",
           "83"
          ]
         ],
         "hovertemplate": "color=NONCOVID_ICU<br>Gender=%{customdata[0]}<br>Hospital_free_days=%{x}<br>7974=%{y}<br>Age_less_than_90=%{customdata[1]}<extra></extra>",
         "legendgroup": "NONCOVID_ICU, ",
         "marker": {
          "color": "#74ADD1",
          "opacity": 0.8,
          "size": 15,
          "symbol": "square"
         },
         "mode": "markers",
         "name": "NONCOVID_ICU, ",
         "showlegend": true,
         "type": "scatter",
         "x": [
          "13"
         ],
         "xaxis": "x",
         "y": [
          32.64609315
         ],
         "yaxis": "y"
        }
       ],
       "layout": {
        "autosize": true,
        "font": {
         "color": "#7f7f7f",
         "family": "Helvetica",
         "size": 18
        },
        "legend": {
         "title": {
          "text": "Group"
         },
         "tracegroupgap": 0
        },
        "margin": {
         "t": 60
        },
        "showlegend": true,
        "template": {
         "data": {
          "bar": [
           {
            "error_x": {
             "color": "#2a3f5f"
            },
            "error_y": {
             "color": "#2a3f5f"
            },
            "marker": {
             "line": {
              "color": "#E5ECF6",
              "width": 0.5
             }
            },
            "type": "bar"
           }
          ],
          "barpolar": [
           {
            "marker": {
             "line": {
              "color": "#E5ECF6",
              "width": 0.5
             }
            },
            "type": "barpolar"
           }
          ],
          "carpet": [
           {
            "aaxis": {
             "endlinecolor": "#2a3f5f",
             "gridcolor": "white",
             "linecolor": "white",
             "minorgridcolor": "white",
             "startlinecolor": "#2a3f5f"
            },
            "baxis": {
             "endlinecolor": "#2a3f5f",
             "gridcolor": "white",
             "linecolor": "white",
             "minorgridcolor": "white",
             "startlinecolor": "#2a3f5f"
            },
            "type": "carpet"
           }
          ],
          "choropleth": [
           {
            "colorbar": {
             "outlinewidth": 0,
             "ticks": ""
            },
            "type": "choropleth"
           }
          ],
          "contour": [
           {
            "colorbar": {
             "outlinewidth": 0,
             "ticks": ""
            },
            "colorscale": [
             [
              0,
              "#0d0887"
             ],
             [
              0.1111111111111111,
              "#46039f"
             ],
             [
              0.2222222222222222,
              "#7201a8"
             ],
             [
              0.3333333333333333,
              "#9c179e"
             ],
             [
              0.4444444444444444,
              "#bd3786"
             ],
             [
              0.5555555555555556,
              "#d8576b"
             ],
             [
              0.6666666666666666,
              "#ed7953"
             ],
             [
              0.7777777777777778,
              "#fb9f3a"
             ],
             [
              0.8888888888888888,
              "#fdca26"
             ],
             [
              1,
              "#f0f921"
             ]
            ],
            "type": "contour"
           }
          ],
          "contourcarpet": [
           {
            "colorbar": {
             "outlinewidth": 0,
             "ticks": ""
            },
            "type": "contourcarpet"
           }
          ],
          "heatmap": [
           {
            "colorbar": {
             "outlinewidth": 0,
             "ticks": ""
            },
            "colorscale": [
             [
              0,
              "#0d0887"
             ],
             [
              0.1111111111111111,
              "#46039f"
             ],
             [
              0.2222222222222222,
              "#7201a8"
             ],
             [
              0.3333333333333333,
              "#9c179e"
             ],
             [
              0.4444444444444444,
              "#bd3786"
             ],
             [
              0.5555555555555556,
              "#d8576b"
             ],
             [
              0.6666666666666666,
              "#ed7953"
             ],
             [
              0.7777777777777778,
              "#fb9f3a"
             ],
             [
              0.8888888888888888,
              "#fdca26"
             ],
             [
              1,
              "#f0f921"
             ]
            ],
            "type": "heatmap"
           }
          ],
          "heatmapgl": [
           {
            "colorbar": {
             "outlinewidth": 0,
             "ticks": ""
            },
            "colorscale": [
             [
              0,
              "#0d0887"
             ],
             [
              0.1111111111111111,
              "#46039f"
             ],
             [
              0.2222222222222222,
              "#7201a8"
             ],
             [
              0.3333333333333333,
              "#9c179e"
             ],
             [
              0.4444444444444444,
              "#bd3786"
             ],
             [
              0.5555555555555556,
              "#d8576b"
             ],
             [
              0.6666666666666666,
              "#ed7953"
             ],
             [
              0.7777777777777778,
              "#fb9f3a"
             ],
             [
              0.8888888888888888,
              "#fdca26"
             ],
             [
              1,
              "#f0f921"
             ]
            ],
            "type": "heatmapgl"
           }
          ],
          "histogram": [
           {
            "marker": {
             "colorbar": {
              "outlinewidth": 0,
              "ticks": ""
             }
            },
            "type": "histogram"
           }
          ],
          "histogram2d": [
           {
            "colorbar": {
             "outlinewidth": 0,
             "ticks": ""
            },
            "colorscale": [
             [
              0,
              "#0d0887"
             ],
             [
              0.1111111111111111,
              "#46039f"
             ],
             [
              0.2222222222222222,
              "#7201a8"
             ],
             [
              0.3333333333333333,
              "#9c179e"
             ],
             [
              0.4444444444444444,
              "#bd3786"
             ],
             [
              0.5555555555555556,
              "#d8576b"
             ],
             [
              0.6666666666666666,
              "#ed7953"
             ],
             [
              0.7777777777777778,
              "#fb9f3a"
             ],
             [
              0.8888888888888888,
              "#fdca26"
             ],
             [
              1,
              "#f0f921"
             ]
            ],
            "type": "histogram2d"
           }
          ],
          "histogram2dcontour": [
           {
            "colorbar": {
             "outlinewidth": 0,
             "ticks": ""
            },
            "colorscale": [
             [
              0,
              "#0d0887"
             ],
             [
              0.1111111111111111,
              "#46039f"
             ],
             [
              0.2222222222222222,
              "#7201a8"
             ],
             [
              0.3333333333333333,
              "#9c179e"
             ],
             [
              0.4444444444444444,
              "#bd3786"
             ],
             [
              0.5555555555555556,
              "#d8576b"
             ],
             [
              0.6666666666666666,
              "#ed7953"
             ],
             [
              0.7777777777777778,
              "#fb9f3a"
             ],
             [
              0.8888888888888888,
              "#fdca26"
             ],
             [
              1,
              "#f0f921"
             ]
            ],
            "type": "histogram2dcontour"
           }
          ],
          "mesh3d": [
           {
            "colorbar": {
             "outlinewidth": 0,
             "ticks": ""
            },
            "type": "mesh3d"
           }
          ],
          "parcoords": [
           {
            "line": {
             "colorbar": {
              "outlinewidth": 0,
              "ticks": ""
             }
            },
            "type": "parcoords"
           }
          ],
          "pie": [
           {
            "automargin": true,
            "type": "pie"
           }
          ],
          "scatter": [
           {
            "marker": {
             "colorbar": {
              "outlinewidth": 0,
              "ticks": ""
             }
            },
            "type": "scatter"
           }
          ],
          "scatter3d": [
           {
            "line": {
             "colorbar": {
              "outlinewidth": 0,
              "ticks": ""
             }
            },
            "marker": {
             "colorbar": {
              "outlinewidth": 0,
              "ticks": ""
             }
            },
            "type": "scatter3d"
           }
          ],
          "scattercarpet": [
           {
            "marker": {
             "colorbar": {
              "outlinewidth": 0,
              "ticks": ""
             }
            },
            "type": "scattercarpet"
           }
          ],
          "scattergeo": [
           {
            "marker": {
             "colorbar": {
              "outlinewidth": 0,
              "ticks": ""
             }
            },
            "type": "scattergeo"
           }
          ],
          "scattergl": [
           {
            "marker": {
             "colorbar": {
              "outlinewidth": 0,
              "ticks": ""
             }
            },
            "type": "scattergl"
           }
          ],
          "scattermapbox": [
           {
            "marker": {
             "colorbar": {
              "outlinewidth": 0,
              "ticks": ""
             }
            },
            "type": "scattermapbox"
           }
          ],
          "scatterpolar": [
           {
            "marker": {
             "colorbar": {
              "outlinewidth": 0,
              "ticks": ""
             }
            },
            "type": "scatterpolar"
           }
          ],
          "scatterpolargl": [
           {
            "marker": {
             "colorbar": {
              "outlinewidth": 0,
              "ticks": ""
             }
            },
            "type": "scatterpolargl"
           }
          ],
          "scatterternary": [
           {
            "marker": {
             "colorbar": {
              "outlinewidth": 0,
              "ticks": ""
             }
            },
            "type": "scatterternary"
           }
          ],
          "surface": [
           {
            "colorbar": {
             "outlinewidth": 0,
             "ticks": ""
            },
            "colorscale": [
             [
              0,
              "#0d0887"
             ],
             [
              0.1111111111111111,
              "#46039f"
             ],
             [
              0.2222222222222222,
              "#7201a8"
             ],
             [
              0.3333333333333333,
              "#9c179e"
             ],
             [
              0.4444444444444444,
              "#bd3786"
             ],
             [
              0.5555555555555556,
              "#d8576b"
             ],
             [
              0.6666666666666666,
              "#ed7953"
             ],
             [
              0.7777777777777778,
              "#fb9f3a"
             ],
             [
              0.8888888888888888,
              "#fdca26"
             ],
             [
              1,
              "#f0f921"
             ]
            ],
            "type": "surface"
           }
          ],
          "table": [
           {
            "cells": {
             "fill": {
              "color": "#EBF0F8"
             },
             "line": {
              "color": "white"
             }
            },
            "header": {
             "fill": {
              "color": "#C8D4E3"
             },
             "line": {
              "color": "white"
             }
            },
            "type": "table"
           }
          ]
         },
         "layout": {
          "annotationdefaults": {
           "arrowcolor": "#2a3f5f",
           "arrowhead": 0,
           "arrowwidth": 1
          },
          "coloraxis": {
           "colorbar": {
            "outlinewidth": 0,
            "ticks": ""
           }
          },
          "colorscale": {
           "diverging": [
            [
             0,
             "#8e0152"
            ],
            [
             0.1,
             "#c51b7d"
            ],
            [
             0.2,
             "#de77ae"
            ],
            [
             0.3,
             "#f1b6da"
            ],
            [
             0.4,
             "#fde0ef"
            ],
            [
             0.5,
             "#f7f7f7"
            ],
            [
             0.6,
             "#e6f5d0"
            ],
            [
             0.7,
             "#b8e186"
            ],
            [
             0.8,
             "#7fbc41"
            ],
            [
             0.9,
             "#4d9221"
            ],
            [
             1,
             "#276419"
            ]
           ],
           "sequential": [
            [
             0,
             "#0d0887"
            ],
            [
             0.1111111111111111,
             "#46039f"
            ],
            [
             0.2222222222222222,
             "#7201a8"
            ],
            [
             0.3333333333333333,
             "#9c179e"
            ],
            [
             0.4444444444444444,
             "#bd3786"
            ],
            [
             0.5555555555555556,
             "#d8576b"
            ],
            [
             0.6666666666666666,
             "#ed7953"
            ],
            [
             0.7777777777777778,
             "#fb9f3a"
            ],
            [
             0.8888888888888888,
             "#fdca26"
            ],
            [
             1,
             "#f0f921"
            ]
           ],
           "sequentialminus": [
            [
             0,
             "#0d0887"
            ],
            [
             0.1111111111111111,
             "#46039f"
            ],
            [
             0.2222222222222222,
             "#7201a8"
            ],
            [
             0.3333333333333333,
             "#9c179e"
            ],
            [
             0.4444444444444444,
             "#bd3786"
            ],
            [
             0.5555555555555556,
             "#d8576b"
            ],
            [
             0.6666666666666666,
             "#ed7953"
            ],
            [
             0.7777777777777778,
             "#fb9f3a"
            ],
            [
             0.8888888888888888,
             "#fdca26"
            ],
            [
             1,
             "#f0f921"
            ]
           ]
          },
          "colorway": [
           "#636efa",
           "#EF553B",
           "#00cc96",
           "#ab63fa",
           "#FFA15A",
           "#19d3f3",
           "#FF6692",
           "#B6E880",
           "#FF97FF",
           "#FECB52"
          ],
          "font": {
           "color": "#2a3f5f"
          },
          "geo": {
           "bgcolor": "white",
           "lakecolor": "white",
           "landcolor": "#E5ECF6",
           "showlakes": true,
           "showland": true,
           "subunitcolor": "white"
          },
          "hoverlabel": {
           "align": "left"
          },
          "hovermode": "closest",
          "mapbox": {
           "style": "light"
          },
          "paper_bgcolor": "white",
          "plot_bgcolor": "#E5ECF6",
          "polar": {
           "angularaxis": {
            "gridcolor": "white",
            "linecolor": "white",
            "ticks": ""
           },
           "bgcolor": "#E5ECF6",
           "radialaxis": {
            "gridcolor": "white",
            "linecolor": "white",
            "ticks": ""
           }
          },
          "scene": {
           "xaxis": {
            "backgroundcolor": "#E5ECF6",
            "gridcolor": "white",
            "gridwidth": 2,
            "linecolor": "white",
            "showbackground": true,
            "ticks": "",
            "zerolinecolor": "white"
           },
           "yaxis": {
            "backgroundcolor": "#E5ECF6",
            "gridcolor": "white",
            "gridwidth": 2,
            "linecolor": "white",
            "showbackground": true,
            "ticks": "",
            "zerolinecolor": "white"
           },
           "zaxis": {
            "backgroundcolor": "#E5ECF6",
            "gridcolor": "white",
            "gridwidth": 2,
            "linecolor": "white",
            "showbackground": true,
            "ticks": "",
            "zerolinecolor": "white"
           }
          },
          "shapedefaults": {
           "line": {
            "color": "#2a3f5f"
           }
          },
          "ternary": {
           "aaxis": {
            "gridcolor": "white",
            "linecolor": "white",
            "ticks": ""
           },
           "baxis": {
            "gridcolor": "white",
            "linecolor": "white",
            "ticks": ""
           },
           "bgcolor": "#E5ECF6",
           "caxis": {
            "gridcolor": "white",
            "linecolor": "white",
            "ticks": ""
           }
          },
          "title": {
           "x": 0.05
          },
          "xaxis": {
           "automargin": true,
           "gridcolor": "white",
           "linecolor": "white",
           "ticks": "",
           "title": {
            "standoff": 15
           },
           "zerolinecolor": "white",
           "zerolinewidth": 2
          },
          "yaxis": {
           "automargin": true,
           "gridcolor": "white",
           "linecolor": "white",
           "ticks": "",
           "title": {
            "standoff": 15
           },
           "zerolinecolor": "white",
           "zerolinewidth": 2
          }
         }
        },
        "title": {
         "text": "Hospital Free Days vs. Gelsolin"
        },
        "xaxis": {
         "anchor": "y",
         "autorange": true,
         "domain": [
          0,
          1
         ],
         "range": [
          -1.9508295263284448,
          28.950829526328445
         ],
         "title": {
          "text": "Hospital Free Days"
         },
         "type": "linear"
        },
        "yaxis": {
         "anchor": "x",
         "autorange": true,
         "domain": [
          0,
          1
         ],
         "range": [
          30.406779886757928,
          33.765851943242076
         ],
         "title": {
          "text": "Gelsolin"
         },
         "type": "linear"
        }
       }
      },
      "image/png": "[encoded data removed]",
      "text/html": [
       "<div>\n",
       "        \n",
       "        \n",
       "            <div id=\"0fd028a4-050e-499a-b6d0-2f95ab6f30b3\" class=\"plotly-graph-div\" style=\"height:525px; width:100%;\"></div>\n",
       "            <script type=\"text/javascript\">\n",
       "                require([\"plotly\"], function(Plotly) {\n",
       "                    window.PLOTLYENV=window.PLOTLYENV || {};\n",
       "                    \n",
       "                if (document.getElementById(\"0fd028a4-050e-499a-b6d0-2f95ab6f30b3\")) {\n",
       "                    Plotly.newPlot(\n",
       "                        '0fd028a4-050e-499a-b6d0-2f95ab6f30b3',\n",
       "                        [{\"customdata\": [[\"M\", \"39\"], [\"M\", \"63\"], [\"M\", \"33\"], [\"M\", \"49\"], [\"M\", \"49\"], [\"M\", \"45\"], [\"M\", \"37\"], [\"M\", \"48\"], [\"M\", \"54\"], [\"M\", \"51\"], [\"M\", \"81\"], [\"M\", \"68\"], [\"M\", \"87\"], [\"M\", \"71\"], [\"M\", \"62\"], [\"M\", \"55\"], [\"M\", \"49\"], [\"M\", \"84\"], [\"M\", \"81\"], [\"M\", \"82\"], [\"M\", \"55\"], [\"M\", \"80\"], [\"M\", \"27\"], [\"M\", \"67\"], [\"M\", \"80\"], [\"M\", \"49\"], [\"M\", \"51\"], [\"M\", \"81\"], [\"M\", \"84\"], [\"M\", \"83\"]], \"hovertemplate\": \"color=COVID_NONICU<br>Gender=%{customdata[0]}<br>Hospital_free_days=%{x}<br>7974=%{y}<br>Age_less_than_90=%{customdata[1]}<extra></extra>\", \"legendgroup\": \"COVID_NONICU, M\", \"marker\": {\"color\": \"#FDAE61\", \"opacity\": 0.8, \"size\": 15, \"symbol\": \"circle\"}, \"mode\": \"markers\", \"name\": \"COVID_NONICU, M\", \"showlegend\": true, \"type\": \"scatter\", \"x\": [\"0\", \"22\", \"1\", \"22\", \"10\", \"19\", \"22\", \"25\", \"16\", \"21\", \"23\", \"0\", \"26\", \"0\", \"27\", \"26\", \"26\", \"16\", \"12\", \"14\", \"22\", \"14\", \"23\", \"24\", \"18\", \"16\", \"24\", \"NA\", \"0\", \"NA\"], \"xaxis\": \"x\", \"y\": [31.77297567, 31.87107432, 32.59363607, 32.10827157, 32.10236994, 31.68912526, 31.64568527, 32.30407998, 31.65129963, 31.78818862, 31.9926697, 31.61535273, 32.354159, 31.8755851, 32.66636285, 32.74270239, 32.13231395, 31.8148228, 32.46980601, 32.49826483, 32.34188741, 32.04527818, 32.80437809, 32.55155923, 31.95008174, 31.84011131, 32.48296442, 31.53208551, 32.3591695, 31.79350843], \"yaxis\": \"y\"}, {\"customdata\": [[\"F\", \"38\"], [\"F\", \"52\"], [\"F\", \"70\"], [\"F\", \"64\"], [\"F\", \"58\"], [\"F\", \"58\"], [\"F\", \"35\"], [\"F\", \"33\"], [\"F\", \"30\"], [\"F\", \"54\"], [\"F\", \"66\"], [\"F\", \"77\"], [\"F\", \"50\"], [\"F\", \"85\"], [\"F\", \"75\"], [\"F\", \"52\"], [\"F\", \"90\"], [\"F\", \"86\"], [\"F\", \"29\"], [\"F\", \"24\"], [\"F\", \"74\"]], \"hovertemplate\": \"color=COVID_NONICU<br>Gender=%{customdata[0]}<br>Hospital_free_days=%{x}<br>7974=%{y}<br>Age_less_than_90=%{customdata[1]}<extra></extra>\", \"legendgroup\": \"COVID_NONICU, F\", \"marker\": {\"color\": \"#FDAE61\", \"opacity\": 0.8, \"size\": 15, \"symbol\": \"diamond\"}, \"mode\": \"markers\", \"name\": \"COVID_NONICU, F\", \"showlegend\": true, \"type\": \"scatter\", \"x\": [\"25\", \"20\", \"17\", \"19\", \"18\", \"21\", \"24\", \"22\", \"26\", \"21\", \"5\", \"25\", \"22\", \"NA\", \"NA\", \"25\", \"16\", \"NA\", \"23\", \"26\", \"NA\"], \"xaxis\": \"x\", \"y\": [31.9672612, 32.63122777, 32.02610816, 32.44082399, 31.85032002, 31.8207683, 31.24496182, 31.32420799, 31.8448694, 32.11231691, 32.40054891, 32.51034222, 32.52208545, 32.07800996, 31.58530935, 32.08882075, 32.44524682, 31.8382713, 32.84421469, 32.22570106, 32.15514799], \"yaxis\": \"y\"}, {\"customdata\": [[\"\", \"\"]], \"hovertemplate\": \"color=COVID_NONICU<br>Gender=%{customdata[0]}<br>Hospital_free_days=%{x}<br>7974=%{y}<br>Age_less_than_90=%{customdata[1]}<extra></extra>\", \"legendgroup\": \"COVID_NONICU, \", \"marker\": {\"color\": \"#FDAE61\", \"opacity\": 0.8, \"size\": 15, \"symbol\": \"square\"}, \"mode\": \"markers\", \"name\": \"COVID_NONICU, \", \"showlegend\": true, \"type\": \"scatter\", \"x\": [\"\"], \"xaxis\": \"x\", \"y\": [32.12392304], \"yaxis\": \"y\"}, {\"customdata\": [[\"M\", \"78\"], [\"M\", \"62\"], [\"M\", \"50\"], [\"M\", \"55\"], [\"M\", \"68\"], [\"M\", \"62\"], [\"M\", \"66\"], [\"M\", \"43\"], [\"M\", \"76\"], [\"M\", \"55\"], [\"M\", \"55\"], [\"M\", \"63\"], [\"M\", \"54\"], [\"M\", \"50\"], [\"M\", \"72\"], [\"M\", \"68\"], [\"M\", \"66\"], [\"M\", \"74\"], [\"M\", \"46\"], [\"M\", \"62\"], [\"M\", \"78\"], [\"M\", \"73\"], [\"M\", \"37\"], [\"M\", \"65\"], [\"M\", \"57\"], [\"M\", \"79\"], [\"M\", \"37\"], [\"M\", \"71\"], [\"M\", \"74\"], [\"M\", \"62\"], [\"M\", \"61\"], [\"M\", \"76\"], [\"M\", \"71\"], [\"M\", \"58\"]], \"hovertemplate\": \"color=COVID_ICU<br>Gender=%{customdata[0]}<br>Hospital_free_days=%{x}<br>7974=%{y}<br>Age_less_than_90=%{customdata[1]}<extra></extra>\", \"legendgroup\": \"COVID_ICU, M\", \"marker\": {\"color\": \"#D53E4F\", \"opacity\": 0.8, \"size\": 15, \"symbol\": \"circle\"}, \"mode\": \"markers\", \"name\": \"COVID_ICU, M\", \"showlegend\": true, \"type\": \"scatter\", \"x\": [\"0\", \"0\", \"5\", \"0\", \"0\", \"18\", \"15\", \"0\", \"0\", \"6\", \"9\", \"0\", \"0\", \"0\", \"0\", \"0\", \"12\", \"3\", \"0\", \"22\", \"0\", \"0\", \"0\", \"0\", \"20\", \"0\", \"NA\", \"0\", \"0\", \"NA\", \"22\", \"NA\", \"NA\", \"NA\"], \"xaxis\": \"x\", \"y\": [31.20821644, 31.46187736, 31.12890814, 31.34159585, 31.18730533, 32.7955225, 31.6826523, 31.18517972, 31.68240115, 31.66572776, 31.48053493, 31.55448977, 31.69867709, 31.15888367, 31.44342003, 31.66953412, 31.69257952, 31.81760804, 30.98400077, 31.53727957, 31.3253344, 31.62322486, 30.77195312, 32.29928362, 30.67631833, 31.6087156, 31.33255471, 31.65957409, 32.03262503, 32.12527872, 32.78958843, 32.04713248, 31.46216998, 31.59499325], \"yaxis\": \"y\"}, {\"customdata\": [[\"F\", \"64\"], [\"F\", \"41\"], [\"F\", \"71\"], [\"F\", \"63\"], [\"F\", \"80\"], [\"F\", \"21\"], [\"F\", \"83\"], [\"F\", \"62\"], [\"F\", \"72\"], [\"F\", \"62\"], [\"F\", \"78\"], [\"F\", \"39\"], [\"F\", \"55\"], [\"F\", \"73\"], [\"F\", \"55\"], [\"F\", \"82\"], [\"F\", \"81\"]], \"hovertemplate\": \"color=COVID_ICU<br>Gender=%{customdata[0]}<br>Hospital_free_days=%{x}<br>7974=%{y}<br>Age_less_than_90=%{customdata[1]}<extra></extra>\", \"legendgroup\": \"COVID_ICU, F\", \"marker\": {\"color\": \"#D53E4F\", \"opacity\": 0.8, \"size\": 15, \"symbol\": \"diamond\"}, \"mode\": \"markers\", \"name\": \"COVID_ICU, F\", \"showlegend\": true, \"type\": \"scatter\", \"x\": [\"0\", \"10\", \"0\", \"0\", \"0\", \"11\", \"0\", \"3\", \"0\", \"0\", \"0\", \"NA\", \"13\", \"0\", \"9\", \"0\", \"0\"], \"xaxis\": \"x\", \"y\": [31.88092111, 31.89836239, 31.53106304, 31.67862863, 31.84071162, 32.08863123, 30.95136776, 31.71534441, 31.87103759, 31.10711812, 32.47469708, 31.22595957, 30.99212941, 30.95178461, 31.85779043, 32.11004669, 31.91755278], \"yaxis\": \"y\"}, {\"customdata\": [[\"M\", \"90\"], [\"M\", \"71\"], [\"M\", \"63\"], [\"M\", \"62\"]], \"hovertemplate\": \"color=NONCOVID_NONICU<br>Gender=%{customdata[0]}<br>Hospital_free_days=%{x}<br>7974=%{y}<br>Age_less_than_90=%{customdata[1]}<extra></extra>\", \"legendgroup\": \"NONCOVID_NONICU, M\", \"marker\": {\"color\": \"#66C2A5\", \"opacity\": 0.8, \"size\": 15, \"symbol\": \"circle\"}, \"mode\": \"markers\", \"name\": \"NONCOVID_NONICU, M\", \"showlegend\": true, \"type\": \"scatter\", \"x\": [\"24\", \"19\", \"26\", \"27\"], \"xaxis\": \"x\", \"y\": [32.97122449, 32.11597905, 32.27005427, 33.00589404], \"yaxis\": \"y\"}, {\"customdata\": [[\"F\", \"54\"], [\"F\", \"83\"], [\"F\", \"49\"], [\"F\", \"58\"], [\"F\", \"42\"], [\"F\", \"32\"]], \"hovertemplate\": \"color=NONCOVID_NONICU<br>Gender=%{customdata[0]}<br>Hospital_free_days=%{x}<br>7974=%{y}<br>Age_less_than_90=%{customdata[1]}<extra></extra>\", \"legendgroup\": \"NONCOVID_NONICU, F\", \"marker\": {\"color\": \"#66C2A5\", \"opacity\": 0.8, \"size\": 15, \"symbol\": \"diamond\"}, \"mode\": \"markers\", \"name\": \"NONCOVID_NONICU, F\", \"showlegend\": true, \"type\": \"scatter\", \"x\": [\"18\", \"26\", \"27\", \"24\", \"23\", \"26\"], \"xaxis\": \"x\", \"y\": [33.1675379, 32.69432431, 32.74553009, 33.13925404, 32.50367663, 33.23306476], \"yaxis\": \"y\"}, {\"customdata\": [[\"M\", \"65\"], [\"M\", \"65\"], [\"M\", \"50\"], [\"M\", \"67\"], [\"M\", \"82\"], [\"M\", \"65\"], [\"M\", \"88\"]], \"hovertemplate\": \"color=NONCOVID_ICU<br>Gender=%{customdata[0]}<br>Hospital_free_days=%{x}<br>7974=%{y}<br>Age_less_than_90=%{customdata[1]}<extra></extra>\", \"legendgroup\": \"NONCOVID_ICU, M\", \"marker\": {\"color\": \"#74ADD1\", \"opacity\": 0.8, \"size\": 15, \"symbol\": \"circle\"}, \"mode\": \"markers\", \"name\": \"NONCOVID_ICU, M\", \"showlegend\": true, \"type\": \"scatter\", \"x\": [\"12\", \"NA\", \"25\", \"21\", \"25\", \"18\", \"NA\"], \"xaxis\": \"x\", \"y\": [32.78341519, 31.83349136, 33.4963135, 32.08176011, 33.08461386, 32.37435659, 31.8925479], \"yaxis\": \"y\"}, {\"customdata\": [[\"F\", \"75\"], [\"F\", \"53\"], [\"F\", \"75\"], [\"F\", \"40\"], [\"F\", \"84\"], [\"F\", \"66\"], [\"F\", \"62\"]], \"hovertemplate\": \"color=NONCOVID_ICU<br>Gender=%{customdata[0]}<br>Hospital_free_days=%{x}<br>7974=%{y}<br>Age_less_than_90=%{customdata[1]}<extra></extra>\", \"legendgroup\": \"NONCOVID_ICU, F\", \"marker\": {\"color\": \"#74ADD1\", \"opacity\": 0.8, \"size\": 15, \"symbol\": \"diamond\"}, \"mode\": \"markers\", \"name\": \"NONCOVID_ICU, F\", \"showlegend\": true, \"type\": \"scatter\", \"x\": [\"0\", \"21\", \"19\", \"12\", \"24\", \"NA\", \"23\"], \"xaxis\": \"x\", \"y\": [32.65750992, 32.25180501, 32.65614637, 31.57009499, 31.72411487, 31.77882171, 32.57203947], \"yaxis\": \"y\"}, {\"customdata\": [[\"\", \"83\"]], \"hovertemplate\": \"color=NONCOVID_ICU<br>Gender=%{customdata[0]}<br>Hospital_free_days=%{x}<br>7974=%{y}<br>Age_less_than_90=%{customdata[1]}<extra></extra>\", \"legendgroup\": \"NONCOVID_ICU, \", \"marker\": {\"color\": \"#74ADD1\", \"opacity\": 0.8, \"size\": 15, \"symbol\": \"square\"}, \"mode\": \"markers\", \"name\": \"NONCOVID_ICU, \", \"showlegend\": true, \"type\": \"scatter\", \"x\": [\"13\"], \"xaxis\": \"x\", \"y\": [32.64609315], \"yaxis\": \"y\"}],\n",
       "                        {\"font\": {\"color\": \"#7f7f7f\", \"family\": \"Helvetica\", \"size\": 18}, \"legend\": {\"title\": {\"text\": \"Group\"}, \"tracegroupgap\": 0}, \"margin\": {\"t\": 60}, \"showlegend\": true, \"template\": {\"data\": {\"bar\": [{\"error_x\": {\"color\": \"#2a3f5f\"}, \"error_y\": {\"color\": \"#2a3f5f\"}, \"marker\": {\"line\": {\"color\": \"#E5ECF6\", \"width\": 0.5}}, \"type\": \"bar\"}], \"barpolar\": [{\"marker\": {\"line\": {\"color\": \"#E5ECF6\", \"width\": 0.5}}, \"type\": \"barpolar\"}], \"carpet\": [{\"aaxis\": {\"endlinecolor\": \"#2a3f5f\", \"gridcolor\": \"white\", \"linecolor\": \"white\", \"minorgridcolor\": \"white\", \"startlinecolor\": \"#2a3f5f\"}, \"baxis\": {\"endlinecolor\": \"#2a3f5f\", \"gridcolor\": \"white\", \"linecolor\": \"white\", \"minorgridcolor\": \"white\", \"startlinecolor\": \"#2a3f5f\"}, \"type\": \"carpet\"}], \"choropleth\": [{\"colorbar\": {\"outlinewidth\": 0, \"ticks\": \"\"}, \"type\": \"choropleth\"}], \"contour\": [{\"colorbar\": {\"outlinewidth\": 0, \"ticks\": \"\"}, \"colorscale\": [[0.0, \"#0d0887\"], [0.1111111111111111, \"#46039f\"], [0.2222222222222222, \"#7201a8\"], [0.3333333333333333, \"#9c179e\"], [0.4444444444444444, \"#bd3786\"], [0.5555555555555556, \"#d8576b\"], [0.6666666666666666, \"#ed7953\"], [0.7777777777777778, \"#fb9f3a\"], [0.8888888888888888, \"#fdca26\"], [1.0, \"#f0f921\"]], \"type\": \"contour\"}], \"contourcarpet\": [{\"colorbar\": {\"outlinewidth\": 0, \"ticks\": \"\"}, \"type\": \"contourcarpet\"}], \"heatmap\": [{\"colorbar\": {\"outlinewidth\": 0, \"ticks\": \"\"}, \"colorscale\": [[0.0, \"#0d0887\"], [0.1111111111111111, \"#46039f\"], [0.2222222222222222, \"#7201a8\"], [0.3333333333333333, \"#9c179e\"], [0.4444444444444444, \"#bd3786\"], [0.5555555555555556, \"#d8576b\"], [0.6666666666666666, \"#ed7953\"], [0.7777777777777778, \"#fb9f3a\"], [0.8888888888888888, \"#fdca26\"], [1.0, \"#f0f921\"]], \"type\": \"heatmap\"}], \"heatmapgl\": [{\"colorbar\": {\"outlinewidth\": 0, \"ticks\": \"\"}, \"colorscale\": [[0.0, \"#0d0887\"], [0.1111111111111111, \"#46039f\"], [0.2222222222222222, \"#7201a8\"], [0.3333333333333333, \"#9c179e\"], [0.4444444444444444, \"#bd3786\"], [0.5555555555555556, \"#d8576b\"], [0.6666666666666666, \"#ed7953\"], [0.7777777777777778, \"#fb9f3a\"], [0.8888888888888888, \"#fdca26\"], [1.0, \"#f0f921\"]], \"type\": \"heatmapgl\"}], \"histogram\": [{\"marker\": {\"colorbar\": {\"outlinewidth\": 0, \"ticks\": \"\"}}, \"type\": \"histogram\"}], \"histogram2d\": [{\"colorbar\": {\"outlinewidth\": 0, \"ticks\": \"\"}, \"colorscale\": [[0.0, \"#0d0887\"], [0.1111111111111111, \"#46039f\"], [0.2222222222222222, \"#7201a8\"], [0.3333333333333333, \"#9c179e\"], [0.4444444444444444, \"#bd3786\"], [0.5555555555555556, \"#d8576b\"], [0.6666666666666666, \"#ed7953\"], [0.7777777777777778, \"#fb9f3a\"], [0.8888888888888888, \"#fdca26\"], [1.0, \"#f0f921\"]], \"type\": \"histogram2d\"}], \"histogram2dcontour\": [{\"colorbar\": {\"outlinewidth\": 0, \"ticks\": \"\"}, \"colorscale\": [[0.0, \"#0d0887\"], [0.1111111111111111, \"#46039f\"], [0.2222222222222222, \"#7201a8\"], [0.3333333333333333, \"#9c179e\"], [0.4444444444444444, \"#bd3786\"], [0.5555555555555556, \"#d8576b\"], [0.6666666666666666, \"#ed7953\"], [0.7777777777777778, \"#fb9f3a\"], [0.8888888888888888, \"#fdca26\"], [1.0, \"#f0f921\"]], \"type\": \"histogram2dcontour\"}], \"mesh3d\": [{\"colorbar\": {\"outlinewidth\": 0, \"ticks\": \"\"}, \"type\": \"mesh3d\"}], \"parcoords\": [{\"line\": {\"colorbar\": {\"outlinewidth\": 0, \"ticks\": \"\"}}, \"type\": \"parcoords\"}], \"pie\": [{\"automargin\": true, \"type\": \"pie\"}], \"scatter\": [{\"marker\": {\"colorbar\": {\"outlinewidth\": 0, \"ticks\": \"\"}}, \"type\": \"scatter\"}], \"scatter3d\": [{\"line\": {\"colorbar\": {\"outlinewidth\": 0, \"ticks\": \"\"}}, \"marker\": {\"colorbar\": {\"outlinewidth\": 0, \"ticks\": \"\"}}, \"type\": \"scatter3d\"}], \"scattercarpet\": [{\"marker\": {\"colorbar\": {\"outlinewidth\": 0, \"ticks\": \"\"}}, \"type\": \"scattercarpet\"}], \"scattergeo\": [{\"marker\": {\"colorbar\": {\"outlinewidth\": 0, \"ticks\": \"\"}}, \"type\": \"scattergeo\"}], \"scattergl\": [{\"marker\": {\"colorbar\": {\"outlinewidth\": 0, \"ticks\": \"\"}}, \"type\": \"scattergl\"}], \"scattermapbox\": [{\"marker\": {\"colorbar\": {\"outlinewidth\": 0, \"ticks\": \"\"}}, \"type\": \"scattermapbox\"}], \"scatterpolar\": [{\"marker\": {\"colorbar\": {\"outlinewidth\": 0, \"ticks\": \"\"}}, \"type\": \"scatterpolar\"}], \"scatterpolargl\": [{\"marker\": {\"colorbar\": {\"outlinewidth\": 0, \"ticks\": \"\"}}, \"type\": \"scatterpolargl\"}], \"scatterternary\": [{\"marker\": {\"colorbar\": {\"outlinewidth\": 0, \"ticks\": \"\"}}, \"type\": \"scatterternary\"}], \"surface\": [{\"colorbar\": {\"outlinewidth\": 0, \"ticks\": \"\"}, \"colorscale\": [[0.0, \"#0d0887\"], [0.1111111111111111, \"#46039f\"], [0.2222222222222222, \"#7201a8\"], [0.3333333333333333, \"#9c179e\"], [0.4444444444444444, \"#bd3786\"], [0.5555555555555556, \"#d8576b\"], [0.6666666666666666, \"#ed7953\"], [0.7777777777777778, \"#fb9f3a\"], [0.8888888888888888, \"#fdca26\"], [1.0, \"#f0f921\"]], \"type\": \"surface\"}], \"table\": [{\"cells\": {\"fill\": {\"color\": \"#EBF0F8\"}, \"line\": {\"color\": \"white\"}}, \"header\": {\"fill\": {\"color\": \"#C8D4E3\"}, \"line\": {\"color\": \"white\"}}, \"type\": \"table\"}]}, \"layout\": {\"annotationdefaults\": {\"arrowcolor\": \"#2a3f5f\", \"arrowhead\": 0, \"arrowwidth\": 1}, \"coloraxis\": {\"colorbar\": {\"outlinewidth\": 0, \"ticks\": \"\"}}, \"colorscale\": {\"diverging\": [[0, \"#8e0152\"], [0.1, \"#c51b7d\"], [0.2, \"#de77ae\"], [0.3, \"#f1b6da\"], [0.4, \"#fde0ef\"], [0.5, \"#f7f7f7\"], [0.6, \"#e6f5d0\"], [0.7, \"#b8e186\"], [0.8, \"#7fbc41\"], [0.9, \"#4d9221\"], [1, \"#276419\"]], \"sequential\": [[0.0, \"#0d0887\"], [0.1111111111111111, \"#46039f\"], [0.2222222222222222, \"#7201a8\"], [0.3333333333333333, \"#9c179e\"], [0.4444444444444444, \"#bd3786\"], [0.5555555555555556, \"#d8576b\"], [0.6666666666666666, \"#ed7953\"], [0.7777777777777778, \"#fb9f3a\"], [0.8888888888888888, \"#fdca26\"], [1.0, \"#f0f921\"]], \"sequentialminus\": [[0.0, \"#0d0887\"], [0.1111111111111111, \"#46039f\"], [0.2222222222222222, \"#7201a8\"], [0.3333333333333333, \"#9c179e\"], [0.4444444444444444, \"#bd3786\"], [0.5555555555555556, \"#d8576b\"], [0.6666666666666666, \"#ed7953\"], [0.7777777777777778, \"#fb9f3a\"], [0.8888888888888888, \"#fdca26\"], [1.0, \"#f0f921\"]]}, \"colorway\": [\"#636efa\", \"#EF553B\", \"#00cc96\", \"#ab63fa\", \"#FFA15A\", \"#19d3f3\", \"#FF6692\", \"#B6E880\", \"#FF97FF\", \"#FECB52\"], \"font\": {\"color\": \"#2a3f5f\"}, \"geo\": {\"bgcolor\": \"white\", \"lakecolor\": \"white\", \"landcolor\": \"#E5ECF6\", \"showlakes\": true, \"showland\": true, \"subunitcolor\": \"white\"}, \"hoverlabel\": {\"align\": \"left\"}, \"hovermode\": \"closest\", \"mapbox\": {\"style\": \"light\"}, \"paper_bgcolor\": \"white\", \"plot_bgcolor\": \"#E5ECF6\", \"polar\": {\"angularaxis\": {\"gridcolor\": \"white\", \"linecolor\": \"white\", \"ticks\": \"\"}, \"bgcolor\": \"#E5ECF6\", \"radialaxis\": {\"gridcolor\": \"white\", \"linecolor\": \"white\", \"ticks\": \"\"}}, \"scene\": {\"xaxis\": {\"backgroundcolor\": \"#E5ECF6\", \"gridcolor\": \"white\", \"gridwidth\": 2, \"linecolor\": \"white\", \"showbackground\": true, \"ticks\": \"\", \"zerolinecolor\": \"white\"}, \"yaxis\": {\"backgroundcolor\": \"#E5ECF6\", \"gridcolor\": \"white\", \"gridwidth\": 2, \"linecolor\": \"white\", \"showbackground\": true, \"ticks\": \"\", \"zerolinecolor\": \"white\"}, \"zaxis\": {\"backgroundcolor\": \"#E5ECF6\", \"gridcolor\": \"white\", \"gridwidth\": 2, \"linecolor\": \"white\", \"showbackground\": true, \"ticks\": \"\", \"zerolinecolor\": \"white\"}}, \"shapedefaults\": {\"line\": {\"color\": \"#2a3f5f\"}}, \"ternary\": {\"aaxis\": {\"gridcolor\": \"white\", \"linecolor\": \"white\", \"ticks\": \"\"}, \"baxis\": {\"gridcolor\": \"white\", \"linecolor\": \"white\", \"ticks\": \"\"}, \"bgcolor\": \"#E5ECF6\", \"caxis\": {\"gridcolor\": \"white\", \"linecolor\": \"white\", \"ticks\": \"\"}}, \"title\": {\"x\": 0.05}, \"xaxis\": {\"automargin\": true, \"gridcolor\": \"white\", \"linecolor\": \"white\", \"ticks\": \"\", \"title\": {\"standoff\": 15}, \"zerolinecolor\": \"white\", \"zerolinewidth\": 2}, \"yaxis\": {\"automargin\": true, \"gridcolor\": \"white\", \"linecolor\": \"white\", \"ticks\": \"\", \"title\": {\"standoff\": 15}, \"zerolinecolor\": \"white\", \"zerolinewidth\": 2}}}, \"title\": {\"text\": \"Hospital Free Days vs. Gelsolin\"}, \"xaxis\": {\"anchor\": \"y\", \"domain\": [0.0, 1.0], \"title\": {\"text\": \"Hospital Free Days\"}}, \"yaxis\": {\"anchor\": \"x\", \"domain\": [0.0, 1.0], \"title\": {\"text\": \"Gelsolin\"}}},\n",
       "                        {\"responsive\": true}\n",
       "                    ).then(function(){\n",
       "                            \n",
       "var gd = document.getElementById('0fd028a4-050e-499a-b6d0-2f95ab6f30b3');\n",
       "var x = new MutationObserver(function (mutations, observer) {{\n",
       "        var display = window.getComputedStyle(gd).display;\n",
       "        if (!display || display === 'none') {{\n",
       "            console.log([gd, 'removed!']);\n",
       "            Plotly.purge(gd);\n",
       "            observer.disconnect();\n",
       "        }}\n",
       "}});\n",
       "\n",
       "// Listen for the removal of the full notebook cells\n",
       "var notebookContainer = gd.closest('#notebook-container');\n",
       "if (notebookContainer) {{\n",
       "    x.observe(notebookContainer, {childList: true});\n",
       "}}\n",
       "\n",
       "// Listen for the clearing of the current output cell\n",
       "var outputEl = gd.closest('.output');\n",
       "if (outputEl) {{\n",
       "    x.observe(outputEl, {childList: true});\n",
       "}}\n",
       "\n",
       "                        })\n",
       "                };\n",
       "                });\n",
       "            </script>\n",
       "        </div>"
      ]
     },
     "metadata": {},
     "output_type": "display_data"
    }
   ],
   "source": [
    "import plotly.express as px\n",
    "\n",
    "fig = px.scatter(proteomics_df, y=\"7974\", x=\"Hospital_free_days\", hover_data=['Gender', 'Age_less_than_90'],\n",
    "                color=color_list,\n",
    "                color_discrete_map=color_dict,\n",
    "                symbol='Gender')\n",
    "\n",
    "fig.update_traces(marker=dict(size=15, opacity=0.8))\n",
    "\n",
    "fig.update_layout(\n",
    "    title=\"Hospital Free Days vs. Gelsolin\",\n",
    "    legend_title_text='Group',\n",
    "    xaxis_title='Hospital Free Days',\n",
    "    yaxis_title='Gelsolin',\n",
    "    showlegend=True,\n",
    "    font=dict(\n",
    "        family=\"Helvetica\",\n",
    "        size=18,\n",
    "        color=\"#7f7f7f\")\n",
    "    )\n",
    "\n",
    "fig.show()"
   ]
  },
  {
   "cell_type": "code",
   "execution_count": 74,
   "metadata": {},
   "outputs": [
    {
     "data": {
      "application/vnd.plotly.v1+json": {
       "config": {
        "plotlyServerURL": "https://plot.ly"
       },
       "data": [
        {
         "alignmentgroup": "True",
         "boxpoints": "all",
         "hovertemplate": "Gender=M<br>color_by=%{x}<br>7974=%{y}<extra></extra>",
         "legendgroup": "M",
         "marker": {
          "color": "#ab63fa"
         },
         "name": "M",
         "notched": false,
         "offsetgroup": "M",
         "orientation": "v",
         "quartilemethod": "exclusive",
         "showlegend": true,
         "type": "box",
         "x": [
          "COVID_NONICU",
          "COVID_NONICU",
          "COVID_NONICU",
          "COVID_NONICU",
          "COVID_NONICU",
          "COVID_NONICU",
          "COVID_ICU",
          "COVID_ICU",
          "COVID_ICU",
          "COVID_NONICU",
          "COVID_ICU",
          "COVID_ICU",
          "COVID_NONICU",
          "COVID_NONICU",
          "COVID_NONICU",
          "COVID_ICU",
          "COVID_ICU",
          "COVID_ICU",
          "COVID_ICU",
          "COVID_ICU",
          "COVID_ICU",
          "COVID_ICU",
          "COVID_ICU",
          "COVID_ICU",
          "COVID_ICU",
          "COVID_NONICU",
          "COVID_NONICU",
          "COVID_NONICU",
          "COVID_ICU",
          "COVID_ICU",
          "COVID_ICU",
          "COVID_ICU",
          "COVID_ICU",
          "COVID_ICU",
          "COVID_ICU",
          "COVID_ICU",
          "COVID_NONICU",
          "COVID_NONICU",
          "COVID_NONICU",
          "COVID_NONICU",
          "COVID_ICU",
          "COVID_NONICU",
          "COVID_ICU",
          "COVID_ICU",
          "COVID_NONICU",
          "COVID_ICU",
          "COVID_NONICU",
          "COVID_NONICU",
          "COVID_NONICU",
          "COVID_NONICU",
          "COVID_ICU",
          "COVID_ICU",
          "COVID_NONICU",
          "COVID_ICU",
          "COVID_ICU",
          "COVID_NONICU",
          "COVID_NONICU",
          "COVID_NONICU",
          "COVID_ICU",
          "COVID_NONICU",
          "COVID_ICU",
          "COVID_ICU",
          "COVID_NONICU",
          "COVID_NONICU",
          "NONCOVID_ICU",
          "NONCOVID_ICU",
          "NONCOVID_NONICU",
          "NONCOVID_ICU",
          "NONCOVID_ICU",
          "NONCOVID_ICU",
          "NONCOVID_ICU",
          "NONCOVID_ICU",
          "NONCOVID_NONICU",
          "NONCOVID_NONICU",
          "NONCOVID_NONICU"
         ],
         "x0": " ",
         "xaxis": "x",
         "y": [
          31.77297567,
          31.87107432,
          32.59363607,
          32.10827157,
          32.10236994,
          31.68912526,
          31.20821644,
          31.46187736,
          31.12890814,
          31.64568527,
          31.34159585,
          31.18730533,
          32.30407998,
          31.65129963,
          31.78818862,
          32.7955225,
          31.6826523,
          31.18517972,
          31.68240115,
          31.66572776,
          31.48053493,
          31.55448977,
          31.69867709,
          31.15888367,
          31.44342003,
          31.9926697,
          31.61535273,
          32.354159,
          31.66953412,
          31.69257952,
          31.81760804,
          30.98400077,
          31.53727957,
          31.3253344,
          31.62322486,
          30.77195312,
          31.8755851,
          32.66636285,
          32.74270239,
          32.13231395,
          32.29928362,
          31.8148228,
          30.67631833,
          31.6087156,
          32.46980601,
          31.33255471,
          32.49826483,
          32.34188741,
          32.04527818,
          32.80437809,
          31.65957409,
          32.03262503,
          32.55155923,
          32.12527872,
          32.78958843,
          31.95008174,
          31.84011131,
          32.48296442,
          32.04713248,
          31.53208551,
          31.46216998,
          31.59499325,
          32.3591695,
          31.79350843,
          32.78341519,
          31.83349136,
          32.97122449,
          33.4963135,
          32.08176011,
          33.08461386,
          32.37435659,
          31.8925479,
          32.11597905,
          32.27005427,
          33.00589404
         ],
         "y0": " ",
         "yaxis": "y"
        },
        {
         "alignmentgroup": "True",
         "boxpoints": "all",
         "hovertemplate": "Gender=F<br>color_by=%{x}<br>7974=%{y}<extra></extra>",
         "legendgroup": "F",
         "marker": {
          "color": "#FFA15A"
         },
         "name": "F",
         "notched": false,
         "offsetgroup": "F",
         "orientation": "v",
         "quartilemethod": "exclusive",
         "showlegend": true,
         "type": "box",
         "x": [
          "COVID_NONICU",
          "COVID_ICU",
          "COVID_NONICU",
          "COVID_NONICU",
          "COVID_ICU",
          "COVID_ICU",
          "COVID_ICU",
          "COVID_NONICU",
          "COVID_NONICU",
          "COVID_ICU",
          "COVID_ICU",
          "COVID_ICU",
          "COVID_ICU",
          "COVID_ICU",
          "COVID_NONICU",
          "COVID_NONICU",
          "COVID_ICU",
          "COVID_NONICU",
          "COVID_NONICU",
          "COVID_NONICU",
          "COVID_ICU",
          "COVID_ICU",
          "COVID_NONICU",
          "COVID_NONICU",
          "COVID_NONICU",
          "COVID_ICU",
          "COVID_ICU",
          "COVID_ICU",
          "COVID_NONICU",
          "COVID_NONICU",
          "COVID_NONICU",
          "COVID_NONICU",
          "COVID_NONICU",
          "COVID_NONICU",
          "COVID_ICU",
          "COVID_ICU",
          "COVID_NONICU",
          "COVID_NONICU",
          "NONCOVID_NONICU",
          "NONCOVID_NONICU",
          "NONCOVID_ICU",
          "NONCOVID_ICU",
          "NONCOVID_NONICU",
          "NONCOVID_NONICU",
          "NONCOVID_ICU",
          "NONCOVID_ICU",
          "NONCOVID_ICU",
          "NONCOVID_ICU",
          "NONCOVID_ICU",
          "NONCOVID_NONICU",
          "NONCOVID_NONICU"
         ],
         "x0": " ",
         "xaxis": "x",
         "y": [
          31.9672612,
          31.88092111,
          32.63122777,
          32.02610816,
          31.89836239,
          31.53106304,
          31.67862863,
          32.44082399,
          31.85032002,
          31.84071162,
          32.08863123,
          30.95136776,
          31.71534441,
          31.87103759,
          31.8207683,
          31.24496182,
          31.10711812,
          31.32420799,
          31.8448694,
          32.11231691,
          32.47469708,
          31.22595957,
          32.40054891,
          32.51034222,
          32.52208545,
          30.99212941,
          30.95178461,
          31.85779043,
          32.07800996,
          31.58530935,
          32.08882075,
          32.44524682,
          31.8382713,
          32.84421469,
          32.11004669,
          31.91755278,
          32.22570106,
          32.15514799,
          33.1675379,
          32.69432431,
          32.65750992,
          32.25180501,
          32.74553009,
          33.13925404,
          32.65614637,
          31.57009499,
          31.72411487,
          31.77882171,
          32.57203947,
          32.50367663,
          33.23306476
         ],
         "y0": " ",
         "yaxis": "y"
        },
        {
         "alignmentgroup": "True",
         "boxpoints": "all",
         "hovertemplate": "Gender=<br>color_by=%{x}<br>7974=%{y}<extra></extra>",
         "legendgroup": "",
         "marker": {
          "color": "#19d3f3"
         },
         "name": "",
         "notched": false,
         "offsetgroup": "",
         "orientation": "v",
         "quartilemethod": "exclusive",
         "showlegend": false,
         "type": "box",
         "x": [
          "COVID_NONICU",
          "NONCOVID_ICU"
         ],
         "x0": " ",
         "xaxis": "x",
         "y": [
          32.12392304,
          32.64609315
         ],
         "y0": " ",
         "yaxis": "y"
        }
       ],
       "layout": {
        "autosize": true,
        "boxmode": "group",
        "font": {
         "color": "#7f7f7f",
         "family": "Helvetica",
         "size": 18
        },
        "legend": {
         "title": {
          "text": "Group"
         },
         "tracegroupgap": 0
        },
        "margin": {
         "t": 60
        },
        "template": {
         "data": {
          "bar": [
           {
            "error_x": {
             "color": "#2a3f5f"
            },
            "error_y": {
             "color": "#2a3f5f"
            },
            "marker": {
             "line": {
              "color": "#E5ECF6",
              "width": 0.5
             }
            },
            "type": "bar"
           }
          ],
          "barpolar": [
           {
            "marker": {
             "line": {
              "color": "#E5ECF6",
              "width": 0.5
             }
            },
            "type": "barpolar"
           }
          ],
          "carpet": [
           {
            "aaxis": {
             "endlinecolor": "#2a3f5f",
             "gridcolor": "white",
             "linecolor": "white",
             "minorgridcolor": "white",
             "startlinecolor": "#2a3f5f"
            },
            "baxis": {
             "endlinecolor": "#2a3f5f",
             "gridcolor": "white",
             "linecolor": "white",
             "minorgridcolor": "white",
             "startlinecolor": "#2a3f5f"
            },
            "type": "carpet"
           }
          ],
          "choropleth": [
           {
            "colorbar": {
             "outlinewidth": 0,
             "ticks": ""
            },
            "type": "choropleth"
           }
          ],
          "contour": [
           {
            "colorbar": {
             "outlinewidth": 0,
             "ticks": ""
            },
            "colorscale": [
             [
              0,
              "#0d0887"
             ],
             [
              0.1111111111111111,
              "#46039f"
             ],
             [
              0.2222222222222222,
              "#7201a8"
             ],
             [
              0.3333333333333333,
              "#9c179e"
             ],
             [
              0.4444444444444444,
              "#bd3786"
             ],
             [
              0.5555555555555556,
              "#d8576b"
             ],
             [
              0.6666666666666666,
              "#ed7953"
             ],
             [
              0.7777777777777778,
              "#fb9f3a"
             ],
             [
              0.8888888888888888,
              "#fdca26"
             ],
             [
              1,
              "#f0f921"
             ]
            ],
            "type": "contour"
           }
          ],
          "contourcarpet": [
           {
            "colorbar": {
             "outlinewidth": 0,
             "ticks": ""
            },
            "type": "contourcarpet"
           }
          ],
          "heatmap": [
           {
            "colorbar": {
             "outlinewidth": 0,
             "ticks": ""
            },
            "colorscale": [
             [
              0,
              "#0d0887"
             ],
             [
              0.1111111111111111,
              "#46039f"
             ],
             [
              0.2222222222222222,
              "#7201a8"
             ],
             [
              0.3333333333333333,
              "#9c179e"
             ],
             [
              0.4444444444444444,
              "#bd3786"
             ],
             [
              0.5555555555555556,
              "#d8576b"
             ],
             [
              0.6666666666666666,
              "#ed7953"
             ],
             [
              0.7777777777777778,
              "#fb9f3a"
             ],
             [
              0.8888888888888888,
              "#fdca26"
             ],
             [
              1,
              "#f0f921"
             ]
            ],
            "type": "heatmap"
           }
          ],
          "heatmapgl": [
           {
            "colorbar": {
             "outlinewidth": 0,
             "ticks": ""
            },
            "colorscale": [
             [
              0,
              "#0d0887"
             ],
             [
              0.1111111111111111,
              "#46039f"
             ],
             [
              0.2222222222222222,
              "#7201a8"
             ],
             [
              0.3333333333333333,
              "#9c179e"
             ],
             [
              0.4444444444444444,
              "#bd3786"
             ],
             [
              0.5555555555555556,
              "#d8576b"
             ],
             [
              0.6666666666666666,
              "#ed7953"
             ],
             [
              0.7777777777777778,
              "#fb9f3a"
             ],
             [
              0.8888888888888888,
              "#fdca26"
             ],
             [
              1,
              "#f0f921"
             ]
            ],
            "type": "heatmapgl"
           }
          ],
          "histogram": [
           {
            "marker": {
             "colorbar": {
              "outlinewidth": 0,
              "ticks": ""
             }
            },
            "type": "histogram"
           }
          ],
          "histogram2d": [
           {
            "colorbar": {
             "outlinewidth": 0,
             "ticks": ""
            },
            "colorscale": [
             [
              0,
              "#0d0887"
             ],
             [
              0.1111111111111111,
              "#46039f"
             ],
             [
              0.2222222222222222,
              "#7201a8"
             ],
             [
              0.3333333333333333,
              "#9c179e"
             ],
             [
              0.4444444444444444,
              "#bd3786"
             ],
             [
              0.5555555555555556,
              "#d8576b"
             ],
             [
              0.6666666666666666,
              "#ed7953"
             ],
             [
              0.7777777777777778,
              "#fb9f3a"
             ],
             [
              0.8888888888888888,
              "#fdca26"
             ],
             [
              1,
              "#f0f921"
             ]
            ],
            "type": "histogram2d"
           }
          ],
          "histogram2dcontour": [
           {
            "colorbar": {
             "outlinewidth": 0,
             "ticks": ""
            },
            "colorscale": [
             [
              0,
              "#0d0887"
             ],
             [
              0.1111111111111111,
              "#46039f"
             ],
             [
              0.2222222222222222,
              "#7201a8"
             ],
             [
              0.3333333333333333,
              "#9c179e"
             ],
             [
              0.4444444444444444,
              "#bd3786"
             ],
             [
              0.5555555555555556,
              "#d8576b"
             ],
             [
              0.6666666666666666,
              "#ed7953"
             ],
             [
              0.7777777777777778,
              "#fb9f3a"
             ],
             [
              0.8888888888888888,
              "#fdca26"
             ],
             [
              1,
              "#f0f921"
             ]
            ],
            "type": "histogram2dcontour"
           }
          ],
          "mesh3d": [
           {
            "colorbar": {
             "outlinewidth": 0,
             "ticks": ""
            },
            "type": "mesh3d"
           }
          ],
          "parcoords": [
           {
            "line": {
             "colorbar": {
              "outlinewidth": 0,
              "ticks": ""
             }
            },
            "type": "parcoords"
           }
          ],
          "pie": [
           {
            "automargin": true,
            "type": "pie"
           }
          ],
          "scatter": [
           {
            "marker": {
             "colorbar": {
              "outlinewidth": 0,
              "ticks": ""
             }
            },
            "type": "scatter"
           }
          ],
          "scatter3d": [
           {
            "line": {
             "colorbar": {
              "outlinewidth": 0,
              "ticks": ""
             }
            },
            "marker": {
             "colorbar": {
              "outlinewidth": 0,
              "ticks": ""
             }
            },
            "type": "scatter3d"
           }
          ],
          "scattercarpet": [
           {
            "marker": {
             "colorbar": {
              "outlinewidth": 0,
              "ticks": ""
             }
            },
            "type": "scattercarpet"
           }
          ],
          "scattergeo": [
           {
            "marker": {
             "colorbar": {
              "outlinewidth": 0,
              "ticks": ""
             }
            },
            "type": "scattergeo"
           }
          ],
          "scattergl": [
           {
            "marker": {
             "colorbar": {
              "outlinewidth": 0,
              "ticks": ""
             }
            },
            "type": "scattergl"
           }
          ],
          "scattermapbox": [
           {
            "marker": {
             "colorbar": {
              "outlinewidth": 0,
              "ticks": ""
             }
            },
            "type": "scattermapbox"
           }
          ],
          "scatterpolar": [
           {
            "marker": {
             "colorbar": {
              "outlinewidth": 0,
              "ticks": ""
             }
            },
            "type": "scatterpolar"
           }
          ],
          "scatterpolargl": [
           {
            "marker": {
             "colorbar": {
              "outlinewidth": 0,
              "ticks": ""
             }
            },
            "type": "scatterpolargl"
           }
          ],
          "scatterternary": [
           {
            "marker": {
             "colorbar": {
              "outlinewidth": 0,
              "ticks": ""
             }
            },
            "type": "scatterternary"
           }
          ],
          "surface": [
           {
            "colorbar": {
             "outlinewidth": 0,
             "ticks": ""
            },
            "colorscale": [
             [
              0,
              "#0d0887"
             ],
             [
              0.1111111111111111,
              "#46039f"
             ],
             [
              0.2222222222222222,
              "#7201a8"
             ],
             [
              0.3333333333333333,
              "#9c179e"
             ],
             [
              0.4444444444444444,
              "#bd3786"
             ],
             [
              0.5555555555555556,
              "#d8576b"
             ],
             [
              0.6666666666666666,
              "#ed7953"
             ],
             [
              0.7777777777777778,
              "#fb9f3a"
             ],
             [
              0.8888888888888888,
              "#fdca26"
             ],
             [
              1,
              "#f0f921"
             ]
            ],
            "type": "surface"
           }
          ],
          "table": [
           {
            "cells": {
             "fill": {
              "color": "#EBF0F8"
             },
             "line": {
              "color": "white"
             }
            },
            "header": {
             "fill": {
              "color": "#C8D4E3"
             },
             "line": {
              "color": "white"
             }
            },
            "type": "table"
           }
          ]
         },
         "layout": {
          "annotationdefaults": {
           "arrowcolor": "#2a3f5f",
           "arrowhead": 0,
           "arrowwidth": 1
          },
          "coloraxis": {
           "colorbar": {
            "outlinewidth": 0,
            "ticks": ""
           }
          },
          "colorscale": {
           "diverging": [
            [
             0,
             "#8e0152"
            ],
            [
             0.1,
             "#c51b7d"
            ],
            [
             0.2,
             "#de77ae"
            ],
            [
             0.3,
             "#f1b6da"
            ],
            [
             0.4,
             "#fde0ef"
            ],
            [
             0.5,
             "#f7f7f7"
            ],
            [
             0.6,
             "#e6f5d0"
            ],
            [
             0.7,
             "#b8e186"
            ],
            [
             0.8,
             "#7fbc41"
            ],
            [
             0.9,
             "#4d9221"
            ],
            [
             1,
             "#276419"
            ]
           ],
           "sequential": [
            [
             0,
             "#0d0887"
            ],
            [
             0.1111111111111111,
             "#46039f"
            ],
            [
             0.2222222222222222,
             "#7201a8"
            ],
            [
             0.3333333333333333,
             "#9c179e"
            ],
            [
             0.4444444444444444,
             "#bd3786"
            ],
            [
             0.5555555555555556,
             "#d8576b"
            ],
            [
             0.6666666666666666,
             "#ed7953"
            ],
            [
             0.7777777777777778,
             "#fb9f3a"
            ],
            [
             0.8888888888888888,
             "#fdca26"
            ],
            [
             1,
             "#f0f921"
            ]
           ],
           "sequentialminus": [
            [
             0,
             "#0d0887"
            ],
            [
             0.1111111111111111,
             "#46039f"
            ],
            [
             0.2222222222222222,
             "#7201a8"
            ],
            [
             0.3333333333333333,
             "#9c179e"
            ],
            [
             0.4444444444444444,
             "#bd3786"
            ],
            [
             0.5555555555555556,
             "#d8576b"
            ],
            [
             0.6666666666666666,
             "#ed7953"
            ],
            [
             0.7777777777777778,
             "#fb9f3a"
            ],
            [
             0.8888888888888888,
             "#fdca26"
            ],
            [
             1,
             "#f0f921"
            ]
           ]
          },
          "colorway": [
           "#636efa",
           "#EF553B",
           "#00cc96",
           "#ab63fa",
           "#FFA15A",
           "#19d3f3",
           "#FF6692",
           "#B6E880",
           "#FF97FF",
           "#FECB52"
          ],
          "font": {
           "color": "#2a3f5f"
          },
          "geo": {
           "bgcolor": "white",
           "lakecolor": "white",
           "landcolor": "#E5ECF6",
           "showlakes": true,
           "showland": true,
           "subunitcolor": "white"
          },
          "hoverlabel": {
           "align": "left"
          },
          "hovermode": "closest",
          "mapbox": {
           "style": "light"
          },
          "paper_bgcolor": "white",
          "plot_bgcolor": "#E5ECF6",
          "polar": {
           "angularaxis": {
            "gridcolor": "white",
            "linecolor": "white",
            "ticks": ""
           },
           "bgcolor": "#E5ECF6",
           "radialaxis": {
            "gridcolor": "white",
            "linecolor": "white",
            "ticks": ""
           }
          },
          "scene": {
           "xaxis": {
            "backgroundcolor": "#E5ECF6",
            "gridcolor": "white",
            "gridwidth": 2,
            "linecolor": "white",
            "showbackground": true,
            "ticks": "",
            "zerolinecolor": "white"
           },
           "yaxis": {
            "backgroundcolor": "#E5ECF6",
            "gridcolor": "white",
            "gridwidth": 2,
            "linecolor": "white",
            "showbackground": true,
            "ticks": "",
            "zerolinecolor": "white"
           },
           "zaxis": {
            "backgroundcolor": "#E5ECF6",
            "gridcolor": "white",
            "gridwidth": 2,
            "linecolor": "white",
            "showbackground": true,
            "ticks": "",
            "zerolinecolor": "white"
           }
          },
          "shapedefaults": {
           "line": {
            "color": "#2a3f5f"
           }
          },
          "ternary": {
           "aaxis": {
            "gridcolor": "white",
            "linecolor": "white",
            "ticks": ""
           },
           "baxis": {
            "gridcolor": "white",
            "linecolor": "white",
            "ticks": ""
           },
           "bgcolor": "#E5ECF6",
           "caxis": {
            "gridcolor": "white",
            "linecolor": "white",
            "ticks": ""
           }
          },
          "title": {
           "x": 0.05
          },
          "xaxis": {
           "automargin": true,
           "gridcolor": "white",
           "linecolor": "white",
           "ticks": "",
           "title": {
            "standoff": 15
           },
           "zerolinecolor": "white",
           "zerolinewidth": 2
          },
          "yaxis": {
           "automargin": true,
           "gridcolor": "white",
           "linecolor": "white",
           "ticks": "",
           "title": {
            "standoff": 15
           },
           "zerolinecolor": "white",
           "zerolinewidth": 2
          }
         }
        },
        "title": {
         "text": "Gelsolin"
        },
        "xaxis": {
         "anchor": "y",
         "autorange": true,
         "domain": [
          0,
          1
         ],
         "range": [
          -0.7755651390958768,
          3.7250297441629407
         ],
         "title": {
          "text": "Group"
         },
         "type": "category"
        },
        "yaxis": {
         "anchor": "x",
         "autorange": true,
         "domain": [
          0,
          1
         ],
         "range": [
          30.51965193166667,
          33.652979898333335
         ],
         "title": {
          "text": "log2(LFQ) Value"
         },
         "type": "linear"
        }
       }
      },
      "image/png": "[encoded data removed]",
      "text/html": [
       "<div>\n",
       "        \n",
       "        \n",
       "            <div id=\"c10a9848-293e-4bd3-80f7-49696fd1af2d\" class=\"plotly-graph-div\" style=\"height:525px; width:100%;\"></div>\n",
       "            <script type=\"text/javascript\">\n",
       "                require([\"plotly\"], function(Plotly) {\n",
       "                    window.PLOTLYENV=window.PLOTLYENV || {};\n",
       "                    \n",
       "                if (document.getElementById(\"c10a9848-293e-4bd3-80f7-49696fd1af2d\")) {\n",
       "                    Plotly.newPlot(\n",
       "                        'c10a9848-293e-4bd3-80f7-49696fd1af2d',\n",
       "                        [{\"alignmentgroup\": \"True\", \"boxpoints\": \"all\", \"hovertemplate\": \"Gender=M<br>color_by=%{x}<br>7974=%{y}<extra></extra>\", \"legendgroup\": \"M\", \"marker\": {\"color\": \"#ab63fa\"}, \"name\": \"M\", \"notched\": false, \"offsetgroup\": \"M\", \"orientation\": \"v\", \"quartilemethod\": \"exclusive\", \"showlegend\": true, \"type\": \"box\", \"x\": [\"COVID_NONICU\", \"COVID_NONICU\", \"COVID_NONICU\", \"COVID_NONICU\", \"COVID_NONICU\", \"COVID_NONICU\", \"COVID_ICU\", \"COVID_ICU\", \"COVID_ICU\", \"COVID_NONICU\", \"COVID_ICU\", \"COVID_ICU\", \"COVID_NONICU\", \"COVID_NONICU\", \"COVID_NONICU\", \"COVID_ICU\", \"COVID_ICU\", \"COVID_ICU\", \"COVID_ICU\", \"COVID_ICU\", \"COVID_ICU\", \"COVID_ICU\", \"COVID_ICU\", \"COVID_ICU\", \"COVID_ICU\", \"COVID_NONICU\", \"COVID_NONICU\", \"COVID_NONICU\", \"COVID_ICU\", \"COVID_ICU\", \"COVID_ICU\", \"COVID_ICU\", \"COVID_ICU\", \"COVID_ICU\", \"COVID_ICU\", \"COVID_ICU\", \"COVID_NONICU\", \"COVID_NONICU\", \"COVID_NONICU\", \"COVID_NONICU\", \"COVID_ICU\", \"COVID_NONICU\", \"COVID_ICU\", \"COVID_ICU\", \"COVID_NONICU\", \"COVID_ICU\", \"COVID_NONICU\", \"COVID_NONICU\", \"COVID_NONICU\", \"COVID_NONICU\", \"COVID_ICU\", \"COVID_ICU\", \"COVID_NONICU\", \"COVID_ICU\", \"COVID_ICU\", \"COVID_NONICU\", \"COVID_NONICU\", \"COVID_NONICU\", \"COVID_ICU\", \"COVID_NONICU\", \"COVID_ICU\", \"COVID_ICU\", \"COVID_NONICU\", \"COVID_NONICU\", \"NONCOVID_ICU\", \"NONCOVID_ICU\", \"NONCOVID_NONICU\", \"NONCOVID_ICU\", \"NONCOVID_ICU\", \"NONCOVID_ICU\", \"NONCOVID_ICU\", \"NONCOVID_ICU\", \"NONCOVID_NONICU\", \"NONCOVID_NONICU\", \"NONCOVID_NONICU\"], \"x0\": \" \", \"xaxis\": \"x\", \"y\": [31.77297567, 31.87107432, 32.59363607, 32.10827157, 32.10236994, 31.68912526, 31.20821644, 31.46187736, 31.12890814, 31.64568527, 31.34159585, 31.18730533, 32.30407998, 31.65129963, 31.78818862, 32.7955225, 31.6826523, 31.18517972, 31.68240115, 31.66572776, 31.48053493, 31.55448977, 31.69867709, 31.15888367, 31.44342003, 31.9926697, 31.61535273, 32.354159, 31.66953412, 31.69257952, 31.81760804, 30.98400077, 31.53727957, 31.3253344, 31.62322486, 30.77195312, 31.8755851, 32.66636285, 32.74270239, 32.13231395, 32.29928362, 31.8148228, 30.67631833, 31.6087156, 32.46980601, 31.33255471, 32.49826483, 32.34188741, 32.04527818, 32.80437809, 31.65957409, 32.03262503, 32.55155923, 32.12527872, 32.78958843, 31.95008174, 31.84011131, 32.48296442, 32.04713248, 31.53208551, 31.46216998, 31.59499325, 32.3591695, 31.79350843, 32.78341519, 31.83349136, 32.97122449, 33.4963135, 32.08176011, 33.08461386, 32.37435659, 31.8925479, 32.11597905, 32.27005427, 33.00589404], \"y0\": \" \", \"yaxis\": \"y\"}, {\"alignmentgroup\": \"True\", \"boxpoints\": \"all\", \"hovertemplate\": \"Gender=F<br>color_by=%{x}<br>7974=%{y}<extra></extra>\", \"legendgroup\": \"F\", \"marker\": {\"color\": \"#FFA15A\"}, \"name\": \"F\", \"notched\": false, \"offsetgroup\": \"F\", \"orientation\": \"v\", \"quartilemethod\": \"exclusive\", \"showlegend\": true, \"type\": \"box\", \"x\": [\"COVID_NONICU\", \"COVID_ICU\", \"COVID_NONICU\", \"COVID_NONICU\", \"COVID_ICU\", \"COVID_ICU\", \"COVID_ICU\", \"COVID_NONICU\", \"COVID_NONICU\", \"COVID_ICU\", \"COVID_ICU\", \"COVID_ICU\", \"COVID_ICU\", \"COVID_ICU\", \"COVID_NONICU\", \"COVID_NONICU\", \"COVID_ICU\", \"COVID_NONICU\", \"COVID_NONICU\", \"COVID_NONICU\", \"COVID_ICU\", \"COVID_ICU\", \"COVID_NONICU\", \"COVID_NONICU\", \"COVID_NONICU\", \"COVID_ICU\", \"COVID_ICU\", \"COVID_ICU\", \"COVID_NONICU\", \"COVID_NONICU\", \"COVID_NONICU\", \"COVID_NONICU\", \"COVID_NONICU\", \"COVID_NONICU\", \"COVID_ICU\", \"COVID_ICU\", \"COVID_NONICU\", \"COVID_NONICU\", \"NONCOVID_NONICU\", \"NONCOVID_NONICU\", \"NONCOVID_ICU\", \"NONCOVID_ICU\", \"NONCOVID_NONICU\", \"NONCOVID_NONICU\", \"NONCOVID_ICU\", \"NONCOVID_ICU\", \"NONCOVID_ICU\", \"NONCOVID_ICU\", \"NONCOVID_ICU\", \"NONCOVID_NONICU\", \"NONCOVID_NONICU\"], \"x0\": \" \", \"xaxis\": \"x\", \"y\": [31.9672612, 31.88092111, 32.63122777, 32.02610816, 31.89836239, 31.53106304, 31.67862863, 32.44082399, 31.85032002, 31.84071162, 32.08863123, 30.95136776, 31.71534441, 31.87103759, 31.8207683, 31.24496182, 31.10711812, 31.32420799, 31.8448694, 32.11231691, 32.47469708, 31.22595957, 32.40054891, 32.51034222, 32.52208545, 30.99212941, 30.95178461, 31.85779043, 32.07800996, 31.58530935, 32.08882075, 32.44524682, 31.8382713, 32.84421469, 32.11004669, 31.91755278, 32.22570106, 32.15514799, 33.1675379, 32.69432431, 32.65750992, 32.25180501, 32.74553009, 33.13925404, 32.65614637, 31.57009499, 31.72411487, 31.77882171, 32.57203947, 32.50367663, 33.23306476], \"y0\": \" \", \"yaxis\": \"y\"}, {\"alignmentgroup\": \"True\", \"boxpoints\": \"all\", \"hovertemplate\": \"Gender=<br>color_by=%{x}<br>7974=%{y}<extra></extra>\", \"legendgroup\": \"\", \"marker\": {\"color\": \"#19d3f3\"}, \"name\": \"\", \"notched\": false, \"offsetgroup\": \"\", \"orientation\": \"v\", \"quartilemethod\": \"exclusive\", \"showlegend\": false, \"type\": \"box\", \"x\": [\"COVID_NONICU\", \"NONCOVID_ICU\"], \"x0\": \" \", \"xaxis\": \"x\", \"y\": [32.12392304, 32.64609315], \"y0\": \" \", \"yaxis\": \"y\"}],\n",
       "                        {\"boxmode\": \"group\", \"font\": {\"color\": \"#7f7f7f\", \"family\": \"Helvetica\", \"size\": 18}, \"legend\": {\"title\": {\"text\": \"Group\"}, \"tracegroupgap\": 0}, \"margin\": {\"t\": 60}, \"template\": {\"data\": {\"bar\": [{\"error_x\": {\"color\": \"#2a3f5f\"}, \"error_y\": {\"color\": \"#2a3f5f\"}, \"marker\": {\"line\": {\"color\": \"#E5ECF6\", \"width\": 0.5}}, \"type\": \"bar\"}], \"barpolar\": [{\"marker\": {\"line\": {\"color\": \"#E5ECF6\", \"width\": 0.5}}, \"type\": \"barpolar\"}], \"carpet\": [{\"aaxis\": {\"endlinecolor\": \"#2a3f5f\", \"gridcolor\": \"white\", \"linecolor\": \"white\", \"minorgridcolor\": \"white\", \"startlinecolor\": \"#2a3f5f\"}, \"baxis\": {\"endlinecolor\": \"#2a3f5f\", \"gridcolor\": \"white\", \"linecolor\": \"white\", \"minorgridcolor\": \"white\", \"startlinecolor\": \"#2a3f5f\"}, \"type\": \"carpet\"}], \"choropleth\": [{\"colorbar\": {\"outlinewidth\": 0, \"ticks\": \"\"}, \"type\": \"choropleth\"}], \"contour\": [{\"colorbar\": {\"outlinewidth\": 0, \"ticks\": \"\"}, \"colorscale\": [[0.0, \"#0d0887\"], [0.1111111111111111, \"#46039f\"], [0.2222222222222222, \"#7201a8\"], [0.3333333333333333, \"#9c179e\"], [0.4444444444444444, \"#bd3786\"], [0.5555555555555556, \"#d8576b\"], [0.6666666666666666, \"#ed7953\"], [0.7777777777777778, \"#fb9f3a\"], [0.8888888888888888, \"#fdca26\"], [1.0, \"#f0f921\"]], \"type\": \"contour\"}], \"contourcarpet\": [{\"colorbar\": {\"outlinewidth\": 0, \"ticks\": \"\"}, \"type\": \"contourcarpet\"}], \"heatmap\": [{\"colorbar\": {\"outlinewidth\": 0, \"ticks\": \"\"}, \"colorscale\": [[0.0, \"#0d0887\"], [0.1111111111111111, \"#46039f\"], [0.2222222222222222, \"#7201a8\"], [0.3333333333333333, \"#9c179e\"], [0.4444444444444444, \"#bd3786\"], [0.5555555555555556, \"#d8576b\"], [0.6666666666666666, \"#ed7953\"], [0.7777777777777778, \"#fb9f3a\"], [0.8888888888888888, \"#fdca26\"], [1.0, \"#f0f921\"]], \"type\": \"heatmap\"}], \"heatmapgl\": [{\"colorbar\": {\"outlinewidth\": 0, \"ticks\": \"\"}, \"colorscale\": [[0.0, \"#0d0887\"], [0.1111111111111111, \"#46039f\"], [0.2222222222222222, \"#7201a8\"], [0.3333333333333333, \"#9c179e\"], [0.4444444444444444, \"#bd3786\"], [0.5555555555555556, \"#d8576b\"], [0.6666666666666666, \"#ed7953\"], [0.7777777777777778, \"#fb9f3a\"], [0.8888888888888888, \"#fdca26\"], [1.0, \"#f0f921\"]], \"type\": \"heatmapgl\"}], \"histogram\": [{\"marker\": {\"colorbar\": {\"outlinewidth\": 0, \"ticks\": \"\"}}, \"type\": \"histogram\"}], \"histogram2d\": [{\"colorbar\": {\"outlinewidth\": 0, \"ticks\": \"\"}, \"colorscale\": [[0.0, \"#0d0887\"], [0.1111111111111111, \"#46039f\"], [0.2222222222222222, \"#7201a8\"], [0.3333333333333333, \"#9c179e\"], [0.4444444444444444, \"#bd3786\"], [0.5555555555555556, \"#d8576b\"], [0.6666666666666666, \"#ed7953\"], [0.7777777777777778, \"#fb9f3a\"], [0.8888888888888888, \"#fdca26\"], [1.0, \"#f0f921\"]], \"type\": \"histogram2d\"}], \"histogram2dcontour\": [{\"colorbar\": {\"outlinewidth\": 0, \"ticks\": \"\"}, \"colorscale\": [[0.0, \"#0d0887\"], [0.1111111111111111, \"#46039f\"], [0.2222222222222222, \"#7201a8\"], [0.3333333333333333, \"#9c179e\"], [0.4444444444444444, \"#bd3786\"], [0.5555555555555556, \"#d8576b\"], [0.6666666666666666, \"#ed7953\"], [0.7777777777777778, \"#fb9f3a\"], [0.8888888888888888, \"#fdca26\"], [1.0, \"#f0f921\"]], \"type\": \"histogram2dcontour\"}], \"mesh3d\": [{\"colorbar\": {\"outlinewidth\": 0, \"ticks\": \"\"}, \"type\": \"mesh3d\"}], \"parcoords\": [{\"line\": {\"colorbar\": {\"outlinewidth\": 0, \"ticks\": \"\"}}, \"type\": \"parcoords\"}], \"pie\": [{\"automargin\": true, \"type\": \"pie\"}], \"scatter\": [{\"marker\": {\"colorbar\": {\"outlinewidth\": 0, \"ticks\": \"\"}}, \"type\": \"scatter\"}], \"scatter3d\": [{\"line\": {\"colorbar\": {\"outlinewidth\": 0, \"ticks\": \"\"}}, \"marker\": {\"colorbar\": {\"outlinewidth\": 0, \"ticks\": \"\"}}, \"type\": \"scatter3d\"}], \"scattercarpet\": [{\"marker\": {\"colorbar\": {\"outlinewidth\": 0, \"ticks\": \"\"}}, \"type\": \"scattercarpet\"}], \"scattergeo\": [{\"marker\": {\"colorbar\": {\"outlinewidth\": 0, \"ticks\": \"\"}}, \"type\": \"scattergeo\"}], \"scattergl\": [{\"marker\": {\"colorbar\": {\"outlinewidth\": 0, \"ticks\": \"\"}}, \"type\": \"scattergl\"}], \"scattermapbox\": [{\"marker\": {\"colorbar\": {\"outlinewidth\": 0, \"ticks\": \"\"}}, \"type\": \"scattermapbox\"}], \"scatterpolar\": [{\"marker\": {\"colorbar\": {\"outlinewidth\": 0, \"ticks\": \"\"}}, \"type\": \"scatterpolar\"}], \"scatterpolargl\": [{\"marker\": {\"colorbar\": {\"outlinewidth\": 0, \"ticks\": \"\"}}, \"type\": \"scatterpolargl\"}], \"scatterternary\": [{\"marker\": {\"colorbar\": {\"outlinewidth\": 0, \"ticks\": \"\"}}, \"type\": \"scatterternary\"}], \"surface\": [{\"colorbar\": {\"outlinewidth\": 0, \"ticks\": \"\"}, \"colorscale\": [[0.0, \"#0d0887\"], [0.1111111111111111, \"#46039f\"], [0.2222222222222222, \"#7201a8\"], [0.3333333333333333, \"#9c179e\"], [0.4444444444444444, \"#bd3786\"], [0.5555555555555556, \"#d8576b\"], [0.6666666666666666, \"#ed7953\"], [0.7777777777777778, \"#fb9f3a\"], [0.8888888888888888, \"#fdca26\"], [1.0, \"#f0f921\"]], \"type\": \"surface\"}], \"table\": [{\"cells\": {\"fill\": {\"color\": \"#EBF0F8\"}, \"line\": {\"color\": \"white\"}}, \"header\": {\"fill\": {\"color\": \"#C8D4E3\"}, \"line\": {\"color\": \"white\"}}, \"type\": \"table\"}]}, \"layout\": {\"annotationdefaults\": {\"arrowcolor\": \"#2a3f5f\", \"arrowhead\": 0, \"arrowwidth\": 1}, \"coloraxis\": {\"colorbar\": {\"outlinewidth\": 0, \"ticks\": \"\"}}, \"colorscale\": {\"diverging\": [[0, \"#8e0152\"], [0.1, \"#c51b7d\"], [0.2, \"#de77ae\"], [0.3, \"#f1b6da\"], [0.4, \"#fde0ef\"], [0.5, \"#f7f7f7\"], [0.6, \"#e6f5d0\"], [0.7, \"#b8e186\"], [0.8, \"#7fbc41\"], [0.9, \"#4d9221\"], [1, \"#276419\"]], \"sequential\": [[0.0, \"#0d0887\"], [0.1111111111111111, \"#46039f\"], [0.2222222222222222, \"#7201a8\"], [0.3333333333333333, \"#9c179e\"], [0.4444444444444444, \"#bd3786\"], [0.5555555555555556, \"#d8576b\"], [0.6666666666666666, \"#ed7953\"], [0.7777777777777778, \"#fb9f3a\"], [0.8888888888888888, \"#fdca26\"], [1.0, \"#f0f921\"]], \"sequentialminus\": [[0.0, \"#0d0887\"], [0.1111111111111111, \"#46039f\"], [0.2222222222222222, \"#7201a8\"], [0.3333333333333333, \"#9c179e\"], [0.4444444444444444, \"#bd3786\"], [0.5555555555555556, \"#d8576b\"], [0.6666666666666666, \"#ed7953\"], [0.7777777777777778, \"#fb9f3a\"], [0.8888888888888888, \"#fdca26\"], [1.0, \"#f0f921\"]]}, \"colorway\": [\"#636efa\", \"#EF553B\", \"#00cc96\", \"#ab63fa\", \"#FFA15A\", \"#19d3f3\", \"#FF6692\", \"#B6E880\", \"#FF97FF\", \"#FECB52\"], \"font\": {\"color\": \"#2a3f5f\"}, \"geo\": {\"bgcolor\": \"white\", \"lakecolor\": \"white\", \"landcolor\": \"#E5ECF6\", \"showlakes\": true, \"showland\": true, \"subunitcolor\": \"white\"}, \"hoverlabel\": {\"align\": \"left\"}, \"hovermode\": \"closest\", \"mapbox\": {\"style\": \"light\"}, \"paper_bgcolor\": \"white\", \"plot_bgcolor\": \"#E5ECF6\", \"polar\": {\"angularaxis\": {\"gridcolor\": \"white\", \"linecolor\": \"white\", \"ticks\": \"\"}, \"bgcolor\": \"#E5ECF6\", \"radialaxis\": {\"gridcolor\": \"white\", \"linecolor\": \"white\", \"ticks\": \"\"}}, \"scene\": {\"xaxis\": {\"backgroundcolor\": \"#E5ECF6\", \"gridcolor\": \"white\", \"gridwidth\": 2, \"linecolor\": \"white\", \"showbackground\": true, \"ticks\": \"\", \"zerolinecolor\": \"white\"}, \"yaxis\": {\"backgroundcolor\": \"#E5ECF6\", \"gridcolor\": \"white\", \"gridwidth\": 2, \"linecolor\": \"white\", \"showbackground\": true, \"ticks\": \"\", \"zerolinecolor\": \"white\"}, \"zaxis\": {\"backgroundcolor\": \"#E5ECF6\", \"gridcolor\": \"white\", \"gridwidth\": 2, \"linecolor\": \"white\", \"showbackground\": true, \"ticks\": \"\", \"zerolinecolor\": \"white\"}}, \"shapedefaults\": {\"line\": {\"color\": \"#2a3f5f\"}}, \"ternary\": {\"aaxis\": {\"gridcolor\": \"white\", \"linecolor\": \"white\", \"ticks\": \"\"}, \"baxis\": {\"gridcolor\": \"white\", \"linecolor\": \"white\", \"ticks\": \"\"}, \"bgcolor\": \"#E5ECF6\", \"caxis\": {\"gridcolor\": \"white\", \"linecolor\": \"white\", \"ticks\": \"\"}}, \"title\": {\"x\": 0.05}, \"xaxis\": {\"automargin\": true, \"gridcolor\": \"white\", \"linecolor\": \"white\", \"ticks\": \"\", \"title\": {\"standoff\": 15}, \"zerolinecolor\": \"white\", \"zerolinewidth\": 2}, \"yaxis\": {\"automargin\": true, \"gridcolor\": \"white\", \"linecolor\": \"white\", \"ticks\": \"\", \"title\": {\"standoff\": 15}, \"zerolinecolor\": \"white\", \"zerolinewidth\": 2}}}, \"title\": {\"text\": \"Gelsolin\"}, \"xaxis\": {\"anchor\": \"y\", \"domain\": [0.0, 1.0], \"title\": {\"text\": \"Group\"}}, \"yaxis\": {\"anchor\": \"x\", \"domain\": [0.0, 1.0], \"title\": {\"text\": \"log2(LFQ) Value\"}}},\n",
       "                        {\"responsive\": true}\n",
       "                    ).then(function(){\n",
       "                            \n",
       "var gd = document.getElementById('c10a9848-293e-4bd3-80f7-49696fd1af2d');\n",
       "var x = new MutationObserver(function (mutations, observer) {{\n",
       "        var display = window.getComputedStyle(gd).display;\n",
       "        if (!display || display === 'none') {{\n",
       "            console.log([gd, 'removed!']);\n",
       "            Plotly.purge(gd);\n",
       "            observer.disconnect();\n",
       "        }}\n",
       "}});\n",
       "\n",
       "// Listen for the removal of the full notebook cells\n",
       "var notebookContainer = gd.closest('#notebook-container');\n",
       "if (notebookContainer) {{\n",
       "    x.observe(notebookContainer, {childList: true});\n",
       "}}\n",
       "\n",
       "// Listen for the clearing of the current output cell\n",
       "var outputEl = gd.closest('.output');\n",
       "if (outputEl) {{\n",
       "    x.observe(outputEl, {childList: true});\n",
       "}}\n",
       "\n",
       "                        })\n",
       "                };\n",
       "                });\n",
       "            </script>\n",
       "        </div>"
      ]
     },
     "metadata": {},
     "output_type": "display_data"
    }
   ],
   "source": [
    "biomolecule_name = \"7974\"\n",
    "\n",
    "fig = px.box(proteomics_df, y=biomolecule_name, color=\"Gender\", x='color_by', color_discrete_map=color_dict,\n",
    "            points='all')\n",
    "\n",
    "fig.update_traces(quartilemethod=\"exclusive\") # or \"inclusive\", or \"linear\" by default\n",
    "fig.update_layout(\n",
    "    title=\"{}\".format(\"Gelsolin\"),\n",
    "    legend_title_text='Group',\n",
    "    xaxis_title='Group',\n",
    "    yaxis_title='log2(LFQ) Value',\n",
    "    font=dict(\n",
    "        family=\"Helvetica\",\n",
    "        size=18,\n",
    "        color=\"#7f7f7f\"))\n"
   ]
  },
  {
   "cell_type": "code",
   "execution_count": null,
   "metadata": {},
   "outputs": [],
   "source": []
  }
 ],
 "metadata": {
  "kernelspec": {
   "display_name": "Python 3",
   "language": "python",
   "name": "python3"
  },
  "language_info": {
   "codemirror_mode": {
    "name": "ipython",
    "version": 3
   },
   "file_extension": ".py",
   "mimetype": "text/x-python",
   "name": "python",
   "nbconvert_exporter": "python",
   "pygments_lexer": "ipython3",
   "version": "3.6.10"
  }
 },
 "nbformat": 4,
 "nbformat_minor": 4
}
